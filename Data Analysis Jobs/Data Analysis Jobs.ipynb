{
 "cells": [
  {
   "cell_type": "code",
   "execution_count": 2,
   "metadata": {},
   "outputs": [],
   "source": [
    "import pandas as pd\n",
    "import numpy as np\n",
    "import plotly.express as px \n"
   ]
  },
  {
   "cell_type": "markdown",
   "metadata": {},
   "source": [
    "### Load Data"
   ]
  },
  {
   "cell_type": "code",
   "execution_count": 3,
   "metadata": {},
   "outputs": [],
   "source": [
    "df=pd.read_csv(\"DataAnalyst - DataAnalyst.csv\",index_col=0)"
   ]
  },
  {
   "cell_type": "markdown",
   "metadata": {},
   "source": [
    "### Explore Data"
   ]
  },
  {
   "cell_type": "code",
   "execution_count": 4,
   "metadata": {},
   "outputs": [
    {
     "data": {
      "text/html": [
       "<div>\n",
       "<style scoped>\n",
       "    .dataframe tbody tr th:only-of-type {\n",
       "        vertical-align: middle;\n",
       "    }\n",
       "\n",
       "    .dataframe tbody tr th {\n",
       "        vertical-align: top;\n",
       "    }\n",
       "\n",
       "    .dataframe thead th {\n",
       "        text-align: right;\n",
       "    }\n",
       "</style>\n",
       "<table border=\"1\" class=\"dataframe\">\n",
       "  <thead>\n",
       "    <tr style=\"text-align: right;\">\n",
       "      <th></th>\n",
       "      <th>Job Title</th>\n",
       "      <th>Salary Estimate</th>\n",
       "      <th>Job Description</th>\n",
       "      <th>Rating</th>\n",
       "      <th>Company Name</th>\n",
       "      <th>Location</th>\n",
       "      <th>Headquarters</th>\n",
       "      <th>Size</th>\n",
       "      <th>Founded</th>\n",
       "      <th>Type of ownership</th>\n",
       "      <th>Industry</th>\n",
       "      <th>Sector</th>\n",
       "      <th>Revenue</th>\n",
       "      <th>Competitors</th>\n",
       "      <th>Easy Apply</th>\n",
       "    </tr>\n",
       "  </thead>\n",
       "  <tbody>\n",
       "    <tr>\n",
       "      <th>0</th>\n",
       "      <td>Data Analyst, Center on Immigration and Justic...</td>\n",
       "      <td>$37K-$66K (Glassdoor est.)</td>\n",
       "      <td>Are you eager to roll up your sleeves and harn...</td>\n",
       "      <td>3.2</td>\n",
       "      <td>Vera Institute of Justice\\n3.2</td>\n",
       "      <td>New York, NY</td>\n",
       "      <td>New York, NY</td>\n",
       "      <td>201 to 500 employees</td>\n",
       "      <td>1961</td>\n",
       "      <td>Nonprofit Organization</td>\n",
       "      <td>Social Assistance</td>\n",
       "      <td>Non-Profit</td>\n",
       "      <td>$100 to $500 million (USD)</td>\n",
       "      <td>-1</td>\n",
       "      <td>TRUE</td>\n",
       "    </tr>\n",
       "    <tr>\n",
       "      <th>1</th>\n",
       "      <td>Quality Data Analyst</td>\n",
       "      <td>$37K-$66K (Glassdoor est.)</td>\n",
       "      <td>Overview\\n\\nProvides analytical and technical ...</td>\n",
       "      <td>3.8</td>\n",
       "      <td>Visiting Nurse Service of New York\\n3.8</td>\n",
       "      <td>New York, NY</td>\n",
       "      <td>New York, NY</td>\n",
       "      <td>10000+ employees</td>\n",
       "      <td>1893</td>\n",
       "      <td>Nonprofit Organization</td>\n",
       "      <td>Health Care Services &amp; Hospitals</td>\n",
       "      <td>Health Care</td>\n",
       "      <td>$2 to $5 billion (USD)</td>\n",
       "      <td>-1</td>\n",
       "      <td>-1</td>\n",
       "    </tr>\n",
       "    <tr>\n",
       "      <th>2</th>\n",
       "      <td>Senior Data Analyst, Insights &amp; Analytics Team...</td>\n",
       "      <td>$37K-$66K (Glassdoor est.)</td>\n",
       "      <td>We’re looking for a Senior Data Analyst who ha...</td>\n",
       "      <td>3.4</td>\n",
       "      <td>Squarespace\\n3.4</td>\n",
       "      <td>New York, NY</td>\n",
       "      <td>New York, NY</td>\n",
       "      <td>1001 to 5000 employees</td>\n",
       "      <td>2003</td>\n",
       "      <td>Company - Private</td>\n",
       "      <td>Internet</td>\n",
       "      <td>Information Technology</td>\n",
       "      <td>Unknown / Non-Applicable</td>\n",
       "      <td>GoDaddy</td>\n",
       "      <td>-1</td>\n",
       "    </tr>\n",
       "    <tr>\n",
       "      <th>3</th>\n",
       "      <td>Data Analyst</td>\n",
       "      <td>$37K-$66K (Glassdoor est.)</td>\n",
       "      <td>Requisition NumberRR-0001939\\nRemote:Yes\\nWe c...</td>\n",
       "      <td>4.1</td>\n",
       "      <td>Celerity\\n4.1</td>\n",
       "      <td>New York, NY</td>\n",
       "      <td>McLean, VA</td>\n",
       "      <td>201 to 500 employees</td>\n",
       "      <td>2002</td>\n",
       "      <td>Subsidiary or Business Segment</td>\n",
       "      <td>IT Services</td>\n",
       "      <td>Information Technology</td>\n",
       "      <td>$50 to $100 million (USD)</td>\n",
       "      <td>-1</td>\n",
       "      <td>-1</td>\n",
       "    </tr>\n",
       "    <tr>\n",
       "      <th>4</th>\n",
       "      <td>Reporting Data Analyst</td>\n",
       "      <td>$37K-$66K (Glassdoor est.)</td>\n",
       "      <td>ABOUT FANDUEL GROUP\\n\\nFanDuel Group is a worl...</td>\n",
       "      <td>3.9</td>\n",
       "      <td>FanDuel\\n3.9</td>\n",
       "      <td>New York, NY</td>\n",
       "      <td>New York, NY</td>\n",
       "      <td>501 to 1000 employees</td>\n",
       "      <td>2009</td>\n",
       "      <td>Company - Private</td>\n",
       "      <td>Sports &amp; Recreation</td>\n",
       "      <td>Arts, Entertainment &amp; Recreation</td>\n",
       "      <td>$100 to $500 million (USD)</td>\n",
       "      <td>DraftKings</td>\n",
       "      <td>TRUE</td>\n",
       "    </tr>\n",
       "  </tbody>\n",
       "</table>\n",
       "</div>"
      ],
      "text/plain": [
       "                                           Job Title  \\\n",
       "0  Data Analyst, Center on Immigration and Justic...   \n",
       "1                               Quality Data Analyst   \n",
       "2  Senior Data Analyst, Insights & Analytics Team...   \n",
       "3                                       Data Analyst   \n",
       "4                             Reporting Data Analyst   \n",
       "\n",
       "              Salary Estimate  \\\n",
       "0  $37K-$66K (Glassdoor est.)   \n",
       "1  $37K-$66K (Glassdoor est.)   \n",
       "2  $37K-$66K (Glassdoor est.)   \n",
       "3  $37K-$66K (Glassdoor est.)   \n",
       "4  $37K-$66K (Glassdoor est.)   \n",
       "\n",
       "                                     Job Description  Rating  \\\n",
       "0  Are you eager to roll up your sleeves and harn...     3.2   \n",
       "1  Overview\\n\\nProvides analytical and technical ...     3.8   \n",
       "2  We’re looking for a Senior Data Analyst who ha...     3.4   \n",
       "3  Requisition NumberRR-0001939\\nRemote:Yes\\nWe c...     4.1   \n",
       "4  ABOUT FANDUEL GROUP\\n\\nFanDuel Group is a worl...     3.9   \n",
       "\n",
       "                              Company Name      Location  Headquarters  \\\n",
       "0           Vera Institute of Justice\\n3.2  New York, NY  New York, NY   \n",
       "1  Visiting Nurse Service of New York\\n3.8  New York, NY  New York, NY   \n",
       "2                         Squarespace\\n3.4  New York, NY  New York, NY   \n",
       "3                            Celerity\\n4.1  New York, NY    McLean, VA   \n",
       "4                             FanDuel\\n3.9  New York, NY  New York, NY   \n",
       "\n",
       "                     Size  Founded               Type of ownership  \\\n",
       "0    201 to 500 employees     1961          Nonprofit Organization   \n",
       "1        10000+ employees     1893          Nonprofit Organization   \n",
       "2  1001 to 5000 employees     2003               Company - Private   \n",
       "3    201 to 500 employees     2002  Subsidiary or Business Segment   \n",
       "4   501 to 1000 employees     2009               Company - Private   \n",
       "\n",
       "                           Industry                            Sector  \\\n",
       "0                 Social Assistance                        Non-Profit   \n",
       "1  Health Care Services & Hospitals                       Health Care   \n",
       "2                          Internet            Information Technology   \n",
       "3                       IT Services            Information Technology   \n",
       "4               Sports & Recreation  Arts, Entertainment & Recreation   \n",
       "\n",
       "                      Revenue Competitors Easy Apply  \n",
       "0  $100 to $500 million (USD)          -1       TRUE  \n",
       "1      $2 to $5 billion (USD)          -1         -1  \n",
       "2    Unknown / Non-Applicable     GoDaddy         -1  \n",
       "3   $50 to $100 million (USD)          -1         -1  \n",
       "4  $100 to $500 million (USD)  DraftKings       TRUE  "
      ]
     },
     "execution_count": 4,
     "metadata": {},
     "output_type": "execute_result"
    }
   ],
   "source": [
    "df.head()"
   ]
  },
  {
   "cell_type": "code",
   "execution_count": 5,
   "metadata": {},
   "outputs": [
    {
     "data": {
      "text/html": [
       "<div>\n",
       "<style scoped>\n",
       "    .dataframe tbody tr th:only-of-type {\n",
       "        vertical-align: middle;\n",
       "    }\n",
       "\n",
       "    .dataframe tbody tr th {\n",
       "        vertical-align: top;\n",
       "    }\n",
       "\n",
       "    .dataframe thead th {\n",
       "        text-align: right;\n",
       "    }\n",
       "</style>\n",
       "<table border=\"1\" class=\"dataframe\">\n",
       "  <thead>\n",
       "    <tr style=\"text-align: right;\">\n",
       "      <th></th>\n",
       "      <th>Job Title</th>\n",
       "      <th>Salary Estimate</th>\n",
       "      <th>Job Description</th>\n",
       "      <th>Rating</th>\n",
       "      <th>Company Name</th>\n",
       "      <th>Location</th>\n",
       "      <th>Headquarters</th>\n",
       "      <th>Size</th>\n",
       "      <th>Founded</th>\n",
       "      <th>Type of ownership</th>\n",
       "      <th>Industry</th>\n",
       "      <th>Sector</th>\n",
       "      <th>Revenue</th>\n",
       "      <th>Competitors</th>\n",
       "      <th>Easy Apply</th>\n",
       "    </tr>\n",
       "  </thead>\n",
       "  <tbody>\n",
       "    <tr>\n",
       "      <th>2248</th>\n",
       "      <td>RQS - IHHA - 201900004460 -1q Data Security An...</td>\n",
       "      <td>$78K-$104K (Glassdoor est.)</td>\n",
       "      <td>Maintains systems to protect data from unautho...</td>\n",
       "      <td>2.5</td>\n",
       "      <td>Avacend, Inc.\\n2.5</td>\n",
       "      <td>Denver, CO</td>\n",
       "      <td>Alpharetta, GA</td>\n",
       "      <td>51 to 200 employees</td>\n",
       "      <td>-1</td>\n",
       "      <td>Company - Private</td>\n",
       "      <td>Staffing &amp; Outsourcing</td>\n",
       "      <td>Business Services</td>\n",
       "      <td>Unknown / Non-Applicable</td>\n",
       "      <td>-1</td>\n",
       "      <td>-1</td>\n",
       "    </tr>\n",
       "    <tr>\n",
       "      <th>2249</th>\n",
       "      <td>Senior Data Analyst (Corporate Audit)</td>\n",
       "      <td>$78K-$104K (Glassdoor est.)</td>\n",
       "      <td>Position:\\nSenior Data Analyst (Corporate Audi...</td>\n",
       "      <td>2.9</td>\n",
       "      <td>Arrow Electronics\\n2.9</td>\n",
       "      <td>Centennial, CO</td>\n",
       "      <td>Centennial, CO</td>\n",
       "      <td>10000+ employees</td>\n",
       "      <td>1935</td>\n",
       "      <td>Company - Public</td>\n",
       "      <td>Wholesale</td>\n",
       "      <td>Business Services</td>\n",
       "      <td>$10+ billion (USD)</td>\n",
       "      <td>Avnet, Ingram Micro, Tech Data</td>\n",
       "      <td>-1</td>\n",
       "    </tr>\n",
       "    <tr>\n",
       "      <th>2250</th>\n",
       "      <td>Technical Business Analyst (SQL, Data analytic...</td>\n",
       "      <td>$78K-$104K (Glassdoor est.)</td>\n",
       "      <td>Title: Technical Business Analyst (SQL, Data a...</td>\n",
       "      <td>-1.0</td>\n",
       "      <td>Spiceorb</td>\n",
       "      <td>Denver, CO</td>\n",
       "      <td>-1</td>\n",
       "      <td>-1</td>\n",
       "      <td>-1</td>\n",
       "      <td>-1</td>\n",
       "      <td>-1</td>\n",
       "      <td>-1</td>\n",
       "      <td>-1</td>\n",
       "      <td>-1</td>\n",
       "      <td>-1</td>\n",
       "    </tr>\n",
       "    <tr>\n",
       "      <th>2251</th>\n",
       "      <td>Data Analyst 3, Customer Experience</td>\n",
       "      <td>$78K-$104K (Glassdoor est.)</td>\n",
       "      <td>Summary\\n\\nResponsible for working cross-funct...</td>\n",
       "      <td>3.1</td>\n",
       "      <td>Contingent Network Services\\n3.1</td>\n",
       "      <td>Centennial, CO</td>\n",
       "      <td>West Chester, OH</td>\n",
       "      <td>201 to 500 employees</td>\n",
       "      <td>1984</td>\n",
       "      <td>Company - Private</td>\n",
       "      <td>Enterprise Software &amp; Network Solutions</td>\n",
       "      <td>Information Technology</td>\n",
       "      <td>$25 to $50 million (USD)</td>\n",
       "      <td>-1</td>\n",
       "      <td>-1</td>\n",
       "    </tr>\n",
       "    <tr>\n",
       "      <th>2252</th>\n",
       "      <td>Senior Quality Data Analyst</td>\n",
       "      <td>$78K-$104K (Glassdoor est.)</td>\n",
       "      <td>You.\\n\\nYou bring your body, mind, heart and s...</td>\n",
       "      <td>3.4</td>\n",
       "      <td>SCL Health\\n3.4</td>\n",
       "      <td>Broomfield, CO</td>\n",
       "      <td>Broomfield, CO</td>\n",
       "      <td>10000+ employees</td>\n",
       "      <td>1864</td>\n",
       "      <td>Nonprofit Organization</td>\n",
       "      <td>Health Care Services &amp; Hospitals</td>\n",
       "      <td>Health Care</td>\n",
       "      <td>$2 to $5 billion (USD)</td>\n",
       "      <td>Centura Health, HealthONE, Denver Health and H...</td>\n",
       "      <td>-1</td>\n",
       "    </tr>\n",
       "  </tbody>\n",
       "</table>\n",
       "</div>"
      ],
      "text/plain": [
       "                                              Job Title  \\\n",
       "2248  RQS - IHHA - 201900004460 -1q Data Security An...   \n",
       "2249              Senior Data Analyst (Corporate Audit)   \n",
       "2250  Technical Business Analyst (SQL, Data analytic...   \n",
       "2251                Data Analyst 3, Customer Experience   \n",
       "2252                        Senior Quality Data Analyst   \n",
       "\n",
       "                  Salary Estimate  \\\n",
       "2248  $78K-$104K (Glassdoor est.)   \n",
       "2249  $78K-$104K (Glassdoor est.)   \n",
       "2250  $78K-$104K (Glassdoor est.)   \n",
       "2251  $78K-$104K (Glassdoor est.)   \n",
       "2252  $78K-$104K (Glassdoor est.)   \n",
       "\n",
       "                                        Job Description  Rating  \\\n",
       "2248  Maintains systems to protect data from unautho...     2.5   \n",
       "2249  Position:\\nSenior Data Analyst (Corporate Audi...     2.9   \n",
       "2250  Title: Technical Business Analyst (SQL, Data a...    -1.0   \n",
       "2251  Summary\\n\\nResponsible for working cross-funct...     3.1   \n",
       "2252  You.\\n\\nYou bring your body, mind, heart and s...     3.4   \n",
       "\n",
       "                          Company Name        Location      Headquarters  \\\n",
       "2248                Avacend, Inc.\\n2.5      Denver, CO    Alpharetta, GA   \n",
       "2249            Arrow Electronics\\n2.9  Centennial, CO    Centennial, CO   \n",
       "2250                          Spiceorb      Denver, CO                -1   \n",
       "2251  Contingent Network Services\\n3.1  Centennial, CO  West Chester, OH   \n",
       "2252                   SCL Health\\n3.4  Broomfield, CO    Broomfield, CO   \n",
       "\n",
       "                      Size  Founded       Type of ownership  \\\n",
       "2248   51 to 200 employees       -1       Company - Private   \n",
       "2249      10000+ employees     1935        Company - Public   \n",
       "2250                    -1       -1                      -1   \n",
       "2251  201 to 500 employees     1984       Company - Private   \n",
       "2252      10000+ employees     1864  Nonprofit Organization   \n",
       "\n",
       "                                     Industry                  Sector  \\\n",
       "2248                   Staffing & Outsourcing       Business Services   \n",
       "2249                                Wholesale       Business Services   \n",
       "2250                                       -1                      -1   \n",
       "2251  Enterprise Software & Network Solutions  Information Technology   \n",
       "2252         Health Care Services & Hospitals             Health Care   \n",
       "\n",
       "                       Revenue  \\\n",
       "2248  Unknown / Non-Applicable   \n",
       "2249        $10+ billion (USD)   \n",
       "2250                        -1   \n",
       "2251  $25 to $50 million (USD)   \n",
       "2252    $2 to $5 billion (USD)   \n",
       "\n",
       "                                            Competitors Easy Apply  \n",
       "2248                                                 -1         -1  \n",
       "2249                     Avnet, Ingram Micro, Tech Data         -1  \n",
       "2250                                                 -1         -1  \n",
       "2251                                                 -1         -1  \n",
       "2252  Centura Health, HealthONE, Denver Health and H...         -1  "
      ]
     },
     "execution_count": 5,
     "metadata": {},
     "output_type": "execute_result"
    }
   ],
   "source": [
    "df.tail()"
   ]
  },
  {
   "cell_type": "code",
   "execution_count": 6,
   "metadata": {},
   "outputs": [
    {
     "data": {
      "text/plain": [
       "(2253, 15)"
      ]
     },
     "execution_count": 6,
     "metadata": {},
     "output_type": "execute_result"
    }
   ],
   "source": [
    "df.shape"
   ]
  },
  {
   "cell_type": "code",
   "execution_count": 7,
   "metadata": {},
   "outputs": [
    {
     "data": {
      "text/plain": [
       "Index(['Job Title', 'Salary Estimate', 'Job Description', 'Rating',\n",
       "       'Company Name', 'Location', 'Headquarters', 'Size', 'Founded',\n",
       "       'Type of ownership', 'Industry', 'Sector', 'Revenue', 'Competitors',\n",
       "       'Easy Apply'],\n",
       "      dtype='object')"
      ]
     },
     "execution_count": 7,
     "metadata": {},
     "output_type": "execute_result"
    }
   ],
   "source": [
    "df.columns"
   ]
  },
  {
   "cell_type": "code",
   "execution_count": 8,
   "metadata": {},
   "outputs": [
    {
     "name": "stdout",
     "output_type": "stream",
     "text": [
      "<class 'pandas.core.frame.DataFrame'>\n",
      "Index: 2253 entries, 0 to 2252\n",
      "Data columns (total 15 columns):\n",
      " #   Column             Non-Null Count  Dtype  \n",
      "---  ------             --------------  -----  \n",
      " 0   Job Title          2253 non-null   object \n",
      " 1   Salary Estimate    2253 non-null   object \n",
      " 2   Job Description    2253 non-null   object \n",
      " 3   Rating             2253 non-null   float64\n",
      " 4   Company Name       2252 non-null   object \n",
      " 5   Location           2253 non-null   object \n",
      " 6   Headquarters       2253 non-null   object \n",
      " 7   Size               2253 non-null   object \n",
      " 8   Founded            2253 non-null   int64  \n",
      " 9   Type of ownership  2253 non-null   object \n",
      " 10  Industry           2253 non-null   object \n",
      " 11  Sector             2253 non-null   object \n",
      " 12  Revenue            2253 non-null   object \n",
      " 13  Competitors        2253 non-null   object \n",
      " 14  Easy Apply         2253 non-null   object \n",
      "dtypes: float64(1), int64(1), object(13)\n",
      "memory usage: 281.6+ KB\n"
     ]
    }
   ],
   "source": [
    "df.info()"
   ]
  },
  {
   "cell_type": "code",
   "execution_count": 9,
   "metadata": {},
   "outputs": [
    {
     "data": {
      "text/html": [
       "<div>\n",
       "<style scoped>\n",
       "    .dataframe tbody tr th:only-of-type {\n",
       "        vertical-align: middle;\n",
       "    }\n",
       "\n",
       "    .dataframe tbody tr th {\n",
       "        vertical-align: top;\n",
       "    }\n",
       "\n",
       "    .dataframe thead th {\n",
       "        text-align: right;\n",
       "    }\n",
       "</style>\n",
       "<table border=\"1\" class=\"dataframe\">\n",
       "  <thead>\n",
       "    <tr style=\"text-align: right;\">\n",
       "      <th></th>\n",
       "      <th>count</th>\n",
       "      <th>mean</th>\n",
       "      <th>std</th>\n",
       "      <th>min</th>\n",
       "      <th>25%</th>\n",
       "      <th>50%</th>\n",
       "      <th>75%</th>\n",
       "      <th>max</th>\n",
       "    </tr>\n",
       "  </thead>\n",
       "  <tbody>\n",
       "    <tr>\n",
       "      <th>Rating</th>\n",
       "      <td>2253.0</td>\n",
       "      <td>3.161</td>\n",
       "      <td>1.665</td>\n",
       "      <td>-1.0</td>\n",
       "      <td>3.1</td>\n",
       "      <td>3.6</td>\n",
       "      <td>4.0</td>\n",
       "      <td>5.0</td>\n",
       "    </tr>\n",
       "    <tr>\n",
       "      <th>Founded</th>\n",
       "      <td>2253.0</td>\n",
       "      <td>1398.523</td>\n",
       "      <td>901.929</td>\n",
       "      <td>-1.0</td>\n",
       "      <td>-1.0</td>\n",
       "      <td>1979.0</td>\n",
       "      <td>2002.0</td>\n",
       "      <td>2019.0</td>\n",
       "    </tr>\n",
       "  </tbody>\n",
       "</table>\n",
       "</div>"
      ],
      "text/plain": [
       "          count      mean      std  min  25%     50%     75%     max\n",
       "Rating   2253.0     3.161    1.665 -1.0  3.1     3.6     4.0     5.0\n",
       "Founded  2253.0  1398.523  901.929 -1.0 -1.0  1979.0  2002.0  2019.0"
      ]
     },
     "execution_count": 9,
     "metadata": {},
     "output_type": "execute_result"
    }
   ],
   "source": [
    "df.describe().T.round(3)"
   ]
  },
  {
   "cell_type": "code",
   "execution_count": 10,
   "metadata": {},
   "outputs": [
    {
     "data": {
      "text/html": [
       "<div>\n",
       "<style scoped>\n",
       "    .dataframe tbody tr th:only-of-type {\n",
       "        vertical-align: middle;\n",
       "    }\n",
       "\n",
       "    .dataframe tbody tr th {\n",
       "        vertical-align: top;\n",
       "    }\n",
       "\n",
       "    .dataframe thead th {\n",
       "        text-align: right;\n",
       "    }\n",
       "</style>\n",
       "<table border=\"1\" class=\"dataframe\">\n",
       "  <thead>\n",
       "    <tr style=\"text-align: right;\">\n",
       "      <th></th>\n",
       "      <th>count</th>\n",
       "      <th>unique</th>\n",
       "      <th>top</th>\n",
       "      <th>freq</th>\n",
       "    </tr>\n",
       "  </thead>\n",
       "  <tbody>\n",
       "    <tr>\n",
       "      <th>Job Title</th>\n",
       "      <td>2253</td>\n",
       "      <td>1272</td>\n",
       "      <td>Data Analyst</td>\n",
       "      <td>405</td>\n",
       "    </tr>\n",
       "    <tr>\n",
       "      <th>Salary Estimate</th>\n",
       "      <td>2253</td>\n",
       "      <td>90</td>\n",
       "      <td>$42K-$76K (Glassdoor est.)</td>\n",
       "      <td>57</td>\n",
       "    </tr>\n",
       "    <tr>\n",
       "      <th>Job Description</th>\n",
       "      <td>2253</td>\n",
       "      <td>2253</td>\n",
       "      <td>Are you eager to roll up your sleeves and harn...</td>\n",
       "      <td>1</td>\n",
       "    </tr>\n",
       "    <tr>\n",
       "      <th>Company Name</th>\n",
       "      <td>2252</td>\n",
       "      <td>1513</td>\n",
       "      <td>Staffigo Technical Services, LLC\\n5.0</td>\n",
       "      <td>58</td>\n",
       "    </tr>\n",
       "    <tr>\n",
       "      <th>Location</th>\n",
       "      <td>2253</td>\n",
       "      <td>253</td>\n",
       "      <td>New York, NY</td>\n",
       "      <td>310</td>\n",
       "    </tr>\n",
       "    <tr>\n",
       "      <th>Headquarters</th>\n",
       "      <td>2253</td>\n",
       "      <td>483</td>\n",
       "      <td>New York, NY</td>\n",
       "      <td>206</td>\n",
       "    </tr>\n",
       "    <tr>\n",
       "      <th>Size</th>\n",
       "      <td>2253</td>\n",
       "      <td>9</td>\n",
       "      <td>51 to 200 employees</td>\n",
       "      <td>421</td>\n",
       "    </tr>\n",
       "    <tr>\n",
       "      <th>Type of ownership</th>\n",
       "      <td>2253</td>\n",
       "      <td>15</td>\n",
       "      <td>Company - Private</td>\n",
       "      <td>1273</td>\n",
       "    </tr>\n",
       "    <tr>\n",
       "      <th>Industry</th>\n",
       "      <td>2253</td>\n",
       "      <td>89</td>\n",
       "      <td>-1</td>\n",
       "      <td>353</td>\n",
       "    </tr>\n",
       "    <tr>\n",
       "      <th>Sector</th>\n",
       "      <td>2253</td>\n",
       "      <td>25</td>\n",
       "      <td>Information Technology</td>\n",
       "      <td>570</td>\n",
       "    </tr>\n",
       "    <tr>\n",
       "      <th>Revenue</th>\n",
       "      <td>2253</td>\n",
       "      <td>14</td>\n",
       "      <td>Unknown / Non-Applicable</td>\n",
       "      <td>615</td>\n",
       "    </tr>\n",
       "    <tr>\n",
       "      <th>Competitors</th>\n",
       "      <td>2253</td>\n",
       "      <td>291</td>\n",
       "      <td>-1</td>\n",
       "      <td>1732</td>\n",
       "    </tr>\n",
       "    <tr>\n",
       "      <th>Easy Apply</th>\n",
       "      <td>2253</td>\n",
       "      <td>2</td>\n",
       "      <td>-1</td>\n",
       "      <td>2173</td>\n",
       "    </tr>\n",
       "  </tbody>\n",
       "</table>\n",
       "</div>"
      ],
      "text/plain": [
       "                  count unique  \\\n",
       "Job Title          2253   1272   \n",
       "Salary Estimate    2253     90   \n",
       "Job Description    2253   2253   \n",
       "Company Name       2252   1513   \n",
       "Location           2253    253   \n",
       "Headquarters       2253    483   \n",
       "Size               2253      9   \n",
       "Type of ownership  2253     15   \n",
       "Industry           2253     89   \n",
       "Sector             2253     25   \n",
       "Revenue            2253     14   \n",
       "Competitors        2253    291   \n",
       "Easy Apply         2253      2   \n",
       "\n",
       "                                                                 top  freq  \n",
       "Job Title                                               Data Analyst   405  \n",
       "Salary Estimate                           $42K-$76K (Glassdoor est.)    57  \n",
       "Job Description    Are you eager to roll up your sleeves and harn...     1  \n",
       "Company Name                   Staffigo Technical Services, LLC\\n5.0    58  \n",
       "Location                                                New York, NY   310  \n",
       "Headquarters                                            New York, NY   206  \n",
       "Size                                             51 to 200 employees   421  \n",
       "Type of ownership                                  Company - Private  1273  \n",
       "Industry                                                          -1   353  \n",
       "Sector                                        Information Technology   570  \n",
       "Revenue                                     Unknown / Non-Applicable   615  \n",
       "Competitors                                                       -1  1732  \n",
       "Easy Apply                                                        -1  2173  "
      ]
     },
     "execution_count": 10,
     "metadata": {},
     "output_type": "execute_result"
    }
   ],
   "source": [
    "df.describe(include=\"O\").T"
   ]
  },
  {
   "cell_type": "code",
   "execution_count": 11,
   "metadata": {},
   "outputs": [
    {
     "data": {
      "text/plain": [
       "Job Title            0\n",
       "Salary Estimate      0\n",
       "Job Description      0\n",
       "Rating               0\n",
       "Company Name         1\n",
       "Location             0\n",
       "Headquarters         0\n",
       "Size                 0\n",
       "Founded              0\n",
       "Type of ownership    0\n",
       "Industry             0\n",
       "Sector               0\n",
       "Revenue              0\n",
       "Competitors          0\n",
       "Easy Apply           0\n",
       "dtype: int64"
      ]
     },
     "execution_count": 11,
     "metadata": {},
     "output_type": "execute_result"
    }
   ],
   "source": [
    "df.isna().sum()"
   ]
  },
  {
   "cell_type": "code",
   "execution_count": 12,
   "metadata": {},
   "outputs": [
    {
     "data": {
      "text/plain": [
       "Job Title            0.000000\n",
       "Salary Estimate      0.000000\n",
       "Job Description      0.000000\n",
       "Rating               0.000000\n",
       "Company Name         0.044385\n",
       "Location             0.000000\n",
       "Headquarters         0.000000\n",
       "Size                 0.000000\n",
       "Founded              0.000000\n",
       "Type of ownership    0.000000\n",
       "Industry             0.000000\n",
       "Sector               0.000000\n",
       "Revenue              0.000000\n",
       "Competitors          0.000000\n",
       "Easy Apply           0.000000\n",
       "dtype: float64"
      ]
     },
     "execution_count": 12,
     "metadata": {},
     "output_type": "execute_result"
    }
   ],
   "source": [
    "df.isna().sum()/len(df)*100"
   ]
  },
  {
   "cell_type": "code",
   "execution_count": 13,
   "metadata": {},
   "outputs": [
    {
     "data": {
      "text/plain": [
       "0"
      ]
     },
     "execution_count": 13,
     "metadata": {},
     "output_type": "execute_result"
    }
   ],
   "source": [
    "df.duplicated().sum()"
   ]
  },
  {
   "cell_type": "markdown",
   "metadata": {},
   "source": [
    "### Data Cleaning"
   ]
  },
  {
   "cell_type": "code",
   "execution_count": 14,
   "metadata": {},
   "outputs": [
    {
     "data": {
      "text/plain": [
       "Index(['job_title', 'salary_estimate', 'job_description', 'rating',\n",
       "       'company_name', 'location', 'headquarters', 'size', 'founded',\n",
       "       'type_of_ownership', 'industry', 'sector', 'revenue', 'competitors',\n",
       "       'easy_apply'],\n",
       "      dtype='object')"
      ]
     },
     "execution_count": 14,
     "metadata": {},
     "output_type": "execute_result"
    }
   ],
   "source": [
    "df.columns = df.columns.str.lower().str.replace(\" \", \"_\")\n",
    "df.columns"
   ]
  },
  {
   "cell_type": "code",
   "execution_count": 15,
   "metadata": {},
   "outputs": [],
   "source": [
    "df.dropna(inplace=True,ignore_index=True)"
   ]
  },
  {
   "cell_type": "code",
   "execution_count": 16,
   "metadata": {},
   "outputs": [
    {
     "data": {
      "text/html": [
       "<div>\n",
       "<style scoped>\n",
       "    .dataframe tbody tr th:only-of-type {\n",
       "        vertical-align: middle;\n",
       "    }\n",
       "\n",
       "    .dataframe tbody tr th {\n",
       "        vertical-align: top;\n",
       "    }\n",
       "\n",
       "    .dataframe thead th {\n",
       "        text-align: right;\n",
       "    }\n",
       "</style>\n",
       "<table border=\"1\" class=\"dataframe\">\n",
       "  <thead>\n",
       "    <tr style=\"text-align: right;\">\n",
       "      <th></th>\n",
       "      <th>job_title</th>\n",
       "      <th>salary_estimate</th>\n",
       "      <th>job_description</th>\n",
       "      <th>rating</th>\n",
       "      <th>company_name</th>\n",
       "      <th>location</th>\n",
       "      <th>headquarters</th>\n",
       "      <th>size</th>\n",
       "      <th>founded</th>\n",
       "      <th>type_of_ownership</th>\n",
       "      <th>industry</th>\n",
       "      <th>sector</th>\n",
       "      <th>revenue</th>\n",
       "      <th>competitors</th>\n",
       "      <th>easy_apply</th>\n",
       "    </tr>\n",
       "  </thead>\n",
       "  <tbody>\n",
       "    <tr>\n",
       "      <th>0</th>\n",
       "      <td>Data Analyst, Center on Immigration and Justic...</td>\n",
       "      <td>$37K-$66K (Glassdoor est.)</td>\n",
       "      <td>Are you eager to roll up your sleeves and harn...</td>\n",
       "      <td>3.2</td>\n",
       "      <td>Vera Institute of Justice\\n3.2</td>\n",
       "      <td>New York, NY</td>\n",
       "      <td>New York, NY</td>\n",
       "      <td>201 to 500 employees</td>\n",
       "      <td>1961.0</td>\n",
       "      <td>Nonprofit Organization</td>\n",
       "      <td>Social Assistance</td>\n",
       "      <td>Non-Profit</td>\n",
       "      <td>$100 to $500 million (USD)</td>\n",
       "      <td>NaN</td>\n",
       "      <td>TRUE</td>\n",
       "    </tr>\n",
       "    <tr>\n",
       "      <th>1</th>\n",
       "      <td>Quality Data Analyst</td>\n",
       "      <td>$37K-$66K (Glassdoor est.)</td>\n",
       "      <td>Overview\\n\\nProvides analytical and technical ...</td>\n",
       "      <td>3.8</td>\n",
       "      <td>Visiting Nurse Service of New York\\n3.8</td>\n",
       "      <td>New York, NY</td>\n",
       "      <td>New York, NY</td>\n",
       "      <td>10000+ employees</td>\n",
       "      <td>1893.0</td>\n",
       "      <td>Nonprofit Organization</td>\n",
       "      <td>Health Care Services &amp; Hospitals</td>\n",
       "      <td>Health Care</td>\n",
       "      <td>$2 to $5 billion (USD)</td>\n",
       "      <td>NaN</td>\n",
       "      <td>NaN</td>\n",
       "    </tr>\n",
       "    <tr>\n",
       "      <th>2</th>\n",
       "      <td>Senior Data Analyst, Insights &amp; Analytics Team...</td>\n",
       "      <td>$37K-$66K (Glassdoor est.)</td>\n",
       "      <td>We’re looking for a Senior Data Analyst who ha...</td>\n",
       "      <td>3.4</td>\n",
       "      <td>Squarespace\\n3.4</td>\n",
       "      <td>New York, NY</td>\n",
       "      <td>New York, NY</td>\n",
       "      <td>1001 to 5000 employees</td>\n",
       "      <td>2003.0</td>\n",
       "      <td>Company - Private</td>\n",
       "      <td>Internet</td>\n",
       "      <td>Information Technology</td>\n",
       "      <td>Unknown / Non-Applicable</td>\n",
       "      <td>GoDaddy</td>\n",
       "      <td>NaN</td>\n",
       "    </tr>\n",
       "    <tr>\n",
       "      <th>3</th>\n",
       "      <td>Data Analyst</td>\n",
       "      <td>$37K-$66K (Glassdoor est.)</td>\n",
       "      <td>Requisition NumberRR-0001939\\nRemote:Yes\\nWe c...</td>\n",
       "      <td>4.1</td>\n",
       "      <td>Celerity\\n4.1</td>\n",
       "      <td>New York, NY</td>\n",
       "      <td>McLean, VA</td>\n",
       "      <td>201 to 500 employees</td>\n",
       "      <td>2002.0</td>\n",
       "      <td>Subsidiary or Business Segment</td>\n",
       "      <td>IT Services</td>\n",
       "      <td>Information Technology</td>\n",
       "      <td>$50 to $100 million (USD)</td>\n",
       "      <td>NaN</td>\n",
       "      <td>NaN</td>\n",
       "    </tr>\n",
       "    <tr>\n",
       "      <th>4</th>\n",
       "      <td>Reporting Data Analyst</td>\n",
       "      <td>$37K-$66K (Glassdoor est.)</td>\n",
       "      <td>ABOUT FANDUEL GROUP\\n\\nFanDuel Group is a worl...</td>\n",
       "      <td>3.9</td>\n",
       "      <td>FanDuel\\n3.9</td>\n",
       "      <td>New York, NY</td>\n",
       "      <td>New York, NY</td>\n",
       "      <td>501 to 1000 employees</td>\n",
       "      <td>2009.0</td>\n",
       "      <td>Company - Private</td>\n",
       "      <td>Sports &amp; Recreation</td>\n",
       "      <td>Arts, Entertainment &amp; Recreation</td>\n",
       "      <td>$100 to $500 million (USD)</td>\n",
       "      <td>DraftKings</td>\n",
       "      <td>TRUE</td>\n",
       "    </tr>\n",
       "    <tr>\n",
       "      <th>...</th>\n",
       "      <td>...</td>\n",
       "      <td>...</td>\n",
       "      <td>...</td>\n",
       "      <td>...</td>\n",
       "      <td>...</td>\n",
       "      <td>...</td>\n",
       "      <td>...</td>\n",
       "      <td>...</td>\n",
       "      <td>...</td>\n",
       "      <td>...</td>\n",
       "      <td>...</td>\n",
       "      <td>...</td>\n",
       "      <td>...</td>\n",
       "      <td>...</td>\n",
       "      <td>...</td>\n",
       "    </tr>\n",
       "    <tr>\n",
       "      <th>2247</th>\n",
       "      <td>RQS - IHHA - 201900004460 -1q Data Security An...</td>\n",
       "      <td>$78K-$104K (Glassdoor est.)</td>\n",
       "      <td>Maintains systems to protect data from unautho...</td>\n",
       "      <td>2.5</td>\n",
       "      <td>Avacend, Inc.\\n2.5</td>\n",
       "      <td>Denver, CO</td>\n",
       "      <td>Alpharetta, GA</td>\n",
       "      <td>51 to 200 employees</td>\n",
       "      <td>NaN</td>\n",
       "      <td>Company - Private</td>\n",
       "      <td>Staffing &amp; Outsourcing</td>\n",
       "      <td>Business Services</td>\n",
       "      <td>Unknown / Non-Applicable</td>\n",
       "      <td>NaN</td>\n",
       "      <td>NaN</td>\n",
       "    </tr>\n",
       "    <tr>\n",
       "      <th>2248</th>\n",
       "      <td>Senior Data Analyst (Corporate Audit)</td>\n",
       "      <td>$78K-$104K (Glassdoor est.)</td>\n",
       "      <td>Position:\\nSenior Data Analyst (Corporate Audi...</td>\n",
       "      <td>2.9</td>\n",
       "      <td>Arrow Electronics\\n2.9</td>\n",
       "      <td>Centennial, CO</td>\n",
       "      <td>Centennial, CO</td>\n",
       "      <td>10000+ employees</td>\n",
       "      <td>1935.0</td>\n",
       "      <td>Company - Public</td>\n",
       "      <td>Wholesale</td>\n",
       "      <td>Business Services</td>\n",
       "      <td>$10+ billion (USD)</td>\n",
       "      <td>Avnet, Ingram Micro, Tech Data</td>\n",
       "      <td>NaN</td>\n",
       "    </tr>\n",
       "    <tr>\n",
       "      <th>2249</th>\n",
       "      <td>Technical Business Analyst (SQL, Data analytic...</td>\n",
       "      <td>$78K-$104K (Glassdoor est.)</td>\n",
       "      <td>Title: Technical Business Analyst (SQL, Data a...</td>\n",
       "      <td>NaN</td>\n",
       "      <td>Spiceorb</td>\n",
       "      <td>Denver, CO</td>\n",
       "      <td>NaN</td>\n",
       "      <td>NaN</td>\n",
       "      <td>NaN</td>\n",
       "      <td>NaN</td>\n",
       "      <td>NaN</td>\n",
       "      <td>NaN</td>\n",
       "      <td>NaN</td>\n",
       "      <td>NaN</td>\n",
       "      <td>NaN</td>\n",
       "    </tr>\n",
       "    <tr>\n",
       "      <th>2250</th>\n",
       "      <td>Data Analyst 3, Customer Experience</td>\n",
       "      <td>$78K-$104K (Glassdoor est.)</td>\n",
       "      <td>Summary\\n\\nResponsible for working cross-funct...</td>\n",
       "      <td>3.1</td>\n",
       "      <td>Contingent Network Services\\n3.1</td>\n",
       "      <td>Centennial, CO</td>\n",
       "      <td>West Chester, OH</td>\n",
       "      <td>201 to 500 employees</td>\n",
       "      <td>1984.0</td>\n",
       "      <td>Company - Private</td>\n",
       "      <td>Enterprise Software &amp; Network Solutions</td>\n",
       "      <td>Information Technology</td>\n",
       "      <td>$25 to $50 million (USD)</td>\n",
       "      <td>NaN</td>\n",
       "      <td>NaN</td>\n",
       "    </tr>\n",
       "    <tr>\n",
       "      <th>2251</th>\n",
       "      <td>Senior Quality Data Analyst</td>\n",
       "      <td>$78K-$104K (Glassdoor est.)</td>\n",
       "      <td>You.\\n\\nYou bring your body, mind, heart and s...</td>\n",
       "      <td>3.4</td>\n",
       "      <td>SCL Health\\n3.4</td>\n",
       "      <td>Broomfield, CO</td>\n",
       "      <td>Broomfield, CO</td>\n",
       "      <td>10000+ employees</td>\n",
       "      <td>1864.0</td>\n",
       "      <td>Nonprofit Organization</td>\n",
       "      <td>Health Care Services &amp; Hospitals</td>\n",
       "      <td>Health Care</td>\n",
       "      <td>$2 to $5 billion (USD)</td>\n",
       "      <td>Centura Health, HealthONE, Denver Health and H...</td>\n",
       "      <td>NaN</td>\n",
       "    </tr>\n",
       "  </tbody>\n",
       "</table>\n",
       "<p>2252 rows × 15 columns</p>\n",
       "</div>"
      ],
      "text/plain": [
       "                                              job_title  \\\n",
       "0     Data Analyst, Center on Immigration and Justic...   \n",
       "1                                  Quality Data Analyst   \n",
       "2     Senior Data Analyst, Insights & Analytics Team...   \n",
       "3                                          Data Analyst   \n",
       "4                                Reporting Data Analyst   \n",
       "...                                                 ...   \n",
       "2247  RQS - IHHA - 201900004460 -1q Data Security An...   \n",
       "2248              Senior Data Analyst (Corporate Audit)   \n",
       "2249  Technical Business Analyst (SQL, Data analytic...   \n",
       "2250                Data Analyst 3, Customer Experience   \n",
       "2251                        Senior Quality Data Analyst   \n",
       "\n",
       "                  salary_estimate  \\\n",
       "0      $37K-$66K (Glassdoor est.)   \n",
       "1      $37K-$66K (Glassdoor est.)   \n",
       "2      $37K-$66K (Glassdoor est.)   \n",
       "3      $37K-$66K (Glassdoor est.)   \n",
       "4      $37K-$66K (Glassdoor est.)   \n",
       "...                           ...   \n",
       "2247  $78K-$104K (Glassdoor est.)   \n",
       "2248  $78K-$104K (Glassdoor est.)   \n",
       "2249  $78K-$104K (Glassdoor est.)   \n",
       "2250  $78K-$104K (Glassdoor est.)   \n",
       "2251  $78K-$104K (Glassdoor est.)   \n",
       "\n",
       "                                        job_description  rating  \\\n",
       "0     Are you eager to roll up your sleeves and harn...     3.2   \n",
       "1     Overview\\n\\nProvides analytical and technical ...     3.8   \n",
       "2     We’re looking for a Senior Data Analyst who ha...     3.4   \n",
       "3     Requisition NumberRR-0001939\\nRemote:Yes\\nWe c...     4.1   \n",
       "4     ABOUT FANDUEL GROUP\\n\\nFanDuel Group is a worl...     3.9   \n",
       "...                                                 ...     ...   \n",
       "2247  Maintains systems to protect data from unautho...     2.5   \n",
       "2248  Position:\\nSenior Data Analyst (Corporate Audi...     2.9   \n",
       "2249  Title: Technical Business Analyst (SQL, Data a...     NaN   \n",
       "2250  Summary\\n\\nResponsible for working cross-funct...     3.1   \n",
       "2251  You.\\n\\nYou bring your body, mind, heart and s...     3.4   \n",
       "\n",
       "                                 company_name        location  \\\n",
       "0              Vera Institute of Justice\\n3.2    New York, NY   \n",
       "1     Visiting Nurse Service of New York\\n3.8    New York, NY   \n",
       "2                            Squarespace\\n3.4    New York, NY   \n",
       "3                               Celerity\\n4.1    New York, NY   \n",
       "4                                FanDuel\\n3.9    New York, NY   \n",
       "...                                       ...             ...   \n",
       "2247                       Avacend, Inc.\\n2.5      Denver, CO   \n",
       "2248                   Arrow Electronics\\n2.9  Centennial, CO   \n",
       "2249                                 Spiceorb      Denver, CO   \n",
       "2250         Contingent Network Services\\n3.1  Centennial, CO   \n",
       "2251                          SCL Health\\n3.4  Broomfield, CO   \n",
       "\n",
       "          headquarters                    size  founded  \\\n",
       "0         New York, NY    201 to 500 employees   1961.0   \n",
       "1         New York, NY        10000+ employees   1893.0   \n",
       "2         New York, NY  1001 to 5000 employees   2003.0   \n",
       "3           McLean, VA    201 to 500 employees   2002.0   \n",
       "4         New York, NY   501 to 1000 employees   2009.0   \n",
       "...                ...                     ...      ...   \n",
       "2247    Alpharetta, GA     51 to 200 employees      NaN   \n",
       "2248    Centennial, CO        10000+ employees   1935.0   \n",
       "2249               NaN                     NaN      NaN   \n",
       "2250  West Chester, OH    201 to 500 employees   1984.0   \n",
       "2251    Broomfield, CO        10000+ employees   1864.0   \n",
       "\n",
       "                   type_of_ownership                                 industry  \\\n",
       "0             Nonprofit Organization                        Social Assistance   \n",
       "1             Nonprofit Organization         Health Care Services & Hospitals   \n",
       "2                  Company - Private                                 Internet   \n",
       "3     Subsidiary or Business Segment                              IT Services   \n",
       "4                  Company - Private                      Sports & Recreation   \n",
       "...                              ...                                      ...   \n",
       "2247               Company - Private                   Staffing & Outsourcing   \n",
       "2248                Company - Public                                Wholesale   \n",
       "2249                             NaN                                      NaN   \n",
       "2250               Company - Private  Enterprise Software & Network Solutions   \n",
       "2251          Nonprofit Organization         Health Care Services & Hospitals   \n",
       "\n",
       "                                sector                     revenue  \\\n",
       "0                           Non-Profit  $100 to $500 million (USD)   \n",
       "1                          Health Care      $2 to $5 billion (USD)   \n",
       "2               Information Technology    Unknown / Non-Applicable   \n",
       "3               Information Technology   $50 to $100 million (USD)   \n",
       "4     Arts, Entertainment & Recreation  $100 to $500 million (USD)   \n",
       "...                                ...                         ...   \n",
       "2247                 Business Services    Unknown / Non-Applicable   \n",
       "2248                 Business Services          $10+ billion (USD)   \n",
       "2249                               NaN                         NaN   \n",
       "2250            Information Technology    $25 to $50 million (USD)   \n",
       "2251                       Health Care      $2 to $5 billion (USD)   \n",
       "\n",
       "                                            competitors easy_apply  \n",
       "0                                                   NaN       TRUE  \n",
       "1                                                   NaN        NaN  \n",
       "2                                               GoDaddy        NaN  \n",
       "3                                                   NaN        NaN  \n",
       "4                                            DraftKings       TRUE  \n",
       "...                                                 ...        ...  \n",
       "2247                                                NaN        NaN  \n",
       "2248                     Avnet, Ingram Micro, Tech Data        NaN  \n",
       "2249                                                NaN        NaN  \n",
       "2250                                                NaN        NaN  \n",
       "2251  Centura Health, HealthONE, Denver Health and H...        NaN  \n",
       "\n",
       "[2252 rows x 15 columns]"
      ]
     },
     "execution_count": 16,
     "metadata": {},
     "output_type": "execute_result"
    }
   ],
   "source": [
    "df=df.replace(-1,np.nan).replace(\"-1\",np.nan)\n",
    "df"
   ]
  },
  {
   "cell_type": "code",
   "execution_count": 17,
   "metadata": {},
   "outputs": [
    {
     "data": {
      "text/plain": [
       "job_title               0\n",
       "salary_estimate         1\n",
       "job_description         0\n",
       "rating                271\n",
       "company_name            0\n",
       "location                0\n",
       "headquarters          171\n",
       "size                  162\n",
       "founded               659\n",
       "type_of_ownership     162\n",
       "industry              352\n",
       "sector                352\n",
       "revenue               162\n",
       "competitors          1731\n",
       "easy_apply           2172\n",
       "dtype: int64"
      ]
     },
     "execution_count": 17,
     "metadata": {},
     "output_type": "execute_result"
    }
   ],
   "source": [
    "df.isna().sum()"
   ]
  },
  {
   "cell_type": "code",
   "execution_count": 18,
   "metadata": {},
   "outputs": [
    {
     "data": {
      "text/plain": [
       "job_title             0.000000\n",
       "salary_estimate       0.044405\n",
       "job_description       0.000000\n",
       "rating               12.033748\n",
       "company_name          0.000000\n",
       "location              0.000000\n",
       "headquarters          7.593250\n",
       "size                  7.193606\n",
       "founded              29.262877\n",
       "type_of_ownership     7.193606\n",
       "industry             15.630551\n",
       "sector               15.630551\n",
       "revenue               7.193606\n",
       "competitors          76.865009\n",
       "easy_apply           96.447602\n",
       "dtype: float64"
      ]
     },
     "execution_count": 18,
     "metadata": {},
     "output_type": "execute_result"
    }
   ],
   "source": [
    "df.isna().sum()/df.shape[0]*100"
   ]
  },
  {
   "cell_type": "code",
   "execution_count": 19,
   "metadata": {},
   "outputs": [],
   "source": [
    "df.dropna(subset=['salary_estimate'],inplace=True,ignore_index=True,axis=0)"
   ]
  },
  {
   "cell_type": "code",
   "execution_count": 20,
   "metadata": {},
   "outputs": [],
   "source": [
    "df.drop(['easy_apply','competitors'],inplace=True,axis=1)"
   ]
  },
  {
   "cell_type": "code",
   "execution_count": 21,
   "metadata": {},
   "outputs": [
    {
     "data": {
      "text/plain": [
       "Index(['job_title', 'salary_estimate', 'job_description', 'company_name',\n",
       "       'location', 'headquarters', 'size', 'type_of_ownership', 'industry',\n",
       "       'sector', 'revenue'],\n",
       "      dtype='object')"
      ]
     },
     "execution_count": 21,
     "metadata": {},
     "output_type": "execute_result"
    }
   ],
   "source": [
    "catogrical=df.select_dtypes(include=\"object\")\n",
    "catogrical.columns"
   ]
  },
  {
   "cell_type": "code",
   "execution_count": 22,
   "metadata": {},
   "outputs": [
    {
     "name": "stdout",
     "output_type": "stream",
     "text": [
      "job_title\n",
      "1271\n",
      "['Data Analyst, Center on Immigration and Justice (CIJ)'\n",
      " 'Quality Data Analyst'\n",
      " 'Senior Data Analyst, Insights & Analytics Team [Customer Operations]'\n",
      " ... 'Senior Data Analyst (Corporate Audit)'\n",
      " 'Technical Business Analyst (SQL, Data analytics, ETL)'\n",
      " 'Senior Quality Data Analyst']\n",
      "\n",
      " **************************************************************************************************** \n",
      "\n",
      "salary_estimate\n",
      "89\n",
      "['$37K-$66K (Glassdoor est.)' '$46K-$87K (Glassdoor est.)'\n",
      " '$51K-$88K (Glassdoor est.)' '$51K-$87K (Glassdoor est.)'\n",
      " '$59K-$85K (Glassdoor est.)' '$43K-$76K (Glassdoor est.)'\n",
      " '$60K-$110K (Glassdoor est.)' '$41K-$78K (Glassdoor est.)'\n",
      " '$45K-$88K (Glassdoor est.)' '$73K-$127K (Glassdoor est.)'\n",
      " '$84K-$90K (Glassdoor est.)' '$27K-$52K (Glassdoor est.)'\n",
      " '$42K-$74K (Glassdoor est.)' '$77K-$132K (Glassdoor est.)'\n",
      " '$98K-$114K (Glassdoor est.)' '$48K-$96K (Glassdoor est.)'\n",
      " '$26K-$47K (Glassdoor est.)' '$31K-$59K (Glassdoor est.)'\n",
      " '$47K-$81K (Glassdoor est.)' '$43K-$69K (Glassdoor est.)'\n",
      " '$49K-$112K (Glassdoor est.)' '$30K-$54K (Glassdoor est.)'\n",
      " '$55K-$103K (Glassdoor est.)' '$37K-$70K (Glassdoor est.)'\n",
      " '$57K-$103K (Glassdoor est.)' '$35K-$45K (Glassdoor est.)'\n",
      " '$42K-$66K (Glassdoor est.)' '$65K-$81K (Glassdoor est.)'\n",
      " '$113K-$132K (Glassdoor est.)' '$42K-$63K (Glassdoor est.)'\n",
      " '$60K-$66K (Glassdoor est.)' '$73K-$82K (Glassdoor est.)'\n",
      " '$67K-$92K (Glassdoor est.)' '$42K-$76K (Glassdoor est.)'\n",
      " '$97K-$129K (Glassdoor est.)' '$68K-$87K (Glassdoor est.)'\n",
      " '$29K-$38K (Glassdoor est.)' '$47K-$76K (Glassdoor est.)'\n",
      " '$74K-$123K (Glassdoor est.)' '$53K-$94K (Glassdoor est.)'\n",
      " '$46K-$102K (Glassdoor est.)' '$43K-$94K (Glassdoor est.)'\n",
      " '$45K-$78K (Glassdoor est.)' '$38K-$68K (Glassdoor est.)'\n",
      " '$37K-$44K (Glassdoor est.)' '$64K-$113K (Glassdoor est.)'\n",
      " '$50K-$93K (Glassdoor est.)' '$37K-$68K (Glassdoor est.)'\n",
      " '$73K-$89K (Glassdoor est.)' '$76K-$122K (Glassdoor est.)'\n",
      " '$60K-$124K (Glassdoor est.)' '$34K-$61K (Glassdoor est.)'\n",
      " '$24K-$48K (Glassdoor est.)' '$30K-$53K (Glassdoor est.)'\n",
      " '$41K-$86K (Glassdoor est.)' '$44K-$82K (Glassdoor est.)'\n",
      " '$48K-$88K (Glassdoor est.)' '$44K-$78K (Glassdoor est.)'\n",
      " '$110K-$190K (Glassdoor est.)' '$89K-$151K (Glassdoor est.)'\n",
      " '$69K-$127K (Glassdoor est.)' '$51K-$93K (Glassdoor est.)'\n",
      " '$58K-$93K (Glassdoor est.)' '$63K-$116K (Glassdoor est.)'\n",
      " '$53K-$104K (Glassdoor est.)' '$35K-$42K (Glassdoor est.)'\n",
      " '$43K-$77K (Glassdoor est.)' '$40K-$72K (Glassdoor est.)'\n",
      " '$50K-$86K (Glassdoor est.)' '$35K-$67K (Glassdoor est.)'\n",
      " '$57K-$70K (Glassdoor est.)' '$28K-$52K (Glassdoor est.)'\n",
      " '$46K-$86K (Glassdoor est.)' '$54K-$75K (Glassdoor est.)'\n",
      " '$53K-$99K (Glassdoor est.)' '$40K-$74K (Glassdoor est.)'\n",
      " '$57K-$104K (Glassdoor est.)' '$99K-$178K (Glassdoor est.)'\n",
      " '$93K-$159K (Glassdoor est.)' '$82K-$116K (Glassdoor est.)'\n",
      " '$65K-$120K (Glassdoor est.)' '$47K-$74K (Glassdoor est.)'\n",
      " '$55K-$101K (Glassdoor est.)' '$32K-$56K (Glassdoor est.)'\n",
      " '$36K-$67K (Glassdoor est.)' '$57K-$67K (Glassdoor est.)'\n",
      " '$49K-$91K (Glassdoor est.)' '$57K-$100K (Glassdoor est.)'\n",
      " '$78K-$104K (Glassdoor est.)']\n",
      "\n",
      " **************************************************************************************************** \n",
      "\n",
      "job_description\n",
      "2251\n",
      "[\"Are you eager to roll up your sleeves and harness data to drive policy change? Do you enjoy sifting through complex datasets to illuminate trends and insights? Do you see yourself working for a values-driven organization with a vision to tackle the most pressing injustices of our day?\\n\\nWe are looking to hire a bright, hard-working, and creative individual with strong data management skills and a demonstrated commitment to immigrant's rights. The Data Analyst will assist with analysis and reporting needs for Veras Center on Immigration and Justice (CIJ), working across its current projects and future Vera initiatives.\\n\\nWho we are:\\n\\nFounded in 1961, The Vera Institute is an independent, non-partisan, nonprofit organization that combines expertise in research, technical assistance, and demonstration projects to assist leaders in government and civil society examine justice policy and practice, and improve the systems people rely on for justice and safety.\\nWe study problems that impede human dignity and justice.\\nWe pilot solutions that are at once transformative and achievable.\\nWe engage diverse communities in informed debate.\\nAnd we harness the power of evidence to drive effective policy and practice\\nWhat were doing:\\n\\nWe are helping to build a movementamong government leaders, advocates, and the immigration legal services communitytowards universal legal representation for immigrants facing deportation. In the face of stepped-up immigration enforcement, millions of non-citizens are at risk of extended detention and permanent separation from their families and communities. Veras Center on Immigration and Justice (CIJ) partners with government, non-profit partners, and communities to improve government systems that affect immigrants and their families. CIJ administers several nationwide legal services programs for immigrants facing deportation, develops and implements pilot programs, provides technical assistance, and conducts independent research and evaluation.\\n\\nThats where you come in:\\nThe Data Analyst will support the Centers programmatic efforts through regular monitoring and reporting of federal government and subcontractor data. CIJ manages several proprietary databases that run on AWS and Caspio and uses SQL, R, and Python to manage data. This is an opportunity to help shape an innovative national research and policy agenda as part of a dedicated team of experts working to improve access to justice for non-citizens.\\n\\nVera seeks to hire a Data Analyst to work on various data management projects with its Center on Immigration and Justice (CIJ). In collaboration with other Data Analysts, this position will involve work across several projects, such as the Unaccompanied Childrens Program (UCP), a program to increase legal representation for immigrant children facing deportation without a parent or legal guardian. The position may cover additional duties for the Legal Orientation Program for Custodians (LOPC), which educates the custodians of unaccompanied children about their rights and the immigration court process.\\n\\nAbout the role:\\n\\nAs a Data Analyst, you will report to a member of the research team and work in close collaboration with other Vera staff on ongoing database management, monitoring, reporting, and analysis projects. Youll support the team by taking ownership of ongoing monitoring and reporting tasks involving large data sets. Other principal responsibilities will include:\\nSupporting research staff by preparing large datasets for analysis, including merging, cleaning, and recoding data;\\nProviding insights into program performance through summary statistics and performance indicators;\\nProducing timely reports on Vera projects for team members and stakeholders;\\nImproving recurring reporting processes by optimizing code and producing subsequent documentation;\\nCoordinating database management tasks such as participating in new database design, modifying existing databases, and communicating with outside engineers and subcontractors;\\nDeveloping codebooks and delivering user trainings through webinars and database guides;\\nBuilding and maintaining interactive dashboards;\\nDocumenting and correcting data quality issues;\\nWorking with supervisors to prioritize program needs;\\nAssisting on other projects and tasks as assigned.\\nAbout you:\\n\\nYoure committed to improving issues affecting immigrants in the United States. Applicants with personal experiences with the immigration system are especially encouraged to apply.\\n\\nYoure just getting started in your career and have 1 2 years of professional or internship experience working with large datasets and preparing data for analysis.\\n\\nYou have a real enthusiasm for working with data.\\n\\nYou are comfortable writing queries in SQL, R, and/or Python, or have a solid foundation coding in other programming languages used to manipulate data. Experience working collaboratively using tools like Git/GitHub is a plus.\\n\\nYou have exceptional attention to detail, strong problem-solving ability and logical reasoning skills, and the ability to detect anomalies in data.\\n\\nYoure able to work on multiple projects effectively and efficiently, both independently and collaboratively with a team.\\n\\nThis position involves working with secure data that may require government security clearance. That clearance is restricted to U.S. citizens and citizens of countries that are party to collective defense agreements with the U.S. The list of those countries is detailed on this webpage. An additional requirement of that clearance is residence in the United States for at least three of the last five years.\\n\\nHow to apply:\\n\\nPlease submit cover letter and resume. Applications will be considered on a rolling basis until position is filled. Online submission in PDF format is preferred. Applications with no cover letter attached will not be considered. The cover letter should address your interest in CIJ and this position.\\n\\nHowever, if necessary, materials may be mailed or faxed to\\n\\nATTN: Human Resources / CIJ Data Analyst Recruitment\\n\\nVera Institute of Justice\\n\\n34 35th St, Suite 4-2A\\n\\nBrooklyn, NY 11232\\n\\nFax: (212) 941-9407\\n\\nPlease use only one method (online, mail or fax) of submission.\\n\\nNo phone calls, please. Only applicants selected for interviews will be contacted.\\n\\nVera is an equal opportunity/affirmative action employer. All qualified applicants will be considered for employment without unlawful discrimination based on race, color, creed, national origin, sex, age, disability, marital status, sexual orientation, military status, prior record of arrest or conviction, citizenship status, current employment status, or caregiver status.\\n\\nVera works to advance justice, particularly racial justice, in an increasingly multicultural country and globally connected world. We value diverse experiences, including with regard to educational background and justice system contact, and depend on a diverse staff to carry out our mission.\\n\\nFor more information about Vera and CIJs work, please visit www.vera.org.\\n\\nPowered by JazzHR\"\n",
      " 'Overview\\n\\nProvides analytical and technical support for the integration of multiple data sources used to prepare internal and external reporting for the Quality Management team and business stakeholders. Provides support and analytical insight for Quality Incentive measures, HEDIS measures, and Quality Improvement initiatives. Monitors, analyzes, and communicates Quality performance related to benchmarks. Collaborates with clinical and operational teams within Quality Management, as well as with CHOICE Clinical Operations and Business Intelligence & Analytics (BIA). Participates in data validation of current reporting and dashboards. Monitors data integrity of databases and provides recommendation accordingly. Participates in the development of internal dashboards and databases. Works under general direction.\\n\\nResponsibilities\\nProvides support and analytical insight for Quality Incentive measures, HEDIS measures, and Quality Improvement initiatives.\\nMonitors internal performance against benchmarks through analysis.\\nParticipates in the identification, development, management, and monitoring of quality improvement initiatives.\\nCollaborates with Education staff and makes recommendations for areas of focus in training of assessors and care managers, based on analysis of performance trends.\\nResearches and identifies technical/operational problems surrounding systems/applications; communicates/refers complex and unresolved problems to management, Business Intelligence & Analytics (BIA), and/or IT.\\nConducts ad hoc analyses to help identify operational gaps in care; drafts presentations, reports, publications, etc. regarding results of analyses.\\nCommunicates results of data analysis to non-technical audiences.\\nParticipates in prioritization of departmental goals based on identification of operational gaps in care.\\nParticipates in establishing data quality specifications and designs. Coordinates and supports integrated data systems for analyzing and validating information.\\nIdentifies and makes recommendations for reporting re-designs and platforms for reporting (e.g. automating a manual Excel file using macros, developing a MicroStrategy dashboard to replace manually updated Excel dashboards, moving data storage from Excel to Access, etc.), as needed. Trains staff on use of new/updated systems and related topics.\\nAssists Quality management team with database and department reports. Conducts operations review and analysis of processes and procedures, issues report of findings and implements approved changes as required.\\nIdentifies and recommends software needs and applications to accomplish required reporting.\\nRetrieves, compiles, reviews and ensures accuracy of data from databases; researches and corrects discrepancies, as needed. Analyzes data from internal and external sources. Identifies and resolves data quality issues before reports are generated. Works with staff to correct data entry errors.\\nAnalyzes data, identifies trends, reoccurring problems, statistically significant findings and prepares reports/summaries for management review.\\nActs as a liaison between Quality Management, CHOICE Clinical Operations, and BIA.\\nReviews and identifies trends and variances in data and reports. Researches findings and determines appropriateness of elevating identified issues to leadership for further review/evaluation/action.\\nMonitors and maintains files by ensuring that files are current and of relevant nature.\\nAnalyzes and corrects error reports to ensure timely and accurate data; develops corrective actions to prevent errors where possible.\\nParticipates in special projects and performs other duties, as needed.\\nQualifications\\nEducation: Bachelors degree in bio/statistics, epidemiology, mathematics, computer science, social sciences, a related field or the equivalent work experience required. Masters degree with concentration in computer science, data science, or statistics preferred.\\n\\n\\nExperience: Minimum of two years experience performing increasingly complex data analysis and interpretation, preferably in a managed care or health care setting, required. Experience with data extraction and manipulation required. Experience with relational databases and programming experience in SQL or PL/SQL required. Experience with claims data and health plan quality metrics (e.g., HEDIS, QARR) preferred. Proficiency conducting statistical analysis with R, SAS, Stata or other statistical software preferred. Advanced personal computer skills, including Microsoft Word, PowerPoint, Excel, and Access required. Effective oral, written communication and interpersonal skills required. Ability to multi task in a fast-paced environment required.\\n\\nCA2020'\n",
      " 'We’re looking for a Senior Data Analyst who has a love of mentorship, data visualization, and generating actionable insights from raw data. In this role, you’ll have the opportunity to be an organizational influencer, who will generate insights with a good degree of autonomy, and partner with data science to grow deeper analytical skills. You will be joining the Insights & Analytics team, a team tasked with developing insights and reporting to support our customers and advisors’ needs. This team sits within the Customer Operations team, but is also connected to the Product organization.\\n\\nIn this role, you will work mainly with Customer Operations stakeholders to set KPIs and evaluate the effectiveness of current strategies and workflows. You will be involved in many aspects of data operations, from data auditing to building dashboards and analytical insights. For example, you will review the code of more junior analysts and organize coding workshops. You will build metrics to evaluate the performance of our advisors, eliminating confounding variables and creating weighted measures that account for individual success. You will define metrics and create dashboards to track the success of the current strategic direction. You will analyze the text-based interactions with our advisors to improve care quality. You will also analyze interactions with our chatbot to improve the responses of the bot to match customer expectations. You will collaborate with the Data Engineering team in pursuit of better data modeling and you can collaborate with the Data Science team on more modeling-heavy pursuits, like topic modeling or search recommendations. You will be a mentor to all other members of the analytics team, which demands that you excel in a culture of teaching and learning.\\n\\nYou will report to the Manager of the Insights & Analytics team, Customer Operations in Squarespace’s New York offices.\\n\\nRESPONSIBILITIES\\nDesign and develop KPIs, reports, and dashboards using BI/data visualization tools that clearly track the effectiveness of current strategies\\nExecute and communicate impactful analyses, using SQL and R/Python to improve the customer experience and drive Customer Operations and Product roadmap\\nRaise the skill level of the analytics team through reviewing code, organizing training sessions, acting as a mentor, and introducing new analytical methods and tools\\nHelp design and evaluate experiments and pilots, setting clear hypotheses and success metrics, as well as using the right statistical methods for analyses\\nEffectively partner with Customer Operations and Product stakeholders, as well as our Data Engineering team\\nQUALIFICATIONS\\n4 or more years of experience as a data analyst, data scientist, or in a relevant field in which you have worked with large datasets to transform data to meaningful insights\\nMastery of SQL, and experience with R/Python\\nExperience with dashboarding/BI tools like Chartio, Looker, Tableau\\nExperience with data cleaning, analysis, and presentation to non-technical stakeholders\\nBachelor’s degree in a quantitative or logic-driven discipline\\nIntellectual curiosity and a deep love of mentorship and generating actionable insights\\nPreferred: Advanced degree (Master’s or PhD) in quantitative field\\nPreferred: Experience with topic modeling, text analytics/natural language processing\\nWe are hiring at various experience levels and we’re particularly interested in having a diverse team with a broad set of skills and viewpoints. If this seems like an opportunity you’d like to explore, but you’re not sure if you qualify, we encourage you to apply anyway!\\n\\nAbout Squarespace\\n\\nSquarespace makes beautiful products to help people with creative ideas succeed. By blending elegant design and sophisticated engineering, we empower millions of people — from individuals and local artists to entrepreneurs shaping the world’s most iconic businesses — to share their stories with the world. Squarespace’s team of more than 900 is headquartered in downtown New York City, with offices in Dublin and Portland. For more information, visit www.squarespace.com/about.\\n\\nToday, more than a million people around the globe use Squarespace to share different perspectives and experiences with the world. Not only do we embrace and celebrate the diversity of our customer base, but we also strive for the same in our employees. At Squarespace, we are committed to equal employment opportunity regardless of race, color, ancestry, religion, sex, national origin, sexual orientation, age, citizenship, marital status, disability, gender, gender identity or expression, or veteran status. We are proud to be an equal opportunity workplace.'\n",
      " ...\n",
      " 'Title: Technical Business Analyst (SQL, Data analytics, ETL)\\nLocation: Denver, CO\\nDuration: 12 Months Contract\\nNotes: Offshore coordination is required, need to attend late evening/early morning calls;\\nExperience with SQL, ETL (Preferred Informatica), Data Analytics\\n\\nJob Description:\\nShould have 10+ years of relevant IT experience\\nExcellent knowledge SQL programming & ETL side (Informatica)\\nVery good knowledge in Data analytics area.\\nAbility to understand data models and data items.\\nUnderstanding of ETL (Informatica) processes, data flows and experience in defining transformations/mappings required\\nEvaluating business processes, anticipating requirements, uncovering areas for improvement, and developing and implementing solutions.\\nShould be able to juggle between multiple business stake holders for various business requirements\\nManage multiple business stake holders and communicate with them effectively and promptly\\nFlexible enough to work with offshore time to set up meeting with various offshore technical teams\\nExcellent written and verbal communication skill is must\\nPerforming requirements analysis.\\nEffectively communicating your insights and plans to cross-functional team members and management.\\nGathering critical information from meetings with various stakeholders and producing useful reports.\\nWorking closely with internal customers IT Team, and managerial staff.\\nServing as a liaison between stakeholders onshore and offshore\\nEnsuring solutions meet business needs and requirements.\\nPerforming user acceptance testing.\\nWork with Project /Delivery manager and manage the projects, developing project plans, and monitoring performance.\\nPrioritizing initiatives based on business needs and requirements.\\nIdentify the dependencies between the projects /business area and prioritize the work accordingly\\nLeading ongoing reviews of business processes and developing optimization strategies.\\nStaying up-to-date on the latest process and IT advancements to automate and modernize systems.\\nConducting meetings and presentations to share ideas and findings.\\nShould have excellent documentation and presentation skill set.\\nMonitoring deliverables and ensuring timely completion of projects.\\nOverall understanding in data and analytics, salesforce, PeopleSoft, SharePoint will be an added advantage\\nUnderstanding in Real Estate and Retail domain is a plus.'\n",
      " \"Summary\\n\\nResponsible for working cross-functionally to collect data and develop\\n\\nmodels to determine customer experience drivers utilizing a variety of data sources and techniques. Utilizes all phases of the analytics lifecycle to derive actionable insights from the end to end customer journey, with strength in question design, results interpretation, and statistical and analytical methods. Has in-depth knowledge in one or more business domains related to the customer experience. Usually determines own work priorities and has a passion for transforming the customer experience into our best product. Acts as resource for colleagues with less experience.\\n\\nEmployees at all levels are expected to:\\n\\n- Understand our Operating Principles; make them the guidelines for how you do your job\\n\\n- Own the customer experience - think and act in ways that put our customers first, give them seamless digital options at every touchpoint, and make them promoters of our products and services\\n\\n- Know your stuff - be enthusiastic learners, users and advocates of our game-changing technology, products and services, especially our digital tools and experiences\\n\\n- Win as a team - make big things happen by working together and being open to new ideas\\n\\n- Be an active part of the Net Promoter System - a way of working that brings more employee and customer feedback into the company - by joining huddles, making call backs and helping us elevate opportunities to do better for our customers\\n\\n- Drive results and growth\\n\\n- Respect and promote inclusion and diversity\\n\\n- Do what's right for each other, our customers, investors and our communities\\n\\nPrimary Responsibilities:\\n\\n- Identify systemic drivers of end to end customer experience utilizing analytic techniques\\n\\n- Assess impact of drivers and prioritize initiatives\\n\\n- Track success of initiatives\\n\\n- Effectively communicate drivers and priorities to business to drive change\\n\\nCore Responsibilities:\\n\\n- Collaborates with both the analytic organization and its technology partners to define and publish complex data products.\\n\\n- Provides training to and acts as technical resource for team members.\\n\\n- Acts as a subject matter expert in one or more data subject areas such as sales, call center, network operation, and financial data.\\n\\n- Serves as a team leader within a work group or on cross-functional teams; accepts team lead stretch assignments. Presents results, recommendations, and business insights to broader senior leadership team.\\n\\n- Produces a variety of reports, graphs, summaries and presentations that convey analytic results and align with business needs.\\n\\n- Performs basic research on root cause of data anomalies that are uncovered through normal course of analysis.\\n\\n- Writes complex SQL to query large data platforms such as Teradata, SQL server, Oracle and Hadoop to obtain data necessary for analysis. Combines data as needed from disparate data sources to complete analysis.\\n\\n- Participates in defining business intelligence requirements for projects and data requests.\\n\\n- Participates in multiple enterprise wide projects by providing data analysis to project leaders.\\n\\n- Follows best practices and established policies in business intelligence data analysis, maintenance, and data quality.\\n\\n- Creates technical documentation (internal).\\n\\n- Consistent exercise of independent judgment and discretion in matters of significance.\\n\\n- Regular, consistent and punctual attendance. Must be able to work nights and weekends, variable schedule(s) as necessary.\\n\\n- Other duties and responsibilities as assigned.\\n\\nEducation Level:\\n\\n- Bachelor’s Degree\\n\\nField of Study:\\n\\n- Business, Business Intelligence, Information Systems, or related field\\n\\nYears of Experience:\\n\\n- Generally, requires 5-8 years related experience.\\n\\nAdditional Requirements:\\n\\n- Confident with machine learning concepts and how to apply them for analytics; intermediate to advanced Python and/or R skills\\n\\n- Data wrangling skills to extract and cleanse data for analyses\\n\\n- Strong skills in data interpretation for insight\\n\\n- Strong skills in SQL and preferred experience with Hadoop/Hive\\n\\n- Strong data visualization and storytelling skills\\n\\n- Confident with foundational statistical concepts and their application in business\"\n",
      " \"You.\\n\\nYou bring your body, mind, heart and spirit to your work as a Senior Quality Data Analyst.\\n\\nYoure equally comfortable with performing data analysis/reporting/validation as well as researching data integrity issues.\\n\\nYoure great at what you do, but you want to be part of something even greater. Because you believe that while individuals can be strong, the right team is invincible.\\n\\nUs.\\n\\nSystem Services is our Corporate Headquarters in Broomfield, Colorado and is located within the Oracle campus. SCL Health is a faith-based, nonprofit healthcare organization dedicated to improving the well-being of the people we serve.\\n\\nBenefits are one of the ways we encourage health for you and your family. Our generous package includes medical, dental and vision coverage. But health is more than a well-working body: it encompasses body, mind and social well-being. To that end, weve launched a Healthy Living program to address your holistic health. Healthy Living includes financial incentives, digital tools, tobacco cessation, classes, counseling and paid time off. We also offer financial wellness tools and retirement planning.\\n\\nWe.\\n\\nTogether well align mission and careers, values and workplace. Well encourage joy and take pride in our integrity.\\n\\nWell laugh at each others jokes (even the bad ones). Well hello and high five. Well celebrate milestones and acknowledge the value of spirituality in healing.\\n\\nWere proud of what we know, which includes how much there is to learn.\\n\\nYour day.\\n\\nAs a Sr. Quality Data Analyst you need to know how to:\\nCreate reports and scorecards/dashboards to track the progress of quality, safety and risk efforts as it relates to internal and external programs including, but not limited to, Operational Performance Goals (OPG), Integrated Quality Scorecard (IQS), CMS, The Joint Commission, Leapfrog, etc.\\nAble to conceptualize and create effective data extracts from multiple sources to complete complex analysis.\\nValidate data sources, appropriate mapping and identify variances.\\nAbility to identify and clearly articulate data points for inclusion in data tables for identified measures.\\nResponsible for managing scope and completion of work, meeting deadlines, and providing deliverables to the customers or end users.\\nManage complex projects, schedules and facilitates meetings as necessary to complete assignments.\\nDevelop and manage the process for identifying and communicating (e.g. via a report) open gaps.\\nProvide analytic support for internal/external reporting as requested.\\nParticipate in Data Governance and Validation Activities as requested to assure data integrity.\\nYour experience.\\n\\nWe hire people, not resumes. But we also expect excellence, which is why we require:\\nBachelor's degree required, or equivalent Informatics experience, required\\nMinimum of five (5) years of experience in data analytics, required\\nMinimum of three (3) years of experience in a healthcare setting, required\\nHighly prefer Epic experience / Clarity certification\\nMust have prior experience with Tableau\\nBackground and experience in statistics and data management and automation\\nYour next move.\\n\\nNow that you know more about being a Sr. Quality Data Analyst on our team we hope youll join us. At SCL Health youll reaffirm every day how much you love this work, and why you were called to it in the first place.\\n\\nLocated in Broomfield, CO.\\n\\nApply Today!\"]\n",
      "\n",
      " **************************************************************************************************** \n",
      "\n",
      "company_name\n",
      "1513\n",
      "['Vera Institute of Justice\\n3.2'\n",
      " 'Visiting Nurse Service of New York\\n3.8' 'Squarespace\\n3.4' ...\n",
      " 'Arrow Electronics\\n2.9' 'Contingent Network Services\\n3.1'\n",
      " 'SCL Health\\n3.4']\n",
      "\n",
      " **************************************************************************************************** \n",
      "\n",
      "location\n",
      "253\n",
      "['New York, NY' 'Fairfield, NJ' 'Jersey City, NJ' 'Brooklyn, NY'\n",
      " 'Weehawken, NJ' 'Long Island City, NY' 'Florham Park, NJ' 'Manhasset, NY'\n",
      " 'Newark, NJ' 'Queens Village, NY' 'Haworth, NJ' 'Fort Lee, NJ'\n",
      " 'South Plainfield, NJ' 'Bronx, NY' 'Little Ferry, NJ' 'Lake Success, NY'\n",
      " 'Summit, NJ' 'Valley Stream, NY' 'Berkeley Heights, NJ' 'Essex Fells, NJ'\n",
      " 'Franklin Lakes, NJ' 'Mount Vernon, NY' 'Secaucus, NJ' 'West Orange, NJ'\n",
      " 'Far Rockaway, NY' 'Woodbridge, NJ' 'Parsippany, NJ' 'Whippany, NJ'\n",
      " 'Great Neck, NY' 'Hoboken, NJ' 'Staten Island, NY' 'Harrison, NY'\n",
      " 'Iselin, NJ' 'Montvale, NJ' 'Woodcliff Lake, NJ' 'Salt Lake City, UT'\n",
      " 'West Jordan, UT' 'Lehi, UT' 'Draper, UT' 'American Fork, UT' 'Sandy, UT'\n",
      " 'Riverton, UT' 'Reedley, CA' 'Visalia, CA' 'Hanford, CA' 'Hampton, VA'\n",
      " 'Norfolk, VA' 'Portsmouth, VA' 'Chesapeake, VA' 'Smithfield, VA'\n",
      " 'Suffolk, VA' 'Newport News, VA' 'Virginia Beach, VA' 'Yorktown, VA'\n",
      " 'Fort Eustis, VA' 'Gainesville, FL' 'Alachua, FL' 'El Segundo, CA'\n",
      " 'Santa Monica, CA' 'Los Angeles, CA' 'Hermosa Beach, CA' 'Gardena, CA'\n",
      " 'Burbank, CA' 'Culver City, CA' 'Glendale, CA' 'Inglewood, CA'\n",
      " 'Venice, CA' 'Pasadena, CA' 'Cerritos, CA' 'Carson, CA' 'Irwindale, CA'\n",
      " 'Anaheim, CA' 'Beverly Hills, CA' 'Long Beach, CA' 'Northridge, CA'\n",
      " 'Alhambra, CA' 'Brea, CA' 'Duarte, CA' 'Woodland Hills, CA'\n",
      " 'Monterey Park, CA' 'Marina del Rey, CA' 'Arcadia, CA' 'Torrance, CA'\n",
      " 'Panorama City, CA' 'Signal Hill, CA' 'Azusa, CA' 'City of Industry, CA'\n",
      " 'Pico Rivera, CA' 'Whittier, CA' 'San Fernando, CA' 'Chicago, IL'\n",
      " 'Downers Grove, IL' 'Broadview, IL' 'Woodridge, IL' 'Burr Ridge, IL'\n",
      " 'Rolling Meadows, IL' 'Deerfield, IL' 'Northlake, IL' 'Northbrook, IL'\n",
      " 'Des Plaines, IL' 'Itasca, IL' 'Evanston, IL' 'Bridgeview, IL'\n",
      " 'Oak Brook, IL' 'Maywood, IL' 'Northfield, IL' 'Glenview, IL'\n",
      " 'Elk Grove Village, IL' 'Arlington Heights, IL' 'Houston, TX'\n",
      " 'Stafford, TX' 'Pearland, TX' 'Sugar Land, TX' 'Pasadena, TX'\n",
      " 'Spring, TX' 'Tempe, AZ' 'Phoenix, AZ' 'Scottsdale, AZ' 'Glendale, AZ'\n",
      " 'Chandler, AZ' 'Mesa, AZ' 'DC Ranch, AZ' 'King of Prussia, PA'\n",
      " 'Plymouth Meeting, PA' 'Blue Bell, PA' 'Fort Washington, PA'\n",
      " 'Philadelphia, PA' 'Wilmington, DE' 'Malvern, PA' 'Horsham, PA'\n",
      " 'Camden, NJ' 'Feasterville Trevose, PA' 'Radnor, PA'\n",
      " 'West Conshohocken, PA' 'Wayne, PA' 'Bensalem, PA' 'Exton, PA'\n",
      " 'Doylestown, PA' 'Allegheny West, PA' 'Paoli, PA' 'Chester Township, PA'\n",
      " 'Conshohocken, PA' 'West Chester, PA' 'Mount Laurel, NJ'\n",
      " 'Ridley Park, PA' 'Berwyn, PA' 'Newtown, PA' 'Newtown Square, PA'\n",
      " 'Boothwyn, PA' 'Norristown, PA' 'West Point, PA' 'Marlton, NJ'\n",
      " 'Moorestown, NJ' 'San Antonio, TX' 'Lackland AFB, TX'\n",
      " 'Fort Sam Houston, TX' 'San Diego, CA' 'National City, CA' 'El Cajon, CA'\n",
      " 'Plano, TX' 'Allen, TX' 'Arlington, TX' 'Dallas, TX' 'Richardson, TX'\n",
      " 'Irving, TX' 'Grapevine, TX' 'Lewisville, TX' 'Addison, TX' 'Tarrant, TX'\n",
      " 'Carrollton, TX' 'Southlake, TX' 'Coppell, TX' 'Farmers Branch, TX'\n",
      " 'Newark, CA' 'Santa Clara, CA' 'Redwood City, CA' 'Cupertino, CA'\n",
      " 'Fremont, CA' 'San Jose, CA' 'Menlo Park, CA' 'Palo Alto, CA'\n",
      " 'Mountain View, CA' 'Sunnyvale, CA' 'Los Gatos, CA' 'Stanford, CA'\n",
      " 'East Palo Alto, CA' 'Pleasanton, CA' 'Union City, CA' 'Milpitas, CA'\n",
      " 'Campbell, CA' 'Austin, TX' 'West Lake Hills, TX' 'Round Rock, TX'\n",
      " 'Cedar Park, TX' 'Jacksonville, FL' 'Fort Worth, TX' 'Roanoke, TX'\n",
      " 'Westlake, TX' 'Columbus, OH' 'Westerville, OH' 'Hilliard, OH'\n",
      " 'Dublin, OH' 'Charlotte, NC' 'Mooresville, NC' 'Huntersville, NC'\n",
      " 'Fort Mill, SC' 'Indian Trail, NC' 'San Francisco, CA' 'San Rafael, CA'\n",
      " 'San Mateo, CA' 'Oakland, CA' 'Berkeley, CA' 'Burlingame, CA'\n",
      " 'Foster City, CA' 'Marin City, CA' 'Daly City, CA'\n",
      " 'South San Francisco, CA' 'San Bruno, CA' 'Emeryville, CA' 'Novato, CA'\n",
      " 'Millbrae, CA' 'San Ramon, CA' 'Hercules, CA' 'Alameda, CA'\n",
      " 'Walnut Creek, CA' 'Carmel, IN' 'Indianapolis, IN' 'Whitestown, IN'\n",
      " 'Jeffersonville, IN' 'Beech Grove, IN' 'Lawrence, IN' 'Redmond, WA'\n",
      " 'Seattle, WA' 'Issaquah, WA' 'Kent, WA' 'Bellevue, WA' 'Renton, WA'\n",
      " 'Kirkland, WA' 'Athens, GA' 'Burlingame, KS' 'Topeka, KS' 'Denver, CO'\n",
      " 'Centennial, CO' 'Boulder, CO' 'Greenwood Village, Arapahoe, CO'\n",
      " 'Henderson, CO' 'Englewood, CO' 'Lakewood, CO' 'Lone Tree, CO'\n",
      " 'Louisville, CO' 'Aurora, CO' 'Broomfield, CO' 'Littleton, CO']\n",
      "\n",
      " **************************************************************************************************** \n",
      "\n",
      "headquarters\n",
      "482\n",
      "['New York, NY' 'McLean, VA' 'Stamford, CT' 'London, United Kingdom' nan\n",
      " 'Bronx, NY' 'Phoenix, AZ' 'Rome, NY' 'Waltham, MA' 'Mountain View, CA'\n",
      " 'Marina del Rey, CA' 'Sydney, Australia' 'Warren, MI' 'Columbus, OH'\n",
      " 'San Francisco, CA' 'Pittsburgh, PA' 'Washington, DC' 'Seattle, WA'\n",
      " 'Newtown, PA' 'Piscataway, NJ' 'Charlotte, NC' 'Westmont, IL'\n",
      " 'West Hollywood, CA' 'Kyiv, Ukraine' 'Santa Monica, CA' 'Cherry Hill, NJ'\n",
      " 'Cleveland, OH' 'San Jose, CA' 'Burbank, CA' 'Chicago, IL'\n",
      " 'Sunnyvale, CA' 'Hauppauge, NY' 'Saint Louis, MO' 'Tampa, FL'\n",
      " 'Paris, France' 'Princeton, NJ' 'South Plainfield, NJ'\n",
      " 'Colorado Springs, CO' 'Atlanta, GA' 'New York, NY (US), NY'\n",
      " 'Fremont, CA' 'Los Angeles, CA' 'Plainsboro, NJ' 'Dublin, Ireland'\n",
      " 'Alexandria, VA' 'Irvine, CA' 'Irving, TX' 'Glen Allen, VA'\n",
      " 'Evanston, IL' 'San Mateo, CA' 'North Brunswick, NJ' 'Brooklyn, NY'\n",
      " 'Troy, MI' 'Yorktown Heights, NY' 'Northville, MI' 'Menlo Park, CA'\n",
      " 'Florham Park, NJ' 'Woodridge, IL' 'Armonk, NY' 'Lake Success, NY'\n",
      " 'Toronto, Canada' 'Lenexa, KS' 'Cincinnati, OH' 'Baltimore, MD'\n",
      " 'Burlington, MA' 'Pleasantville, NY' 'Singapore, Singapore'\n",
      " 'New Brunswick, NJ' 'Mumbai, India' 'Bethesda, MD' 'Dublin, OH'\n",
      " 'Bloomingdale, IL' 'Louisville, KY' 'Zurich, Switzerland'\n",
      " 'West Hartford, CT' 'Orlando, FL' 'Fort Lee, NJ' 'Somerset, NJ'\n",
      " 'Tarrytown, NY' 'Allentown, PA' 'Frisco, TX' 'Moore, OK' 'Newark, CA'\n",
      " 'Tokyo, Japan' 'Braga, Portugal' 'Little Ferry, NJ' 'Richmond, VA'\n",
      " 'Rockaway, NJ' 'Lanham, MD' 'Miami Beach, FL' 'Spring, TX'\n",
      " 'N New Hyde Park, NY' 'Durham, NC' 'Newark, NJ' 'Jersey City, NJ'\n",
      " 'Monmouth Junction, NJ' 'Edison, NJ' 'Rochester, NY' 'West Windsor, NJ'\n",
      " 'Memphis, TN' 'Dover, DE' 'Cranford, NJ' 'Herndon, VA' 'Fairfield, NJ'\n",
      " 'Santa Clara, CA' 'Duluth, GA' 'Buffalo, NY' 'Erdenheim, PA'\n",
      " 'Redwood City, CA' 'Calgary, Canada' 'King of Prussia, PA'\n",
      " 'Wellesley, MA' 'Holmdel, NJ' 'Iselin, NJ' 'Rolling Meadows, IL'\n",
      " 'New City, NY' 'Fairfax, VA' 'Mosta, Malta' 'Alpharetta, GA'\n",
      " 'Tuxedo Park, NY' 'Secaucus, NJ' 'Gibsonia, PA' 'Queens Village, NY'\n",
      " 'Boston, MA' 'LISBOA, Portugal' 'Parsippany, NJ'\n",
      " 'Shepton Mallet, United Kingdom' 'Westfield, IN' 'Southfield, MI'\n",
      " 'Hilliard, OH' 'West Orange, NJ' 'Albany, NY' 'Staten Island, NY'\n",
      " 'Durham, United Kingdom' 'Garden City, NY' 'Montvale, NJ' 'Plano, TX'\n",
      " 'South Salt Lake, UT' 'West Jordan, UT' 'Salt Lake City, UT' 'Dallas, TX'\n",
      " 'Morrisville, NC' 'Farmington Hills, MI' 'Sugar Land, TX' 'Raleigh, NC'\n",
      " 'Vaughan, Canada' 'Temple, GA' 'Greenwood Village, CO' 'Lehi, UT'\n",
      " 'Huntsville, AL' 'Springville, CA' 'City of Industry, CA' 'Cary, NC'\n",
      " 'Hampton, VA' 'Schaumburg, IL' 'Charleston, SC' 'Mc Lean, VA'\n",
      " 'Norfolk, VA' 'Wilmington, NC' 'Smithfield, VA' 'Chennai, India'\n",
      " 'San Diego, CA' 'Reston, VA' 'Yorktown, VA' 'Fort Monroe, VA'\n",
      " 'Chesapeake, VA' 'Arlington, VA' 'Virginia Beach, VA' 'Gainesville, FL'\n",
      " 'Jacksonville, FL' 'El Segundo, CA' 'Sterling, VA' 'Hermosa Beach, CA'\n",
      " 'South Jordan, UT' 'Culver City, CA' 'Burlingame, CA' 'Van Nuys, CA'\n",
      " 'Glendale, CA' 'Centennial, CO' 'Vancouver, Canada' 'Berwyn, PA'\n",
      " 'Venice, CA' 'Pasadena, CA' 'Easton, MD' 'Milton, WV'\n",
      " 'Melbourne, Australia' 'Houston, TX' 'Sherman Oaks, CA' 'Dana Point, CA'\n",
      " 'Los Gatos, CA' 'Sacramento, CA' 'Tarzana, CA' 'West Roxbury, MA'\n",
      " 'Seoul, South Korea' 'Austin, TX' 'Oakland, CA' 'Goleta, CA'\n",
      " 'Walnut Creek, CA' 'Sandy, UT' 'Long Beach, CA' 'Carson, CA'\n",
      " 'Bishnupur , India' 'Hyderabad, India' 'Overland Park, KS' 'Dayton, OH'\n",
      " 'Falls Church, VA' 'Brea, CA' 'Cupertino, CA' 'Williamsville, NY'\n",
      " 'Noida, India' 'Panorama City, CA' 'Danbury, CT' 'Alhambra, CA'\n",
      " 'Anaheim, CA' 'Radnor, PA' 'Cerritos, CA' 'Bolton, CT' 'Arcadia, CA'\n",
      " 'Taipei, Taiwan' 'Canoga Park, CA' 'Boca Raton, FL' 'Renton, WA'\n",
      " 'Santa Barbara, CA' 'San Clemente, CA' 'Whittier, CA' 'Rosemont, IL'\n",
      " 'Kennesaw, GA' 'Fort Wayne, IN' 'Langhorne, PA' 'Itasca, IL'\n",
      " 'Park Ridge, IL' 'Mount Prospect, IL' 'Aliso Viejo, CA' 'Hanover, MD'\n",
      " 'Gardena, CA' 'Muscatine, IA' 'Berea, OH' 'East Thetford, VT'\n",
      " 'KIRKLAND, Canada' 'Ottawa, Canada' 'New Haven, CT' 'South Holland, IL'\n",
      " 'Millersville, MD' 'Detroit, MI' 'Deerfield Beach, FL' 'Philadelphia, PA'\n",
      " 'Northlake, IL' 'Bridgeview, IL' 'Oak Brook, IL' 'Saint Paul, MN'\n",
      " 'Burr Ridge, IL' 'Encinitas, CA' 'Norcross, GA' 'Livonia, MI'\n",
      " 'Northfield, IL' 'Glenview, IL' 'Iowa City, IA' 'Lincolnshire, IL'\n",
      " 'Deerfield, IL' 'Elk Grove Village, IL' 'Salisbury, NC' 'Des Plaines, IL'\n",
      " 'Clinton, MD' 'Stafford, TX' 'Ridgeland, MS' 'Pearland, TX' 'Upland, CA'\n",
      " 'Stans, Switzerland' 'Stavanger, Norway' 'Orem, UT' 'Bengaluru, India'\n",
      " 'Arlington Heights, IL' 'Cypress, TX' 'Greenville, SC' 'Nashua, NH'\n",
      " 'Fort Knox, KY' 'Carrollton, TX' 'Newport, RI' 'Lombard, IL'\n",
      " 'New York, 061' 'Lake Jackson, TX' 'Wayne, PA' 'Scottsdale, AZ'\n",
      " 'Carlsbad, CA' 'North York, Canada' 'Anchorage, AK'\n",
      " 'SUNDERLAND, United Kingdom' 'Tempe, AZ' 'Portland, OR' 'Chandler, AZ'\n",
      " 'Canton, MI' 'Springfield, MO' 'Sanford, VA' 'Reno, NV' 'Malvern, PA'\n",
      " 'Bellevue, WA' 'Nashville, TN' 'Metuchen, NJ' 'Honolulu, HI'\n",
      " 'Moon Township, PA' 'Cranbury, NJ' 'Fort Lauderdale, FL' 'Santa Ana, CA'\n",
      " 'South Portland, ME' 'Edmonton, Canada' 'Chantilly, VA' 'Woonsocket, RI'\n",
      " 'Plymouth Meeting, PA' 'Blue Bell, PA' 'Phila, PA' 'Vienna, VA'\n",
      " 'Basking Ridge, NJ' 'Warrington, United Kingdom' 'Smithfield, RI'\n",
      " 'West Conshohocken, PA' 'Salem, NH' 'Princeton Junction, NJ'\n",
      " 'Whippany, NJ' 'Harleysville, PA' 'Doylestown, PA' 'Audubon, PA'\n",
      " 'Farmington, CT' 'West Chester, PA' 'Middleton, WI' 'Mount Laurel, NJ'\n",
      " 'Chadds Ford, PA' 'Linthicum, MD' 'Miami, FL' 'Brentford, United Kingdom'\n",
      " 'Sparta, NJ' 'Luxembourg, Luxembourg' 'Camden, NJ' 'Ashburn, VA'\n",
      " 'Milwaukee, WI' 'Abingdon, United Kingdom' 'Highland Park, IL'\n",
      " 'Schaffhausen, Switzerland' 'Plainfield, NJ' 'San Antonio, TX'\n",
      " 'Newport News, VA' 'Annapolis, MD' 'Rusk, TX' 'Tysons, VA' 'Kotzebue, AK'\n",
      " 'Catoosa, OK' 'La Jolla, CA' 'Mechanicsburg, PA' 'Fenton, MI'\n",
      " 'Millbrae, CA' 'Hagerstown, MD' 'Franklin Lakes, NJ' 'Towanda, PA'\n",
      " 'Boulder, CO' 'Germantown, MD' 'El Cajon, CA' 'Maryland Heights, MO'\n",
      " 'Stafford, VA' 'Richardson, TX' 'Bezons, France' 'Nokia, Finland'\n",
      " 'Hastings, MN' 'Rockville, MD' 'Norwalk, CT' 'Red Bank, NJ' 'Yakima, WA'\n",
      " 'Grapevine, TX' 'Utica, MI' 'Arlington, TX' 'Addison, TX' 'Winnebago, NE'\n",
      " 'Mobile, AL' 'Towson, MD' 'Warwick, United Kingdom' 'Flower Mound, TX'\n",
      " 'Fort Worth, TX' 'Madison, WI' 'Annapolis Junction, MD' 'Southlake, TX'\n",
      " 'McKinney, TX' 'Ann Arbor, MI' 'Lisle, IL' 'Tallassee, AL'\n",
      " 'Aberdeen, United Kingdom' 'Fort Smith, AR' 'Campbell, CA'\n",
      " 'Palo Alto, CA' 'Rio de Janeiro, Brazil' 'Natick, MA' 'Pleasanton, CA'\n",
      " 'Morristown, NJ' 'Walldorf, Germany' 'Stanford, CA' 'Hoboken, NJ'\n",
      " 'North Chicago, IL' 'Santa Cruz, CA' 'Elk Grove, CA' 'Union City, CA'\n",
      " 'Brentwood, TN' 'Milpitas, CA' 'Gardanne, France' 'Acton, MA'\n",
      " 'Lawrenceville, NJ' 'Denver, CO' 'Hoover, AL' 'Nicosia, Cyprus'\n",
      " 'Allegan, MI' 'Cedar Park, TX' 'Gainesville, VA' 'Amsterdam, Netherlands'\n",
      " 'Macquarie Park, Australia' 'Mount Pleasant, SC' 'Bradenton, FL'\n",
      " 'Frankfurt am Main, Germany' 'Des Moines, IA' 'Eclepens, Switzerland'\n",
      " 'Providence, RI' 'Grand Prairie, TX' 'Tulsa, OK' 'Roanoke, TX'\n",
      " 'Portsmouth, NH' 'New Albany, OH' 'Bonn, Germany' 'Abbott Park, IL'\n",
      " 'Old Bridge, NJ' 'Coral Gables, FL' 'Bridgewater, NJ' 'Huntersville, NC'\n",
      " 'Fort Mill, SC' 'Benicia, CA' 'Indian Trail, NC' 'Arden, NC'\n",
      " 'Cornelius, NC' 'Mooresville, NC' 'Hickory, NC' 'San Rafael, CA'\n",
      " 'New Delhi, India' 'Guaynabo, PR' 'Foster City, CA' 'Berkeley, CA'\n",
      " 'Columbia, MD' 'Marin City, CA' 'Concord, CA' 'San Ramon, CA'\n",
      " 'Brentwood, CA' 'Emeryville, CA' 'East Brunswick, NJ' 'Chesterfield, MO'\n",
      " 'Keswick, VA' 'South Windsor, CT' 'Minneapolis, MN' 'Vienna, Austria'\n",
      " 'Hercules, CA' 'Faridabad, India' 'South Melbourne, Australia'\n",
      " 'South San Francisco, CA' 'Pleasant Hill, CA' 'Worthington, OH'\n",
      " 'Carmel, IN' 'Wilmington, DE' 'Indianapolis, IN'\n",
      " 'Feusisberg, Switzerland' 'Edmond, OK' 'Mishawaka, IN' 'Moosic, PA'\n",
      " 'Redmond, WA' 'Issaquah, WA' 'Burnsville, MN' 'Kent, WA' 'Kyoto, Japan'\n",
      " 'Tigard, OR' 'Athens, GA' 'Cooper City, FL' 'Gilbert, AZ'\n",
      " 'Louisville, CO' 'Lakewood, CO' 'Rochester, MN' 'Monroe, LA'\n",
      " 'Lakeland, FL' 'Aurora, IL' 'Beaverton, OR' 'West Des Moines, IA'\n",
      " 'West Chester, OH' 'Broomfield, CO']\n",
      "\n",
      " **************************************************************************************************** \n",
      "\n",
      "size\n",
      "8\n",
      "['201 to 500 employees' '10000+ employees' '1001 to 5000 employees'\n",
      " '501 to 1000 employees' '5001 to 10000 employees' '1 to 50 employees'\n",
      " '51 to 200 employees' 'Unknown' nan]\n",
      "\n",
      " **************************************************************************************************** \n",
      "\n",
      "type_of_ownership\n",
      "14\n",
      "['Nonprofit Organization' 'Company - Private'\n",
      " 'Subsidiary or Business Segment' 'Company - Public' 'Hospital' 'Unknown'\n",
      " 'Contract' nan 'Government' 'School / School District'\n",
      " 'Other Organization' 'College / University' 'Self-employed'\n",
      " 'Private Practice / Firm' 'Franchise']\n",
      "\n",
      " **************************************************************************************************** \n",
      "\n",
      "industry\n",
      "88\n",
      "['Social Assistance' 'Health Care Services & Hospitals' 'Internet'\n",
      " 'IT Services' 'Sports & Recreation'\n",
      " 'Investment Banking & Asset Management' 'Insurance Carriers'\n",
      " 'Venture Capital & Private Equity' 'Research & Development' nan\n",
      " 'Advertising & Marketing' 'Brokerage Services'\n",
      " 'Building & Personnel Services' 'Consulting' 'Casual Restaurants'\n",
      " 'Enterprise Software & Network Solutions' 'Lending'\n",
      " 'Banks & Credit Unions' 'Computer Hardware & Software'\n",
      " 'Staffing & Outsourcing' 'Motion Picture Production & Distribution'\n",
      " 'Legal' 'Real Estate' 'Federal Agencies' 'TV Broadcast & Cable Networks'\n",
      " 'Accounting' 'Food & Beverage Stores' 'Health, Beauty, & Fitness'\n",
      " 'Biotech & Pharmaceuticals' 'Insurance Agencies & Brokerages' 'Gambling'\n",
      " 'Video Games' 'Colleges & Universities'\n",
      " 'Architectural & Engineering Services' 'General Repair & Maintenance'\n",
      " 'Security Services' 'News Outlet'\n",
      " 'Commercial Equipment Repair & Maintenance' 'Publishing' 'Energy'\n",
      " 'Other Retail Stores' 'Health Fundraising Organizations' 'Utilities'\n",
      " 'Consumer Products Manufacturing' 'Municipal Governments'\n",
      " 'Electrical & Electronic Manufacturing' 'Industrial Manufacturing'\n",
      " 'Preschool & Child Care' 'Aerospace & Defense'\n",
      " 'Food & Beverage Manufacturing' 'Vehicle Dealers'\n",
      " 'Telecommunications Services' 'Construction'\n",
      " 'Financial Transaction Processing' 'Beauty & Personal Accessories Stores'\n",
      " 'Automotive Parts & Accessories Stores' 'Chemical Manufacturing'\n",
      " 'Department, Clothing, & Shoe Stores' 'K-12 Education'\n",
      " 'Transportation Management' 'Miscellaneous Manufacturing'\n",
      " 'Logistics & Supply Chain' 'Catering & Food Service Contractors'\n",
      " 'Health Care Products Manufacturing' 'Drug & Health Stores' 'Wholesale'\n",
      " 'Membership Organizations' 'Oil & Gas Services' 'Sporting Goods Stores'\n",
      " 'Gas Stations' 'Truck Rental & Leasing' 'Express Delivery Services'\n",
      " 'Cable, Internet & Telephone Providers' 'Metals Brokers'\n",
      " 'Grocery Stores & Supermarkets' 'Pet & Pet Supplies Stores'\n",
      " 'Education Training Services' 'Financial Analytics & Research'\n",
      " 'Audiovisual' 'Transportation Equipment Manufacturing'\n",
      " 'Convenience Stores & Truck Stops' 'Consumer Product Rental'\n",
      " 'Consumer Electronics & Appliances Stores' 'State & Regional Agencies'\n",
      " 'Trucking' 'Stock Exchanges' 'Home Centers & Hardware Stores'\n",
      " 'General Merchandise & Superstores' 'Hotels, Motels, & Resorts']\n",
      "\n",
      " **************************************************************************************************** \n",
      "\n",
      "sector\n",
      "24\n",
      "['Non-Profit' 'Health Care' 'Information Technology'\n",
      " 'Arts, Entertainment & Recreation' 'Finance' 'Insurance'\n",
      " 'Business Services' nan 'Restaurants, Bars & Food Services' 'Media'\n",
      " 'Accounting & Legal' 'Real Estate' 'Government' 'Retail'\n",
      " 'Consumer Services' 'Biotech & Pharmaceuticals' 'Education'\n",
      " 'Construction, Repair & Maintenance' 'Oil, Gas, Energy & Utilities'\n",
      " 'Manufacturing' 'Aerospace & Defense' 'Telecommunications'\n",
      " 'Transportation & Logistics' 'Mining & Metals' 'Travel & Tourism']\n",
      "\n",
      " **************************************************************************************************** \n",
      "\n",
      "revenue\n",
      "13\n",
      "['$100 to $500 million (USD)' '$2 to $5 billion (USD)'\n",
      " 'Unknown / Non-Applicable' '$50 to $100 million (USD)'\n",
      " '$1 to $2 billion (USD)' '$5 to $10 billion (USD)'\n",
      " '$1 to $5 million (USD)' '$25 to $50 million (USD)' '$10+ billion (USD)'\n",
      " 'Less than $1 million (USD)' '$10 to $25 million (USD)' nan\n",
      " '$500 million to $1 billion (USD)' '$5 to $10 million (USD)']\n",
      "\n",
      " **************************************************************************************************** \n",
      "\n"
     ]
    }
   ],
   "source": [
    "for i in catogrical.columns:\n",
    "    print(i)\n",
    "    print(df[i].nunique())\n",
    "    print(df[i].unique())\n",
    "    print(\"\\n\" , \"*\" *100,\"\\n\")\n",
    "    "
   ]
  },
  {
   "cell_type": "code",
   "execution_count": 23,
   "metadata": {},
   "outputs": [
    {
     "data": {
      "text/plain": [
       "1100            JPMorgan Chase & Co.\\n3.9\n",
       "313     ProHEALTH Medical Management\\n2.7\n",
       "1198         Fox Chase Cancer Center\\n4.0\n",
       "1577                            Vaco\\n3.3\n",
       "1722                     Robert Half\\n3.5\n",
       "Name: company_name, dtype: object"
      ]
     },
     "execution_count": 23,
     "metadata": {},
     "output_type": "execute_result"
    }
   ],
   "source": [
    "df[\"company_name\"].sample(5)"
   ]
  },
  {
   "cell_type": "code",
   "execution_count": 24,
   "metadata": {},
   "outputs": [
    {
     "data": {
      "text/plain": [
       "0                Vera Institute of Justice\n",
       "1       Visiting Nurse Service of New York\n",
       "2                              Squarespace\n",
       "3                                 Celerity\n",
       "4                                  FanDuel\n",
       "                       ...                \n",
       "2246                         Avacend, Inc.\n",
       "2247                     Arrow Electronics\n",
       "2248                              Spiceorb\n",
       "2249           Contingent Network Services\n",
       "2250                            SCL Health\n",
       "Name: company, Length: 2251, dtype: object"
      ]
     },
     "execution_count": 24,
     "metadata": {},
     "output_type": "execute_result"
    }
   ],
   "source": [
    "df[\"company\"]=df[\"company_name\"].str.split(\"\\n\").str[0]\n",
    "df[\"company\"]"
   ]
  },
  {
   "cell_type": "code",
   "execution_count": 25,
   "metadata": {},
   "outputs": [
    {
     "data": {
      "text/plain": [
       "654     $42K-$66K (Glassdoor est.)\n",
       "618     $35K-$45K (Glassdoor est.)\n",
       "1658    $42K-$76K (Glassdoor est.)\n",
       "1394    $41K-$86K (Glassdoor est.)\n",
       "1719    $43K-$77K (Glassdoor est.)\n",
       "Name: salary_estimate, dtype: object"
      ]
     },
     "execution_count": 25,
     "metadata": {},
     "output_type": "execute_result"
    }
   ],
   "source": [
    "df[\"salary_estimate\"].sample(5)"
   ]
  },
  {
   "cell_type": "code",
   "execution_count": 26,
   "metadata": {},
   "outputs": [
    {
     "data": {
      "text/plain": [
       "0       37000\n",
       "1       37000\n",
       "2       37000\n",
       "3       37000\n",
       "4       37000\n",
       "        ...  \n",
       "2246    78000\n",
       "2247    78000\n",
       "2248    78000\n",
       "2249    78000\n",
       "2250    78000\n",
       "Name: minmum_salary, Length: 2251, dtype: int32"
      ]
     },
     "execution_count": 26,
     "metadata": {},
     "output_type": "execute_result"
    }
   ],
   "source": [
    "df[\"minmum_salary\"]=(df[\"salary_estimate\"].str.split(\"-\").str[0].str[1:-1]+\"000\").astype(int)\n",
    "df[\"minmum_salary\"]"
   ]
  },
  {
   "cell_type": "code",
   "execution_count": 27,
   "metadata": {},
   "outputs": [
    {
     "data": {
      "text/plain": [
       "0        66000\n",
       "1        66000\n",
       "2        66000\n",
       "3        66000\n",
       "4        66000\n",
       "         ...  \n",
       "2246    104000\n",
       "2247    104000\n",
       "2248    104000\n",
       "2249    104000\n",
       "2250    104000\n",
       "Name: max_salary, Length: 2251, dtype: int32"
      ]
     },
     "execution_count": 27,
     "metadata": {},
     "output_type": "execute_result"
    }
   ],
   "source": [
    "df[\"max_salary\"]=(df[\"salary_estimate\"].str.split(\"-\").str[1].str.split(\" \").str[0].str[1:-1]+\"000\").astype(int)\n",
    "df[\"max_salary\"]"
   ]
  },
  {
   "cell_type": "code",
   "execution_count": 28,
   "metadata": {},
   "outputs": [
    {
     "data": {
      "text/plain": [
       "0       51500.0\n",
       "1       51500.0\n",
       "2       51500.0\n",
       "3       51500.0\n",
       "4       51500.0\n",
       "         ...   \n",
       "2246    91000.0\n",
       "2247    91000.0\n",
       "2248    91000.0\n",
       "2249    91000.0\n",
       "2250    91000.0\n",
       "Name: avg_salary, Length: 2251, dtype: float64"
      ]
     },
     "execution_count": 28,
     "metadata": {},
     "output_type": "execute_result"
    }
   ],
   "source": [
    "df[\"avg_salary\"]=(df[\"max_salary\"]+df[\"minmum_salary\"])/2\n",
    "df[\"avg_salary\"]"
   ]
  },
  {
   "cell_type": "markdown",
   "metadata": {},
   "source": [
    "### Feautre Engineering"
   ]
  },
  {
   "cell_type": "code",
   "execution_count": 29,
   "metadata": {},
   "outputs": [
    {
     "data": {
      "text/plain": [
       "array(['201 to 500 employees', '10000+ employees',\n",
       "       '1001 to 5000 employees', '501 to 1000 employees',\n",
       "       '5001 to 10000 employees', '1 to 50 employees',\n",
       "       '51 to 200 employees', 'Unknown', nan], dtype=object)"
      ]
     },
     "execution_count": 29,
     "metadata": {},
     "output_type": "execute_result"
    }
   ],
   "source": [
    "df[\"size\"].unique()"
   ]
  },
  {
   "cell_type": "code",
   "execution_count": 30,
   "metadata": {},
   "outputs": [
    {
     "data": {
      "text/plain": [
       "0       Medium Company\n",
       "1        Large Company\n",
       "2        Large Company\n",
       "3       Medium Company\n",
       "4       Medium Company\n",
       "             ...      \n",
       "2246     Small Company\n",
       "2247     Large Company\n",
       "2248               NaN\n",
       "2249    Medium Company\n",
       "2250     Large Company\n",
       "Name: size_company, Length: 2251, dtype: object"
      ]
     },
     "execution_count": 30,
     "metadata": {},
     "output_type": "execute_result"
    }
   ],
   "source": [
    "def clean_size(x):\n",
    "    if x in ['1 to 50 employees','51 to 200 employees']:\n",
    "        return \"Small Company\"\n",
    "    elif x in ['201 to 500 employees','501 to 1000 employees']:\n",
    "        return \"Medium Company\"\n",
    "    elif x in ['1001 to 5000 employees','5001 to 10000 employees','10000+ employees']:\n",
    "        return \"Large Company\"\n",
    "    else:\n",
    "        return x\n",
    "    \n",
    "df[\"size_company\"]=df[\"size\"].apply(clean_size)\n",
    "df[\"size_company\"]\n",
    "    "
   ]
  },
  {
   "cell_type": "code",
   "execution_count": 31,
   "metadata": {},
   "outputs": [
    {
     "data": {
      "text/plain": [
       "0            High Revenue Company\n",
       "1       Very High Revenue Company\n",
       "2        Unknown / Non-Applicable\n",
       "3          Medium Revenue Company\n",
       "4            High Revenue Company\n",
       "                  ...            \n",
       "2246     Unknown / Non-Applicable\n",
       "2247    Very High Revenue Company\n",
       "2248                          NaN\n",
       "2249       Medium Revenue Company\n",
       "2250    Very High Revenue Company\n",
       "Name: revenue_categories, Length: 2251, dtype: object"
      ]
     },
     "execution_count": 31,
     "metadata": {},
     "output_type": "execute_result"
    }
   ],
   "source": [
    "def rev_categories(x):\n",
    "    \n",
    "    if type(x) == float:\n",
    "        return x\n",
    "    if x in \"Less than $1 million (USD)\":\n",
    "        return 'Low Revenue Company'\n",
    "    elif x in [\"$1 to $5 million (USD)\",\"$5 to $10 million (USD)\",\"$10 to $25 million (USD)\",\"$25 to $50 million (USD)\",\"$50 to $100 million (USD)\"]:\n",
    "        return 'Medium Revenue Company'\n",
    "    elif x in [\"$100 to $500 million (USD)\",\"$500 million to $1 billion (USD)\"]:\n",
    "        return 'High Revenue Company'\n",
    "    elif x in [\"$1 to $2 billion (USD)\",\"$2 to $5 billion (USD)\",\"$5 to $10 billion (USD)\",\"$10+ billion (USD)\"]:\n",
    "        return 'Very High Revenue Company'\n",
    "    else:\n",
    "        return x\n",
    "    \n",
    "df['revenue_categories'] = df.revenue.apply(rev_categories)\n",
    "df['revenue_categories'] "
   ]
  },
  {
   "cell_type": "code",
   "execution_count": 34,
   "metadata": {},
   "outputs": [],
   "source": [
    "# drop unnessary columns \n",
    "df.drop(['salary_estimate','company_name','job_description'],axis=1,inplace=True)"
   ]
  },
  {
   "cell_type": "code",
   "execution_count": 35,
   "metadata": {},
   "outputs": [
    {
     "data": {
      "text/html": [
       "<div>\n",
       "<style scoped>\n",
       "    .dataframe tbody tr th:only-of-type {\n",
       "        vertical-align: middle;\n",
       "    }\n",
       "\n",
       "    .dataframe tbody tr th {\n",
       "        vertical-align: top;\n",
       "    }\n",
       "\n",
       "    .dataframe thead th {\n",
       "        text-align: right;\n",
       "    }\n",
       "</style>\n",
       "<table border=\"1\" class=\"dataframe\">\n",
       "  <thead>\n",
       "    <tr style=\"text-align: right;\">\n",
       "      <th></th>\n",
       "      <th>job_title</th>\n",
       "      <th>rating</th>\n",
       "      <th>location</th>\n",
       "      <th>headquarters</th>\n",
       "      <th>size</th>\n",
       "      <th>founded</th>\n",
       "      <th>type_of_ownership</th>\n",
       "      <th>industry</th>\n",
       "      <th>sector</th>\n",
       "      <th>revenue</th>\n",
       "      <th>company</th>\n",
       "      <th>minmum_salary</th>\n",
       "      <th>max_salary</th>\n",
       "      <th>avg_salary</th>\n",
       "      <th>size_company</th>\n",
       "      <th>revenue_categories</th>\n",
       "    </tr>\n",
       "  </thead>\n",
       "  <tbody>\n",
       "    <tr>\n",
       "      <th>0</th>\n",
       "      <td>Data Analyst, Center on Immigration and Justic...</td>\n",
       "      <td>3.2</td>\n",
       "      <td>New York, NY</td>\n",
       "      <td>New York, NY</td>\n",
       "      <td>201 to 500 employees</td>\n",
       "      <td>1961.0</td>\n",
       "      <td>Nonprofit Organization</td>\n",
       "      <td>Social Assistance</td>\n",
       "      <td>Non-Profit</td>\n",
       "      <td>$100 to $500 million (USD)</td>\n",
       "      <td>Vera Institute of Justice</td>\n",
       "      <td>37000</td>\n",
       "      <td>66000</td>\n",
       "      <td>51500.0</td>\n",
       "      <td>Medium Company</td>\n",
       "      <td>High Revenue Company</td>\n",
       "    </tr>\n",
       "    <tr>\n",
       "      <th>1</th>\n",
       "      <td>Quality Data Analyst</td>\n",
       "      <td>3.8</td>\n",
       "      <td>New York, NY</td>\n",
       "      <td>New York, NY</td>\n",
       "      <td>10000+ employees</td>\n",
       "      <td>1893.0</td>\n",
       "      <td>Nonprofit Organization</td>\n",
       "      <td>Health Care Services &amp; Hospitals</td>\n",
       "      <td>Health Care</td>\n",
       "      <td>$2 to $5 billion (USD)</td>\n",
       "      <td>Visiting Nurse Service of New York</td>\n",
       "      <td>37000</td>\n",
       "      <td>66000</td>\n",
       "      <td>51500.0</td>\n",
       "      <td>Large Company</td>\n",
       "      <td>Very High Revenue Company</td>\n",
       "    </tr>\n",
       "    <tr>\n",
       "      <th>2</th>\n",
       "      <td>Senior Data Analyst, Insights &amp; Analytics Team...</td>\n",
       "      <td>3.4</td>\n",
       "      <td>New York, NY</td>\n",
       "      <td>New York, NY</td>\n",
       "      <td>1001 to 5000 employees</td>\n",
       "      <td>2003.0</td>\n",
       "      <td>Company - Private</td>\n",
       "      <td>Internet</td>\n",
       "      <td>Information Technology</td>\n",
       "      <td>Unknown / Non-Applicable</td>\n",
       "      <td>Squarespace</td>\n",
       "      <td>37000</td>\n",
       "      <td>66000</td>\n",
       "      <td>51500.0</td>\n",
       "      <td>Large Company</td>\n",
       "      <td>Unknown / Non-Applicable</td>\n",
       "    </tr>\n",
       "    <tr>\n",
       "      <th>3</th>\n",
       "      <td>Data Analyst</td>\n",
       "      <td>4.1</td>\n",
       "      <td>New York, NY</td>\n",
       "      <td>McLean, VA</td>\n",
       "      <td>201 to 500 employees</td>\n",
       "      <td>2002.0</td>\n",
       "      <td>Subsidiary or Business Segment</td>\n",
       "      <td>IT Services</td>\n",
       "      <td>Information Technology</td>\n",
       "      <td>$50 to $100 million (USD)</td>\n",
       "      <td>Celerity</td>\n",
       "      <td>37000</td>\n",
       "      <td>66000</td>\n",
       "      <td>51500.0</td>\n",
       "      <td>Medium Company</td>\n",
       "      <td>Medium Revenue Company</td>\n",
       "    </tr>\n",
       "    <tr>\n",
       "      <th>4</th>\n",
       "      <td>Reporting Data Analyst</td>\n",
       "      <td>3.9</td>\n",
       "      <td>New York, NY</td>\n",
       "      <td>New York, NY</td>\n",
       "      <td>501 to 1000 employees</td>\n",
       "      <td>2009.0</td>\n",
       "      <td>Company - Private</td>\n",
       "      <td>Sports &amp; Recreation</td>\n",
       "      <td>Arts, Entertainment &amp; Recreation</td>\n",
       "      <td>$100 to $500 million (USD)</td>\n",
       "      <td>FanDuel</td>\n",
       "      <td>37000</td>\n",
       "      <td>66000</td>\n",
       "      <td>51500.0</td>\n",
       "      <td>Medium Company</td>\n",
       "      <td>High Revenue Company</td>\n",
       "    </tr>\n",
       "    <tr>\n",
       "      <th>...</th>\n",
       "      <td>...</td>\n",
       "      <td>...</td>\n",
       "      <td>...</td>\n",
       "      <td>...</td>\n",
       "      <td>...</td>\n",
       "      <td>...</td>\n",
       "      <td>...</td>\n",
       "      <td>...</td>\n",
       "      <td>...</td>\n",
       "      <td>...</td>\n",
       "      <td>...</td>\n",
       "      <td>...</td>\n",
       "      <td>...</td>\n",
       "      <td>...</td>\n",
       "      <td>...</td>\n",
       "      <td>...</td>\n",
       "    </tr>\n",
       "    <tr>\n",
       "      <th>2246</th>\n",
       "      <td>RQS - IHHA - 201900004460 -1q Data Security An...</td>\n",
       "      <td>2.5</td>\n",
       "      <td>Denver, CO</td>\n",
       "      <td>Alpharetta, GA</td>\n",
       "      <td>51 to 200 employees</td>\n",
       "      <td>NaN</td>\n",
       "      <td>Company - Private</td>\n",
       "      <td>Staffing &amp; Outsourcing</td>\n",
       "      <td>Business Services</td>\n",
       "      <td>Unknown / Non-Applicable</td>\n",
       "      <td>Avacend, Inc.</td>\n",
       "      <td>78000</td>\n",
       "      <td>104000</td>\n",
       "      <td>91000.0</td>\n",
       "      <td>Small Company</td>\n",
       "      <td>Unknown / Non-Applicable</td>\n",
       "    </tr>\n",
       "    <tr>\n",
       "      <th>2247</th>\n",
       "      <td>Senior Data Analyst (Corporate Audit)</td>\n",
       "      <td>2.9</td>\n",
       "      <td>Centennial, CO</td>\n",
       "      <td>Centennial, CO</td>\n",
       "      <td>10000+ employees</td>\n",
       "      <td>1935.0</td>\n",
       "      <td>Company - Public</td>\n",
       "      <td>Wholesale</td>\n",
       "      <td>Business Services</td>\n",
       "      <td>$10+ billion (USD)</td>\n",
       "      <td>Arrow Electronics</td>\n",
       "      <td>78000</td>\n",
       "      <td>104000</td>\n",
       "      <td>91000.0</td>\n",
       "      <td>Large Company</td>\n",
       "      <td>Very High Revenue Company</td>\n",
       "    </tr>\n",
       "    <tr>\n",
       "      <th>2248</th>\n",
       "      <td>Technical Business Analyst (SQL, Data analytic...</td>\n",
       "      <td>NaN</td>\n",
       "      <td>Denver, CO</td>\n",
       "      <td>NaN</td>\n",
       "      <td>NaN</td>\n",
       "      <td>NaN</td>\n",
       "      <td>NaN</td>\n",
       "      <td>NaN</td>\n",
       "      <td>NaN</td>\n",
       "      <td>NaN</td>\n",
       "      <td>Spiceorb</td>\n",
       "      <td>78000</td>\n",
       "      <td>104000</td>\n",
       "      <td>91000.0</td>\n",
       "      <td>NaN</td>\n",
       "      <td>NaN</td>\n",
       "    </tr>\n",
       "    <tr>\n",
       "      <th>2249</th>\n",
       "      <td>Data Analyst 3, Customer Experience</td>\n",
       "      <td>3.1</td>\n",
       "      <td>Centennial, CO</td>\n",
       "      <td>West Chester, OH</td>\n",
       "      <td>201 to 500 employees</td>\n",
       "      <td>1984.0</td>\n",
       "      <td>Company - Private</td>\n",
       "      <td>Enterprise Software &amp; Network Solutions</td>\n",
       "      <td>Information Technology</td>\n",
       "      <td>$25 to $50 million (USD)</td>\n",
       "      <td>Contingent Network Services</td>\n",
       "      <td>78000</td>\n",
       "      <td>104000</td>\n",
       "      <td>91000.0</td>\n",
       "      <td>Medium Company</td>\n",
       "      <td>Medium Revenue Company</td>\n",
       "    </tr>\n",
       "    <tr>\n",
       "      <th>2250</th>\n",
       "      <td>Senior Quality Data Analyst</td>\n",
       "      <td>3.4</td>\n",
       "      <td>Broomfield, CO</td>\n",
       "      <td>Broomfield, CO</td>\n",
       "      <td>10000+ employees</td>\n",
       "      <td>1864.0</td>\n",
       "      <td>Nonprofit Organization</td>\n",
       "      <td>Health Care Services &amp; Hospitals</td>\n",
       "      <td>Health Care</td>\n",
       "      <td>$2 to $5 billion (USD)</td>\n",
       "      <td>SCL Health</td>\n",
       "      <td>78000</td>\n",
       "      <td>104000</td>\n",
       "      <td>91000.0</td>\n",
       "      <td>Large Company</td>\n",
       "      <td>Very High Revenue Company</td>\n",
       "    </tr>\n",
       "  </tbody>\n",
       "</table>\n",
       "<p>2251 rows × 16 columns</p>\n",
       "</div>"
      ],
      "text/plain": [
       "                                              job_title  rating  \\\n",
       "0     Data Analyst, Center on Immigration and Justic...     3.2   \n",
       "1                                  Quality Data Analyst     3.8   \n",
       "2     Senior Data Analyst, Insights & Analytics Team...     3.4   \n",
       "3                                          Data Analyst     4.1   \n",
       "4                                Reporting Data Analyst     3.9   \n",
       "...                                                 ...     ...   \n",
       "2246  RQS - IHHA - 201900004460 -1q Data Security An...     2.5   \n",
       "2247              Senior Data Analyst (Corporate Audit)     2.9   \n",
       "2248  Technical Business Analyst (SQL, Data analytic...     NaN   \n",
       "2249                Data Analyst 3, Customer Experience     3.1   \n",
       "2250                        Senior Quality Data Analyst     3.4   \n",
       "\n",
       "            location      headquarters                    size  founded  \\\n",
       "0       New York, NY      New York, NY    201 to 500 employees   1961.0   \n",
       "1       New York, NY      New York, NY        10000+ employees   1893.0   \n",
       "2       New York, NY      New York, NY  1001 to 5000 employees   2003.0   \n",
       "3       New York, NY        McLean, VA    201 to 500 employees   2002.0   \n",
       "4       New York, NY      New York, NY   501 to 1000 employees   2009.0   \n",
       "...              ...               ...                     ...      ...   \n",
       "2246      Denver, CO    Alpharetta, GA     51 to 200 employees      NaN   \n",
       "2247  Centennial, CO    Centennial, CO        10000+ employees   1935.0   \n",
       "2248      Denver, CO               NaN                     NaN      NaN   \n",
       "2249  Centennial, CO  West Chester, OH    201 to 500 employees   1984.0   \n",
       "2250  Broomfield, CO    Broomfield, CO        10000+ employees   1864.0   \n",
       "\n",
       "                   type_of_ownership                                 industry  \\\n",
       "0             Nonprofit Organization                        Social Assistance   \n",
       "1             Nonprofit Organization         Health Care Services & Hospitals   \n",
       "2                  Company - Private                                 Internet   \n",
       "3     Subsidiary or Business Segment                              IT Services   \n",
       "4                  Company - Private                      Sports & Recreation   \n",
       "...                              ...                                      ...   \n",
       "2246               Company - Private                   Staffing & Outsourcing   \n",
       "2247                Company - Public                                Wholesale   \n",
       "2248                             NaN                                      NaN   \n",
       "2249               Company - Private  Enterprise Software & Network Solutions   \n",
       "2250          Nonprofit Organization         Health Care Services & Hospitals   \n",
       "\n",
       "                                sector                     revenue  \\\n",
       "0                           Non-Profit  $100 to $500 million (USD)   \n",
       "1                          Health Care      $2 to $5 billion (USD)   \n",
       "2               Information Technology    Unknown / Non-Applicable   \n",
       "3               Information Technology   $50 to $100 million (USD)   \n",
       "4     Arts, Entertainment & Recreation  $100 to $500 million (USD)   \n",
       "...                                ...                         ...   \n",
       "2246                 Business Services    Unknown / Non-Applicable   \n",
       "2247                 Business Services          $10+ billion (USD)   \n",
       "2248                               NaN                         NaN   \n",
       "2249            Information Technology    $25 to $50 million (USD)   \n",
       "2250                       Health Care      $2 to $5 billion (USD)   \n",
       "\n",
       "                                 company  minmum_salary  max_salary  \\\n",
       "0              Vera Institute of Justice          37000       66000   \n",
       "1     Visiting Nurse Service of New York          37000       66000   \n",
       "2                            Squarespace          37000       66000   \n",
       "3                               Celerity          37000       66000   \n",
       "4                                FanDuel          37000       66000   \n",
       "...                                  ...            ...         ...   \n",
       "2246                       Avacend, Inc.          78000      104000   \n",
       "2247                   Arrow Electronics          78000      104000   \n",
       "2248                            Spiceorb          78000      104000   \n",
       "2249         Contingent Network Services          78000      104000   \n",
       "2250                          SCL Health          78000      104000   \n",
       "\n",
       "      avg_salary    size_company         revenue_categories  \n",
       "0        51500.0  Medium Company       High Revenue Company  \n",
       "1        51500.0   Large Company  Very High Revenue Company  \n",
       "2        51500.0   Large Company   Unknown / Non-Applicable  \n",
       "3        51500.0  Medium Company     Medium Revenue Company  \n",
       "4        51500.0  Medium Company       High Revenue Company  \n",
       "...          ...             ...                        ...  \n",
       "2246     91000.0   Small Company   Unknown / Non-Applicable  \n",
       "2247     91000.0   Large Company  Very High Revenue Company  \n",
       "2248     91000.0             NaN                        NaN  \n",
       "2249     91000.0  Medium Company     Medium Revenue Company  \n",
       "2250     91000.0   Large Company  Very High Revenue Company  \n",
       "\n",
       "[2251 rows x 16 columns]"
      ]
     },
     "execution_count": 35,
     "metadata": {},
     "output_type": "execute_result"
    }
   ],
   "source": [
    "df"
   ]
  },
  {
   "cell_type": "markdown",
   "metadata": {},
   "source": [
    "### Data Analysis"
   ]
  },
  {
   "cell_type": "markdown",
   "metadata": {},
   "source": [
    "#### What is the distribution of foundation year for each company ?"
   ]
  },
  {
   "cell_type": "code",
   "execution_count": 40,
   "metadata": {},
   "outputs": [
    {
     "data": {
      "application/vnd.plotly.v1+json": {
       "config": {
        "plotlyServerURL": "https://plot.ly"
       },
       "data": [
        {
         "alignmentgroup": "True",
         "bingroup": "x",
         "histnorm": "percent",
         "hovertemplate": "founded=%{x}<br>percent=%{y}<extra></extra>",
         "legendgroup": "",
         "marker": {
          "color": "#636efa",
          "pattern": {
           "shape": ""
          }
         },
         "name": "",
         "offsetgroup": "",
         "orientation": "v",
         "showlegend": false,
         "texttemplate": "%{value}",
         "type": "histogram",
         "x": [
          1961,
          1893,
          2003,
          2002,
          2009,
          2014,
          2001,
          1914,
          1896,
          2013,
          1841,
          null,
          1884,
          2004,
          2016,
          null,
          2001,
          1996,
          1958,
          2006,
          1998,
          null,
          1969,
          null,
          null,
          null,
          2011,
          2017,
          null,
          null,
          2005,
          null,
          null,
          2011,
          null,
          1904,
          2018,
          null,
          1841,
          null,
          null,
          null,
          2016,
          null,
          2013,
          1956,
          null,
          2007,
          1990,
          2002,
          1923,
          1990,
          1990,
          2015,
          1969,
          null,
          1923,
          1951,
          1981,
          2000,
          2017,
          1998,
          1998,
          1998,
          1966,
          2005,
          null,
          1939,
          null,
          2002,
          1999,
          null,
          null,
          1812,
          null,
          1945,
          1985,
          null,
          null,
          null,
          null,
          null,
          2003,
          1984,
          null,
          null,
          null,
          2011,
          2004,
          2007,
          null,
          1962,
          1996,
          2011,
          1995,
          null,
          null,
          null,
          2017,
          null,
          2012,
          2011,
          1967,
          1799,
          null,
          null,
          null,
          2004,
          null,
          null,
          null,
          1918,
          1948,
          1994,
          2014,
          1967,
          1895,
          2004,
          2018,
          null,
          null,
          1845,
          1968,
          null,
          2008,
          1911,
          1997,
          1995,
          2015,
          1832,
          2009,
          null,
          null,
          2004,
          null,
          1934,
          1998,
          null,
          1990,
          null,
          null,
          1938,
          2008,
          2002,
          1963,
          1996,
          null,
          1994,
          null,
          null,
          1841,
          2013,
          2013,
          null,
          1992,
          null,
          1977,
          null,
          2013,
          2009,
          null,
          2000,
          null,
          2015,
          1992,
          1998,
          2015,
          null,
          1984,
          1886,
          null,
          2002,
          null,
          1862,
          null,
          1999,
          2008,
          1906,
          2015,
          null,
          1998,
          null,
          2012,
          2004,
          1997,
          2011,
          null,
          1981,
          1812,
          null,
          1969,
          1862,
          1993,
          2011,
          null,
          1935,
          2003,
          null,
          1990,
          null,
          1884,
          null,
          null,
          1971,
          1996,
          null,
          null,
          2018,
          null,
          1989,
          null,
          2008,
          2012,
          1981,
          null,
          1966,
          null,
          1968,
          1812,
          1923,
          1967,
          1969,
          null,
          null,
          1999,
          null,
          1981,
          null,
          1859,
          1996,
          1990,
          2011,
          1984,
          1985,
          1997,
          2008,
          null,
          1946,
          null,
          1799,
          1967,
          1984,
          null,
          1818,
          null,
          1946,
          1932,
          null,
          1938,
          1923,
          2002,
          1967,
          2018,
          null,
          1998,
          null,
          1784,
          1956,
          null,
          null,
          null,
          null,
          1996,
          null,
          2008,
          null,
          null,
          null,
          2002,
          2012,
          1896,
          null,
          null,
          2000,
          2002,
          null,
          null,
          1997,
          2011,
          null,
          1998,
          null,
          1985,
          1993,
          null,
          2002,
          1998,
          1784,
          1856,
          null,
          1977,
          null,
          1989,
          2008,
          2004,
          1989,
          1966,
          1978,
          1996,
          1946,
          1812,
          null,
          1799,
          1984,
          1912,
          1998,
          1985,
          2001,
          2011,
          1998,
          null,
          2009,
          1996,
          1997,
          2004,
          null,
          1997,
          1799,
          1985,
          1957,
          1946,
          2002,
          2006,
          2003,
          null,
          2012,
          1997,
          null,
          2018,
          1799,
          null,
          1937,
          2004,
          2004,
          1982,
          2004,
          1964,
          null,
          1932,
          1984,
          2005,
          1937,
          2004,
          null,
          null,
          2000,
          2008,
          2008,
          null,
          2011,
          null,
          1948,
          1977,
          1967,
          2018,
          null,
          1992,
          2018,
          1990,
          null,
          1978,
          1985,
          1799,
          null,
          null,
          1841,
          null,
          null,
          1996,
          1984,
          2004,
          2000,
          1784,
          1982,
          2013,
          2002,
          1995,
          1999,
          1977,
          1985,
          2008,
          null,
          2013,
          null,
          2009,
          1992,
          null,
          1784,
          2011,
          1984,
          null,
          null,
          2004,
          1999,
          null,
          2011,
          null,
          1982,
          2004,
          null,
          1967,
          null,
          null,
          null,
          null,
          null,
          1784,
          1993,
          null,
          2008,
          1784,
          1989,
          1962,
          null,
          null,
          2011,
          2008,
          2018,
          null,
          null,
          2018,
          null,
          null,
          1850,
          1983,
          null,
          null,
          null,
          2018,
          2011,
          2001,
          1869,
          1998,
          2000,
          null,
          null,
          null,
          1995,
          1947,
          null,
          2011,
          1996,
          2001,
          1994,
          null,
          null,
          null,
          2011,
          null,
          2011,
          2006,
          2011,
          1995,
          2004,
          1948,
          null,
          1968,
          1984,
          1868,
          1992,
          1996,
          2008,
          2000,
          null,
          null,
          null,
          2008,
          2000,
          null,
          1936,
          1914,
          1935,
          1998,
          1997,
          2015,
          2008,
          null,
          1997,
          2000,
          null,
          2014,
          1997,
          2002,
          null,
          1962,
          1992,
          2000,
          1997,
          1906,
          1962,
          null,
          2015,
          2002,
          2018,
          2002,
          null,
          2018,
          1998,
          1962,
          null,
          null,
          2001,
          null,
          2000,
          2000,
          2008,
          2008,
          1853,
          1996,
          1984,
          2008,
          2008,
          1984,
          1996,
          2010,
          1996,
          2014,
          2013,
          2008,
          null,
          2018,
          2017,
          1996,
          2014,
          1996,
          1997,
          2016,
          null,
          null,
          null,
          2000,
          null,
          2011,
          null,
          1902,
          null,
          1948,
          2012,
          null,
          2007,
          2014,
          1944,
          null,
          null,
          1888,
          2002,
          2000,
          2017,
          1902,
          2013,
          1971,
          null,
          2007,
          null,
          1880,
          1973,
          2016,
          1923,
          null,
          null,
          1982,
          1902,
          1931,
          2003,
          1987,
          2014,
          1938,
          null,
          null,
          1978,
          2008,
          null,
          null,
          1996,
          1902,
          null,
          1990,
          null,
          null,
          null,
          1997,
          null,
          2001,
          2016,
          2015,
          1989,
          1997,
          null,
          1971,
          2009,
          1998,
          1948,
          2019,
          null,
          2017,
          1919,
          1948,
          1979,
          2012,
          2013,
          2008,
          null,
          1945,
          1983,
          1973,
          1954,
          2005,
          null,
          null,
          1954,
          null,
          1998,
          null,
          1966,
          null,
          2003,
          1980,
          2013,
          2006,
          1911,
          1980,
          2001,
          null,
          2016,
          1948,
          1961,
          1980,
          null,
          2016,
          null,
          1994,
          null,
          1996,
          null,
          1998,
          null,
          null,
          2005,
          null,
          1954,
          null,
          1939,
          1996,
          1994,
          2010,
          1976,
          null,
          null,
          2011,
          null,
          2016,
          null,
          null,
          1954,
          1995,
          2002,
          null,
          1980,
          2014,
          null,
          null,
          null,
          1935,
          1994,
          1979,
          2001,
          null,
          1872,
          1939,
          null,
          1982,
          1990,
          2003,
          null,
          null,
          null,
          2003,
          2006,
          1990,
          null,
          1977,
          2007,
          1980,
          null,
          1919,
          null,
          null,
          1926,
          null,
          2013,
          null,
          2013,
          1919,
          null,
          null,
          1977,
          1964,
          null,
          null,
          null,
          1939,
          null,
          1991,
          1923,
          1855,
          1980,
          1980,
          null,
          2003,
          1964,
          1999,
          2013,
          1959,
          null,
          2016,
          1961,
          null,
          null,
          null,
          null,
          1991,
          2000,
          2007,
          1999,
          2001,
          1946,
          1946,
          2001,
          1999,
          1986,
          2011,
          1890,
          2000,
          null,
          2010,
          2010,
          1886,
          1999,
          1979,
          1994,
          1997,
          1882,
          1964,
          1971,
          1883,
          1837,
          1999,
          1947,
          1817,
          1882,
          1999,
          2011,
          2015,
          null,
          2012,
          1983,
          null,
          1944,
          2017,
          2008,
          2013,
          null,
          null,
          2007,
          2015,
          null,
          null,
          null,
          2002,
          2008,
          1994,
          1883,
          2015,
          null,
          1996,
          null,
          1983,
          1991,
          2014,
          null,
          null,
          1837,
          1998,
          1935,
          2004,
          1890,
          null,
          2000,
          null,
          1983,
          2014,
          2001,
          1989,
          null,
          1908,
          2003,
          1966,
          2004,
          2000,
          1959,
          null,
          1996,
          null,
          1817,
          1988,
          1965,
          1997,
          1982,
          1828,
          1966,
          1906,
          2014,
          null,
          null,
          2001,
          1998,
          null,
          2005,
          2003,
          1883,
          null,
          2007,
          2011,
          1961,
          null,
          1982,
          1889,
          null,
          2001,
          null,
          2005,
          2008,
          1883,
          2008,
          null,
          null,
          null,
          1898,
          2004,
          null,
          null,
          null,
          1999,
          1976,
          1928,
          1966,
          1967,
          2015,
          1913,
          null,
          null,
          1948,
          2018,
          1995,
          2012,
          2010,
          1901,
          1999,
          1916,
          null,
          null,
          null,
          null,
          null,
          1998,
          1857,
          2013,
          null,
          1998,
          null,
          1859,
          1984,
          1982,
          2013,
          null,
          2014,
          null,
          1997,
          1988,
          null,
          1901,
          null,
          1845,
          null,
          1984,
          2005,
          null,
          null,
          1994,
          2007,
          2000,
          1997,
          1966,
          null,
          2014,
          1962,
          1784,
          1955,
          null,
          1949,
          2012,
          2003,
          null,
          1966,
          null,
          null,
          null,
          null,
          1968,
          2000,
          2004,
          null,
          2010,
          null,
          2008,
          1986,
          1999,
          2010,
          null,
          2005,
          null,
          1967,
          1999,
          null,
          1970,
          null,
          null,
          1948,
          2003,
          null,
          1980,
          1966,
          null,
          1822,
          1985,
          2009,
          null,
          1998,
          1984,
          2005,
          1949,
          1966,
          null,
          null,
          1980,
          null,
          1986,
          1994,
          1998,
          2004,
          1949,
          null,
          1998,
          1972,
          1784,
          1949,
          2012,
          null,
          1949,
          2007,
          2018,
          1996,
          1999,
          2000,
          null,
          2011,
          1955,
          2010,
          1980,
          1864,
          2010,
          1939,
          1975,
          1970,
          1960,
          1939,
          1948,
          2005,
          1986,
          2019,
          1992,
          2003,
          1994,
          null,
          2002,
          2002,
          null,
          1999,
          1973,
          null,
          null,
          2019,
          1864,
          1864,
          1948,
          1985,
          1994,
          null,
          null,
          null,
          1885,
          2004,
          2000,
          2002,
          1951,
          1922,
          1998,
          2004,
          1957,
          null,
          1945,
          1864,
          2001,
          null,
          null,
          2018,
          null,
          2004,
          null,
          1975,
          2001,
          2005,
          null,
          null,
          1999,
          1980,
          2003,
          2005,
          2002,
          2003,
          null,
          1986,
          null,
          null,
          2004,
          null,
          null,
          null,
          2017,
          1951,
          1997,
          null,
          1864,
          null,
          1970,
          1889,
          1996,
          null,
          null,
          1954,
          1914,
          2007,
          null,
          1966,
          2000,
          2007,
          2000,
          1996,
          1951,
          null,
          1939,
          2008,
          1864,
          null,
          1992,
          1963,
          2008,
          1968,
          2003,
          2017,
          1994,
          2013,
          2004,
          2000,
          null,
          2000,
          2002,
          2008,
          null,
          1966,
          null,
          1970,
          1995,
          1992,
          null,
          2013,
          1991,
          2000,
          1740,
          null,
          null,
          1989,
          null,
          1948,
          2005,
          1987,
          1740,
          1983,
          null,
          null,
          1799,
          2008,
          1904,
          null,
          2014,
          1740,
          null,
          null,
          2007,
          null,
          2000,
          1993,
          1975,
          1998,
          2000,
          2015,
          2011,
          1992,
          null,
          1991,
          null,
          null,
          2006,
          1740,
          null,
          1855,
          1740,
          null,
          2012,
          null,
          2011,
          2001,
          1987,
          null,
          1995,
          null,
          1975,
          1855,
          1916,
          1996,
          1990,
          1992,
          1957,
          2005,
          null,
          null,
          1998,
          2011,
          1966,
          null,
          2011,
          1994,
          1994,
          null,
          1994,
          1970,
          null,
          1992,
          1904,
          1966,
          1990,
          null,
          2009,
          1975,
          1970,
          1997,
          1830,
          1994,
          null,
          null,
          1987,
          1987,
          1990,
          null,
          null,
          1887,
          2002,
          1997,
          null,
          2004,
          null,
          1998,
          1995,
          null,
          null,
          2002,
          null,
          1970,
          null,
          2008,
          2007,
          1990,
          1983,
          null,
          2011,
          null,
          1784,
          2011,
          1974,
          1966,
          null,
          null,
          1991,
          2010,
          1996,
          null,
          1986,
          2002,
          2011,
          2014,
          2010,
          1985,
          1905,
          null,
          null,
          null,
          2001,
          null,
          2008,
          null,
          1999,
          2016,
          1991,
          1995,
          null,
          1966,
          1965,
          1999,
          1961,
          2003,
          1996,
          2005,
          2015,
          1991,
          2003,
          2002,
          null,
          1974,
          1966,
          null,
          1999,
          1999,
          null,
          2001,
          null,
          1995,
          null,
          1990,
          1990,
          1962,
          1953,
          1960,
          1990,
          null,
          1997,
          1868,
          1966,
          null,
          2003,
          2010,
          2008,
          1953,
          1990,
          2010,
          2000,
          2014,
          null,
          2009,
          2006,
          1998,
          2004,
          1952,
          2008,
          null,
          null,
          1999,
          1897,
          1989,
          1946,
          1945,
          1998,
          1960,
          2000,
          2013,
          1983,
          null,
          1966,
          null,
          1983,
          1984,
          1985,
          2000,
          null,
          1960,
          2008,
          null,
          2010,
          2018,
          1960,
          1989,
          null,
          1983,
          1962,
          1990,
          1966,
          1990,
          2002,
          1996,
          1960,
          null,
          1986,
          2018,
          2004,
          1988,
          1988,
          1976,
          1994,
          1973,
          2015,
          1999,
          2000,
          1869,
          null,
          1957,
          1914,
          null,
          1995,
          null,
          1869,
          1919,
          null,
          1994,
          1865,
          1970,
          null,
          1999,
          1998,
          1998,
          1921,
          2008,
          null,
          1967,
          2005,
          1867,
          null,
          2017,
          1966,
          1999,
          1867,
          1889,
          2017,
          1913,
          null,
          2010,
          null,
          1971,
          1933,
          null,
          1997,
          1914,
          null,
          2004,
          1906,
          1812,
          2008,
          1966,
          null,
          1869,
          1987,
          null,
          1995,
          1998,
          1963,
          1990,
          2007,
          1999,
          1984,
          2008,
          null,
          1997,
          1967,
          1995,
          2008,
          1812,
          null,
          1947,
          null,
          1998,
          null,
          null,
          null,
          2005,
          1874,
          1996,
          null,
          2012,
          null,
          1933,
          1967,
          null,
          null,
          null,
          2005,
          null,
          null,
          1967,
          null,
          1996,
          2017,
          1991,
          1995,
          null,
          1967,
          2013,
          null,
          1946,
          null,
          1799,
          1999,
          1999,
          1991,
          null,
          1962,
          null,
          null,
          null,
          null,
          2015,
          2008,
          1978,
          1966,
          null,
          1966,
          1996,
          1812,
          null,
          null,
          1967,
          null,
          null,
          null,
          1999,
          null,
          1938,
          2007,
          1994,
          1995,
          null,
          1947,
          2002,
          2007,
          null,
          null,
          null,
          2011,
          2006,
          1995,
          1923,
          null,
          null,
          2001,
          null,
          1995,
          1966,
          2013,
          null,
          1912,
          null,
          2010,
          1993,
          1989,
          2012,
          1997,
          1990,
          1946,
          2003,
          1997,
          2002,
          2006,
          null,
          2009,
          null,
          2000,
          1996,
          2016,
          null,
          2016,
          2002,
          null,
          null,
          2011,
          null,
          1997,
          null,
          null,
          2000,
          2002,
          2015,
          1997,
          null,
          1976,
          1977,
          1988,
          2004,
          1994,
          1991,
          null,
          2006,
          2013,
          2015,
          2011,
          1992,
          null,
          1998,
          2008,
          null,
          null,
          1976,
          1976,
          2007,
          1972,
          1992,
          2008,
          null,
          1995,
          1891,
          null,
          1807,
          1988,
          2016,
          1976,
          null,
          2013,
          null,
          null,
          null,
          1976,
          1999,
          1994,
          null,
          2002,
          null,
          2000,
          2010,
          null,
          1997,
          null,
          1948,
          1996,
          2013,
          2000,
          2006,
          2015,
          1976,
          1995,
          2011,
          2014,
          1976,
          1995,
          1988,
          null,
          null,
          2013,
          null,
          1994,
          null,
          null,
          null,
          null,
          2011,
          1960,
          2011,
          1978,
          2003,
          null,
          2006,
          1995,
          2002,
          1983,
          1957,
          1996,
          null,
          2002,
          null,
          1946,
          1945,
          2007,
          2014,
          1990,
          1996,
          null,
          1997,
          2009,
          2014,
          null,
          2002,
          1978,
          1999,
          2010,
          null,
          2002,
          2008,
          2000,
          2006,
          1976,
          2002,
          null,
          2003,
          1998,
          null,
          2000,
          2006,
          null,
          1988,
          null,
          2010,
          2002,
          2001,
          1996,
          1995,
          2000,
          null,
          2004,
          2002,
          null,
          2009,
          null,
          null,
          null,
          2006,
          2002,
          null,
          1976,
          2004,
          null,
          1995,
          1998,
          2017,
          1996,
          2016,
          2014,
          1912,
          2014,
          2008,
          1912,
          2007,
          2005,
          2010,
          null,
          1937,
          1912,
          2010,
          1980,
          2017,
          1999,
          2015,
          2008,
          2012,
          1998,
          2008,
          2013,
          1948,
          2004,
          2016,
          1999,
          null,
          1912,
          null,
          2004,
          1938,
          1988,
          1998,
          null,
          null,
          null,
          1993,
          2015,
          1912,
          1984,
          null,
          null,
          null,
          2005,
          1996,
          2006,
          null,
          null,
          2010,
          1987,
          1999,
          1991,
          2006,
          1936,
          1996,
          1914,
          1997,
          null,
          2006,
          1996,
          1985,
          null,
          null,
          1912,
          1999,
          null,
          1999,
          2008,
          1957,
          null,
          2007,
          null,
          2007,
          null,
          2015,
          null,
          1984,
          null,
          null,
          1957,
          1970,
          null,
          1994,
          1948,
          1870,
          1981,
          2008,
          1996,
          1998,
          1870,
          1921,
          2008,
          1870,
          2008,
          null,
          null,
          1990,
          null,
          1982,
          2002,
          null,
          1923,
          null,
          1991,
          2011,
          1935,
          1992,
          1995,
          2006,
          1995,
          1992,
          null,
          null,
          1998,
          1999,
          1986,
          null,
          null,
          1999,
          null,
          1999,
          1999,
          2012,
          1892,
          1985,
          1892,
          1799,
          null,
          1969,
          1888,
          2008,
          null,
          null,
          1892,
          null,
          2008,
          2004,
          2000,
          null,
          null,
          1997,
          null,
          2008,
          1892,
          2008,
          null,
          1999,
          2008,
          1888,
          null,
          null,
          null,
          2004,
          1892,
          1799,
          1994,
          1852,
          2017,
          null,
          1989,
          1968,
          1981,
          2004,
          1966,
          1991,
          1983,
          1992,
          null,
          1980,
          null,
          2005,
          1997,
          1999,
          1968,
          1948,
          1966,
          1983,
          2008,
          null,
          null,
          1983,
          null,
          1997,
          2002,
          1975,
          2002,
          null,
          2005,
          1935,
          1967,
          1995,
          1997,
          1999,
          null,
          1956,
          1996,
          2019,
          null,
          1973,
          null,
          null,
          null,
          2016,
          1983,
          2008,
          null,
          1698,
          1966,
          1967,
          null,
          1983,
          null,
          2010,
          null,
          1991,
          null,
          null,
          1966,
          2002,
          1983,
          null,
          1990,
          1946,
          1996,
          1935,
          null,
          2008,
          2006,
          2011,
          null,
          null,
          1946,
          2006,
          null,
          null,
          1998,
          1983,
          1904,
          1999,
          1864,
          2004,
          null,
          1997,
          2017,
          1975,
          1946,
          1998,
          1946,
          1982,
          2006,
          2008,
          1997,
          1982,
          2014,
          2008,
          2011,
          2002,
          1964,
          2011,
          null,
          2014,
          2011,
          1998,
          2014,
          2005,
          2000,
          2016,
          null,
          2017,
          2010,
          2000,
          2012,
          1906,
          2012,
          2002,
          1996,
          2014,
          2012,
          2012,
          2016,
          2014,
          2007,
          null,
          1924,
          null,
          1907,
          2009,
          2012,
          2012,
          null,
          null,
          2004,
          null,
          2012,
          2009,
          1992,
          2000,
          1907,
          2007,
          2004,
          null,
          2006,
          1864,
          2001,
          null,
          2002,
          1989,
          1996,
          null,
          2000,
          2012,
          1985,
          1996,
          1981,
          2016,
          2011,
          1999,
          null,
          2016,
          2013,
          2007,
          2008,
          2008,
          2002,
          2006,
          2000,
          1902,
          2007,
          2014,
          null,
          null,
          null,
          1996,
          1999,
          null,
          2015,
          2010,
          null,
          null,
          2012,
          2014,
          2011,
          null,
          2010,
          2009,
          1996,
          2014,
          null,
          null,
          1993,
          null,
          1993,
          1996,
          null,
          null,
          null,
          2017,
          null,
          2009,
          null,
          2006,
          null,
          2008,
          1874,
          null,
          null,
          2002,
          2001,
          null,
          2004,
          2013,
          2009,
          1966,
          1952,
          2007,
          2013,
          null,
          2002,
          null,
          1995,
          2012,
          2016,
          null,
          1682,
          null,
          1997,
          2013,
          null,
          null,
          2014,
          null,
          2002,
          1999,
          1983,
          null,
          2002,
          2002,
          1999,
          2011,
          2005,
          1999,
          2004,
          2008,
          2007,
          1995,
          2001,
          null,
          2004,
          1947,
          1981,
          2013,
          null,
          2012,
          null,
          2000,
          2001,
          null,
          1852,
          1996,
          1997,
          2015,
          null,
          2000,
          2003,
          null,
          2015,
          1980,
          null,
          2000,
          2000,
          null,
          null,
          1998,
          2001,
          2014,
          1998,
          2012,
          null,
          2015,
          1998,
          2008,
          null,
          2001,
          null,
          2010,
          2008,
          1998,
          1890,
          2010,
          1951,
          1997,
          2008,
          1875,
          null,
          null,
          1979,
          1996,
          2011,
          1997,
          1975,
          2001,
          1917,
          null,
          1976,
          2008,
          1975,
          null,
          1976,
          1996,
          2000,
          2008,
          1997,
          2008,
          null,
          1992,
          1975,
          null,
          1945,
          1998,
          null,
          null,
          1996,
          1975,
          2001,
          1975,
          1999,
          null,
          null,
          1999,
          1976,
          2016,
          null,
          1975,
          2001,
          1975,
          2008,
          1992,
          1990,
          null,
          2012,
          null,
          2006,
          null,
          1990,
          null,
          1876,
          2001,
          null,
          null,
          1785,
          2008,
          2008,
          2008,
          2015,
          1997,
          null,
          2001,
          1982,
          2010,
          2008,
          2005,
          1996,
          1997,
          1945,
          1993,
          2000,
          2018,
          1991,
          2013,
          1997,
          2015,
          2005,
          2008,
          1909,
          1916,
          2004,
          2005,
          1995,
          2008,
          null,
          null,
          1993,
          2012,
          2000,
          null,
          1991,
          1973,
          2007,
          1995,
          2007,
          2001,
          null,
          1966,
          1921,
          2002,
          1957,
          2005,
          null,
          2007,
          null,
          null,
          null,
          1994,
          null,
          null,
          null,
          2001,
          2004,
          null,
          1789,
          1930,
          1997,
          1963,
          null,
          1990,
          1989,
          1981,
          1945,
          2013,
          null,
          2008,
          null,
          1991,
          null,
          2000,
          2008,
          2006,
          1998,
          1995,
          1930,
          1937,
          null,
          1995,
          1963,
          null,
          1972,
          1994,
          1999,
          null,
          null,
          null,
          1970,
          1930,
          null,
          2004,
          null,
          null,
          null,
          1935,
          null,
          1984,
          1864
         ],
         "xaxis": "x",
         "yaxis": "y"
        }
       ],
       "layout": {
        "barmode": "relative",
        "legend": {
         "tracegroupgap": 0
        },
        "margin": {
         "t": 60
        },
        "template": {
         "data": {
          "bar": [
           {
            "error_x": {
             "color": "#2a3f5f"
            },
            "error_y": {
             "color": "#2a3f5f"
            },
            "marker": {
             "line": {
              "color": "#E5ECF6",
              "width": 0.5
             },
             "pattern": {
              "fillmode": "overlay",
              "size": 10,
              "solidity": 0.2
             }
            },
            "type": "bar"
           }
          ],
          "barpolar": [
           {
            "marker": {
             "line": {
              "color": "#E5ECF6",
              "width": 0.5
             },
             "pattern": {
              "fillmode": "overlay",
              "size": 10,
              "solidity": 0.2
             }
            },
            "type": "barpolar"
           }
          ],
          "carpet": [
           {
            "aaxis": {
             "endlinecolor": "#2a3f5f",
             "gridcolor": "white",
             "linecolor": "white",
             "minorgridcolor": "white",
             "startlinecolor": "#2a3f5f"
            },
            "baxis": {
             "endlinecolor": "#2a3f5f",
             "gridcolor": "white",
             "linecolor": "white",
             "minorgridcolor": "white",
             "startlinecolor": "#2a3f5f"
            },
            "type": "carpet"
           }
          ],
          "choropleth": [
           {
            "colorbar": {
             "outlinewidth": 0,
             "ticks": ""
            },
            "type": "choropleth"
           }
          ],
          "contour": [
           {
            "colorbar": {
             "outlinewidth": 0,
             "ticks": ""
            },
            "colorscale": [
             [
              0,
              "#0d0887"
             ],
             [
              0.1111111111111111,
              "#46039f"
             ],
             [
              0.2222222222222222,
              "#7201a8"
             ],
             [
              0.3333333333333333,
              "#9c179e"
             ],
             [
              0.4444444444444444,
              "#bd3786"
             ],
             [
              0.5555555555555556,
              "#d8576b"
             ],
             [
              0.6666666666666666,
              "#ed7953"
             ],
             [
              0.7777777777777778,
              "#fb9f3a"
             ],
             [
              0.8888888888888888,
              "#fdca26"
             ],
             [
              1,
              "#f0f921"
             ]
            ],
            "type": "contour"
           }
          ],
          "contourcarpet": [
           {
            "colorbar": {
             "outlinewidth": 0,
             "ticks": ""
            },
            "type": "contourcarpet"
           }
          ],
          "heatmap": [
           {
            "colorbar": {
             "outlinewidth": 0,
             "ticks": ""
            },
            "colorscale": [
             [
              0,
              "#0d0887"
             ],
             [
              0.1111111111111111,
              "#46039f"
             ],
             [
              0.2222222222222222,
              "#7201a8"
             ],
             [
              0.3333333333333333,
              "#9c179e"
             ],
             [
              0.4444444444444444,
              "#bd3786"
             ],
             [
              0.5555555555555556,
              "#d8576b"
             ],
             [
              0.6666666666666666,
              "#ed7953"
             ],
             [
              0.7777777777777778,
              "#fb9f3a"
             ],
             [
              0.8888888888888888,
              "#fdca26"
             ],
             [
              1,
              "#f0f921"
             ]
            ],
            "type": "heatmap"
           }
          ],
          "heatmapgl": [
           {
            "colorbar": {
             "outlinewidth": 0,
             "ticks": ""
            },
            "colorscale": [
             [
              0,
              "#0d0887"
             ],
             [
              0.1111111111111111,
              "#46039f"
             ],
             [
              0.2222222222222222,
              "#7201a8"
             ],
             [
              0.3333333333333333,
              "#9c179e"
             ],
             [
              0.4444444444444444,
              "#bd3786"
             ],
             [
              0.5555555555555556,
              "#d8576b"
             ],
             [
              0.6666666666666666,
              "#ed7953"
             ],
             [
              0.7777777777777778,
              "#fb9f3a"
             ],
             [
              0.8888888888888888,
              "#fdca26"
             ],
             [
              1,
              "#f0f921"
             ]
            ],
            "type": "heatmapgl"
           }
          ],
          "histogram": [
           {
            "marker": {
             "pattern": {
              "fillmode": "overlay",
              "size": 10,
              "solidity": 0.2
             }
            },
            "type": "histogram"
           }
          ],
          "histogram2d": [
           {
            "colorbar": {
             "outlinewidth": 0,
             "ticks": ""
            },
            "colorscale": [
             [
              0,
              "#0d0887"
             ],
             [
              0.1111111111111111,
              "#46039f"
             ],
             [
              0.2222222222222222,
              "#7201a8"
             ],
             [
              0.3333333333333333,
              "#9c179e"
             ],
             [
              0.4444444444444444,
              "#bd3786"
             ],
             [
              0.5555555555555556,
              "#d8576b"
             ],
             [
              0.6666666666666666,
              "#ed7953"
             ],
             [
              0.7777777777777778,
              "#fb9f3a"
             ],
             [
              0.8888888888888888,
              "#fdca26"
             ],
             [
              1,
              "#f0f921"
             ]
            ],
            "type": "histogram2d"
           }
          ],
          "histogram2dcontour": [
           {
            "colorbar": {
             "outlinewidth": 0,
             "ticks": ""
            },
            "colorscale": [
             [
              0,
              "#0d0887"
             ],
             [
              0.1111111111111111,
              "#46039f"
             ],
             [
              0.2222222222222222,
              "#7201a8"
             ],
             [
              0.3333333333333333,
              "#9c179e"
             ],
             [
              0.4444444444444444,
              "#bd3786"
             ],
             [
              0.5555555555555556,
              "#d8576b"
             ],
             [
              0.6666666666666666,
              "#ed7953"
             ],
             [
              0.7777777777777778,
              "#fb9f3a"
             ],
             [
              0.8888888888888888,
              "#fdca26"
             ],
             [
              1,
              "#f0f921"
             ]
            ],
            "type": "histogram2dcontour"
           }
          ],
          "mesh3d": [
           {
            "colorbar": {
             "outlinewidth": 0,
             "ticks": ""
            },
            "type": "mesh3d"
           }
          ],
          "parcoords": [
           {
            "line": {
             "colorbar": {
              "outlinewidth": 0,
              "ticks": ""
             }
            },
            "type": "parcoords"
           }
          ],
          "pie": [
           {
            "automargin": true,
            "type": "pie"
           }
          ],
          "scatter": [
           {
            "fillpattern": {
             "fillmode": "overlay",
             "size": 10,
             "solidity": 0.2
            },
            "type": "scatter"
           }
          ],
          "scatter3d": [
           {
            "line": {
             "colorbar": {
              "outlinewidth": 0,
              "ticks": ""
             }
            },
            "marker": {
             "colorbar": {
              "outlinewidth": 0,
              "ticks": ""
             }
            },
            "type": "scatter3d"
           }
          ],
          "scattercarpet": [
           {
            "marker": {
             "colorbar": {
              "outlinewidth": 0,
              "ticks": ""
             }
            },
            "type": "scattercarpet"
           }
          ],
          "scattergeo": [
           {
            "marker": {
             "colorbar": {
              "outlinewidth": 0,
              "ticks": ""
             }
            },
            "type": "scattergeo"
           }
          ],
          "scattergl": [
           {
            "marker": {
             "colorbar": {
              "outlinewidth": 0,
              "ticks": ""
             }
            },
            "type": "scattergl"
           }
          ],
          "scattermapbox": [
           {
            "marker": {
             "colorbar": {
              "outlinewidth": 0,
              "ticks": ""
             }
            },
            "type": "scattermapbox"
           }
          ],
          "scatterpolar": [
           {
            "marker": {
             "colorbar": {
              "outlinewidth": 0,
              "ticks": ""
             }
            },
            "type": "scatterpolar"
           }
          ],
          "scatterpolargl": [
           {
            "marker": {
             "colorbar": {
              "outlinewidth": 0,
              "ticks": ""
             }
            },
            "type": "scatterpolargl"
           }
          ],
          "scatterternary": [
           {
            "marker": {
             "colorbar": {
              "outlinewidth": 0,
              "ticks": ""
             }
            },
            "type": "scatterternary"
           }
          ],
          "surface": [
           {
            "colorbar": {
             "outlinewidth": 0,
             "ticks": ""
            },
            "colorscale": [
             [
              0,
              "#0d0887"
             ],
             [
              0.1111111111111111,
              "#46039f"
             ],
             [
              0.2222222222222222,
              "#7201a8"
             ],
             [
              0.3333333333333333,
              "#9c179e"
             ],
             [
              0.4444444444444444,
              "#bd3786"
             ],
             [
              0.5555555555555556,
              "#d8576b"
             ],
             [
              0.6666666666666666,
              "#ed7953"
             ],
             [
              0.7777777777777778,
              "#fb9f3a"
             ],
             [
              0.8888888888888888,
              "#fdca26"
             ],
             [
              1,
              "#f0f921"
             ]
            ],
            "type": "surface"
           }
          ],
          "table": [
           {
            "cells": {
             "fill": {
              "color": "#EBF0F8"
             },
             "line": {
              "color": "white"
             }
            },
            "header": {
             "fill": {
              "color": "#C8D4E3"
             },
             "line": {
              "color": "white"
             }
            },
            "type": "table"
           }
          ]
         },
         "layout": {
          "annotationdefaults": {
           "arrowcolor": "#2a3f5f",
           "arrowhead": 0,
           "arrowwidth": 1
          },
          "autotypenumbers": "strict",
          "coloraxis": {
           "colorbar": {
            "outlinewidth": 0,
            "ticks": ""
           }
          },
          "colorscale": {
           "diverging": [
            [
             0,
             "#8e0152"
            ],
            [
             0.1,
             "#c51b7d"
            ],
            [
             0.2,
             "#de77ae"
            ],
            [
             0.3,
             "#f1b6da"
            ],
            [
             0.4,
             "#fde0ef"
            ],
            [
             0.5,
             "#f7f7f7"
            ],
            [
             0.6,
             "#e6f5d0"
            ],
            [
             0.7,
             "#b8e186"
            ],
            [
             0.8,
             "#7fbc41"
            ],
            [
             0.9,
             "#4d9221"
            ],
            [
             1,
             "#276419"
            ]
           ],
           "sequential": [
            [
             0,
             "#0d0887"
            ],
            [
             0.1111111111111111,
             "#46039f"
            ],
            [
             0.2222222222222222,
             "#7201a8"
            ],
            [
             0.3333333333333333,
             "#9c179e"
            ],
            [
             0.4444444444444444,
             "#bd3786"
            ],
            [
             0.5555555555555556,
             "#d8576b"
            ],
            [
             0.6666666666666666,
             "#ed7953"
            ],
            [
             0.7777777777777778,
             "#fb9f3a"
            ],
            [
             0.8888888888888888,
             "#fdca26"
            ],
            [
             1,
             "#f0f921"
            ]
           ],
           "sequentialminus": [
            [
             0,
             "#0d0887"
            ],
            [
             0.1111111111111111,
             "#46039f"
            ],
            [
             0.2222222222222222,
             "#7201a8"
            ],
            [
             0.3333333333333333,
             "#9c179e"
            ],
            [
             0.4444444444444444,
             "#bd3786"
            ],
            [
             0.5555555555555556,
             "#d8576b"
            ],
            [
             0.6666666666666666,
             "#ed7953"
            ],
            [
             0.7777777777777778,
             "#fb9f3a"
            ],
            [
             0.8888888888888888,
             "#fdca26"
            ],
            [
             1,
             "#f0f921"
            ]
           ]
          },
          "colorway": [
           "#636efa",
           "#EF553B",
           "#00cc96",
           "#ab63fa",
           "#FFA15A",
           "#19d3f3",
           "#FF6692",
           "#B6E880",
           "#FF97FF",
           "#FECB52"
          ],
          "font": {
           "color": "#2a3f5f"
          },
          "geo": {
           "bgcolor": "white",
           "lakecolor": "white",
           "landcolor": "#E5ECF6",
           "showlakes": true,
           "showland": true,
           "subunitcolor": "white"
          },
          "hoverlabel": {
           "align": "left"
          },
          "hovermode": "closest",
          "mapbox": {
           "style": "light"
          },
          "paper_bgcolor": "white",
          "plot_bgcolor": "#E5ECF6",
          "polar": {
           "angularaxis": {
            "gridcolor": "white",
            "linecolor": "white",
            "ticks": ""
           },
           "bgcolor": "#E5ECF6",
           "radialaxis": {
            "gridcolor": "white",
            "linecolor": "white",
            "ticks": ""
           }
          },
          "scene": {
           "xaxis": {
            "backgroundcolor": "#E5ECF6",
            "gridcolor": "white",
            "gridwidth": 2,
            "linecolor": "white",
            "showbackground": true,
            "ticks": "",
            "zerolinecolor": "white"
           },
           "yaxis": {
            "backgroundcolor": "#E5ECF6",
            "gridcolor": "white",
            "gridwidth": 2,
            "linecolor": "white",
            "showbackground": true,
            "ticks": "",
            "zerolinecolor": "white"
           },
           "zaxis": {
            "backgroundcolor": "#E5ECF6",
            "gridcolor": "white",
            "gridwidth": 2,
            "linecolor": "white",
            "showbackground": true,
            "ticks": "",
            "zerolinecolor": "white"
           }
          },
          "shapedefaults": {
           "line": {
            "color": "#2a3f5f"
           }
          },
          "ternary": {
           "aaxis": {
            "gridcolor": "white",
            "linecolor": "white",
            "ticks": ""
           },
           "baxis": {
            "gridcolor": "white",
            "linecolor": "white",
            "ticks": ""
           },
           "bgcolor": "#E5ECF6",
           "caxis": {
            "gridcolor": "white",
            "linecolor": "white",
            "ticks": ""
           }
          },
          "title": {
           "x": 0.05
          },
          "xaxis": {
           "automargin": true,
           "gridcolor": "white",
           "linecolor": "white",
           "ticks": "",
           "title": {
            "standoff": 15
           },
           "zerolinecolor": "white",
           "zerolinewidth": 2
          },
          "yaxis": {
           "automargin": true,
           "gridcolor": "white",
           "linecolor": "white",
           "ticks": "",
           "title": {
            "standoff": 15
           },
           "zerolinecolor": "white",
           "zerolinewidth": 2
          }
         }
        },
        "xaxis": {
         "anchor": "y",
         "domain": [
          0,
          1
         ],
         "title": {
          "text": "founded"
         }
        },
        "yaxis": {
         "anchor": "x",
         "domain": [
          0,
          1
         ],
         "title": {
          "text": "percent"
         }
        }
       }
      }
     },
     "metadata": {},
     "output_type": "display_data"
    }
   ],
   "source": [
    "px.histogram(df,x=\"founded\",text_auto=True,histnorm='percent')"
   ]
  },
  {
   "cell_type": "markdown",
   "metadata": {},
   "source": [
    "#### What are the highest salaries  in each sector?"
   ]
  },
  {
   "cell_type": "code",
   "execution_count": null,
   "metadata": {},
   "outputs": [
    {
     "data": {
      "text/html": [
       "<div>\n",
       "<style scoped>\n",
       "    .dataframe tbody tr th:only-of-type {\n",
       "        vertical-align: middle;\n",
       "    }\n",
       "\n",
       "    .dataframe tbody tr th {\n",
       "        vertical-align: top;\n",
       "    }\n",
       "\n",
       "    .dataframe thead th {\n",
       "        text-align: right;\n",
       "    }\n",
       "</style>\n",
       "<table border=\"1\" class=\"dataframe\">\n",
       "  <thead>\n",
       "    <tr style=\"text-align: right;\">\n",
       "      <th></th>\n",
       "      <th>sector</th>\n",
       "      <th>max_salary</th>\n",
       "    </tr>\n",
       "  </thead>\n",
       "  <tbody>\n",
       "    <tr>\n",
       "      <th>0</th>\n",
       "      <td>Accounting &amp; Legal</td>\n",
       "      <td>190000</td>\n",
       "    </tr>\n",
       "    <tr>\n",
       "      <th>1</th>\n",
       "      <td>Arts, Entertainment &amp; Recreation</td>\n",
       "      <td>190000</td>\n",
       "    </tr>\n",
       "    <tr>\n",
       "      <th>2</th>\n",
       "      <td>Business Services</td>\n",
       "      <td>190000</td>\n",
       "    </tr>\n",
       "    <tr>\n",
       "      <th>3</th>\n",
       "      <td>Health Care</td>\n",
       "      <td>190000</td>\n",
       "    </tr>\n",
       "    <tr>\n",
       "      <th>4</th>\n",
       "      <td>Information Technology</td>\n",
       "      <td>190000</td>\n",
       "    </tr>\n",
       "    <tr>\n",
       "      <th>5</th>\n",
       "      <td>Manufacturing</td>\n",
       "      <td>190000</td>\n",
       "    </tr>\n",
       "    <tr>\n",
       "      <th>6</th>\n",
       "      <td>Retail</td>\n",
       "      <td>178000</td>\n",
       "    </tr>\n",
       "    <tr>\n",
       "      <th>7</th>\n",
       "      <td>Real Estate</td>\n",
       "      <td>178000</td>\n",
       "    </tr>\n",
       "    <tr>\n",
       "      <th>8</th>\n",
       "      <td>Finance</td>\n",
       "      <td>178000</td>\n",
       "    </tr>\n",
       "    <tr>\n",
       "      <th>9</th>\n",
       "      <td>Biotech &amp; Pharmaceuticals</td>\n",
       "      <td>159000</td>\n",
       "    </tr>\n",
       "    <tr>\n",
       "      <th>10</th>\n",
       "      <td>Government</td>\n",
       "      <td>159000</td>\n",
       "    </tr>\n",
       "    <tr>\n",
       "      <th>11</th>\n",
       "      <td>Consumer Services</td>\n",
       "      <td>151000</td>\n",
       "    </tr>\n",
       "    <tr>\n",
       "      <th>12</th>\n",
       "      <td>Media</td>\n",
       "      <td>132000</td>\n",
       "    </tr>\n",
       "    <tr>\n",
       "      <th>13</th>\n",
       "      <td>Oil, Gas, Energy &amp; Utilities</td>\n",
       "      <td>132000</td>\n",
       "    </tr>\n",
       "    <tr>\n",
       "      <th>14</th>\n",
       "      <td>Insurance</td>\n",
       "      <td>132000</td>\n",
       "    </tr>\n",
       "    <tr>\n",
       "      <th>15</th>\n",
       "      <td>Construction, Repair &amp; Maintenance</td>\n",
       "      <td>132000</td>\n",
       "    </tr>\n",
       "    <tr>\n",
       "      <th>16</th>\n",
       "      <td>Transportation &amp; Logistics</td>\n",
       "      <td>129000</td>\n",
       "    </tr>\n",
       "    <tr>\n",
       "      <th>17</th>\n",
       "      <td>Education</td>\n",
       "      <td>127000</td>\n",
       "    </tr>\n",
       "    <tr>\n",
       "      <th>18</th>\n",
       "      <td>Aerospace &amp; Defense</td>\n",
       "      <td>124000</td>\n",
       "    </tr>\n",
       "    <tr>\n",
       "      <th>19</th>\n",
       "      <td>Telecommunications</td>\n",
       "      <td>123000</td>\n",
       "    </tr>\n",
       "    <tr>\n",
       "      <th>20</th>\n",
       "      <td>Non-Profit</td>\n",
       "      <td>120000</td>\n",
       "    </tr>\n",
       "    <tr>\n",
       "      <th>21</th>\n",
       "      <td>Restaurants, Bars &amp; Food Services</td>\n",
       "      <td>88000</td>\n",
       "    </tr>\n",
       "    <tr>\n",
       "      <th>22</th>\n",
       "      <td>Mining &amp; Metals</td>\n",
       "      <td>78000</td>\n",
       "    </tr>\n",
       "    <tr>\n",
       "      <th>23</th>\n",
       "      <td>Travel &amp; Tourism</td>\n",
       "      <td>67000</td>\n",
       "    </tr>\n",
       "  </tbody>\n",
       "</table>\n",
       "</div>"
      ],
      "text/plain": [
       "                                sector  max_salary\n",
       "0                   Accounting & Legal      190000\n",
       "1     Arts, Entertainment & Recreation      190000\n",
       "2                    Business Services      190000\n",
       "3                          Health Care      190000\n",
       "4               Information Technology      190000\n",
       "5                        Manufacturing      190000\n",
       "6                               Retail      178000\n",
       "7                          Real Estate      178000\n",
       "8                              Finance      178000\n",
       "9            Biotech & Pharmaceuticals      159000\n",
       "10                          Government      159000\n",
       "11                   Consumer Services      151000\n",
       "12                               Media      132000\n",
       "13        Oil, Gas, Energy & Utilities      132000\n",
       "14                           Insurance      132000\n",
       "15  Construction, Repair & Maintenance      132000\n",
       "16          Transportation & Logistics      129000\n",
       "17                           Education      127000\n",
       "18                 Aerospace & Defense      124000\n",
       "19                  Telecommunications      123000\n",
       "20                          Non-Profit      120000\n",
       "21   Restaurants, Bars & Food Services       88000\n",
       "22                     Mining & Metals       78000\n",
       "23                    Travel & Tourism       67000"
      ]
     },
     "execution_count": 44,
     "metadata": {},
     "output_type": "execute_result"
    }
   ],
   "source": [
    "q2=df.groupby(\"sector\")[\"max_salary\"].max().sort_values(ascending=False).reset_index()\n",
    "q2"
   ]
  },
  {
   "cell_type": "code",
   "execution_count": 48,
   "metadata": {},
   "outputs": [
    {
     "data": {
      "application/vnd.plotly.v1+json": {
       "config": {
        "plotlyServerURL": "https://plot.ly"
       },
       "data": [
        {
         "alignmentgroup": "True",
         "hovertemplate": "sector=%{x}<br>max_salary=%{y}<extra></extra>",
         "legendgroup": "",
         "marker": {
          "color": "#636efa",
          "pattern": {
           "shape": ""
          }
         },
         "name": "",
         "offsetgroup": "",
         "orientation": "v",
         "showlegend": false,
         "textposition": "auto",
         "type": "bar",
         "x": [
          "Mining & Metals",
          "Travel & Tourism",
          "Biotech & Pharmaceuticals",
          "Construction, Repair & Maintenance",
          "Non-Profit",
          "Arts, Entertainment & Recreation",
          "Consumer Services",
          "Media",
          "Aerospace & Defense",
          "Education",
          "Retail",
          "Transportation & Logistics",
          "Insurance",
          "Manufacturing",
          "Information Technology",
          "Health Care",
          "Government",
          "Oil, Gas, Energy & Utilities",
          "Real Estate",
          "Restaurants, Bars & Food Services",
          "Finance",
          "Telecommunications",
          "Business Services",
          "Accounting & Legal"
         ],
         "xaxis": "x",
         "y": [
          78000,
          67000,
          52000,
          52000,
          52000,
          48000,
          45000,
          45000,
          44000,
          44000,
          44000,
          42000,
          42000,
          38000,
          38000,
          38000,
          38000,
          38000,
          38000,
          38000,
          38000,
          38000,
          38000,
          38000
         ],
         "yaxis": "y"
        }
       ],
       "layout": {
        "barmode": "relative",
        "legend": {
         "tracegroupgap": 0
        },
        "margin": {
         "t": 60
        },
        "template": {
         "data": {
          "bar": [
           {
            "error_x": {
             "color": "#2a3f5f"
            },
            "error_y": {
             "color": "#2a3f5f"
            },
            "marker": {
             "line": {
              "color": "#E5ECF6",
              "width": 0.5
             },
             "pattern": {
              "fillmode": "overlay",
              "size": 10,
              "solidity": 0.2
             }
            },
            "type": "bar"
           }
          ],
          "barpolar": [
           {
            "marker": {
             "line": {
              "color": "#E5ECF6",
              "width": 0.5
             },
             "pattern": {
              "fillmode": "overlay",
              "size": 10,
              "solidity": 0.2
             }
            },
            "type": "barpolar"
           }
          ],
          "carpet": [
           {
            "aaxis": {
             "endlinecolor": "#2a3f5f",
             "gridcolor": "white",
             "linecolor": "white",
             "minorgridcolor": "white",
             "startlinecolor": "#2a3f5f"
            },
            "baxis": {
             "endlinecolor": "#2a3f5f",
             "gridcolor": "white",
             "linecolor": "white",
             "minorgridcolor": "white",
             "startlinecolor": "#2a3f5f"
            },
            "type": "carpet"
           }
          ],
          "choropleth": [
           {
            "colorbar": {
             "outlinewidth": 0,
             "ticks": ""
            },
            "type": "choropleth"
           }
          ],
          "contour": [
           {
            "colorbar": {
             "outlinewidth": 0,
             "ticks": ""
            },
            "colorscale": [
             [
              0,
              "#0d0887"
             ],
             [
              0.1111111111111111,
              "#46039f"
             ],
             [
              0.2222222222222222,
              "#7201a8"
             ],
             [
              0.3333333333333333,
              "#9c179e"
             ],
             [
              0.4444444444444444,
              "#bd3786"
             ],
             [
              0.5555555555555556,
              "#d8576b"
             ],
             [
              0.6666666666666666,
              "#ed7953"
             ],
             [
              0.7777777777777778,
              "#fb9f3a"
             ],
             [
              0.8888888888888888,
              "#fdca26"
             ],
             [
              1,
              "#f0f921"
             ]
            ],
            "type": "contour"
           }
          ],
          "contourcarpet": [
           {
            "colorbar": {
             "outlinewidth": 0,
             "ticks": ""
            },
            "type": "contourcarpet"
           }
          ],
          "heatmap": [
           {
            "colorbar": {
             "outlinewidth": 0,
             "ticks": ""
            },
            "colorscale": [
             [
              0,
              "#0d0887"
             ],
             [
              0.1111111111111111,
              "#46039f"
             ],
             [
              0.2222222222222222,
              "#7201a8"
             ],
             [
              0.3333333333333333,
              "#9c179e"
             ],
             [
              0.4444444444444444,
              "#bd3786"
             ],
             [
              0.5555555555555556,
              "#d8576b"
             ],
             [
              0.6666666666666666,
              "#ed7953"
             ],
             [
              0.7777777777777778,
              "#fb9f3a"
             ],
             [
              0.8888888888888888,
              "#fdca26"
             ],
             [
              1,
              "#f0f921"
             ]
            ],
            "type": "heatmap"
           }
          ],
          "heatmapgl": [
           {
            "colorbar": {
             "outlinewidth": 0,
             "ticks": ""
            },
            "colorscale": [
             [
              0,
              "#0d0887"
             ],
             [
              0.1111111111111111,
              "#46039f"
             ],
             [
              0.2222222222222222,
              "#7201a8"
             ],
             [
              0.3333333333333333,
              "#9c179e"
             ],
             [
              0.4444444444444444,
              "#bd3786"
             ],
             [
              0.5555555555555556,
              "#d8576b"
             ],
             [
              0.6666666666666666,
              "#ed7953"
             ],
             [
              0.7777777777777778,
              "#fb9f3a"
             ],
             [
              0.8888888888888888,
              "#fdca26"
             ],
             [
              1,
              "#f0f921"
             ]
            ],
            "type": "heatmapgl"
           }
          ],
          "histogram": [
           {
            "marker": {
             "pattern": {
              "fillmode": "overlay",
              "size": 10,
              "solidity": 0.2
             }
            },
            "type": "histogram"
           }
          ],
          "histogram2d": [
           {
            "colorbar": {
             "outlinewidth": 0,
             "ticks": ""
            },
            "colorscale": [
             [
              0,
              "#0d0887"
             ],
             [
              0.1111111111111111,
              "#46039f"
             ],
             [
              0.2222222222222222,
              "#7201a8"
             ],
             [
              0.3333333333333333,
              "#9c179e"
             ],
             [
              0.4444444444444444,
              "#bd3786"
             ],
             [
              0.5555555555555556,
              "#d8576b"
             ],
             [
              0.6666666666666666,
              "#ed7953"
             ],
             [
              0.7777777777777778,
              "#fb9f3a"
             ],
             [
              0.8888888888888888,
              "#fdca26"
             ],
             [
              1,
              "#f0f921"
             ]
            ],
            "type": "histogram2d"
           }
          ],
          "histogram2dcontour": [
           {
            "colorbar": {
             "outlinewidth": 0,
             "ticks": ""
            },
            "colorscale": [
             [
              0,
              "#0d0887"
             ],
             [
              0.1111111111111111,
              "#46039f"
             ],
             [
              0.2222222222222222,
              "#7201a8"
             ],
             [
              0.3333333333333333,
              "#9c179e"
             ],
             [
              0.4444444444444444,
              "#bd3786"
             ],
             [
              0.5555555555555556,
              "#d8576b"
             ],
             [
              0.6666666666666666,
              "#ed7953"
             ],
             [
              0.7777777777777778,
              "#fb9f3a"
             ],
             [
              0.8888888888888888,
              "#fdca26"
             ],
             [
              1,
              "#f0f921"
             ]
            ],
            "type": "histogram2dcontour"
           }
          ],
          "mesh3d": [
           {
            "colorbar": {
             "outlinewidth": 0,
             "ticks": ""
            },
            "type": "mesh3d"
           }
          ],
          "parcoords": [
           {
            "line": {
             "colorbar": {
              "outlinewidth": 0,
              "ticks": ""
             }
            },
            "type": "parcoords"
           }
          ],
          "pie": [
           {
            "automargin": true,
            "type": "pie"
           }
          ],
          "scatter": [
           {
            "fillpattern": {
             "fillmode": "overlay",
             "size": 10,
             "solidity": 0.2
            },
            "type": "scatter"
           }
          ],
          "scatter3d": [
           {
            "line": {
             "colorbar": {
              "outlinewidth": 0,
              "ticks": ""
             }
            },
            "marker": {
             "colorbar": {
              "outlinewidth": 0,
              "ticks": ""
             }
            },
            "type": "scatter3d"
           }
          ],
          "scattercarpet": [
           {
            "marker": {
             "colorbar": {
              "outlinewidth": 0,
              "ticks": ""
             }
            },
            "type": "scattercarpet"
           }
          ],
          "scattergeo": [
           {
            "marker": {
             "colorbar": {
              "outlinewidth": 0,
              "ticks": ""
             }
            },
            "type": "scattergeo"
           }
          ],
          "scattergl": [
           {
            "marker": {
             "colorbar": {
              "outlinewidth": 0,
              "ticks": ""
             }
            },
            "type": "scattergl"
           }
          ],
          "scattermapbox": [
           {
            "marker": {
             "colorbar": {
              "outlinewidth": 0,
              "ticks": ""
             }
            },
            "type": "scattermapbox"
           }
          ],
          "scatterpolar": [
           {
            "marker": {
             "colorbar": {
              "outlinewidth": 0,
              "ticks": ""
             }
            },
            "type": "scatterpolar"
           }
          ],
          "scatterpolargl": [
           {
            "marker": {
             "colorbar": {
              "outlinewidth": 0,
              "ticks": ""
             }
            },
            "type": "scatterpolargl"
           }
          ],
          "scatterternary": [
           {
            "marker": {
             "colorbar": {
              "outlinewidth": 0,
              "ticks": ""
             }
            },
            "type": "scatterternary"
           }
          ],
          "surface": [
           {
            "colorbar": {
             "outlinewidth": 0,
             "ticks": ""
            },
            "colorscale": [
             [
              0,
              "#0d0887"
             ],
             [
              0.1111111111111111,
              "#46039f"
             ],
             [
              0.2222222222222222,
              "#7201a8"
             ],
             [
              0.3333333333333333,
              "#9c179e"
             ],
             [
              0.4444444444444444,
              "#bd3786"
             ],
             [
              0.5555555555555556,
              "#d8576b"
             ],
             [
              0.6666666666666666,
              "#ed7953"
             ],
             [
              0.7777777777777778,
              "#fb9f3a"
             ],
             [
              0.8888888888888888,
              "#fdca26"
             ],
             [
              1,
              "#f0f921"
             ]
            ],
            "type": "surface"
           }
          ],
          "table": [
           {
            "cells": {
             "fill": {
              "color": "#EBF0F8"
             },
             "line": {
              "color": "white"
             }
            },
            "header": {
             "fill": {
              "color": "#C8D4E3"
             },
             "line": {
              "color": "white"
             }
            },
            "type": "table"
           }
          ]
         },
         "layout": {
          "annotationdefaults": {
           "arrowcolor": "#2a3f5f",
           "arrowhead": 0,
           "arrowwidth": 1
          },
          "autotypenumbers": "strict",
          "coloraxis": {
           "colorbar": {
            "outlinewidth": 0,
            "ticks": ""
           }
          },
          "colorscale": {
           "diverging": [
            [
             0,
             "#8e0152"
            ],
            [
             0.1,
             "#c51b7d"
            ],
            [
             0.2,
             "#de77ae"
            ],
            [
             0.3,
             "#f1b6da"
            ],
            [
             0.4,
             "#fde0ef"
            ],
            [
             0.5,
             "#f7f7f7"
            ],
            [
             0.6,
             "#e6f5d0"
            ],
            [
             0.7,
             "#b8e186"
            ],
            [
             0.8,
             "#7fbc41"
            ],
            [
             0.9,
             "#4d9221"
            ],
            [
             1,
             "#276419"
            ]
           ],
           "sequential": [
            [
             0,
             "#0d0887"
            ],
            [
             0.1111111111111111,
             "#46039f"
            ],
            [
             0.2222222222222222,
             "#7201a8"
            ],
            [
             0.3333333333333333,
             "#9c179e"
            ],
            [
             0.4444444444444444,
             "#bd3786"
            ],
            [
             0.5555555555555556,
             "#d8576b"
            ],
            [
             0.6666666666666666,
             "#ed7953"
            ],
            [
             0.7777777777777778,
             "#fb9f3a"
            ],
            [
             0.8888888888888888,
             "#fdca26"
            ],
            [
             1,
             "#f0f921"
            ]
           ],
           "sequentialminus": [
            [
             0,
             "#0d0887"
            ],
            [
             0.1111111111111111,
             "#46039f"
            ],
            [
             0.2222222222222222,
             "#7201a8"
            ],
            [
             0.3333333333333333,
             "#9c179e"
            ],
            [
             0.4444444444444444,
             "#bd3786"
            ],
            [
             0.5555555555555556,
             "#d8576b"
            ],
            [
             0.6666666666666666,
             "#ed7953"
            ],
            [
             0.7777777777777778,
             "#fb9f3a"
            ],
            [
             0.8888888888888888,
             "#fdca26"
            ],
            [
             1,
             "#f0f921"
            ]
           ]
          },
          "colorway": [
           "#636efa",
           "#EF553B",
           "#00cc96",
           "#ab63fa",
           "#FFA15A",
           "#19d3f3",
           "#FF6692",
           "#B6E880",
           "#FF97FF",
           "#FECB52"
          ],
          "font": {
           "color": "#2a3f5f"
          },
          "geo": {
           "bgcolor": "white",
           "lakecolor": "white",
           "landcolor": "#E5ECF6",
           "showlakes": true,
           "showland": true,
           "subunitcolor": "white"
          },
          "hoverlabel": {
           "align": "left"
          },
          "hovermode": "closest",
          "mapbox": {
           "style": "light"
          },
          "paper_bgcolor": "white",
          "plot_bgcolor": "#E5ECF6",
          "polar": {
           "angularaxis": {
            "gridcolor": "white",
            "linecolor": "white",
            "ticks": ""
           },
           "bgcolor": "#E5ECF6",
           "radialaxis": {
            "gridcolor": "white",
            "linecolor": "white",
            "ticks": ""
           }
          },
          "scene": {
           "xaxis": {
            "backgroundcolor": "#E5ECF6",
            "gridcolor": "white",
            "gridwidth": 2,
            "linecolor": "white",
            "showbackground": true,
            "ticks": "",
            "zerolinecolor": "white"
           },
           "yaxis": {
            "backgroundcolor": "#E5ECF6",
            "gridcolor": "white",
            "gridwidth": 2,
            "linecolor": "white",
            "showbackground": true,
            "ticks": "",
            "zerolinecolor": "white"
           },
           "zaxis": {
            "backgroundcolor": "#E5ECF6",
            "gridcolor": "white",
            "gridwidth": 2,
            "linecolor": "white",
            "showbackground": true,
            "ticks": "",
            "zerolinecolor": "white"
           }
          },
          "shapedefaults": {
           "line": {
            "color": "#2a3f5f"
           }
          },
          "ternary": {
           "aaxis": {
            "gridcolor": "white",
            "linecolor": "white",
            "ticks": ""
           },
           "baxis": {
            "gridcolor": "white",
            "linecolor": "white",
            "ticks": ""
           },
           "bgcolor": "#E5ECF6",
           "caxis": {
            "gridcolor": "white",
            "linecolor": "white",
            "ticks": ""
           }
          },
          "title": {
           "x": 0.05
          },
          "xaxis": {
           "automargin": true,
           "gridcolor": "white",
           "linecolor": "white",
           "ticks": "",
           "title": {
            "standoff": 15
           },
           "zerolinecolor": "white",
           "zerolinewidth": 2
          },
          "yaxis": {
           "automargin": true,
           "gridcolor": "white",
           "linecolor": "white",
           "ticks": "",
           "title": {
            "standoff": 15
           },
           "zerolinecolor": "white",
           "zerolinewidth": 2
          }
         }
        },
        "xaxis": {
         "anchor": "y",
         "domain": [
          0,
          1
         ],
         "title": {
          "text": "sector"
         }
        },
        "yaxis": {
         "anchor": "x",
         "domain": [
          0,
          1
         ],
         "title": {
          "text": "max_salary"
         }
        }
       }
      }
     },
     "metadata": {},
     "output_type": "display_data"
    }
   ],
   "source": [
    "px.bar(q2,x=\"sector\",y=\"max_salary\")"
   ]
  },
  {
   "cell_type": "markdown",
   "metadata": {},
   "source": [
    "#### What are the   lowest salaries in each sector?"
   ]
  },
  {
   "cell_type": "code",
   "execution_count": 52,
   "metadata": {},
   "outputs": [
    {
     "data": {
      "text/html": [
       "<div>\n",
       "<style scoped>\n",
       "    .dataframe tbody tr th:only-of-type {\n",
       "        vertical-align: middle;\n",
       "    }\n",
       "\n",
       "    .dataframe tbody tr th {\n",
       "        vertical-align: top;\n",
       "    }\n",
       "\n",
       "    .dataframe thead th {\n",
       "        text-align: right;\n",
       "    }\n",
       "</style>\n",
       "<table border=\"1\" class=\"dataframe\">\n",
       "  <thead>\n",
       "    <tr style=\"text-align: right;\">\n",
       "      <th></th>\n",
       "      <th>sector</th>\n",
       "      <th>minmum_salary</th>\n",
       "    </tr>\n",
       "  </thead>\n",
       "  <tbody>\n",
       "    <tr>\n",
       "      <th>0</th>\n",
       "      <td>Travel &amp; Tourism</td>\n",
       "      <td>57000</td>\n",
       "    </tr>\n",
       "    <tr>\n",
       "      <th>1</th>\n",
       "      <td>Mining &amp; Metals</td>\n",
       "      <td>41000</td>\n",
       "    </tr>\n",
       "    <tr>\n",
       "      <th>2</th>\n",
       "      <td>Consumer Services</td>\n",
       "      <td>35000</td>\n",
       "    </tr>\n",
       "    <tr>\n",
       "      <th>3</th>\n",
       "      <td>Aerospace &amp; Defense</td>\n",
       "      <td>34000</td>\n",
       "    </tr>\n",
       "    <tr>\n",
       "      <th>4</th>\n",
       "      <td>Restaurants, Bars &amp; Food Services</td>\n",
       "      <td>29000</td>\n",
       "    </tr>\n",
       "    <tr>\n",
       "      <th>5</th>\n",
       "      <td>Real Estate</td>\n",
       "      <td>29000</td>\n",
       "    </tr>\n",
       "    <tr>\n",
       "      <th>6</th>\n",
       "      <td>Transportation &amp; Logistics</td>\n",
       "      <td>28000</td>\n",
       "    </tr>\n",
       "    <tr>\n",
       "      <th>7</th>\n",
       "      <td>Accounting &amp; Legal</td>\n",
       "      <td>28000</td>\n",
       "    </tr>\n",
       "    <tr>\n",
       "      <th>8</th>\n",
       "      <td>Construction, Repair &amp; Maintenance</td>\n",
       "      <td>27000</td>\n",
       "    </tr>\n",
       "    <tr>\n",
       "      <th>9</th>\n",
       "      <td>Non-Profit</td>\n",
       "      <td>27000</td>\n",
       "    </tr>\n",
       "    <tr>\n",
       "      <th>10</th>\n",
       "      <td>Biotech &amp; Pharmaceuticals</td>\n",
       "      <td>27000</td>\n",
       "    </tr>\n",
       "    <tr>\n",
       "      <th>11</th>\n",
       "      <td>Insurance</td>\n",
       "      <td>27000</td>\n",
       "    </tr>\n",
       "    <tr>\n",
       "      <th>12</th>\n",
       "      <td>Education</td>\n",
       "      <td>26000</td>\n",
       "    </tr>\n",
       "    <tr>\n",
       "      <th>13</th>\n",
       "      <td>Manufacturing</td>\n",
       "      <td>26000</td>\n",
       "    </tr>\n",
       "    <tr>\n",
       "      <th>14</th>\n",
       "      <td>Oil, Gas, Energy &amp; Utilities</td>\n",
       "      <td>26000</td>\n",
       "    </tr>\n",
       "    <tr>\n",
       "      <th>15</th>\n",
       "      <td>Finance</td>\n",
       "      <td>24000</td>\n",
       "    </tr>\n",
       "    <tr>\n",
       "      <th>16</th>\n",
       "      <td>Government</td>\n",
       "      <td>24000</td>\n",
       "    </tr>\n",
       "    <tr>\n",
       "      <th>17</th>\n",
       "      <td>Health Care</td>\n",
       "      <td>24000</td>\n",
       "    </tr>\n",
       "    <tr>\n",
       "      <th>18</th>\n",
       "      <td>Information Technology</td>\n",
       "      <td>24000</td>\n",
       "    </tr>\n",
       "    <tr>\n",
       "      <th>19</th>\n",
       "      <td>Media</td>\n",
       "      <td>24000</td>\n",
       "    </tr>\n",
       "    <tr>\n",
       "      <th>20</th>\n",
       "      <td>Business Services</td>\n",
       "      <td>24000</td>\n",
       "    </tr>\n",
       "    <tr>\n",
       "      <th>21</th>\n",
       "      <td>Retail</td>\n",
       "      <td>24000</td>\n",
       "    </tr>\n",
       "    <tr>\n",
       "      <th>22</th>\n",
       "      <td>Telecommunications</td>\n",
       "      <td>24000</td>\n",
       "    </tr>\n",
       "    <tr>\n",
       "      <th>23</th>\n",
       "      <td>Arts, Entertainment &amp; Recreation</td>\n",
       "      <td>24000</td>\n",
       "    </tr>\n",
       "  </tbody>\n",
       "</table>\n",
       "</div>"
      ],
      "text/plain": [
       "                                sector  minmum_salary\n",
       "0                     Travel & Tourism          57000\n",
       "1                      Mining & Metals          41000\n",
       "2                    Consumer Services          35000\n",
       "3                  Aerospace & Defense          34000\n",
       "4    Restaurants, Bars & Food Services          29000\n",
       "5                          Real Estate          29000\n",
       "6           Transportation & Logistics          28000\n",
       "7                   Accounting & Legal          28000\n",
       "8   Construction, Repair & Maintenance          27000\n",
       "9                           Non-Profit          27000\n",
       "10           Biotech & Pharmaceuticals          27000\n",
       "11                           Insurance          27000\n",
       "12                           Education          26000\n",
       "13                       Manufacturing          26000\n",
       "14        Oil, Gas, Energy & Utilities          26000\n",
       "15                             Finance          24000\n",
       "16                          Government          24000\n",
       "17                         Health Care          24000\n",
       "18              Information Technology          24000\n",
       "19                               Media          24000\n",
       "20                   Business Services          24000\n",
       "21                              Retail          24000\n",
       "22                  Telecommunications          24000\n",
       "23    Arts, Entertainment & Recreation          24000"
      ]
     },
     "execution_count": 52,
     "metadata": {},
     "output_type": "execute_result"
    }
   ],
   "source": [
    "q3=df.groupby(\"sector\")[\"minmum_salary\"].min().sort_values(ascending=False).reset_index()\n",
    "q3"
   ]
  },
  {
   "cell_type": "code",
   "execution_count": 53,
   "metadata": {},
   "outputs": [
    {
     "data": {
      "application/vnd.plotly.v1+json": {
       "config": {
        "plotlyServerURL": "https://plot.ly"
       },
       "data": [
        {
         "alignmentgroup": "True",
         "hovertemplate": "sector=%{x}<br>minmum_salary=%{y}<extra></extra>",
         "legendgroup": "",
         "marker": {
          "color": "#636efa",
          "pattern": {
           "shape": ""
          }
         },
         "name": "",
         "offsetgroup": "",
         "orientation": "v",
         "showlegend": false,
         "textposition": "auto",
         "type": "bar",
         "x": [
          "Travel & Tourism",
          "Mining & Metals",
          "Consumer Services",
          "Aerospace & Defense",
          "Restaurants, Bars & Food Services",
          "Real Estate",
          "Transportation & Logistics",
          "Accounting & Legal",
          "Construction, Repair & Maintenance",
          "Non-Profit",
          "Biotech & Pharmaceuticals",
          "Insurance",
          "Education",
          "Manufacturing",
          "Oil, Gas, Energy & Utilities",
          "Finance",
          "Government",
          "Health Care",
          "Information Technology",
          "Media",
          "Business Services",
          "Retail",
          "Telecommunications",
          "Arts, Entertainment & Recreation"
         ],
         "xaxis": "x",
         "y": [
          57000,
          41000,
          35000,
          34000,
          29000,
          29000,
          28000,
          28000,
          27000,
          27000,
          27000,
          27000,
          26000,
          26000,
          26000,
          24000,
          24000,
          24000,
          24000,
          24000,
          24000,
          24000,
          24000,
          24000
         ],
         "yaxis": "y"
        }
       ],
       "layout": {
        "barmode": "relative",
        "legend": {
         "tracegroupgap": 0
        },
        "margin": {
         "t": 60
        },
        "template": {
         "data": {
          "bar": [
           {
            "error_x": {
             "color": "#2a3f5f"
            },
            "error_y": {
             "color": "#2a3f5f"
            },
            "marker": {
             "line": {
              "color": "#E5ECF6",
              "width": 0.5
             },
             "pattern": {
              "fillmode": "overlay",
              "size": 10,
              "solidity": 0.2
             }
            },
            "type": "bar"
           }
          ],
          "barpolar": [
           {
            "marker": {
             "line": {
              "color": "#E5ECF6",
              "width": 0.5
             },
             "pattern": {
              "fillmode": "overlay",
              "size": 10,
              "solidity": 0.2
             }
            },
            "type": "barpolar"
           }
          ],
          "carpet": [
           {
            "aaxis": {
             "endlinecolor": "#2a3f5f",
             "gridcolor": "white",
             "linecolor": "white",
             "minorgridcolor": "white",
             "startlinecolor": "#2a3f5f"
            },
            "baxis": {
             "endlinecolor": "#2a3f5f",
             "gridcolor": "white",
             "linecolor": "white",
             "minorgridcolor": "white",
             "startlinecolor": "#2a3f5f"
            },
            "type": "carpet"
           }
          ],
          "choropleth": [
           {
            "colorbar": {
             "outlinewidth": 0,
             "ticks": ""
            },
            "type": "choropleth"
           }
          ],
          "contour": [
           {
            "colorbar": {
             "outlinewidth": 0,
             "ticks": ""
            },
            "colorscale": [
             [
              0,
              "#0d0887"
             ],
             [
              0.1111111111111111,
              "#46039f"
             ],
             [
              0.2222222222222222,
              "#7201a8"
             ],
             [
              0.3333333333333333,
              "#9c179e"
             ],
             [
              0.4444444444444444,
              "#bd3786"
             ],
             [
              0.5555555555555556,
              "#d8576b"
             ],
             [
              0.6666666666666666,
              "#ed7953"
             ],
             [
              0.7777777777777778,
              "#fb9f3a"
             ],
             [
              0.8888888888888888,
              "#fdca26"
             ],
             [
              1,
              "#f0f921"
             ]
            ],
            "type": "contour"
           }
          ],
          "contourcarpet": [
           {
            "colorbar": {
             "outlinewidth": 0,
             "ticks": ""
            },
            "type": "contourcarpet"
           }
          ],
          "heatmap": [
           {
            "colorbar": {
             "outlinewidth": 0,
             "ticks": ""
            },
            "colorscale": [
             [
              0,
              "#0d0887"
             ],
             [
              0.1111111111111111,
              "#46039f"
             ],
             [
              0.2222222222222222,
              "#7201a8"
             ],
             [
              0.3333333333333333,
              "#9c179e"
             ],
             [
              0.4444444444444444,
              "#bd3786"
             ],
             [
              0.5555555555555556,
              "#d8576b"
             ],
             [
              0.6666666666666666,
              "#ed7953"
             ],
             [
              0.7777777777777778,
              "#fb9f3a"
             ],
             [
              0.8888888888888888,
              "#fdca26"
             ],
             [
              1,
              "#f0f921"
             ]
            ],
            "type": "heatmap"
           }
          ],
          "heatmapgl": [
           {
            "colorbar": {
             "outlinewidth": 0,
             "ticks": ""
            },
            "colorscale": [
             [
              0,
              "#0d0887"
             ],
             [
              0.1111111111111111,
              "#46039f"
             ],
             [
              0.2222222222222222,
              "#7201a8"
             ],
             [
              0.3333333333333333,
              "#9c179e"
             ],
             [
              0.4444444444444444,
              "#bd3786"
             ],
             [
              0.5555555555555556,
              "#d8576b"
             ],
             [
              0.6666666666666666,
              "#ed7953"
             ],
             [
              0.7777777777777778,
              "#fb9f3a"
             ],
             [
              0.8888888888888888,
              "#fdca26"
             ],
             [
              1,
              "#f0f921"
             ]
            ],
            "type": "heatmapgl"
           }
          ],
          "histogram": [
           {
            "marker": {
             "pattern": {
              "fillmode": "overlay",
              "size": 10,
              "solidity": 0.2
             }
            },
            "type": "histogram"
           }
          ],
          "histogram2d": [
           {
            "colorbar": {
             "outlinewidth": 0,
             "ticks": ""
            },
            "colorscale": [
             [
              0,
              "#0d0887"
             ],
             [
              0.1111111111111111,
              "#46039f"
             ],
             [
              0.2222222222222222,
              "#7201a8"
             ],
             [
              0.3333333333333333,
              "#9c179e"
             ],
             [
              0.4444444444444444,
              "#bd3786"
             ],
             [
              0.5555555555555556,
              "#d8576b"
             ],
             [
              0.6666666666666666,
              "#ed7953"
             ],
             [
              0.7777777777777778,
              "#fb9f3a"
             ],
             [
              0.8888888888888888,
              "#fdca26"
             ],
             [
              1,
              "#f0f921"
             ]
            ],
            "type": "histogram2d"
           }
          ],
          "histogram2dcontour": [
           {
            "colorbar": {
             "outlinewidth": 0,
             "ticks": ""
            },
            "colorscale": [
             [
              0,
              "#0d0887"
             ],
             [
              0.1111111111111111,
              "#46039f"
             ],
             [
              0.2222222222222222,
              "#7201a8"
             ],
             [
              0.3333333333333333,
              "#9c179e"
             ],
             [
              0.4444444444444444,
              "#bd3786"
             ],
             [
              0.5555555555555556,
              "#d8576b"
             ],
             [
              0.6666666666666666,
              "#ed7953"
             ],
             [
              0.7777777777777778,
              "#fb9f3a"
             ],
             [
              0.8888888888888888,
              "#fdca26"
             ],
             [
              1,
              "#f0f921"
             ]
            ],
            "type": "histogram2dcontour"
           }
          ],
          "mesh3d": [
           {
            "colorbar": {
             "outlinewidth": 0,
             "ticks": ""
            },
            "type": "mesh3d"
           }
          ],
          "parcoords": [
           {
            "line": {
             "colorbar": {
              "outlinewidth": 0,
              "ticks": ""
             }
            },
            "type": "parcoords"
           }
          ],
          "pie": [
           {
            "automargin": true,
            "type": "pie"
           }
          ],
          "scatter": [
           {
            "fillpattern": {
             "fillmode": "overlay",
             "size": 10,
             "solidity": 0.2
            },
            "type": "scatter"
           }
          ],
          "scatter3d": [
           {
            "line": {
             "colorbar": {
              "outlinewidth": 0,
              "ticks": ""
             }
            },
            "marker": {
             "colorbar": {
              "outlinewidth": 0,
              "ticks": ""
             }
            },
            "type": "scatter3d"
           }
          ],
          "scattercarpet": [
           {
            "marker": {
             "colorbar": {
              "outlinewidth": 0,
              "ticks": ""
             }
            },
            "type": "scattercarpet"
           }
          ],
          "scattergeo": [
           {
            "marker": {
             "colorbar": {
              "outlinewidth": 0,
              "ticks": ""
             }
            },
            "type": "scattergeo"
           }
          ],
          "scattergl": [
           {
            "marker": {
             "colorbar": {
              "outlinewidth": 0,
              "ticks": ""
             }
            },
            "type": "scattergl"
           }
          ],
          "scattermapbox": [
           {
            "marker": {
             "colorbar": {
              "outlinewidth": 0,
              "ticks": ""
             }
            },
            "type": "scattermapbox"
           }
          ],
          "scatterpolar": [
           {
            "marker": {
             "colorbar": {
              "outlinewidth": 0,
              "ticks": ""
             }
            },
            "type": "scatterpolar"
           }
          ],
          "scatterpolargl": [
           {
            "marker": {
             "colorbar": {
              "outlinewidth": 0,
              "ticks": ""
             }
            },
            "type": "scatterpolargl"
           }
          ],
          "scatterternary": [
           {
            "marker": {
             "colorbar": {
              "outlinewidth": 0,
              "ticks": ""
             }
            },
            "type": "scatterternary"
           }
          ],
          "surface": [
           {
            "colorbar": {
             "outlinewidth": 0,
             "ticks": ""
            },
            "colorscale": [
             [
              0,
              "#0d0887"
             ],
             [
              0.1111111111111111,
              "#46039f"
             ],
             [
              0.2222222222222222,
              "#7201a8"
             ],
             [
              0.3333333333333333,
              "#9c179e"
             ],
             [
              0.4444444444444444,
              "#bd3786"
             ],
             [
              0.5555555555555556,
              "#d8576b"
             ],
             [
              0.6666666666666666,
              "#ed7953"
             ],
             [
              0.7777777777777778,
              "#fb9f3a"
             ],
             [
              0.8888888888888888,
              "#fdca26"
             ],
             [
              1,
              "#f0f921"
             ]
            ],
            "type": "surface"
           }
          ],
          "table": [
           {
            "cells": {
             "fill": {
              "color": "#EBF0F8"
             },
             "line": {
              "color": "white"
             }
            },
            "header": {
             "fill": {
              "color": "#C8D4E3"
             },
             "line": {
              "color": "white"
             }
            },
            "type": "table"
           }
          ]
         },
         "layout": {
          "annotationdefaults": {
           "arrowcolor": "#2a3f5f",
           "arrowhead": 0,
           "arrowwidth": 1
          },
          "autotypenumbers": "strict",
          "coloraxis": {
           "colorbar": {
            "outlinewidth": 0,
            "ticks": ""
           }
          },
          "colorscale": {
           "diverging": [
            [
             0,
             "#8e0152"
            ],
            [
             0.1,
             "#c51b7d"
            ],
            [
             0.2,
             "#de77ae"
            ],
            [
             0.3,
             "#f1b6da"
            ],
            [
             0.4,
             "#fde0ef"
            ],
            [
             0.5,
             "#f7f7f7"
            ],
            [
             0.6,
             "#e6f5d0"
            ],
            [
             0.7,
             "#b8e186"
            ],
            [
             0.8,
             "#7fbc41"
            ],
            [
             0.9,
             "#4d9221"
            ],
            [
             1,
             "#276419"
            ]
           ],
           "sequential": [
            [
             0,
             "#0d0887"
            ],
            [
             0.1111111111111111,
             "#46039f"
            ],
            [
             0.2222222222222222,
             "#7201a8"
            ],
            [
             0.3333333333333333,
             "#9c179e"
            ],
            [
             0.4444444444444444,
             "#bd3786"
            ],
            [
             0.5555555555555556,
             "#d8576b"
            ],
            [
             0.6666666666666666,
             "#ed7953"
            ],
            [
             0.7777777777777778,
             "#fb9f3a"
            ],
            [
             0.8888888888888888,
             "#fdca26"
            ],
            [
             1,
             "#f0f921"
            ]
           ],
           "sequentialminus": [
            [
             0,
             "#0d0887"
            ],
            [
             0.1111111111111111,
             "#46039f"
            ],
            [
             0.2222222222222222,
             "#7201a8"
            ],
            [
             0.3333333333333333,
             "#9c179e"
            ],
            [
             0.4444444444444444,
             "#bd3786"
            ],
            [
             0.5555555555555556,
             "#d8576b"
            ],
            [
             0.6666666666666666,
             "#ed7953"
            ],
            [
             0.7777777777777778,
             "#fb9f3a"
            ],
            [
             0.8888888888888888,
             "#fdca26"
            ],
            [
             1,
             "#f0f921"
            ]
           ]
          },
          "colorway": [
           "#636efa",
           "#EF553B",
           "#00cc96",
           "#ab63fa",
           "#FFA15A",
           "#19d3f3",
           "#FF6692",
           "#B6E880",
           "#FF97FF",
           "#FECB52"
          ],
          "font": {
           "color": "#2a3f5f"
          },
          "geo": {
           "bgcolor": "white",
           "lakecolor": "white",
           "landcolor": "#E5ECF6",
           "showlakes": true,
           "showland": true,
           "subunitcolor": "white"
          },
          "hoverlabel": {
           "align": "left"
          },
          "hovermode": "closest",
          "mapbox": {
           "style": "light"
          },
          "paper_bgcolor": "white",
          "plot_bgcolor": "#E5ECF6",
          "polar": {
           "angularaxis": {
            "gridcolor": "white",
            "linecolor": "white",
            "ticks": ""
           },
           "bgcolor": "#E5ECF6",
           "radialaxis": {
            "gridcolor": "white",
            "linecolor": "white",
            "ticks": ""
           }
          },
          "scene": {
           "xaxis": {
            "backgroundcolor": "#E5ECF6",
            "gridcolor": "white",
            "gridwidth": 2,
            "linecolor": "white",
            "showbackground": true,
            "ticks": "",
            "zerolinecolor": "white"
           },
           "yaxis": {
            "backgroundcolor": "#E5ECF6",
            "gridcolor": "white",
            "gridwidth": 2,
            "linecolor": "white",
            "showbackground": true,
            "ticks": "",
            "zerolinecolor": "white"
           },
           "zaxis": {
            "backgroundcolor": "#E5ECF6",
            "gridcolor": "white",
            "gridwidth": 2,
            "linecolor": "white",
            "showbackground": true,
            "ticks": "",
            "zerolinecolor": "white"
           }
          },
          "shapedefaults": {
           "line": {
            "color": "#2a3f5f"
           }
          },
          "ternary": {
           "aaxis": {
            "gridcolor": "white",
            "linecolor": "white",
            "ticks": ""
           },
           "baxis": {
            "gridcolor": "white",
            "linecolor": "white",
            "ticks": ""
           },
           "bgcolor": "#E5ECF6",
           "caxis": {
            "gridcolor": "white",
            "linecolor": "white",
            "ticks": ""
           }
          },
          "title": {
           "x": 0.05
          },
          "xaxis": {
           "automargin": true,
           "gridcolor": "white",
           "linecolor": "white",
           "ticks": "",
           "title": {
            "standoff": 15
           },
           "zerolinecolor": "white",
           "zerolinewidth": 2
          },
          "yaxis": {
           "automargin": true,
           "gridcolor": "white",
           "linecolor": "white",
           "ticks": "",
           "title": {
            "standoff": 15
           },
           "zerolinecolor": "white",
           "zerolinewidth": 2
          }
         }
        },
        "xaxis": {
         "anchor": "y",
         "domain": [
          0,
          1
         ],
         "title": {
          "text": "sector"
         }
        },
        "yaxis": {
         "anchor": "x",
         "domain": [
          0,
          1
         ],
         "title": {
          "text": "minmum_salary"
         }
        }
       }
      }
     },
     "metadata": {},
     "output_type": "display_data"
    }
   ],
   "source": [
    "px.bar(q3,x=\"sector\",y=\"minmum_salary\")"
   ]
  },
  {
   "cell_type": "markdown",
   "metadata": {},
   "source": [
    "#### Which cities (location) have the most jobs?"
   ]
  },
  {
   "cell_type": "code",
   "execution_count": 57,
   "metadata": {},
   "outputs": [
    {
     "data": {
      "text/html": [
       "<div>\n",
       "<style scoped>\n",
       "    .dataframe tbody tr th:only-of-type {\n",
       "        vertical-align: middle;\n",
       "    }\n",
       "\n",
       "    .dataframe tbody tr th {\n",
       "        vertical-align: top;\n",
       "    }\n",
       "\n",
       "    .dataframe thead th {\n",
       "        text-align: right;\n",
       "    }\n",
       "</style>\n",
       "<table border=\"1\" class=\"dataframe\">\n",
       "  <thead>\n",
       "    <tr style=\"text-align: right;\">\n",
       "      <th></th>\n",
       "      <th>location</th>\n",
       "      <th>count</th>\n",
       "    </tr>\n",
       "  </thead>\n",
       "  <tbody>\n",
       "    <tr>\n",
       "      <th>0</th>\n",
       "      <td>New York, NY</td>\n",
       "      <td>310</td>\n",
       "    </tr>\n",
       "    <tr>\n",
       "      <th>1</th>\n",
       "      <td>Chicago, IL</td>\n",
       "      <td>130</td>\n",
       "    </tr>\n",
       "    <tr>\n",
       "      <th>2</th>\n",
       "      <td>San Francisco, CA</td>\n",
       "      <td>119</td>\n",
       "    </tr>\n",
       "    <tr>\n",
       "      <th>3</th>\n",
       "      <td>Austin, TX</td>\n",
       "      <td>81</td>\n",
       "    </tr>\n",
       "    <tr>\n",
       "      <th>4</th>\n",
       "      <td>Los Angeles, CA</td>\n",
       "      <td>80</td>\n",
       "    </tr>\n",
       "  </tbody>\n",
       "</table>\n",
       "</div>"
      ],
      "text/plain": [
       "            location  count\n",
       "0       New York, NY    310\n",
       "1        Chicago, IL    130\n",
       "2  San Francisco, CA    119\n",
       "3         Austin, TX     81\n",
       "4    Los Angeles, CA     80"
      ]
     },
     "execution_count": 57,
     "metadata": {},
     "output_type": "execute_result"
    }
   ],
   "source": [
    "q4=df[\"location\"].value_counts().reset_index().head(5)\n",
    "q4"
   ]
  },
  {
   "cell_type": "code",
   "execution_count": 59,
   "metadata": {},
   "outputs": [
    {
     "data": {
      "application/vnd.plotly.v1+json": {
       "config": {
        "plotlyServerURL": "https://plot.ly"
       },
       "data": [
        {
         "domain": {
          "x": [
           0,
           1
          ],
          "y": [
           0,
           1
          ]
         },
         "hovertemplate": "location=%{label}<extra></extra>",
         "labels": [
          "New York, NY",
          "Chicago, IL",
          "San Francisco, CA",
          "Austin, TX",
          "Los Angeles, CA"
         ],
         "legendgroup": "",
         "name": "",
         "showlegend": true,
         "type": "pie"
        }
       ],
       "layout": {
        "legend": {
         "tracegroupgap": 0
        },
        "margin": {
         "t": 60
        },
        "template": {
         "data": {
          "bar": [
           {
            "error_x": {
             "color": "#2a3f5f"
            },
            "error_y": {
             "color": "#2a3f5f"
            },
            "marker": {
             "line": {
              "color": "#E5ECF6",
              "width": 0.5
             },
             "pattern": {
              "fillmode": "overlay",
              "size": 10,
              "solidity": 0.2
             }
            },
            "type": "bar"
           }
          ],
          "barpolar": [
           {
            "marker": {
             "line": {
              "color": "#E5ECF6",
              "width": 0.5
             },
             "pattern": {
              "fillmode": "overlay",
              "size": 10,
              "solidity": 0.2
             }
            },
            "type": "barpolar"
           }
          ],
          "carpet": [
           {
            "aaxis": {
             "endlinecolor": "#2a3f5f",
             "gridcolor": "white",
             "linecolor": "white",
             "minorgridcolor": "white",
             "startlinecolor": "#2a3f5f"
            },
            "baxis": {
             "endlinecolor": "#2a3f5f",
             "gridcolor": "white",
             "linecolor": "white",
             "minorgridcolor": "white",
             "startlinecolor": "#2a3f5f"
            },
            "type": "carpet"
           }
          ],
          "choropleth": [
           {
            "colorbar": {
             "outlinewidth": 0,
             "ticks": ""
            },
            "type": "choropleth"
           }
          ],
          "contour": [
           {
            "colorbar": {
             "outlinewidth": 0,
             "ticks": ""
            },
            "colorscale": [
             [
              0,
              "#0d0887"
             ],
             [
              0.1111111111111111,
              "#46039f"
             ],
             [
              0.2222222222222222,
              "#7201a8"
             ],
             [
              0.3333333333333333,
              "#9c179e"
             ],
             [
              0.4444444444444444,
              "#bd3786"
             ],
             [
              0.5555555555555556,
              "#d8576b"
             ],
             [
              0.6666666666666666,
              "#ed7953"
             ],
             [
              0.7777777777777778,
              "#fb9f3a"
             ],
             [
              0.8888888888888888,
              "#fdca26"
             ],
             [
              1,
              "#f0f921"
             ]
            ],
            "type": "contour"
           }
          ],
          "contourcarpet": [
           {
            "colorbar": {
             "outlinewidth": 0,
             "ticks": ""
            },
            "type": "contourcarpet"
           }
          ],
          "heatmap": [
           {
            "colorbar": {
             "outlinewidth": 0,
             "ticks": ""
            },
            "colorscale": [
             [
              0,
              "#0d0887"
             ],
             [
              0.1111111111111111,
              "#46039f"
             ],
             [
              0.2222222222222222,
              "#7201a8"
             ],
             [
              0.3333333333333333,
              "#9c179e"
             ],
             [
              0.4444444444444444,
              "#bd3786"
             ],
             [
              0.5555555555555556,
              "#d8576b"
             ],
             [
              0.6666666666666666,
              "#ed7953"
             ],
             [
              0.7777777777777778,
              "#fb9f3a"
             ],
             [
              0.8888888888888888,
              "#fdca26"
             ],
             [
              1,
              "#f0f921"
             ]
            ],
            "type": "heatmap"
           }
          ],
          "heatmapgl": [
           {
            "colorbar": {
             "outlinewidth": 0,
             "ticks": ""
            },
            "colorscale": [
             [
              0,
              "#0d0887"
             ],
             [
              0.1111111111111111,
              "#46039f"
             ],
             [
              0.2222222222222222,
              "#7201a8"
             ],
             [
              0.3333333333333333,
              "#9c179e"
             ],
             [
              0.4444444444444444,
              "#bd3786"
             ],
             [
              0.5555555555555556,
              "#d8576b"
             ],
             [
              0.6666666666666666,
              "#ed7953"
             ],
             [
              0.7777777777777778,
              "#fb9f3a"
             ],
             [
              0.8888888888888888,
              "#fdca26"
             ],
             [
              1,
              "#f0f921"
             ]
            ],
            "type": "heatmapgl"
           }
          ],
          "histogram": [
           {
            "marker": {
             "pattern": {
              "fillmode": "overlay",
              "size": 10,
              "solidity": 0.2
             }
            },
            "type": "histogram"
           }
          ],
          "histogram2d": [
           {
            "colorbar": {
             "outlinewidth": 0,
             "ticks": ""
            },
            "colorscale": [
             [
              0,
              "#0d0887"
             ],
             [
              0.1111111111111111,
              "#46039f"
             ],
             [
              0.2222222222222222,
              "#7201a8"
             ],
             [
              0.3333333333333333,
              "#9c179e"
             ],
             [
              0.4444444444444444,
              "#bd3786"
             ],
             [
              0.5555555555555556,
              "#d8576b"
             ],
             [
              0.6666666666666666,
              "#ed7953"
             ],
             [
              0.7777777777777778,
              "#fb9f3a"
             ],
             [
              0.8888888888888888,
              "#fdca26"
             ],
             [
              1,
              "#f0f921"
             ]
            ],
            "type": "histogram2d"
           }
          ],
          "histogram2dcontour": [
           {
            "colorbar": {
             "outlinewidth": 0,
             "ticks": ""
            },
            "colorscale": [
             [
              0,
              "#0d0887"
             ],
             [
              0.1111111111111111,
              "#46039f"
             ],
             [
              0.2222222222222222,
              "#7201a8"
             ],
             [
              0.3333333333333333,
              "#9c179e"
             ],
             [
              0.4444444444444444,
              "#bd3786"
             ],
             [
              0.5555555555555556,
              "#d8576b"
             ],
             [
              0.6666666666666666,
              "#ed7953"
             ],
             [
              0.7777777777777778,
              "#fb9f3a"
             ],
             [
              0.8888888888888888,
              "#fdca26"
             ],
             [
              1,
              "#f0f921"
             ]
            ],
            "type": "histogram2dcontour"
           }
          ],
          "mesh3d": [
           {
            "colorbar": {
             "outlinewidth": 0,
             "ticks": ""
            },
            "type": "mesh3d"
           }
          ],
          "parcoords": [
           {
            "line": {
             "colorbar": {
              "outlinewidth": 0,
              "ticks": ""
             }
            },
            "type": "parcoords"
           }
          ],
          "pie": [
           {
            "automargin": true,
            "type": "pie"
           }
          ],
          "scatter": [
           {
            "fillpattern": {
             "fillmode": "overlay",
             "size": 10,
             "solidity": 0.2
            },
            "type": "scatter"
           }
          ],
          "scatter3d": [
           {
            "line": {
             "colorbar": {
              "outlinewidth": 0,
              "ticks": ""
             }
            },
            "marker": {
             "colorbar": {
              "outlinewidth": 0,
              "ticks": ""
             }
            },
            "type": "scatter3d"
           }
          ],
          "scattercarpet": [
           {
            "marker": {
             "colorbar": {
              "outlinewidth": 0,
              "ticks": ""
             }
            },
            "type": "scattercarpet"
           }
          ],
          "scattergeo": [
           {
            "marker": {
             "colorbar": {
              "outlinewidth": 0,
              "ticks": ""
             }
            },
            "type": "scattergeo"
           }
          ],
          "scattergl": [
           {
            "marker": {
             "colorbar": {
              "outlinewidth": 0,
              "ticks": ""
             }
            },
            "type": "scattergl"
           }
          ],
          "scattermapbox": [
           {
            "marker": {
             "colorbar": {
              "outlinewidth": 0,
              "ticks": ""
             }
            },
            "type": "scattermapbox"
           }
          ],
          "scatterpolar": [
           {
            "marker": {
             "colorbar": {
              "outlinewidth": 0,
              "ticks": ""
             }
            },
            "type": "scatterpolar"
           }
          ],
          "scatterpolargl": [
           {
            "marker": {
             "colorbar": {
              "outlinewidth": 0,
              "ticks": ""
             }
            },
            "type": "scatterpolargl"
           }
          ],
          "scatterternary": [
           {
            "marker": {
             "colorbar": {
              "outlinewidth": 0,
              "ticks": ""
             }
            },
            "type": "scatterternary"
           }
          ],
          "surface": [
           {
            "colorbar": {
             "outlinewidth": 0,
             "ticks": ""
            },
            "colorscale": [
             [
              0,
              "#0d0887"
             ],
             [
              0.1111111111111111,
              "#46039f"
             ],
             [
              0.2222222222222222,
              "#7201a8"
             ],
             [
              0.3333333333333333,
              "#9c179e"
             ],
             [
              0.4444444444444444,
              "#bd3786"
             ],
             [
              0.5555555555555556,
              "#d8576b"
             ],
             [
              0.6666666666666666,
              "#ed7953"
             ],
             [
              0.7777777777777778,
              "#fb9f3a"
             ],
             [
              0.8888888888888888,
              "#fdca26"
             ],
             [
              1,
              "#f0f921"
             ]
            ],
            "type": "surface"
           }
          ],
          "table": [
           {
            "cells": {
             "fill": {
              "color": "#EBF0F8"
             },
             "line": {
              "color": "white"
             }
            },
            "header": {
             "fill": {
              "color": "#C8D4E3"
             },
             "line": {
              "color": "white"
             }
            },
            "type": "table"
           }
          ]
         },
         "layout": {
          "annotationdefaults": {
           "arrowcolor": "#2a3f5f",
           "arrowhead": 0,
           "arrowwidth": 1
          },
          "autotypenumbers": "strict",
          "coloraxis": {
           "colorbar": {
            "outlinewidth": 0,
            "ticks": ""
           }
          },
          "colorscale": {
           "diverging": [
            [
             0,
             "#8e0152"
            ],
            [
             0.1,
             "#c51b7d"
            ],
            [
             0.2,
             "#de77ae"
            ],
            [
             0.3,
             "#f1b6da"
            ],
            [
             0.4,
             "#fde0ef"
            ],
            [
             0.5,
             "#f7f7f7"
            ],
            [
             0.6,
             "#e6f5d0"
            ],
            [
             0.7,
             "#b8e186"
            ],
            [
             0.8,
             "#7fbc41"
            ],
            [
             0.9,
             "#4d9221"
            ],
            [
             1,
             "#276419"
            ]
           ],
           "sequential": [
            [
             0,
             "#0d0887"
            ],
            [
             0.1111111111111111,
             "#46039f"
            ],
            [
             0.2222222222222222,
             "#7201a8"
            ],
            [
             0.3333333333333333,
             "#9c179e"
            ],
            [
             0.4444444444444444,
             "#bd3786"
            ],
            [
             0.5555555555555556,
             "#d8576b"
            ],
            [
             0.6666666666666666,
             "#ed7953"
            ],
            [
             0.7777777777777778,
             "#fb9f3a"
            ],
            [
             0.8888888888888888,
             "#fdca26"
            ],
            [
             1,
             "#f0f921"
            ]
           ],
           "sequentialminus": [
            [
             0,
             "#0d0887"
            ],
            [
             0.1111111111111111,
             "#46039f"
            ],
            [
             0.2222222222222222,
             "#7201a8"
            ],
            [
             0.3333333333333333,
             "#9c179e"
            ],
            [
             0.4444444444444444,
             "#bd3786"
            ],
            [
             0.5555555555555556,
             "#d8576b"
            ],
            [
             0.6666666666666666,
             "#ed7953"
            ],
            [
             0.7777777777777778,
             "#fb9f3a"
            ],
            [
             0.8888888888888888,
             "#fdca26"
            ],
            [
             1,
             "#f0f921"
            ]
           ]
          },
          "colorway": [
           "#636efa",
           "#EF553B",
           "#00cc96",
           "#ab63fa",
           "#FFA15A",
           "#19d3f3",
           "#FF6692",
           "#B6E880",
           "#FF97FF",
           "#FECB52"
          ],
          "font": {
           "color": "#2a3f5f"
          },
          "geo": {
           "bgcolor": "white",
           "lakecolor": "white",
           "landcolor": "#E5ECF6",
           "showlakes": true,
           "showland": true,
           "subunitcolor": "white"
          },
          "hoverlabel": {
           "align": "left"
          },
          "hovermode": "closest",
          "mapbox": {
           "style": "light"
          },
          "paper_bgcolor": "white",
          "plot_bgcolor": "#E5ECF6",
          "polar": {
           "angularaxis": {
            "gridcolor": "white",
            "linecolor": "white",
            "ticks": ""
           },
           "bgcolor": "#E5ECF6",
           "radialaxis": {
            "gridcolor": "white",
            "linecolor": "white",
            "ticks": ""
           }
          },
          "scene": {
           "xaxis": {
            "backgroundcolor": "#E5ECF6",
            "gridcolor": "white",
            "gridwidth": 2,
            "linecolor": "white",
            "showbackground": true,
            "ticks": "",
            "zerolinecolor": "white"
           },
           "yaxis": {
            "backgroundcolor": "#E5ECF6",
            "gridcolor": "white",
            "gridwidth": 2,
            "linecolor": "white",
            "showbackground": true,
            "ticks": "",
            "zerolinecolor": "white"
           },
           "zaxis": {
            "backgroundcolor": "#E5ECF6",
            "gridcolor": "white",
            "gridwidth": 2,
            "linecolor": "white",
            "showbackground": true,
            "ticks": "",
            "zerolinecolor": "white"
           }
          },
          "shapedefaults": {
           "line": {
            "color": "#2a3f5f"
           }
          },
          "ternary": {
           "aaxis": {
            "gridcolor": "white",
            "linecolor": "white",
            "ticks": ""
           },
           "baxis": {
            "gridcolor": "white",
            "linecolor": "white",
            "ticks": ""
           },
           "bgcolor": "#E5ECF6",
           "caxis": {
            "gridcolor": "white",
            "linecolor": "white",
            "ticks": ""
           }
          },
          "title": {
           "x": 0.05
          },
          "xaxis": {
           "automargin": true,
           "gridcolor": "white",
           "linecolor": "white",
           "ticks": "",
           "title": {
            "standoff": 15
           },
           "zerolinecolor": "white",
           "zerolinewidth": 2
          },
          "yaxis": {
           "automargin": true,
           "gridcolor": "white",
           "linecolor": "white",
           "ticks": "",
           "title": {
            "standoff": 15
           },
           "zerolinecolor": "white",
           "zerolinewidth": 2
          }
         }
        }
       }
      }
     },
     "metadata": {},
     "output_type": "display_data"
    }
   ],
   "source": [
    "px.pie(q4,names=\"location\")"
   ]
  },
  {
   "cell_type": "markdown",
   "metadata": {},
   "source": [
    "#### What is the relationship between the age company  and the average salary ?"
   ]
  },
  {
   "cell_type": "code",
   "execution_count": 60,
   "metadata": {},
   "outputs": [
    {
     "data": {
      "application/vnd.plotly.v1+json": {
       "config": {
        "plotlyServerURL": "https://plot.ly"
       },
       "data": [
        {
         "hovertemplate": "founded=%{x}<br>avg_salary=%{y}<extra></extra>",
         "legendgroup": "",
         "marker": {
          "color": "#636efa",
          "symbol": "circle"
         },
         "mode": "markers",
         "name": "",
         "showlegend": false,
         "type": "scattergl",
         "x": [
          1961,
          1893,
          2003,
          2002,
          2009,
          2014,
          2001,
          1914,
          1896,
          2013,
          1841,
          null,
          1884,
          2004,
          2016,
          null,
          2001,
          1996,
          1958,
          2006,
          1998,
          null,
          1969,
          null,
          null,
          null,
          2011,
          2017,
          null,
          null,
          2005,
          null,
          null,
          2011,
          null,
          1904,
          2018,
          null,
          1841,
          null,
          null,
          null,
          2016,
          null,
          2013,
          1956,
          null,
          2007,
          1990,
          2002,
          1923,
          1990,
          1990,
          2015,
          1969,
          null,
          1923,
          1951,
          1981,
          2000,
          2017,
          1998,
          1998,
          1998,
          1966,
          2005,
          null,
          1939,
          null,
          2002,
          1999,
          null,
          null,
          1812,
          null,
          1945,
          1985,
          null,
          null,
          null,
          null,
          null,
          2003,
          1984,
          null,
          null,
          null,
          2011,
          2004,
          2007,
          null,
          1962,
          1996,
          2011,
          1995,
          null,
          null,
          null,
          2017,
          null,
          2012,
          2011,
          1967,
          1799,
          null,
          null,
          null,
          2004,
          null,
          null,
          null,
          1918,
          1948,
          1994,
          2014,
          1967,
          1895,
          2004,
          2018,
          null,
          null,
          1845,
          1968,
          null,
          2008,
          1911,
          1997,
          1995,
          2015,
          1832,
          2009,
          null,
          null,
          2004,
          null,
          1934,
          1998,
          null,
          1990,
          null,
          null,
          1938,
          2008,
          2002,
          1963,
          1996,
          null,
          1994,
          null,
          null,
          1841,
          2013,
          2013,
          null,
          1992,
          null,
          1977,
          null,
          2013,
          2009,
          null,
          2000,
          null,
          2015,
          1992,
          1998,
          2015,
          null,
          1984,
          1886,
          null,
          2002,
          null,
          1862,
          null,
          1999,
          2008,
          1906,
          2015,
          null,
          1998,
          null,
          2012,
          2004,
          1997,
          2011,
          null,
          1981,
          1812,
          null,
          1969,
          1862,
          1993,
          2011,
          null,
          1935,
          2003,
          null,
          1990,
          null,
          1884,
          null,
          null,
          1971,
          1996,
          null,
          null,
          2018,
          null,
          1989,
          null,
          2008,
          2012,
          1981,
          null,
          1966,
          null,
          1968,
          1812,
          1923,
          1967,
          1969,
          null,
          null,
          1999,
          null,
          1981,
          null,
          1859,
          1996,
          1990,
          2011,
          1984,
          1985,
          1997,
          2008,
          null,
          1946,
          null,
          1799,
          1967,
          1984,
          null,
          1818,
          null,
          1946,
          1932,
          null,
          1938,
          1923,
          2002,
          1967,
          2018,
          null,
          1998,
          null,
          1784,
          1956,
          null,
          null,
          null,
          null,
          1996,
          null,
          2008,
          null,
          null,
          null,
          2002,
          2012,
          1896,
          null,
          null,
          2000,
          2002,
          null,
          null,
          1997,
          2011,
          null,
          1998,
          null,
          1985,
          1993,
          null,
          2002,
          1998,
          1784,
          1856,
          null,
          1977,
          null,
          1989,
          2008,
          2004,
          1989,
          1966,
          1978,
          1996,
          1946,
          1812,
          null,
          1799,
          1984,
          1912,
          1998,
          1985,
          2001,
          2011,
          1998,
          null,
          2009,
          1996,
          1997,
          2004,
          null,
          1997,
          1799,
          1985,
          1957,
          1946,
          2002,
          2006,
          2003,
          null,
          2012,
          1997,
          null,
          2018,
          1799,
          null,
          1937,
          2004,
          2004,
          1982,
          2004,
          1964,
          null,
          1932,
          1984,
          2005,
          1937,
          2004,
          null,
          null,
          2000,
          2008,
          2008,
          null,
          2011,
          null,
          1948,
          1977,
          1967,
          2018,
          null,
          1992,
          2018,
          1990,
          null,
          1978,
          1985,
          1799,
          null,
          null,
          1841,
          null,
          null,
          1996,
          1984,
          2004,
          2000,
          1784,
          1982,
          2013,
          2002,
          1995,
          1999,
          1977,
          1985,
          2008,
          null,
          2013,
          null,
          2009,
          1992,
          null,
          1784,
          2011,
          1984,
          null,
          null,
          2004,
          1999,
          null,
          2011,
          null,
          1982,
          2004,
          null,
          1967,
          null,
          null,
          null,
          null,
          null,
          1784,
          1993,
          null,
          2008,
          1784,
          1989,
          1962,
          null,
          null,
          2011,
          2008,
          2018,
          null,
          null,
          2018,
          null,
          null,
          1850,
          1983,
          null,
          null,
          null,
          2018,
          2011,
          2001,
          1869,
          1998,
          2000,
          null,
          null,
          null,
          1995,
          1947,
          null,
          2011,
          1996,
          2001,
          1994,
          null,
          null,
          null,
          2011,
          null,
          2011,
          2006,
          2011,
          1995,
          2004,
          1948,
          null,
          1968,
          1984,
          1868,
          1992,
          1996,
          2008,
          2000,
          null,
          null,
          null,
          2008,
          2000,
          null,
          1936,
          1914,
          1935,
          1998,
          1997,
          2015,
          2008,
          null,
          1997,
          2000,
          null,
          2014,
          1997,
          2002,
          null,
          1962,
          1992,
          2000,
          1997,
          1906,
          1962,
          null,
          2015,
          2002,
          2018,
          2002,
          null,
          2018,
          1998,
          1962,
          null,
          null,
          2001,
          null,
          2000,
          2000,
          2008,
          2008,
          1853,
          1996,
          1984,
          2008,
          2008,
          1984,
          1996,
          2010,
          1996,
          2014,
          2013,
          2008,
          null,
          2018,
          2017,
          1996,
          2014,
          1996,
          1997,
          2016,
          null,
          null,
          null,
          2000,
          null,
          2011,
          null,
          1902,
          null,
          1948,
          2012,
          null,
          2007,
          2014,
          1944,
          null,
          null,
          1888,
          2002,
          2000,
          2017,
          1902,
          2013,
          1971,
          null,
          2007,
          null,
          1880,
          1973,
          2016,
          1923,
          null,
          null,
          1982,
          1902,
          1931,
          2003,
          1987,
          2014,
          1938,
          null,
          null,
          1978,
          2008,
          null,
          null,
          1996,
          1902,
          null,
          1990,
          null,
          null,
          null,
          1997,
          null,
          2001,
          2016,
          2015,
          1989,
          1997,
          null,
          1971,
          2009,
          1998,
          1948,
          2019,
          null,
          2017,
          1919,
          1948,
          1979,
          2012,
          2013,
          2008,
          null,
          1945,
          1983,
          1973,
          1954,
          2005,
          null,
          null,
          1954,
          null,
          1998,
          null,
          1966,
          null,
          2003,
          1980,
          2013,
          2006,
          1911,
          1980,
          2001,
          null,
          2016,
          1948,
          1961,
          1980,
          null,
          2016,
          null,
          1994,
          null,
          1996,
          null,
          1998,
          null,
          null,
          2005,
          null,
          1954,
          null,
          1939,
          1996,
          1994,
          2010,
          1976,
          null,
          null,
          2011,
          null,
          2016,
          null,
          null,
          1954,
          1995,
          2002,
          null,
          1980,
          2014,
          null,
          null,
          null,
          1935,
          1994,
          1979,
          2001,
          null,
          1872,
          1939,
          null,
          1982,
          1990,
          2003,
          null,
          null,
          null,
          2003,
          2006,
          1990,
          null,
          1977,
          2007,
          1980,
          null,
          1919,
          null,
          null,
          1926,
          null,
          2013,
          null,
          2013,
          1919,
          null,
          null,
          1977,
          1964,
          null,
          null,
          null,
          1939,
          null,
          1991,
          1923,
          1855,
          1980,
          1980,
          null,
          2003,
          1964,
          1999,
          2013,
          1959,
          null,
          2016,
          1961,
          null,
          null,
          null,
          null,
          1991,
          2000,
          2007,
          1999,
          2001,
          1946,
          1946,
          2001,
          1999,
          1986,
          2011,
          1890,
          2000,
          null,
          2010,
          2010,
          1886,
          1999,
          1979,
          1994,
          1997,
          1882,
          1964,
          1971,
          1883,
          1837,
          1999,
          1947,
          1817,
          1882,
          1999,
          2011,
          2015,
          null,
          2012,
          1983,
          null,
          1944,
          2017,
          2008,
          2013,
          null,
          null,
          2007,
          2015,
          null,
          null,
          null,
          2002,
          2008,
          1994,
          1883,
          2015,
          null,
          1996,
          null,
          1983,
          1991,
          2014,
          null,
          null,
          1837,
          1998,
          1935,
          2004,
          1890,
          null,
          2000,
          null,
          1983,
          2014,
          2001,
          1989,
          null,
          1908,
          2003,
          1966,
          2004,
          2000,
          1959,
          null,
          1996,
          null,
          1817,
          1988,
          1965,
          1997,
          1982,
          1828,
          1966,
          1906,
          2014,
          null,
          null,
          2001,
          1998,
          null,
          2005,
          2003,
          1883,
          null,
          2007,
          2011,
          1961,
          null,
          1982,
          1889,
          null,
          2001,
          null,
          2005,
          2008,
          1883,
          2008,
          null,
          null,
          null,
          1898,
          2004,
          null,
          null,
          null,
          1999,
          1976,
          1928,
          1966,
          1967,
          2015,
          1913,
          null,
          null,
          1948,
          2018,
          1995,
          2012,
          2010,
          1901,
          1999,
          1916,
          null,
          null,
          null,
          null,
          null,
          1998,
          1857,
          2013,
          null,
          1998,
          null,
          1859,
          1984,
          1982,
          2013,
          null,
          2014,
          null,
          1997,
          1988,
          null,
          1901,
          null,
          1845,
          null,
          1984,
          2005,
          null,
          null,
          1994,
          2007,
          2000,
          1997,
          1966,
          null,
          2014,
          1962,
          1784,
          1955,
          null,
          1949,
          2012,
          2003,
          null,
          1966,
          null,
          null,
          null,
          null,
          1968,
          2000,
          2004,
          null,
          2010,
          null,
          2008,
          1986,
          1999,
          2010,
          null,
          2005,
          null,
          1967,
          1999,
          null,
          1970,
          null,
          null,
          1948,
          2003,
          null,
          1980,
          1966,
          null,
          1822,
          1985,
          2009,
          null,
          1998,
          1984,
          2005,
          1949,
          1966,
          null,
          null,
          1980,
          null,
          1986,
          1994,
          1998,
          2004,
          1949,
          null,
          1998,
          1972,
          1784,
          1949,
          2012,
          null,
          1949,
          2007,
          2018,
          1996,
          1999,
          2000,
          null,
          2011,
          1955,
          2010,
          1980,
          1864,
          2010,
          1939,
          1975,
          1970,
          1960,
          1939,
          1948,
          2005,
          1986,
          2019,
          1992,
          2003,
          1994,
          null,
          2002,
          2002,
          null,
          1999,
          1973,
          null,
          null,
          2019,
          1864,
          1864,
          1948,
          1985,
          1994,
          null,
          null,
          null,
          1885,
          2004,
          2000,
          2002,
          1951,
          1922,
          1998,
          2004,
          1957,
          null,
          1945,
          1864,
          2001,
          null,
          null,
          2018,
          null,
          2004,
          null,
          1975,
          2001,
          2005,
          null,
          null,
          1999,
          1980,
          2003,
          2005,
          2002,
          2003,
          null,
          1986,
          null,
          null,
          2004,
          null,
          null,
          null,
          2017,
          1951,
          1997,
          null,
          1864,
          null,
          1970,
          1889,
          1996,
          null,
          null,
          1954,
          1914,
          2007,
          null,
          1966,
          2000,
          2007,
          2000,
          1996,
          1951,
          null,
          1939,
          2008,
          1864,
          null,
          1992,
          1963,
          2008,
          1968,
          2003,
          2017,
          1994,
          2013,
          2004,
          2000,
          null,
          2000,
          2002,
          2008,
          null,
          1966,
          null,
          1970,
          1995,
          1992,
          null,
          2013,
          1991,
          2000,
          1740,
          null,
          null,
          1989,
          null,
          1948,
          2005,
          1987,
          1740,
          1983,
          null,
          null,
          1799,
          2008,
          1904,
          null,
          2014,
          1740,
          null,
          null,
          2007,
          null,
          2000,
          1993,
          1975,
          1998,
          2000,
          2015,
          2011,
          1992,
          null,
          1991,
          null,
          null,
          2006,
          1740,
          null,
          1855,
          1740,
          null,
          2012,
          null,
          2011,
          2001,
          1987,
          null,
          1995,
          null,
          1975,
          1855,
          1916,
          1996,
          1990,
          1992,
          1957,
          2005,
          null,
          null,
          1998,
          2011,
          1966,
          null,
          2011,
          1994,
          1994,
          null,
          1994,
          1970,
          null,
          1992,
          1904,
          1966,
          1990,
          null,
          2009,
          1975,
          1970,
          1997,
          1830,
          1994,
          null,
          null,
          1987,
          1987,
          1990,
          null,
          null,
          1887,
          2002,
          1997,
          null,
          2004,
          null,
          1998,
          1995,
          null,
          null,
          2002,
          null,
          1970,
          null,
          2008,
          2007,
          1990,
          1983,
          null,
          2011,
          null,
          1784,
          2011,
          1974,
          1966,
          null,
          null,
          1991,
          2010,
          1996,
          null,
          1986,
          2002,
          2011,
          2014,
          2010,
          1985,
          1905,
          null,
          null,
          null,
          2001,
          null,
          2008,
          null,
          1999,
          2016,
          1991,
          1995,
          null,
          1966,
          1965,
          1999,
          1961,
          2003,
          1996,
          2005,
          2015,
          1991,
          2003,
          2002,
          null,
          1974,
          1966,
          null,
          1999,
          1999,
          null,
          2001,
          null,
          1995,
          null,
          1990,
          1990,
          1962,
          1953,
          1960,
          1990,
          null,
          1997,
          1868,
          1966,
          null,
          2003,
          2010,
          2008,
          1953,
          1990,
          2010,
          2000,
          2014,
          null,
          2009,
          2006,
          1998,
          2004,
          1952,
          2008,
          null,
          null,
          1999,
          1897,
          1989,
          1946,
          1945,
          1998,
          1960,
          2000,
          2013,
          1983,
          null,
          1966,
          null,
          1983,
          1984,
          1985,
          2000,
          null,
          1960,
          2008,
          null,
          2010,
          2018,
          1960,
          1989,
          null,
          1983,
          1962,
          1990,
          1966,
          1990,
          2002,
          1996,
          1960,
          null,
          1986,
          2018,
          2004,
          1988,
          1988,
          1976,
          1994,
          1973,
          2015,
          1999,
          2000,
          1869,
          null,
          1957,
          1914,
          null,
          1995,
          null,
          1869,
          1919,
          null,
          1994,
          1865,
          1970,
          null,
          1999,
          1998,
          1998,
          1921,
          2008,
          null,
          1967,
          2005,
          1867,
          null,
          2017,
          1966,
          1999,
          1867,
          1889,
          2017,
          1913,
          null,
          2010,
          null,
          1971,
          1933,
          null,
          1997,
          1914,
          null,
          2004,
          1906,
          1812,
          2008,
          1966,
          null,
          1869,
          1987,
          null,
          1995,
          1998,
          1963,
          1990,
          2007,
          1999,
          1984,
          2008,
          null,
          1997,
          1967,
          1995,
          2008,
          1812,
          null,
          1947,
          null,
          1998,
          null,
          null,
          null,
          2005,
          1874,
          1996,
          null,
          2012,
          null,
          1933,
          1967,
          null,
          null,
          null,
          2005,
          null,
          null,
          1967,
          null,
          1996,
          2017,
          1991,
          1995,
          null,
          1967,
          2013,
          null,
          1946,
          null,
          1799,
          1999,
          1999,
          1991,
          null,
          1962,
          null,
          null,
          null,
          null,
          2015,
          2008,
          1978,
          1966,
          null,
          1966,
          1996,
          1812,
          null,
          null,
          1967,
          null,
          null,
          null,
          1999,
          null,
          1938,
          2007,
          1994,
          1995,
          null,
          1947,
          2002,
          2007,
          null,
          null,
          null,
          2011,
          2006,
          1995,
          1923,
          null,
          null,
          2001,
          null,
          1995,
          1966,
          2013,
          null,
          1912,
          null,
          2010,
          1993,
          1989,
          2012,
          1997,
          1990,
          1946,
          2003,
          1997,
          2002,
          2006,
          null,
          2009,
          null,
          2000,
          1996,
          2016,
          null,
          2016,
          2002,
          null,
          null,
          2011,
          null,
          1997,
          null,
          null,
          2000,
          2002,
          2015,
          1997,
          null,
          1976,
          1977,
          1988,
          2004,
          1994,
          1991,
          null,
          2006,
          2013,
          2015,
          2011,
          1992,
          null,
          1998,
          2008,
          null,
          null,
          1976,
          1976,
          2007,
          1972,
          1992,
          2008,
          null,
          1995,
          1891,
          null,
          1807,
          1988,
          2016,
          1976,
          null,
          2013,
          null,
          null,
          null,
          1976,
          1999,
          1994,
          null,
          2002,
          null,
          2000,
          2010,
          null,
          1997,
          null,
          1948,
          1996,
          2013,
          2000,
          2006,
          2015,
          1976,
          1995,
          2011,
          2014,
          1976,
          1995,
          1988,
          null,
          null,
          2013,
          null,
          1994,
          null,
          null,
          null,
          null,
          2011,
          1960,
          2011,
          1978,
          2003,
          null,
          2006,
          1995,
          2002,
          1983,
          1957,
          1996,
          null,
          2002,
          null,
          1946,
          1945,
          2007,
          2014,
          1990,
          1996,
          null,
          1997,
          2009,
          2014,
          null,
          2002,
          1978,
          1999,
          2010,
          null,
          2002,
          2008,
          2000,
          2006,
          1976,
          2002,
          null,
          2003,
          1998,
          null,
          2000,
          2006,
          null,
          1988,
          null,
          2010,
          2002,
          2001,
          1996,
          1995,
          2000,
          null,
          2004,
          2002,
          null,
          2009,
          null,
          null,
          null,
          2006,
          2002,
          null,
          1976,
          2004,
          null,
          1995,
          1998,
          2017,
          1996,
          2016,
          2014,
          1912,
          2014,
          2008,
          1912,
          2007,
          2005,
          2010,
          null,
          1937,
          1912,
          2010,
          1980,
          2017,
          1999,
          2015,
          2008,
          2012,
          1998,
          2008,
          2013,
          1948,
          2004,
          2016,
          1999,
          null,
          1912,
          null,
          2004,
          1938,
          1988,
          1998,
          null,
          null,
          null,
          1993,
          2015,
          1912,
          1984,
          null,
          null,
          null,
          2005,
          1996,
          2006,
          null,
          null,
          2010,
          1987,
          1999,
          1991,
          2006,
          1936,
          1996,
          1914,
          1997,
          null,
          2006,
          1996,
          1985,
          null,
          null,
          1912,
          1999,
          null,
          1999,
          2008,
          1957,
          null,
          2007,
          null,
          2007,
          null,
          2015,
          null,
          1984,
          null,
          null,
          1957,
          1970,
          null,
          1994,
          1948,
          1870,
          1981,
          2008,
          1996,
          1998,
          1870,
          1921,
          2008,
          1870,
          2008,
          null,
          null,
          1990,
          null,
          1982,
          2002,
          null,
          1923,
          null,
          1991,
          2011,
          1935,
          1992,
          1995,
          2006,
          1995,
          1992,
          null,
          null,
          1998,
          1999,
          1986,
          null,
          null,
          1999,
          null,
          1999,
          1999,
          2012,
          1892,
          1985,
          1892,
          1799,
          null,
          1969,
          1888,
          2008,
          null,
          null,
          1892,
          null,
          2008,
          2004,
          2000,
          null,
          null,
          1997,
          null,
          2008,
          1892,
          2008,
          null,
          1999,
          2008,
          1888,
          null,
          null,
          null,
          2004,
          1892,
          1799,
          1994,
          1852,
          2017,
          null,
          1989,
          1968,
          1981,
          2004,
          1966,
          1991,
          1983,
          1992,
          null,
          1980,
          null,
          2005,
          1997,
          1999,
          1968,
          1948,
          1966,
          1983,
          2008,
          null,
          null,
          1983,
          null,
          1997,
          2002,
          1975,
          2002,
          null,
          2005,
          1935,
          1967,
          1995,
          1997,
          1999,
          null,
          1956,
          1996,
          2019,
          null,
          1973,
          null,
          null,
          null,
          2016,
          1983,
          2008,
          null,
          1698,
          1966,
          1967,
          null,
          1983,
          null,
          2010,
          null,
          1991,
          null,
          null,
          1966,
          2002,
          1983,
          null,
          1990,
          1946,
          1996,
          1935,
          null,
          2008,
          2006,
          2011,
          null,
          null,
          1946,
          2006,
          null,
          null,
          1998,
          1983,
          1904,
          1999,
          1864,
          2004,
          null,
          1997,
          2017,
          1975,
          1946,
          1998,
          1946,
          1982,
          2006,
          2008,
          1997,
          1982,
          2014,
          2008,
          2011,
          2002,
          1964,
          2011,
          null,
          2014,
          2011,
          1998,
          2014,
          2005,
          2000,
          2016,
          null,
          2017,
          2010,
          2000,
          2012,
          1906,
          2012,
          2002,
          1996,
          2014,
          2012,
          2012,
          2016,
          2014,
          2007,
          null,
          1924,
          null,
          1907,
          2009,
          2012,
          2012,
          null,
          null,
          2004,
          null,
          2012,
          2009,
          1992,
          2000,
          1907,
          2007,
          2004,
          null,
          2006,
          1864,
          2001,
          null,
          2002,
          1989,
          1996,
          null,
          2000,
          2012,
          1985,
          1996,
          1981,
          2016,
          2011,
          1999,
          null,
          2016,
          2013,
          2007,
          2008,
          2008,
          2002,
          2006,
          2000,
          1902,
          2007,
          2014,
          null,
          null,
          null,
          1996,
          1999,
          null,
          2015,
          2010,
          null,
          null,
          2012,
          2014,
          2011,
          null,
          2010,
          2009,
          1996,
          2014,
          null,
          null,
          1993,
          null,
          1993,
          1996,
          null,
          null,
          null,
          2017,
          null,
          2009,
          null,
          2006,
          null,
          2008,
          1874,
          null,
          null,
          2002,
          2001,
          null,
          2004,
          2013,
          2009,
          1966,
          1952,
          2007,
          2013,
          null,
          2002,
          null,
          1995,
          2012,
          2016,
          null,
          1682,
          null,
          1997,
          2013,
          null,
          null,
          2014,
          null,
          2002,
          1999,
          1983,
          null,
          2002,
          2002,
          1999,
          2011,
          2005,
          1999,
          2004,
          2008,
          2007,
          1995,
          2001,
          null,
          2004,
          1947,
          1981,
          2013,
          null,
          2012,
          null,
          2000,
          2001,
          null,
          1852,
          1996,
          1997,
          2015,
          null,
          2000,
          2003,
          null,
          2015,
          1980,
          null,
          2000,
          2000,
          null,
          null,
          1998,
          2001,
          2014,
          1998,
          2012,
          null,
          2015,
          1998,
          2008,
          null,
          2001,
          null,
          2010,
          2008,
          1998,
          1890,
          2010,
          1951,
          1997,
          2008,
          1875,
          null,
          null,
          1979,
          1996,
          2011,
          1997,
          1975,
          2001,
          1917,
          null,
          1976,
          2008,
          1975,
          null,
          1976,
          1996,
          2000,
          2008,
          1997,
          2008,
          null,
          1992,
          1975,
          null,
          1945,
          1998,
          null,
          null,
          1996,
          1975,
          2001,
          1975,
          1999,
          null,
          null,
          1999,
          1976,
          2016,
          null,
          1975,
          2001,
          1975,
          2008,
          1992,
          1990,
          null,
          2012,
          null,
          2006,
          null,
          1990,
          null,
          1876,
          2001,
          null,
          null,
          1785,
          2008,
          2008,
          2008,
          2015,
          1997,
          null,
          2001,
          1982,
          2010,
          2008,
          2005,
          1996,
          1997,
          1945,
          1993,
          2000,
          2018,
          1991,
          2013,
          1997,
          2015,
          2005,
          2008,
          1909,
          1916,
          2004,
          2005,
          1995,
          2008,
          null,
          null,
          1993,
          2012,
          2000,
          null,
          1991,
          1973,
          2007,
          1995,
          2007,
          2001,
          null,
          1966,
          1921,
          2002,
          1957,
          2005,
          null,
          2007,
          null,
          null,
          null,
          1994,
          null,
          null,
          null,
          2001,
          2004,
          null,
          1789,
          1930,
          1997,
          1963,
          null,
          1990,
          1989,
          1981,
          1945,
          2013,
          null,
          2008,
          null,
          1991,
          null,
          2000,
          2008,
          2006,
          1998,
          1995,
          1930,
          1937,
          null,
          1995,
          1963,
          null,
          1972,
          1994,
          1999,
          null,
          null,
          null,
          1970,
          1930,
          null,
          2004,
          null,
          null,
          null,
          1935,
          null,
          1984,
          1864
         ],
         "xaxis": "x",
         "y": [
          51500,
          51500,
          51500,
          51500,
          51500,
          51500,
          51500,
          51500,
          51500,
          51500,
          51500,
          51500,
          51500,
          51500,
          51500,
          51500,
          51500,
          51500,
          51500,
          51500,
          51500,
          51500,
          51500,
          51500,
          51500,
          51500,
          51500,
          51500,
          51500,
          51500,
          66500,
          66500,
          66500,
          66500,
          66500,
          66500,
          66500,
          66500,
          66500,
          66500,
          66500,
          66500,
          66500,
          66500,
          66500,
          66500,
          66500,
          66500,
          66500,
          66500,
          66500,
          66500,
          66500,
          66500,
          66500,
          66500,
          66500,
          66500,
          66500,
          66500,
          69500,
          69500,
          69500,
          69500,
          69500,
          69500,
          69500,
          69500,
          69500,
          69500,
          69500,
          69500,
          69500,
          69500,
          69500,
          69500,
          69500,
          69500,
          69500,
          69500,
          69500,
          69500,
          69500,
          69500,
          69500,
          69500,
          69500,
          69500,
          69500,
          69500,
          69000,
          69000,
          69000,
          69000,
          69000,
          69000,
          69000,
          69000,
          69000,
          69000,
          69000,
          69000,
          69000,
          69000,
          69000,
          69000,
          69000,
          69000,
          69000,
          69000,
          69000,
          69000,
          69000,
          69000,
          69000,
          69000,
          69000,
          69000,
          69000,
          69000,
          72000,
          72000,
          72000,
          72000,
          72000,
          72000,
          72000,
          72000,
          72000,
          72000,
          72000,
          72000,
          72000,
          72000,
          72000,
          72000,
          72000,
          72000,
          72000,
          72000,
          72000,
          72000,
          72000,
          72000,
          72000,
          72000,
          72000,
          72000,
          72000,
          72000,
          59500,
          59500,
          59500,
          59500,
          59500,
          59500,
          59500,
          59500,
          59500,
          59500,
          59500,
          59500,
          59500,
          59500,
          59500,
          59500,
          59500,
          59500,
          59500,
          59500,
          59500,
          59500,
          59500,
          59500,
          59500,
          59500,
          59500,
          59500,
          59500,
          59500,
          59500,
          85000,
          85000,
          85000,
          85000,
          85000,
          85000,
          85000,
          85000,
          85000,
          85000,
          85000,
          85000,
          85000,
          85000,
          85000,
          85000,
          85000,
          85000,
          85000,
          85000,
          85000,
          85000,
          85000,
          85000,
          85000,
          85000,
          85000,
          85000,
          85000,
          85000,
          59500,
          59500,
          59500,
          59500,
          59500,
          59500,
          59500,
          59500,
          59500,
          59500,
          59500,
          59500,
          59500,
          59500,
          59500,
          59500,
          59500,
          59500,
          59500,
          59500,
          59500,
          59500,
          59500,
          59500,
          59500,
          59500,
          59500,
          59500,
          59500,
          66500,
          66500,
          66500,
          66500,
          66500,
          66500,
          66500,
          66500,
          66500,
          66500,
          66500,
          100000,
          100000,
          100000,
          100000,
          100000,
          100000,
          100000,
          100000,
          100000,
          100000,
          100000,
          100000,
          100000,
          100000,
          87000,
          87000,
          87000,
          87000,
          87000,
          87000,
          87000,
          87000,
          87000,
          87000,
          87000,
          87000,
          87000,
          87000,
          87000,
          87000,
          87000,
          87000,
          39500,
          39500,
          39500,
          39500,
          39500,
          39500,
          39500,
          39500,
          39500,
          39500,
          39500,
          39500,
          39500,
          39500,
          39500,
          39500,
          39500,
          39500,
          39500,
          39500,
          39500,
          39500,
          39500,
          39500,
          39500,
          39500,
          39500,
          39500,
          39500,
          39500,
          58000,
          58000,
          58000,
          58000,
          58000,
          58000,
          58000,
          58000,
          58000,
          58000,
          58000,
          58000,
          58000,
          58000,
          58000,
          58000,
          58000,
          58000,
          58000,
          58000,
          58000,
          58000,
          58000,
          58000,
          58000,
          58000,
          58000,
          104500,
          104500,
          104500,
          104500,
          104500,
          104500,
          104500,
          104500,
          104500,
          104500,
          104500,
          104500,
          104500,
          104500,
          104500,
          104500,
          104500,
          104500,
          104500,
          104500,
          104500,
          104500,
          104500,
          104500,
          104500,
          104500,
          104500,
          104500,
          104500,
          106000,
          106000,
          106000,
          106000,
          106000,
          106000,
          106000,
          106000,
          106000,
          106000,
          106000,
          106000,
          106000,
          106000,
          106000,
          106000,
          106000,
          106000,
          106000,
          106000,
          106000,
          106000,
          106000,
          106000,
          106000,
          106000,
          106000,
          106000,
          106000,
          106000,
          72000,
          72000,
          72000,
          72000,
          72000,
          72000,
          72000,
          72000,
          72000,
          72000,
          72000,
          72000,
          72000,
          72000,
          72000,
          72000,
          72000,
          72000,
          72000,
          72000,
          72000,
          72000,
          36500,
          36500,
          36500,
          36500,
          36500,
          36500,
          36500,
          36500,
          36500,
          36500,
          36500,
          36500,
          36500,
          36500,
          36500,
          36500,
          36500,
          36500,
          36500,
          36500,
          36500,
          36500,
          36500,
          36500,
          36500,
          36500,
          36500,
          36500,
          36500,
          45000,
          45000,
          45000,
          45000,
          64000,
          64000,
          64000,
          56000,
          56000,
          56000,
          56000,
          56000,
          56000,
          56000,
          56000,
          56000,
          56000,
          56000,
          56000,
          56000,
          56000,
          56000,
          56000,
          56000,
          56000,
          56000,
          56000,
          56000,
          56000,
          56000,
          56000,
          56000,
          56000,
          56000,
          56000,
          56000,
          56000,
          80500,
          80500,
          80500,
          80500,
          80500,
          80500,
          80500,
          80500,
          80500,
          80500,
          80500,
          80500,
          80500,
          80500,
          80500,
          80500,
          80500,
          80500,
          42000,
          42000,
          42000,
          42000,
          42000,
          42000,
          42000,
          42000,
          79000,
          79000,
          79000,
          79000,
          79000,
          79000,
          79000,
          79000,
          79000,
          79000,
          79000,
          79000,
          79000,
          79000,
          79000,
          79000,
          79000,
          79000,
          79000,
          79000,
          79000,
          79000,
          79000,
          79000,
          79000,
          79000,
          79000,
          79000,
          79000,
          53500,
          53500,
          53500,
          53500,
          53500,
          53500,
          53500,
          53500,
          53500,
          53500,
          53500,
          53500,
          53500,
          53500,
          53500,
          53500,
          53500,
          53500,
          53500,
          53500,
          53500,
          53500,
          53500,
          53500,
          53500,
          53500,
          53500,
          53500,
          53500,
          80000,
          80000,
          80000,
          80000,
          80000,
          80000,
          80000,
          80000,
          80000,
          80000,
          80000,
          80000,
          80000,
          80000,
          80000,
          80000,
          80000,
          80000,
          80000,
          80000,
          80000,
          80000,
          80000,
          80000,
          80000,
          80000,
          80000,
          80000,
          80000,
          40000,
          40000,
          40000,
          40000,
          40000,
          40000,
          40000,
          40000,
          40000,
          40000,
          40000,
          40000,
          40000,
          40000,
          40000,
          40000,
          40000,
          40000,
          40000,
          40000,
          40000,
          40000,
          40000,
          40000,
          40000,
          40000,
          40000,
          40000,
          54000,
          54000,
          54000,
          54000,
          54000,
          54000,
          54000,
          54000,
          54000,
          54000,
          54000,
          54000,
          54000,
          54000,
          54000,
          54000,
          54000,
          54000,
          54000,
          54000,
          54000,
          54000,
          54000,
          54000,
          54000,
          54000,
          54000,
          54000,
          54000,
          54000,
          73000,
          73000,
          73000,
          73000,
          73000,
          73000,
          73000,
          73000,
          73000,
          73000,
          73000,
          73000,
          73000,
          73000,
          73000,
          73000,
          73000,
          73000,
          73000,
          73000,
          73000,
          73000,
          73000,
          73000,
          73000,
          73000,
          73000,
          73000,
          73000,
          122500,
          122500,
          122500,
          122500,
          122500,
          122500,
          122500,
          122500,
          122500,
          122500,
          122500,
          122500,
          122500,
          122500,
          122500,
          122500,
          122500,
          122500,
          122500,
          122500,
          122500,
          122500,
          122500,
          122500,
          122500,
          122500,
          122500,
          122500,
          122500,
          52500,
          52500,
          52500,
          52500,
          63000,
          63000,
          63000,
          63000,
          63000,
          63000,
          63000,
          63000,
          63000,
          63000,
          63000,
          63000,
          63000,
          63000,
          63000,
          63000,
          63000,
          63000,
          63000,
          63000,
          63000,
          63000,
          63000,
          63000,
          63000,
          63000,
          63000,
          63000,
          63000,
          63000,
          77500,
          77500,
          77500,
          77500,
          77500,
          77500,
          77500,
          77500,
          77500,
          77500,
          77500,
          77500,
          77500,
          77500,
          77500,
          77500,
          77500,
          77500,
          77500,
          77500,
          77500,
          77500,
          77500,
          77500,
          77500,
          77500,
          77500,
          77500,
          77500,
          79500,
          79500,
          79500,
          79500,
          79500,
          79500,
          79500,
          79500,
          79500,
          79500,
          79500,
          79500,
          79500,
          79500,
          79500,
          79500,
          79500,
          79500,
          79500,
          79500,
          79500,
          79500,
          79500,
          79500,
          79500,
          79500,
          79500,
          79500,
          79500,
          59000,
          59000,
          59000,
          59000,
          59000,
          59000,
          59000,
          59000,
          59000,
          59000,
          59000,
          59000,
          59000,
          59000,
          59000,
          59000,
          59000,
          59000,
          59000,
          59000,
          59000,
          59000,
          59000,
          59000,
          59000,
          59000,
          59000,
          59000,
          59000,
          59000,
          113000,
          113000,
          113000,
          113000,
          113000,
          113000,
          113000,
          113000,
          113000,
          113000,
          113000,
          113000,
          113000,
          113000,
          113000,
          113000,
          113000,
          113000,
          113000,
          113000,
          113000,
          113000,
          113000,
          113000,
          113000,
          113000,
          113000,
          113000,
          113000,
          113000,
          77500,
          77500,
          77500,
          77500,
          77500,
          77500,
          77500,
          77500,
          77500,
          77500,
          77500,
          77500,
          77500,
          77500,
          77500,
          77500,
          33500,
          33500,
          33500,
          33500,
          33500,
          33500,
          33500,
          33500,
          33500,
          33500,
          33500,
          33500,
          33500,
          33500,
          33500,
          33500,
          33500,
          33500,
          33500,
          33500,
          33500,
          33500,
          33500,
          33500,
          33500,
          33500,
          33500,
          33500,
          33500,
          61500,
          61500,
          61500,
          61500,
          61500,
          61500,
          61500,
          61500,
          61500,
          61500,
          61500,
          61500,
          61500,
          61500,
          61500,
          61500,
          61500,
          61500,
          61500,
          61500,
          61500,
          61500,
          61500,
          61500,
          61500,
          61500,
          61500,
          61500,
          98500,
          98500,
          98500,
          98500,
          98500,
          98500,
          98500,
          98500,
          98500,
          98500,
          98500,
          98500,
          98500,
          98500,
          98500,
          98500,
          98500,
          98500,
          98500,
          98500,
          98500,
          98500,
          98500,
          98500,
          98500,
          98500,
          98500,
          98500,
          73500,
          73500,
          73500,
          73500,
          73500,
          73500,
          73500,
          73500,
          73500,
          73500,
          73500,
          73500,
          73500,
          73500,
          73500,
          73500,
          73500,
          73500,
          73500,
          73500,
          73500,
          73500,
          73500,
          73500,
          73500,
          73500,
          73500,
          73500,
          73500,
          74000,
          74000,
          74000,
          74000,
          74000,
          74000,
          74000,
          74000,
          74000,
          74000,
          74000,
          74000,
          74000,
          74000,
          74000,
          74000,
          74000,
          74000,
          74000,
          74000,
          74000,
          74000,
          74000,
          74000,
          74000,
          74000,
          74000,
          74000,
          68500,
          68500,
          68500,
          68500,
          68500,
          68500,
          68500,
          68500,
          68500,
          68500,
          68500,
          68500,
          68500,
          68500,
          68500,
          68500,
          68500,
          68500,
          68500,
          68500,
          68500,
          68500,
          68500,
          68500,
          68500,
          68500,
          68500,
          68500,
          68500,
          61500,
          61500,
          61500,
          61500,
          61500,
          61500,
          61500,
          61500,
          61500,
          61500,
          61500,
          59500,
          59500,
          59500,
          59500,
          59500,
          59500,
          59500,
          59500,
          59500,
          59500,
          59500,
          59500,
          59500,
          59500,
          59500,
          59500,
          59500,
          59500,
          59500,
          59500,
          59500,
          59500,
          59500,
          59500,
          59500,
          59500,
          59500,
          59500,
          53000,
          53000,
          53000,
          53000,
          53000,
          53000,
          53000,
          53000,
          53000,
          53000,
          53000,
          53000,
          53000,
          53000,
          53000,
          53000,
          53000,
          53000,
          53000,
          53000,
          53000,
          53000,
          53000,
          53000,
          53000,
          53000,
          53000,
          53000,
          53000,
          40500,
          40500,
          40500,
          40500,
          40500,
          40500,
          40500,
          40500,
          40500,
          40500,
          40500,
          40500,
          40500,
          40500,
          40500,
          40500,
          40500,
          40500,
          40500,
          40500,
          40500,
          40500,
          40500,
          40500,
          40500,
          40500,
          40500,
          40500,
          40500,
          88500,
          88500,
          88500,
          88500,
          88500,
          88500,
          88500,
          88500,
          88500,
          88500,
          88500,
          88500,
          88500,
          88500,
          88500,
          88500,
          88500,
          88500,
          88500,
          88500,
          88500,
          88500,
          88500,
          88500,
          88500,
          88500,
          88500,
          88500,
          88500,
          88500,
          71500,
          71500,
          71500,
          71500,
          71500,
          71500,
          71500,
          71500,
          71500,
          71500,
          71500,
          71500,
          71500,
          71500,
          71500,
          71500,
          71500,
          71500,
          71500,
          52500,
          52500,
          52500,
          52500,
          52500,
          52500,
          52500,
          52500,
          52500,
          52500,
          52500,
          52500,
          52500,
          52500,
          52500,
          52500,
          52500,
          52500,
          52500,
          52500,
          52500,
          52500,
          52500,
          52500,
          52500,
          52500,
          52500,
          52500,
          52500,
          52500,
          81000,
          81000,
          81000,
          81000,
          81000,
          81000,
          81000,
          81000,
          81000,
          81000,
          81000,
          81000,
          81000,
          81000,
          81000,
          81000,
          81000,
          81000,
          99000,
          99000,
          99000,
          99000,
          99000,
          99000,
          99000,
          99000,
          99000,
          99000,
          99000,
          99000,
          99000,
          99000,
          99000,
          99000,
          99000,
          99000,
          99000,
          99000,
          99000,
          99000,
          99000,
          99000,
          99000,
          99000,
          99000,
          99000,
          92000,
          92000,
          92000,
          92000,
          92000,
          92000,
          92000,
          92000,
          92000,
          92000,
          92000,
          92000,
          92000,
          92000,
          92000,
          92000,
          92000,
          92000,
          92000,
          92000,
          92000,
          92000,
          92000,
          92000,
          92000,
          92000,
          92000,
          92000,
          92000,
          92000,
          92000,
          47500,
          47500,
          47500,
          47500,
          47500,
          36000,
          36000,
          36000,
          36000,
          36000,
          36000,
          36000,
          36000,
          36000,
          36000,
          36000,
          36000,
          36000,
          36000,
          36000,
          36000,
          36000,
          36000,
          36000,
          36000,
          36000,
          36000,
          36000,
          36000,
          36000,
          36000,
          36000,
          36000,
          36000,
          41500,
          41500,
          41500,
          41500,
          41500,
          41500,
          41500,
          41500,
          41500,
          41500,
          41500,
          41500,
          41500,
          41500,
          41500,
          41500,
          41500,
          41500,
          41500,
          41500,
          41500,
          41500,
          41500,
          41500,
          41500,
          41500,
          41500,
          41500,
          41500,
          41500,
          63500,
          63500,
          63500,
          63500,
          63500,
          63500,
          63500,
          63500,
          63500,
          63500,
          63500,
          63500,
          63500,
          63500,
          63500,
          63500,
          63500,
          63500,
          63500,
          63500,
          63500,
          63500,
          63500,
          63500,
          63500,
          63500,
          63500,
          63500,
          63500,
          63000,
          63000,
          63000,
          63000,
          63000,
          63000,
          63000,
          63000,
          63000,
          63000,
          63000,
          63000,
          63000,
          63000,
          63000,
          63000,
          63000,
          63000,
          63000,
          63000,
          63000,
          63000,
          63000,
          63000,
          63000,
          63000,
          63000,
          63000,
          68000,
          68000,
          68000,
          68000,
          68000,
          68000,
          68000,
          68000,
          68000,
          68000,
          68000,
          68000,
          68000,
          68000,
          68000,
          68000,
          68000,
          68000,
          68000,
          68000,
          68000,
          68000,
          68000,
          68000,
          68000,
          68000,
          68000,
          61000,
          61000,
          61000,
          61000,
          61000,
          61000,
          61000,
          61000,
          61000,
          61000,
          61000,
          61000,
          150000,
          150000,
          150000,
          150000,
          150000,
          150000,
          150000,
          150000,
          150000,
          150000,
          150000,
          150000,
          150000,
          150000,
          150000,
          150000,
          150000,
          150000,
          150000,
          150000,
          150000,
          150000,
          150000,
          150000,
          150000,
          150000,
          150000,
          150000,
          150000,
          120000,
          120000,
          120000,
          120000,
          120000,
          120000,
          120000,
          120000,
          120000,
          120000,
          120000,
          120000,
          120000,
          120000,
          120000,
          120000,
          120000,
          120000,
          120000,
          120000,
          120000,
          120000,
          120000,
          120000,
          120000,
          120000,
          120000,
          120000,
          98000,
          98000,
          98000,
          98000,
          98000,
          98000,
          98000,
          98000,
          98000,
          98000,
          98000,
          98000,
          98000,
          98000,
          98000,
          98000,
          98000,
          98000,
          98000,
          98000,
          98000,
          98000,
          98000,
          98000,
          98000,
          98000,
          98000,
          98000,
          98000,
          98000,
          72000,
          72000,
          72000,
          72000,
          72000,
          72000,
          72000,
          72000,
          72000,
          72000,
          72000,
          72000,
          72000,
          72000,
          72000,
          72000,
          72000,
          72000,
          72000,
          72000,
          72000,
          72000,
          72000,
          72000,
          72000,
          72000,
          72000,
          72000,
          72000,
          75500,
          75500,
          75500,
          75500,
          75500,
          75500,
          75500,
          75500,
          75500,
          75500,
          75500,
          75500,
          75500,
          75500,
          75500,
          75500,
          75500,
          75500,
          75500,
          75500,
          75500,
          75500,
          75500,
          75500,
          75500,
          75500,
          75500,
          75500,
          75500,
          75500,
          75500,
          89500,
          89500,
          89500,
          89500,
          89500,
          89500,
          89500,
          89500,
          89500,
          89500,
          89500,
          89500,
          89500,
          89500,
          89500,
          89500,
          89500,
          89500,
          89500,
          89500,
          59000,
          59000,
          59000,
          59000,
          59000,
          59000,
          59000,
          59000,
          59000,
          59000,
          59000,
          59000,
          59000,
          59000,
          59000,
          59000,
          59000,
          59000,
          59000,
          59000,
          59000,
          59000,
          59000,
          59000,
          59000,
          59000,
          59000,
          78500,
          78500,
          78500,
          78500,
          78500,
          78500,
          78500,
          78500,
          78500,
          78500,
          78500,
          78500,
          78500,
          78500,
          78500,
          78500,
          78500,
          78500,
          78500,
          78500,
          78500,
          78500,
          78500,
          78500,
          78500,
          78500,
          38500,
          38500,
          38500,
          38500,
          38500,
          38500,
          38500,
          38500,
          38500,
          38500,
          38500,
          38500,
          38500,
          38500,
          38500,
          38500,
          38500,
          38500,
          38500,
          38500,
          38500,
          38500,
          38500,
          38500,
          38500,
          38500,
          38500,
          38500,
          38500,
          38500,
          60000,
          60000,
          60000,
          56000,
          56000,
          56000,
          56000,
          56000,
          56000,
          56000,
          56000,
          56000,
          56000,
          56000,
          56000,
          56000,
          56000,
          56000,
          56000,
          56000,
          56000,
          56000,
          68000,
          68000,
          68000,
          68000,
          68000,
          68000,
          68000,
          68000,
          68000,
          68000,
          68000,
          51000,
          51000,
          51000,
          51000,
          51000,
          51000,
          51000,
          63500,
          63500,
          40000,
          40000,
          40000,
          40000,
          40000,
          40000,
          40000,
          40000,
          40000,
          40000,
          40000,
          40000,
          40000,
          40000,
          40000,
          40000,
          40000,
          40000,
          40000,
          40000,
          40000,
          40000,
          40000,
          40000,
          40000,
          40000,
          40000,
          40000,
          66000,
          66000,
          66000,
          66000,
          66000,
          66000,
          66000,
          68000,
          68000,
          68000,
          68000,
          68000,
          68000,
          68000,
          68000,
          68000,
          68000,
          68000,
          68000,
          68000,
          68000,
          68000,
          68000,
          68000,
          68000,
          68000,
          68000,
          68000,
          68000,
          68000,
          68000,
          68000,
          68000,
          68000,
          68000,
          68000,
          68000,
          64500,
          64500,
          64500,
          64500,
          64500,
          64500,
          64500,
          64500,
          64500,
          64500,
          64500,
          64500,
          64500,
          64500,
          64500,
          64500,
          64500,
          64500,
          64500,
          64500,
          64500,
          64500,
          64500,
          64500,
          64500,
          64500,
          64500,
          64500,
          76000,
          76000,
          76000,
          76000,
          76000,
          76000,
          76000,
          76000,
          76000,
          76000,
          76000,
          76000,
          76000,
          76000,
          76000,
          76000,
          76000,
          76000,
          76000,
          76000,
          76000,
          76000,
          76000,
          76000,
          76000,
          57000,
          57000,
          57000,
          57000,
          57000,
          57000,
          57000,
          57000,
          57000,
          80500,
          80500,
          80500,
          80500,
          80500,
          80500,
          80500,
          80500,
          80500,
          80500,
          80500,
          80500,
          80500,
          80500,
          80500,
          80500,
          80500,
          80500,
          80500,
          80500,
          80500,
          80500,
          80500,
          80500,
          80500,
          80500,
          80500,
          138500,
          138500,
          138500,
          138500,
          138500,
          138500,
          138500,
          138500,
          138500,
          138500,
          138500,
          138500,
          138500,
          138500,
          138500,
          138500,
          138500,
          138500,
          138500,
          138500,
          138500,
          138500,
          138500,
          138500,
          138500,
          138500,
          138500,
          138500,
          126000,
          126000,
          126000,
          126000,
          126000,
          126000,
          126000,
          126000,
          126000,
          126000,
          126000,
          126000,
          126000,
          126000,
          126000,
          126000,
          126000,
          126000,
          126000,
          126000,
          126000,
          126000,
          126000,
          126000,
          126000,
          99000,
          99000,
          99000,
          99000,
          99000,
          99000,
          99000,
          99000,
          99000,
          99000,
          99000,
          99000,
          99000,
          99000,
          99000,
          99000,
          99000,
          99000,
          99000,
          99000,
          99000,
          99000,
          99000,
          99000,
          99000,
          99000,
          99000,
          99000,
          92500,
          92500,
          92500,
          92500,
          92500,
          92500,
          92500,
          92500,
          92500,
          92500,
          92500,
          92500,
          92500,
          92500,
          92500,
          92500,
          92500,
          92500,
          92500,
          92500,
          92500,
          92500,
          92500,
          92500,
          92500,
          92500,
          92500,
          92500,
          66000,
          66000,
          66000,
          66000,
          66000,
          66000,
          66000,
          66000,
          66000,
          66000,
          66000,
          66000,
          66000,
          66000,
          66000,
          66000,
          66000,
          66000,
          66000,
          66000,
          66000,
          66000,
          66000,
          60500,
          60500,
          60500,
          60500,
          60500,
          60500,
          60500,
          60500,
          60500,
          60500,
          60500,
          60500,
          60500,
          60500,
          60500,
          60500,
          60500,
          60500,
          60500,
          60500,
          60500,
          60500,
          60500,
          60500,
          60500,
          60500,
          47500,
          47500,
          47500,
          47500,
          47500,
          47500,
          47500,
          47500,
          47500,
          47500,
          47500,
          47500,
          47500,
          47500,
          47500,
          47500,
          47500,
          47500,
          47500,
          47500,
          47500,
          47500,
          47500,
          51000,
          51000,
          51000,
          51000,
          51000,
          51000,
          51000,
          51000,
          51000,
          51000,
          51000,
          51000,
          51000,
          51000,
          51000,
          51000,
          51000,
          51000,
          51000,
          51000,
          51000,
          51000,
          51000,
          51000,
          51000,
          51000,
          78000,
          78000,
          78000,
          78000,
          78000,
          78000,
          78000,
          78000,
          78000,
          78000,
          78000,
          78000,
          78000,
          78000,
          78000,
          78000,
          78000,
          78000,
          78000,
          78000,
          78000,
          78000,
          78000,
          78000,
          78000,
          78000,
          78000,
          44000,
          44000,
          44000,
          44000,
          51500,
          51500,
          51500,
          62000,
          62000,
          62000,
          62000,
          62000,
          62000,
          62000,
          62000,
          62000,
          62000,
          62000,
          62000,
          62000,
          62000,
          62000,
          62000,
          62000,
          62000,
          62000,
          62000,
          62000,
          62000,
          62000,
          62000,
          62000,
          62000,
          70000,
          70000,
          70000,
          70000,
          70000,
          70000,
          70000,
          70000,
          70000,
          70000,
          70000,
          70000,
          70000,
          70000,
          70000,
          70000,
          70000,
          70000,
          70000,
          70000,
          70000,
          70000,
          70000,
          70000,
          70000,
          70000,
          70000,
          70000,
          78500,
          78500,
          78500,
          78500,
          78500,
          78500,
          78500,
          78500,
          78500,
          78500,
          78500,
          78500,
          78500,
          78500,
          78500,
          78500,
          78500,
          78500,
          78500,
          78500,
          78500,
          78500,
          78500,
          78500,
          78500,
          78500,
          78500,
          91000,
          91000,
          91000,
          91000,
          91000,
          91000,
          91000,
          91000,
          91000,
          91000,
          91000,
          91000,
          91000,
          91000,
          91000
         ],
         "yaxis": "y"
        }
       ],
       "layout": {
        "legend": {
         "tracegroupgap": 0
        },
        "margin": {
         "t": 60
        },
        "template": {
         "data": {
          "bar": [
           {
            "error_x": {
             "color": "#2a3f5f"
            },
            "error_y": {
             "color": "#2a3f5f"
            },
            "marker": {
             "line": {
              "color": "#E5ECF6",
              "width": 0.5
             },
             "pattern": {
              "fillmode": "overlay",
              "size": 10,
              "solidity": 0.2
             }
            },
            "type": "bar"
           }
          ],
          "barpolar": [
           {
            "marker": {
             "line": {
              "color": "#E5ECF6",
              "width": 0.5
             },
             "pattern": {
              "fillmode": "overlay",
              "size": 10,
              "solidity": 0.2
             }
            },
            "type": "barpolar"
           }
          ],
          "carpet": [
           {
            "aaxis": {
             "endlinecolor": "#2a3f5f",
             "gridcolor": "white",
             "linecolor": "white",
             "minorgridcolor": "white",
             "startlinecolor": "#2a3f5f"
            },
            "baxis": {
             "endlinecolor": "#2a3f5f",
             "gridcolor": "white",
             "linecolor": "white",
             "minorgridcolor": "white",
             "startlinecolor": "#2a3f5f"
            },
            "type": "carpet"
           }
          ],
          "choropleth": [
           {
            "colorbar": {
             "outlinewidth": 0,
             "ticks": ""
            },
            "type": "choropleth"
           }
          ],
          "contour": [
           {
            "colorbar": {
             "outlinewidth": 0,
             "ticks": ""
            },
            "colorscale": [
             [
              0,
              "#0d0887"
             ],
             [
              0.1111111111111111,
              "#46039f"
             ],
             [
              0.2222222222222222,
              "#7201a8"
             ],
             [
              0.3333333333333333,
              "#9c179e"
             ],
             [
              0.4444444444444444,
              "#bd3786"
             ],
             [
              0.5555555555555556,
              "#d8576b"
             ],
             [
              0.6666666666666666,
              "#ed7953"
             ],
             [
              0.7777777777777778,
              "#fb9f3a"
             ],
             [
              0.8888888888888888,
              "#fdca26"
             ],
             [
              1,
              "#f0f921"
             ]
            ],
            "type": "contour"
           }
          ],
          "contourcarpet": [
           {
            "colorbar": {
             "outlinewidth": 0,
             "ticks": ""
            },
            "type": "contourcarpet"
           }
          ],
          "heatmap": [
           {
            "colorbar": {
             "outlinewidth": 0,
             "ticks": ""
            },
            "colorscale": [
             [
              0,
              "#0d0887"
             ],
             [
              0.1111111111111111,
              "#46039f"
             ],
             [
              0.2222222222222222,
              "#7201a8"
             ],
             [
              0.3333333333333333,
              "#9c179e"
             ],
             [
              0.4444444444444444,
              "#bd3786"
             ],
             [
              0.5555555555555556,
              "#d8576b"
             ],
             [
              0.6666666666666666,
              "#ed7953"
             ],
             [
              0.7777777777777778,
              "#fb9f3a"
             ],
             [
              0.8888888888888888,
              "#fdca26"
             ],
             [
              1,
              "#f0f921"
             ]
            ],
            "type": "heatmap"
           }
          ],
          "heatmapgl": [
           {
            "colorbar": {
             "outlinewidth": 0,
             "ticks": ""
            },
            "colorscale": [
             [
              0,
              "#0d0887"
             ],
             [
              0.1111111111111111,
              "#46039f"
             ],
             [
              0.2222222222222222,
              "#7201a8"
             ],
             [
              0.3333333333333333,
              "#9c179e"
             ],
             [
              0.4444444444444444,
              "#bd3786"
             ],
             [
              0.5555555555555556,
              "#d8576b"
             ],
             [
              0.6666666666666666,
              "#ed7953"
             ],
             [
              0.7777777777777778,
              "#fb9f3a"
             ],
             [
              0.8888888888888888,
              "#fdca26"
             ],
             [
              1,
              "#f0f921"
             ]
            ],
            "type": "heatmapgl"
           }
          ],
          "histogram": [
           {
            "marker": {
             "pattern": {
              "fillmode": "overlay",
              "size": 10,
              "solidity": 0.2
             }
            },
            "type": "histogram"
           }
          ],
          "histogram2d": [
           {
            "colorbar": {
             "outlinewidth": 0,
             "ticks": ""
            },
            "colorscale": [
             [
              0,
              "#0d0887"
             ],
             [
              0.1111111111111111,
              "#46039f"
             ],
             [
              0.2222222222222222,
              "#7201a8"
             ],
             [
              0.3333333333333333,
              "#9c179e"
             ],
             [
              0.4444444444444444,
              "#bd3786"
             ],
             [
              0.5555555555555556,
              "#d8576b"
             ],
             [
              0.6666666666666666,
              "#ed7953"
             ],
             [
              0.7777777777777778,
              "#fb9f3a"
             ],
             [
              0.8888888888888888,
              "#fdca26"
             ],
             [
              1,
              "#f0f921"
             ]
            ],
            "type": "histogram2d"
           }
          ],
          "histogram2dcontour": [
           {
            "colorbar": {
             "outlinewidth": 0,
             "ticks": ""
            },
            "colorscale": [
             [
              0,
              "#0d0887"
             ],
             [
              0.1111111111111111,
              "#46039f"
             ],
             [
              0.2222222222222222,
              "#7201a8"
             ],
             [
              0.3333333333333333,
              "#9c179e"
             ],
             [
              0.4444444444444444,
              "#bd3786"
             ],
             [
              0.5555555555555556,
              "#d8576b"
             ],
             [
              0.6666666666666666,
              "#ed7953"
             ],
             [
              0.7777777777777778,
              "#fb9f3a"
             ],
             [
              0.8888888888888888,
              "#fdca26"
             ],
             [
              1,
              "#f0f921"
             ]
            ],
            "type": "histogram2dcontour"
           }
          ],
          "mesh3d": [
           {
            "colorbar": {
             "outlinewidth": 0,
             "ticks": ""
            },
            "type": "mesh3d"
           }
          ],
          "parcoords": [
           {
            "line": {
             "colorbar": {
              "outlinewidth": 0,
              "ticks": ""
             }
            },
            "type": "parcoords"
           }
          ],
          "pie": [
           {
            "automargin": true,
            "type": "pie"
           }
          ],
          "scatter": [
           {
            "fillpattern": {
             "fillmode": "overlay",
             "size": 10,
             "solidity": 0.2
            },
            "type": "scatter"
           }
          ],
          "scatter3d": [
           {
            "line": {
             "colorbar": {
              "outlinewidth": 0,
              "ticks": ""
             }
            },
            "marker": {
             "colorbar": {
              "outlinewidth": 0,
              "ticks": ""
             }
            },
            "type": "scatter3d"
           }
          ],
          "scattercarpet": [
           {
            "marker": {
             "colorbar": {
              "outlinewidth": 0,
              "ticks": ""
             }
            },
            "type": "scattercarpet"
           }
          ],
          "scattergeo": [
           {
            "marker": {
             "colorbar": {
              "outlinewidth": 0,
              "ticks": ""
             }
            },
            "type": "scattergeo"
           }
          ],
          "scattergl": [
           {
            "marker": {
             "colorbar": {
              "outlinewidth": 0,
              "ticks": ""
             }
            },
            "type": "scattergl"
           }
          ],
          "scattermapbox": [
           {
            "marker": {
             "colorbar": {
              "outlinewidth": 0,
              "ticks": ""
             }
            },
            "type": "scattermapbox"
           }
          ],
          "scatterpolar": [
           {
            "marker": {
             "colorbar": {
              "outlinewidth": 0,
              "ticks": ""
             }
            },
            "type": "scatterpolar"
           }
          ],
          "scatterpolargl": [
           {
            "marker": {
             "colorbar": {
              "outlinewidth": 0,
              "ticks": ""
             }
            },
            "type": "scatterpolargl"
           }
          ],
          "scatterternary": [
           {
            "marker": {
             "colorbar": {
              "outlinewidth": 0,
              "ticks": ""
             }
            },
            "type": "scatterternary"
           }
          ],
          "surface": [
           {
            "colorbar": {
             "outlinewidth": 0,
             "ticks": ""
            },
            "colorscale": [
             [
              0,
              "#0d0887"
             ],
             [
              0.1111111111111111,
              "#46039f"
             ],
             [
              0.2222222222222222,
              "#7201a8"
             ],
             [
              0.3333333333333333,
              "#9c179e"
             ],
             [
              0.4444444444444444,
              "#bd3786"
             ],
             [
              0.5555555555555556,
              "#d8576b"
             ],
             [
              0.6666666666666666,
              "#ed7953"
             ],
             [
              0.7777777777777778,
              "#fb9f3a"
             ],
             [
              0.8888888888888888,
              "#fdca26"
             ],
             [
              1,
              "#f0f921"
             ]
            ],
            "type": "surface"
           }
          ],
          "table": [
           {
            "cells": {
             "fill": {
              "color": "#EBF0F8"
             },
             "line": {
              "color": "white"
             }
            },
            "header": {
             "fill": {
              "color": "#C8D4E3"
             },
             "line": {
              "color": "white"
             }
            },
            "type": "table"
           }
          ]
         },
         "layout": {
          "annotationdefaults": {
           "arrowcolor": "#2a3f5f",
           "arrowhead": 0,
           "arrowwidth": 1
          },
          "autotypenumbers": "strict",
          "coloraxis": {
           "colorbar": {
            "outlinewidth": 0,
            "ticks": ""
           }
          },
          "colorscale": {
           "diverging": [
            [
             0,
             "#8e0152"
            ],
            [
             0.1,
             "#c51b7d"
            ],
            [
             0.2,
             "#de77ae"
            ],
            [
             0.3,
             "#f1b6da"
            ],
            [
             0.4,
             "#fde0ef"
            ],
            [
             0.5,
             "#f7f7f7"
            ],
            [
             0.6,
             "#e6f5d0"
            ],
            [
             0.7,
             "#b8e186"
            ],
            [
             0.8,
             "#7fbc41"
            ],
            [
             0.9,
             "#4d9221"
            ],
            [
             1,
             "#276419"
            ]
           ],
           "sequential": [
            [
             0,
             "#0d0887"
            ],
            [
             0.1111111111111111,
             "#46039f"
            ],
            [
             0.2222222222222222,
             "#7201a8"
            ],
            [
             0.3333333333333333,
             "#9c179e"
            ],
            [
             0.4444444444444444,
             "#bd3786"
            ],
            [
             0.5555555555555556,
             "#d8576b"
            ],
            [
             0.6666666666666666,
             "#ed7953"
            ],
            [
             0.7777777777777778,
             "#fb9f3a"
            ],
            [
             0.8888888888888888,
             "#fdca26"
            ],
            [
             1,
             "#f0f921"
            ]
           ],
           "sequentialminus": [
            [
             0,
             "#0d0887"
            ],
            [
             0.1111111111111111,
             "#46039f"
            ],
            [
             0.2222222222222222,
             "#7201a8"
            ],
            [
             0.3333333333333333,
             "#9c179e"
            ],
            [
             0.4444444444444444,
             "#bd3786"
            ],
            [
             0.5555555555555556,
             "#d8576b"
            ],
            [
             0.6666666666666666,
             "#ed7953"
            ],
            [
             0.7777777777777778,
             "#fb9f3a"
            ],
            [
             0.8888888888888888,
             "#fdca26"
            ],
            [
             1,
             "#f0f921"
            ]
           ]
          },
          "colorway": [
           "#636efa",
           "#EF553B",
           "#00cc96",
           "#ab63fa",
           "#FFA15A",
           "#19d3f3",
           "#FF6692",
           "#B6E880",
           "#FF97FF",
           "#FECB52"
          ],
          "font": {
           "color": "#2a3f5f"
          },
          "geo": {
           "bgcolor": "white",
           "lakecolor": "white",
           "landcolor": "#E5ECF6",
           "showlakes": true,
           "showland": true,
           "subunitcolor": "white"
          },
          "hoverlabel": {
           "align": "left"
          },
          "hovermode": "closest",
          "mapbox": {
           "style": "light"
          },
          "paper_bgcolor": "white",
          "plot_bgcolor": "#E5ECF6",
          "polar": {
           "angularaxis": {
            "gridcolor": "white",
            "linecolor": "white",
            "ticks": ""
           },
           "bgcolor": "#E5ECF6",
           "radialaxis": {
            "gridcolor": "white",
            "linecolor": "white",
            "ticks": ""
           }
          },
          "scene": {
           "xaxis": {
            "backgroundcolor": "#E5ECF6",
            "gridcolor": "white",
            "gridwidth": 2,
            "linecolor": "white",
            "showbackground": true,
            "ticks": "",
            "zerolinecolor": "white"
           },
           "yaxis": {
            "backgroundcolor": "#E5ECF6",
            "gridcolor": "white",
            "gridwidth": 2,
            "linecolor": "white",
            "showbackground": true,
            "ticks": "",
            "zerolinecolor": "white"
           },
           "zaxis": {
            "backgroundcolor": "#E5ECF6",
            "gridcolor": "white",
            "gridwidth": 2,
            "linecolor": "white",
            "showbackground": true,
            "ticks": "",
            "zerolinecolor": "white"
           }
          },
          "shapedefaults": {
           "line": {
            "color": "#2a3f5f"
           }
          },
          "ternary": {
           "aaxis": {
            "gridcolor": "white",
            "linecolor": "white",
            "ticks": ""
           },
           "baxis": {
            "gridcolor": "white",
            "linecolor": "white",
            "ticks": ""
           },
           "bgcolor": "#E5ECF6",
           "caxis": {
            "gridcolor": "white",
            "linecolor": "white",
            "ticks": ""
           }
          },
          "title": {
           "x": 0.05
          },
          "xaxis": {
           "automargin": true,
           "gridcolor": "white",
           "linecolor": "white",
           "ticks": "",
           "title": {
            "standoff": 15
           },
           "zerolinecolor": "white",
           "zerolinewidth": 2
          },
          "yaxis": {
           "automargin": true,
           "gridcolor": "white",
           "linecolor": "white",
           "ticks": "",
           "title": {
            "standoff": 15
           },
           "zerolinecolor": "white",
           "zerolinewidth": 2
          }
         }
        },
        "xaxis": {
         "anchor": "y",
         "domain": [
          0,
          1
         ],
         "title": {
          "text": "founded"
         }
        },
        "yaxis": {
         "anchor": "x",
         "domain": [
          0,
          1
         ],
         "title": {
          "text": "avg_salary"
         }
        }
       }
      }
     },
     "metadata": {},
     "output_type": "display_data"
    }
   ],
   "source": [
    "px.scatter(df,x=\"founded\",y=\"avg_salary\")"
   ]
  },
  {
   "cell_type": "markdown",
   "metadata": {},
   "source": [
    "#### How many jobs per Sector ?"
   ]
  },
  {
   "cell_type": "code",
   "execution_count": null,
   "metadata": {},
   "outputs": [
    {
     "data": {
      "application/vnd.plotly.v1+json": {
       "config": {
        "plotlyServerURL": "https://plot.ly"
       },
       "data": [
        {
         "alignmentgroup": "True",
         "bingroup": "x",
         "hovertemplate": "sector=%{x}<br>count=%{y}<extra></extra>",
         "legendgroup": "",
         "marker": {
          "color": "#636efa",
          "pattern": {
           "shape": ""
          }
         },
         "name": "",
         "offsetgroup": "",
         "orientation": "v",
         "showlegend": false,
         "type": "histogram",
         "x": [
          "Non-Profit",
          "Health Care",
          "Information Technology",
          "Information Technology",
          "Arts, Entertainment & Recreation",
          "Finance",
          "Finance",
          "Insurance",
          "Finance",
          "Business Services",
          "Health Care",
          null,
          "Health Care",
          "Business Services",
          "Finance",
          "Business Services",
          "Business Services",
          "Business Services",
          "Business Services",
          "Information Technology",
          "Information Technology",
          null,
          "Finance",
          "Restaurants, Bars & Food Services",
          null,
          "Business Services",
          "Information Technology",
          "Health Care",
          "Business Services",
          "Business Services",
          "Business Services",
          "Information Technology",
          null,
          "Finance",
          null,
          "Finance",
          null,
          "Information Technology",
          "Health Care",
          "Non-Profit",
          null,
          null,
          null,
          "Business Services",
          "Information Technology",
          "Business Services",
          "Business Services",
          "Business Services",
          "Finance",
          "Information Technology",
          "Media",
          null,
          "Information Technology",
          "Finance",
          "Business Services",
          null,
          "Media",
          "Accounting & Legal",
          "Information Technology",
          "Real Estate",
          "Health Care",
          "Information Technology",
          "Information Technology",
          "Information Technology",
          "Business Services",
          "Information Technology",
          "Information Technology",
          "Finance",
          null,
          "Information Technology",
          "Business Services",
          "Business Services",
          null,
          "Finance",
          "Business Services",
          "Government",
          "Media",
          "Business Services",
          null,
          "Business Services",
          null,
          "Information Technology",
          "Business Services",
          "Business Services",
          "Accounting & Legal",
          null,
          "Information Technology",
          "Business Services",
          "Insurance",
          "Finance",
          null,
          "Finance",
          "Business Services",
          "Information Technology",
          "Business Services",
          "Business Services",
          "Retail",
          "Business Services",
          "Health Care",
          null,
          "Consumer Services",
          "Business Services",
          "Health Care",
          "Finance",
          "Non-Profit",
          null,
          "Business Services",
          "Information Technology",
          null,
          null,
          "Information Technology",
          "Finance",
          "Business Services",
          "Information Technology",
          "Business Services",
          "Information Technology",
          "Non-Profit",
          "Biotech & Pharmaceuticals",
          "Health Care",
          "Insurance",
          "Consumer Services",
          "Insurance",
          "Business Services",
          null,
          "Information Technology",
          "Information Technology",
          "Health Care",
          "Business Services",
          "Information Technology",
          "Finance",
          "Health Care",
          "Information Technology",
          "Business Services",
          "Information Technology",
          "Media",
          "Arts, Entertainment & Recreation",
          "Media",
          null,
          "Information Technology",
          null,
          "Accounting & Legal",
          "Education",
          "Information Technology",
          "Business Services",
          "Education",
          "Business Services",
          "Business Services",
          "Information Technology",
          null,
          "Accounting & Legal",
          "Health Care",
          "Health Care",
          "Health Care",
          null,
          "Information Technology",
          null,
          "Non-Profit",
          null,
          "Health Care",
          "Health Care",
          "Consumer Services",
          "Business Services",
          null,
          "Information Technology",
          "Information Technology",
          "Media",
          "Information Technology",
          null,
          "Business Services",
          "Non-Profit",
          "Information Technology",
          "Information Technology",
          null,
          "Finance",
          null,
          "Business Services",
          "Finance",
          "Media",
          "Information Technology",
          null,
          "Information Technology",
          "Accounting & Legal",
          "Business Services",
          "Business Services",
          "Information Technology",
          "Business Services",
          null,
          "Business Services",
          "Finance",
          "Non-Profit",
          "Business Services",
          "Finance",
          "Media",
          "Business Services",
          null,
          "Finance",
          "Health Care",
          "Health Care",
          "Information Technology",
          null,
          "Health Care",
          "Business Services",
          "Construction, Repair & Maintenance",
          "Non-Profit",
          "Business Services",
          null,
          "Business Services",
          "Information Technology",
          "Information Technology",
          "Non-Profit",
          "Information Technology",
          "Information Technology",
          "Business Services",
          "Information Technology",
          "Information Technology",
          "Non-Profit",
          null,
          "Business Services",
          "Finance",
          "Media",
          "Information Technology",
          "Business Services",
          null,
          "Business Services",
          "Business Services",
          null,
          "Information Technology",
          null,
          "Business Services",
          "Information Technology",
          "Media",
          "Information Technology",
          "Business Services",
          "Information Technology",
          "Health Care",
          "Information Technology",
          null,
          "Health Care",
          "Business Services",
          "Finance",
          "Information Technology",
          "Health Care",
          null,
          "Finance",
          "Health Care",
          "Health Care",
          "Insurance",
          null,
          "Education",
          "Media",
          "Information Technology",
          "Information Technology",
          "Arts, Entertainment & Recreation",
          null,
          "Information Technology",
          null,
          "Finance",
          "Business Services",
          null,
          "Business Services",
          "Business Services",
          "Business Services",
          "Business Services",
          null,
          "Information Technology",
          "Accounting & Legal",
          "Information Technology",
          "Information Technology",
          "Information Technology",
          "Business Services",
          "Media",
          null,
          null,
          "Business Services",
          "Information Technology",
          null,
          null,
          "Health Care",
          "Information Technology",
          null,
          "Business Services",
          "Health Care",
          "Information Technology",
          "Insurance",
          "Construction, Repair & Maintenance",
          "Health Care",
          "Information Technology",
          "Finance",
          "Finance",
          "Information Technology",
          "Information Technology",
          null,
          "Business Services",
          "Health Care",
          "Information Technology",
          "Finance",
          "Business Services",
          "Biotech & Pharmaceuticals",
          "Finance",
          "Health Care",
          "Finance",
          null,
          "Finance",
          "Business Services",
          "Non-Profit",
          "Media",
          "Information Technology",
          "Information Technology",
          "Information Technology",
          "Media",
          "Health Care",
          "Oil, Gas, Energy & Utilities",
          "Information Technology",
          "Health Care",
          "Information Technology",
          null,
          "Business Services",
          "Finance",
          "Health Care",
          "Non-Profit",
          "Health Care",
          "Information Technology",
          "Business Services",
          "Information Technology",
          "Insurance",
          "Consumer Services",
          "Information Technology",
          null,
          "Information Technology",
          "Finance",
          null,
          "Insurance",
          "Information Technology",
          "Information Technology",
          "Retail",
          "Information Technology",
          "Non-Profit",
          null,
          "Insurance",
          "Health Care",
          "Information Technology",
          "Insurance",
          "Business Services",
          "Business Services",
          "Information Technology",
          "Finance",
          "Information Technology",
          "Information Technology",
          "Business Services",
          "Information Technology",
          null,
          "Business Services",
          "Health Care",
          "Health Care",
          null,
          null,
          "Business Services",
          "Biotech & Pharmaceuticals",
          "Oil, Gas, Energy & Utilities",
          null,
          "Business Services",
          "Information Technology",
          "Finance",
          "Business Services",
          null,
          "Health Care",
          "Business Services",
          null,
          "Finance",
          "Finance",
          "Information Technology",
          "Finance",
          "Finance",
          "Insurance",
          "Health Care",
          "Health Care",
          "Business Services",
          "Business Services",
          "Information Technology",
          "Health Care",
          "Information Technology",
          "Information Technology",
          "Business Services",
          null,
          "Health Care",
          "Business Services",
          "Information Technology",
          "Finance",
          "Information Technology",
          "Health Care",
          null,
          "Business Services",
          "Business Services",
          "Business Services",
          "Business Services",
          "Business Services",
          null,
          "Health Care",
          "Information Technology",
          "Manufacturing",
          "Information Technology",
          "Health Care",
          "Business Services",
          null,
          null,
          "Accounting & Legal",
          "Finance",
          "Business Services",
          null,
          "Information Technology",
          "Finance",
          "Finance",
          "Information Technology",
          null,
          "Business Services",
          "Business Services",
          "Information Technology",
          "Health Care",
          "Business Services",
          null,
          "Biotech & Pharmaceuticals",
          "Government",
          "Manufacturing",
          "Education",
          "Information Technology",
          "Business Services",
          null,
          "Business Services",
          "Information Technology",
          null,
          "Business Services",
          "Finance",
          "Information Technology",
          "Business Services",
          "Manufacturing",
          null,
          null,
          "Information Technology",
          "Information Technology",
          null,
          null,
          "Information Technology",
          "Manufacturing",
          "Information Technology",
          null,
          null,
          null,
          "Oil, Gas, Energy & Utilities",
          "Business Services",
          "Information Technology",
          "Accounting & Legal",
          "Oil, Gas, Energy & Utilities",
          "Information Technology",
          "Business Services",
          "Business Services",
          "Education",
          "Non-Profit",
          "Aerospace & Defense",
          "Education",
          "Business Services",
          "Non-Profit",
          "Information Technology",
          "Business Services",
          null,
          null,
          "Non-Profit",
          "Information Technology",
          "Business Services",
          "Business Services",
          "Manufacturing",
          "Business Services",
          "Retail",
          "Construction, Repair & Maintenance",
          "Information Technology",
          "Business Services",
          "Information Technology",
          "Accounting & Legal",
          "Information Technology",
          "Business Services",
          null,
          "Business Services",
          "Information Technology",
          "Telecommunications",
          "Business Services",
          "Business Services",
          "Aerospace & Defense",
          "Business Services",
          "Information Technology",
          "Real Estate",
          "Business Services",
          null,
          "Business Services",
          "Telecommunications",
          "Business Services",
          "Business Services",
          null,
          "Business Services",
          "Construction, Repair & Maintenance",
          "Aerospace & Defense",
          null,
          "Information Technology",
          "Business Services",
          null,
          "Information Technology",
          "Information Technology",
          "Information Technology",
          "Information Technology",
          "Education",
          "Insurance",
          "Health Care",
          "Information Technology",
          "Information Technology",
          "Health Care",
          "Information Technology",
          "Information Technology",
          "Information Technology",
          "Information Technology",
          "Business Services",
          "Information Technology",
          null,
          "Information Technology",
          "Information Technology",
          "Business Services",
          "Information Technology",
          "Government",
          "Business Services",
          "Finance",
          null,
          "Accounting & Legal",
          "Information Technology",
          "Business Services",
          null,
          "Business Services",
          "Information Technology",
          "Health Care",
          null,
          "Business Services",
          "Health Care",
          "Real Estate",
          "Media",
          "Information Technology",
          "Health Care",
          "Education",
          "Media",
          "Construction, Repair & Maintenance",
          "Business Services",
          "Information Technology",
          null,
          "Health Care",
          "Information Technology",
          "Finance",
          null,
          "Media",
          "Business Services",
          "Education",
          "Business Services",
          "Consumer Services",
          "Media",
          null,
          "Construction, Repair & Maintenance",
          "Media",
          "Health Care",
          "Finance",
          "Media",
          "Health Care",
          "Information Technology",
          "Finance",
          "Media",
          null,
          "Finance",
          "Information Technology",
          "Business Services",
          "Business Services",
          "Government",
          "Health Care",
          null,
          "Media",
          "Finance",
          null,
          null,
          "Health Care",
          "Government",
          "Information Technology",
          "Real Estate",
          "Education",
          "Business Services",
          "Information Technology",
          "Health Care",
          "Biotech & Pharmaceuticals",
          "Business Services",
          "Information Technology",
          "Business Services",
          "Media",
          null,
          "Media",
          "Health Care",
          "Business Services",
          "Media",
          "Retail",
          "Information Technology",
          "Information Technology",
          null,
          "Health Care",
          "Business Services",
          "Aerospace & Defense",
          "Finance",
          "Business Services",
          null,
          null,
          "Finance",
          null,
          "Information Technology",
          null,
          "Business Services",
          null,
          "Media",
          "Insurance",
          "Consumer Services",
          "Business Services",
          "Information Technology",
          "Manufacturing",
          "Business Services",
          null,
          "Information Technology",
          "Media",
          "Insurance",
          "Insurance",
          null,
          "Real Estate",
          null,
          "Business Services",
          null,
          "Information Technology",
          null,
          "Information Technology",
          null,
          "Health Care",
          "Business Services",
          "Business Services",
          "Finance",
          "Consumer Services",
          "Aerospace & Defense",
          "Business Services",
          "Information Technology",
          "Media",
          "Information Technology",
          "Information Technology",
          null,
          "Retail",
          null,
          "Information Technology",
          null,
          null,
          "Finance",
          "Retail",
          "Information Technology",
          null,
          "Insurance",
          "Business Services",
          null,
          null,
          null,
          "Manufacturing",
          "Health Care",
          "Business Services",
          "Business Services",
          "Business Services",
          "Manufacturing",
          "Insurance",
          null,
          "Manufacturing",
          "Finance",
          "Retail",
          null,
          null,
          null,
          "Education",
          "Business Services",
          "Finance",
          null,
          "Insurance",
          "Media",
          "Insurance",
          "Manufacturing",
          "Construction, Repair & Maintenance",
          null,
          null,
          "Health Care",
          null,
          null,
          null,
          "Business Services",
          "Construction, Repair & Maintenance",
          "Accounting & Legal",
          null,
          "Insurance",
          "Business Services",
          "Business Services",
          null,
          "Accounting & Legal",
          "Insurance",
          null,
          "Information Technology",
          "Media",
          "Health Care",
          "Insurance",
          "Insurance",
          null,
          "Media",
          "Business Services",
          "Business Services",
          "Business Services",
          "Health Care",
          null,
          "Information Technology",
          "Insurance",
          null,
          null,
          null,
          null,
          "Finance",
          "Arts, Entertainment & Recreation",
          "Information Technology",
          "Business Services",
          "Health Care",
          "Business Services",
          "Business Services",
          "Business Services",
          "Manufacturing",
          "Information Technology",
          "Transportation & Logistics",
          "Education",
          "Business Services",
          null,
          "Business Services",
          "Business Services",
          "Manufacturing",
          "Finance",
          "Non-Profit",
          "Business Services",
          "Information Technology",
          "Finance",
          "Business Services",
          "Manufacturing",
          "Education",
          "Government",
          "Finance",
          "Business Services",
          "Finance",
          "Finance",
          "Information Technology",
          "Health Care",
          "Manufacturing",
          "Information Technology",
          "Health Care",
          "Business Services",
          null,
          "Manufacturing",
          "Business Services",
          "Information Technology",
          "Transportation & Logistics",
          "Business Services",
          "Business Services",
          null,
          "Media",
          "Government",
          null,
          null,
          "Information Technology",
          "Information Technology",
          "Business Services",
          "Education",
          "Biotech & Pharmaceuticals",
          null,
          "Information Technology",
          "Information Technology",
          "Business Services",
          "Non-Profit",
          "Finance",
          "Construction, Repair & Maintenance",
          "Accounting & Legal",
          "Health Care",
          "Business Services",
          "Finance",
          "Business Services",
          "Education",
          null,
          "Accounting & Legal",
          "Finance",
          "Information Technology",
          "Information Technology",
          "Oil, Gas, Energy & Utilities",
          "Accounting & Legal",
          "Construction, Repair & Maintenance",
          "Manufacturing",
          "Business Services",
          "Transportation & Logistics",
          "Information Technology",
          "Business Services",
          "Retail",
          null,
          "Information Technology",
          "Information Technology",
          "Finance",
          "Accounting & Legal",
          null,
          "Finance",
          "Business Services",
          "Business Services",
          "Business Services",
          "Non-Profit",
          "Business Services",
          null,
          "Manufacturing",
          "Biotech & Pharmaceuticals",
          "Business Services",
          null,
          "Manufacturing",
          "Business Services",
          "Education",
          "Information Technology",
          "Business Services",
          "Information Technology",
          "Health Care",
          "Restaurants, Bars & Food Services",
          "Education",
          "Finance",
          "Business Services",
          "Education",
          null,
          "Finance",
          "Information Technology",
          "Education",
          "Information Technology",
          null,
          "Finance",
          null,
          "Finance",
          "Business Services",
          "Information Technology",
          "Information Technology",
          null,
          "Information Technology",
          "Health Care",
          "Information Technology",
          "Manufacturing",
          "Information Technology",
          "Biotech & Pharmaceuticals",
          "Manufacturing",
          "Business Services",
          "Health Care",
          "Business Services",
          "Business Services",
          "Business Services",
          "Business Services",
          "Transportation & Logistics",
          "Retail",
          "Finance",
          "Business Services",
          null,
          "Biotech & Pharmaceuticals",
          null,
          null,
          null,
          "Business Services",
          "Business Services",
          "Transportation & Logistics",
          null,
          "Business Services",
          null,
          "Health Care",
          "Insurance",
          "Education",
          "Business Services",
          null,
          "Information Technology",
          "Retail",
          "Information Technology",
          "Accounting & Legal",
          "Accounting & Legal",
          "Retail",
          null,
          "Finance",
          "Accounting & Legal",
          "Business Services",
          "Finance",
          "Accounting & Legal",
          "Restaurants, Bars & Food Services",
          "Telecommunications",
          "Manufacturing",
          "Business Services",
          "Information Technology",
          "Health Care",
          "Real Estate",
          "Business Services",
          "Accounting & Legal",
          "Finance",
          "Business Services",
          null,
          "Health Care",
          "Information Technology",
          "Business Services",
          null,
          "Government",
          "Oil, Gas, Energy & Utilities",
          null,
          "Business Services",
          null,
          "Finance",
          "Business Services",
          "Information Technology",
          "Accounting & Legal",
          "Information Technology",
          "Information Technology",
          "Information Technology",
          "Information Technology",
          "Health Care",
          "Information Technology",
          null,
          "Information Technology",
          null,
          "Information Technology",
          "Business Services",
          "Restaurants, Bars & Food Services",
          "Business Services",
          null,
          null,
          "Business Services",
          "Business Services",
          "Business Services",
          "Retail",
          "Health Care",
          "Information Technology",
          "Government",
          "Insurance",
          "Business Services",
          null,
          "Business Services",
          "Insurance",
          "Finance",
          "Health Care",
          "Health Care",
          "Business Services",
          "Media",
          "Business Services",
          null,
          "Information Technology",
          "Telecommunications",
          "Information Technology",
          "Information Technology",
          "Health Care",
          null,
          "Business Services",
          "Education",
          "Finance",
          "Health Care",
          "Health Care",
          "Business Services",
          "Health Care",
          "Business Services",
          "Business Services",
          "Business Services",
          "Business Services",
          "Business Services",
          "Business Services",
          null,
          "Finance",
          "Information Technology",
          "Government",
          "Finance",
          "Information Technology",
          "Finance",
          "Construction, Repair & Maintenance",
          "Business Services",
          "Retail",
          "Finance",
          "Business Services",
          "Business Services",
          "Telecommunications",
          "Education",
          "Business Services",
          "Business Services",
          "Business Services",
          "Business Services",
          "Information Technology",
          "Non-Profit",
          null,
          "Manufacturing",
          "Finance",
          "Information Technology",
          null,
          "Education",
          "Finance",
          "Finance",
          "Finance",
          "Finance",
          "Information Technology",
          null,
          null,
          null,
          "Education",
          "Information Technology",
          "Business Services",
          "Information Technology",
          "Retail",
          "Manufacturing",
          "Business Services",
          "Business Services",
          "Retail",
          null,
          "Transportation & Logistics",
          "Finance",
          "Health Care",
          "Business Services",
          "Business Services",
          "Information Technology",
          null,
          "Information Technology",
          "Information Technology",
          "Finance",
          "Insurance",
          "Health Care",
          "Construction, Repair & Maintenance",
          null,
          "Information Technology",
          "Information Technology",
          "Business Services",
          "Business Services",
          "Information Technology",
          "Business Services",
          null,
          "Business Services",
          "Information Technology",
          null,
          "Business Services",
          null,
          null,
          "Accounting & Legal",
          "Biotech & Pharmaceuticals",
          "Retail",
          "Business Services",
          null,
          "Finance",
          "Information Technology",
          "Business Services",
          "Insurance",
          "Business Services",
          "Business Services",
          null,
          "Business Services",
          "Insurance",
          "Health Care",
          null,
          "Business Services",
          "Business Services",
          "Business Services",
          "Business Services",
          "Information Technology",
          "Retail",
          null,
          "Insurance",
          "Information Technology",
          "Finance",
          null,
          "Business Services",
          "Health Care",
          "Information Technology",
          "Health Care",
          "Biotech & Pharmaceuticals",
          "Real Estate",
          "Health Care",
          "Information Technology",
          "Business Services",
          "Business Services",
          null,
          "Business Services",
          "Information Technology",
          "Information Technology",
          null,
          "Business Services",
          null,
          "Business Services",
          "Business Services",
          "Information Technology",
          "Information Technology",
          "Transportation & Logistics",
          "Information Technology",
          "Business Services",
          "Education",
          "Telecommunications",
          "Mining & Metals",
          "Accounting & Legal",
          "Business Services",
          "Business Services",
          "Information Technology",
          "Health Care",
          "Education",
          "Insurance",
          "Health Care",
          null,
          "Finance",
          "Information Technology",
          "Biotech & Pharmaceuticals",
          null,
          "Health Care",
          "Education",
          "Information Technology",
          null,
          "Information Technology",
          "Media",
          "Business Services",
          "Information Technology",
          "Finance",
          "Business Services",
          "Business Services",
          "Biotech & Pharmaceuticals",
          "Business Services",
          "Business Services",
          "Non-Profit",
          "Information Technology",
          null,
          null,
          "Business Services",
          "Education",
          null,
          "Health Care",
          "Education",
          "Business Services",
          "Business Services",
          "Retail",
          "Information Technology",
          "Business Services",
          "Health Care",
          "Business Services",
          "Business Services",
          "Education",
          "Finance",
          "Finance",
          "Aerospace & Defense",
          "Information Technology",
          "Finance",
          "Information Technology",
          "Oil, Gas, Energy & Utilities",
          "Business Services",
          null,
          "Business Services",
          "Business Services",
          "Business Services",
          "Business Services",
          null,
          "Information Technology",
          "Business Services",
          "Health Care",
          "Information Technology",
          "Business Services",
          "Business Services",
          "Insurance",
          "Information Technology",
          "Biotech & Pharmaceuticals",
          "Business Services",
          "Finance",
          null,
          "Telecommunications",
          "Finance",
          "Business Services",
          "Insurance",
          "Biotech & Pharmaceuticals",
          "Business Services",
          null,
          null,
          "Biotech & Pharmaceuticals",
          "Biotech & Pharmaceuticals",
          "Finance",
          "Business Services",
          null,
          "Health Care",
          "Information Technology",
          "Insurance",
          null,
          "Business Services",
          "Business Services",
          "Business Services",
          "Business Services",
          "Business Services",
          "Biotech & Pharmaceuticals",
          "Information Technology",
          null,
          "Business Services",
          null,
          "Information Technology",
          "Manufacturing",
          "Finance",
          "Insurance",
          "Business Services",
          "Business Services",
          "Accounting & Legal",
          "Finance",
          "Information Technology",
          "Health Care",
          "Business Services",
          null,
          "Information Technology",
          "Information Technology",
          "Information Technology",
          "Business Services",
          "Business Services",
          "Information Technology",
          "Information Technology",
          "Aerospace & Defense",
          "Retail",
          "Business Services",
          "Finance",
          "Retail",
          null,
          "Government",
          null,
          "Information Technology",
          "Business Services",
          "Information Technology",
          "Business Services",
          "Information Technology",
          "Information Technology",
          "Information Technology",
          "Information Technology",
          "Finance",
          "Business Services",
          "Retail",
          "Business Services",
          "Business Services",
          "Government",
          "Information Technology",
          "Information Technology",
          "Information Technology",
          "Non-Profit",
          "Aerospace & Defense",
          "Information Technology",
          null,
          "Business Services",
          "Business Services",
          "Accounting & Legal",
          "Aerospace & Defense",
          "Information Technology",
          "Finance",
          "Business Services",
          "Information Technology",
          "Information Technology",
          "Finance",
          "Business Services",
          "Business Services",
          "Aerospace & Defense",
          "Finance",
          "Education",
          "Education",
          "Accounting & Legal",
          "Information Technology",
          "Education",
          "Health Care",
          null,
          "Aerospace & Defense",
          "Biotech & Pharmaceuticals",
          "Information Technology",
          "Finance",
          "Education",
          "Business Services",
          "Finance",
          "Business Services",
          null,
          "Oil, Gas, Energy & Utilities",
          "Manufacturing",
          "Biotech & Pharmaceuticals",
          "Business Services",
          "Aerospace & Defense",
          "Information Technology",
          null,
          null,
          "Biotech & Pharmaceuticals",
          "Manufacturing",
          "Biotech & Pharmaceuticals",
          "Business Services",
          "Health Care",
          "Biotech & Pharmaceuticals",
          "Education",
          "Information Technology",
          "Information Technology",
          "Information Technology",
          null,
          "Health Care",
          null,
          "Information Technology",
          "Insurance",
          "Information Technology",
          "Information Technology",
          null,
          "Education",
          "Information Technology",
          null,
          "Business Services",
          "Aerospace & Defense",
          "Education",
          "Business Services",
          null,
          "Arts, Entertainment & Recreation",
          "Education",
          "Information Technology",
          "Health Care",
          "Information Technology",
          "Business Services",
          "Information Technology",
          "Education",
          "Business Services",
          "Finance",
          "Aerospace & Defense",
          "Information Technology",
          "Information Technology",
          "Information Technology",
          "Information Technology",
          "Retail",
          "Business Services",
          "Information Technology",
          "Business Services",
          "Business Services",
          "Finance",
          "Arts, Entertainment & Recreation",
          "Business Services",
          "Finance",
          null,
          "Information Technology",
          "Government",
          "Finance",
          "Information Technology",
          "Information Technology",
          "Retail",
          "Telecommunications",
          "Business Services",
          null,
          "Media",
          "Business Services",
          "Finance",
          "Health Care",
          "Information Technology",
          null,
          "Information Technology",
          "Business Services",
          "Education",
          null,
          "Health Care",
          "Business Services",
          "Finance",
          "Education",
          "Insurance",
          "Health Care",
          "Government",
          null,
          "Health Care",
          null,
          "Manufacturing",
          "Manufacturing",
          "Business Services",
          "Information Technology",
          "Finance",
          "Information Technology",
          "Business Services",
          "Oil, Gas, Energy & Utilities",
          "Finance",
          "Information Technology",
          "Business Services",
          null,
          "Finance",
          "Information Technology",
          "Business Services",
          "Business Services",
          "Information Technology",
          "Manufacturing",
          "Media",
          "Business Services",
          "Information Technology",
          "Business Services",
          "Health Care",
          null,
          null,
          "Information Technology",
          "Restaurants, Bars & Food Services",
          "Information Technology",
          "Finance",
          null,
          "Business Services",
          "Insurance",
          "Information Technology",
          "Aerospace & Defense",
          null,
          "Business Services",
          "Information Technology",
          "Business Services",
          "Business Services",
          null,
          "Information Technology",
          null,
          "Manufacturing",
          "Finance",
          "Health Care",
          "Business Services",
          "Government",
          "Business Services",
          "Consumer Services",
          null,
          "Education",
          "Information Technology",
          "Finance",
          "Health Care",
          "Information Technology",
          "Manufacturing",
          "Construction, Repair & Maintenance",
          "Finance",
          "Finance",
          null,
          "Business Services",
          null,
          "Finance",
          "Business Services",
          "Business Services",
          "Information Technology",
          null,
          "Business Services",
          "Consumer Services",
          null,
          null,
          "Accounting & Legal",
          "Finance",
          "Business Services",
          "Manufacturing",
          "Business Services",
          "Information Technology",
          "Business Services",
          "Health Care",
          "Finance",
          "Business Services",
          null,
          "Education",
          null,
          "Consumer Services",
          "Information Technology",
          "Business Services",
          "Information Technology",
          "Manufacturing",
          "Business Services",
          "Information Technology",
          "Restaurants, Bars & Food Services",
          "Accounting & Legal",
          "Business Services",
          "Information Technology",
          "Business Services",
          "Health Care",
          "Business Services",
          "Accounting & Legal",
          "Real Estate",
          "Business Services",
          "Transportation & Logistics",
          "Transportation & Logistics",
          "Accounting & Legal",
          null,
          "Business Services",
          null,
          "Business Services",
          "Business Services",
          "Information Technology",
          null,
          "Finance",
          "Information Technology",
          "Business Services",
          "Information Technology",
          "Information Technology",
          "Information Technology",
          "Information Technology",
          "Arts, Entertainment & Recreation",
          "Business Services",
          "Manufacturing",
          "Information Technology",
          "Information Technology",
          "Accounting & Legal",
          null,
          "Information Technology",
          "Health Care",
          "Business Services",
          null,
          "Information Technology",
          "Information Technology",
          "Information Technology",
          "Information Technology",
          "Business Services",
          "Information Technology",
          "Health Care",
          "Information Technology",
          "Information Technology",
          null,
          "Business Services",
          "Business Services",
          "Information Technology",
          "Information Technology",
          "Information Technology",
          "Business Services",
          "Information Technology",
          "Business Services",
          "Manufacturing",
          "Business Services",
          "Business Services",
          "Information Technology",
          "Accounting & Legal",
          "Information Technology",
          "Information Technology",
          "Consumer Services",
          "Information Technology",
          "Business Services",
          "Information Technology",
          "Information Technology",
          "Information Technology",
          null,
          null,
          "Information Technology",
          "Information Technology",
          "Information Technology",
          "Information Technology",
          "Information Technology",
          "Information Technology",
          null,
          "Health Care",
          "Education",
          "Information Technology",
          "Media",
          "Information Technology",
          "Information Technology",
          "Information Technology",
          null,
          "Finance",
          "Education",
          null,
          null,
          "Information Technology",
          "Business Services",
          "Information Technology",
          "Information Technology",
          "Information Technology",
          null,
          "Business Services",
          "Business Services",
          null,
          "Information Technology",
          "Education",
          "Business Services",
          "Information Technology",
          "Biotech & Pharmaceuticals",
          "Information Technology",
          "Information Technology",
          "Information Technology",
          "Information Technology",
          "Information Technology",
          "Information Technology",
          "Retail",
          "Information Technology",
          "Business Services",
          "Information Technology",
          "Health Care",
          null,
          "Biotech & Pharmaceuticals",
          "Business Services",
          "Information Technology",
          null,
          null,
          "Accounting & Legal",
          "Accounting & Legal",
          "Information Technology",
          "Business Services",
          "Health Care",
          "Manufacturing",
          "Information Technology",
          null,
          "Education",
          "Information Technology",
          "Business Services",
          "Information Technology",
          "Health Care",
          "Biotech & Pharmaceuticals",
          "Business Services",
          "Business Services",
          "Business Services",
          "Business Services",
          "Health Care",
          "Information Technology",
          "Information Technology",
          "Business Services",
          "Information Technology",
          null,
          "Insurance",
          "Biotech & Pharmaceuticals",
          "Information Technology",
          null,
          "Business Services",
          "Manufacturing",
          "Business Services",
          "Information Technology",
          null,
          "Business Services",
          "Information Technology",
          "Information Technology",
          "Information Technology",
          "Information Technology",
          "Business Services",
          "Information Technology",
          "Business Services",
          "Information Technology",
          null,
          "Business Services",
          "Business Services",
          "Information Technology",
          "Information Technology",
          "Accounting & Legal",
          "Biotech & Pharmaceuticals",
          "Business Services",
          "Information Technology",
          "Business Services",
          "Business Services",
          "Biotech & Pharmaceuticals",
          "Consumer Services",
          "Business Services",
          "Business Services",
          "Business Services",
          "Business Services",
          null,
          null,
          null,
          "Finance",
          "Information Technology",
          "Accounting & Legal",
          "Information Technology",
          "Business Services",
          "Information Technology",
          "Information Technology",
          "Information Technology",
          "Business Services",
          "Information Technology",
          "Information Technology",
          "Business Services",
          "Government",
          "Education",
          "Information Technology",
          "Government",
          "Media",
          "Business Services",
          "Finance",
          "Health Care",
          "Finance",
          "Government",
          "Information Technology",
          "Business Services",
          "Business Services",
          "Information Technology",
          "Information Technology",
          "Information Technology",
          "Information Technology",
          "Media",
          "Information Technology",
          "Health Care",
          "Business Services",
          "Information Technology",
          "Information Technology",
          "Health Care",
          "Government",
          "Government",
          "Information Technology",
          "Finance",
          null,
          "Oil, Gas, Energy & Utilities",
          "Information Technology",
          "Government",
          null,
          "Information Technology",
          "Information Technology",
          "Business Services",
          "Government",
          "Insurance",
          "Business Services",
          null,
          "Business Services",
          "Information Technology",
          "Information Technology",
          "Information Technology",
          "Information Technology",
          null,
          "Information Technology",
          "Health Care",
          "Health Care",
          "Government",
          "Information Technology",
          "Finance",
          "Accounting & Legal",
          "Business Services",
          "Information Technology",
          null,
          "Business Services",
          "Information Technology",
          "Insurance",
          "Health Care",
          null,
          "Government",
          "Health Care",
          "Information Technology",
          "Health Care",
          "Information Technology",
          "Government",
          null,
          "Business Services",
          "Business Services",
          "Business Services",
          null,
          "Transportation & Logistics",
          null,
          "Insurance",
          "Information Technology",
          "Government",
          "Government",
          "Business Services",
          "Government",
          "Business Services",
          "Business Services",
          "Finance",
          "Business Services",
          "Information Technology",
          "Business Services",
          "Business Services",
          "Finance",
          "Business Services",
          "Information Technology",
          "Finance",
          "Information Technology",
          null,
          null,
          "Insurance",
          "Finance",
          "Business Services",
          "Information Technology",
          null,
          "Aerospace & Defense",
          null,
          "Business Services",
          "Information Technology",
          "Aerospace & Defense",
          "Information Technology",
          "Information Technology",
          "Business Services",
          "Aerospace & Defense",
          "Finance",
          "Construction, Repair & Maintenance",
          "Transportation & Logistics",
          "Information Technology",
          "Information Technology",
          "Business Services",
          null,
          null,
          "Information Technology",
          "Information Technology",
          "Information Technology",
          "Business Services",
          "Information Technology",
          "Health Care",
          "Finance",
          "Retail",
          "Finance",
          null,
          "Transportation & Logistics",
          "Health Care",
          "Information Technology",
          "Finance",
          "Business Services",
          "Health Care",
          "Accounting & Legal",
          "Information Technology",
          "Health Care",
          "Business Services",
          null,
          null,
          "Information Technology",
          null,
          "Information Technology",
          "Health Care",
          "Information Technology",
          "Business Services",
          "Information Technology",
          "Information Technology",
          "Health Care",
          null,
          null,
          null,
          "Health Care",
          "Health Care",
          "Finance",
          "Business Services",
          "Finance",
          "Insurance",
          null,
          "Business Services",
          "Information Technology",
          "Finance",
          "Information Technology",
          "Business Services",
          "Information Technology",
          "Business Services",
          "Business Services",
          "Business Services",
          "Information Technology",
          "Business Services",
          "Business Services",
          "Business Services",
          "Information Technology",
          "Information Technology",
          "Business Services",
          "Business Services",
          "Business Services",
          "Information Technology",
          "Business Services",
          "Accounting & Legal",
          "Business Services",
          null,
          "Transportation & Logistics",
          "Information Technology",
          "Finance",
          "Business Services",
          null,
          "Health Care",
          "Transportation & Logistics",
          "Information Technology",
          "Business Services",
          "Business Services",
          "Business Services",
          null,
          "Business Services",
          "Business Services",
          "Finance",
          null,
          "Construction, Repair & Maintenance",
          "Business Services",
          "Business Services",
          "Information Technology",
          "Information Technology",
          "Information Technology",
          "Information Technology",
          null,
          "Finance",
          "Business Services",
          "Information Technology",
          null,
          "Business Services",
          "Health Care",
          "Information Technology",
          null,
          "Information Technology",
          "Information Technology",
          "Business Services",
          "Business Services",
          "Business Services",
          "Information Technology",
          "Information Technology",
          "Business Services",
          "Retail",
          "Business Services",
          "Transportation & Logistics",
          null,
          "Information Technology",
          "Retail",
          "Information Technology",
          null,
          null,
          "Retail",
          "Business Services",
          null,
          null,
          "Information Technology",
          "Information Technology",
          "Finance",
          "Transportation & Logistics",
          "Finance",
          "Business Services",
          null,
          "Business Services",
          "Insurance",
          "Information Technology",
          "Retail",
          "Information Technology",
          "Retail",
          "Information Technology",
          "Retail",
          "Information Technology",
          "Media",
          "Information Technology",
          "Information Technology",
          "Education",
          "Information Technology",
          "Finance",
          "Business Services",
          "Information Technology",
          null,
          "Business Services",
          "Information Technology",
          "Information Technology",
          "Information Technology",
          "Information Technology",
          "Business Services",
          "Information Technology",
          "Information Technology",
          "Transportation & Logistics",
          "Information Technology",
          "Business Services",
          "Information Technology",
          "Real Estate",
          "Information Technology",
          "Retail",
          "Business Services",
          "Finance",
          "Information Technology",
          "Information Technology",
          "Information Technology",
          "Health Care",
          "Information Technology",
          null,
          "Real Estate",
          "Health Care",
          "Health Care",
          "Manufacturing",
          "Finance",
          "Finance",
          "Information Technology",
          null,
          "Information Technology",
          null,
          "Information Technology",
          "Retail",
          "Business Services",
          "Business Services",
          "Health Care",
          "Finance",
          "Real Estate",
          null,
          "Information Technology",
          null,
          "Business Services",
          "Finance",
          "Information Technology",
          "Accounting & Legal",
          "Business Services",
          null,
          "Information Technology",
          "Information Technology",
          "Finance",
          "Government",
          "Business Services",
          "Information Technology",
          "Health Care",
          "Business Services",
          "Information Technology",
          "Information Technology",
          "Finance",
          "Health Care",
          "Information Technology",
          "Information Technology",
          "Information Technology",
          "Information Technology",
          "Business Services",
          "Biotech & Pharmaceuticals",
          "Business Services",
          "Health Care",
          "Information Technology",
          null,
          null,
          "Information Technology",
          "Information Technology",
          null,
          "Information Technology",
          "Business Services",
          null,
          null,
          "Information Technology",
          "Biotech & Pharmaceuticals",
          "Information Technology",
          "Consumer Services",
          "Information Technology",
          "Information Technology",
          "Government",
          "Health Care",
          null,
          null,
          "Business Services",
          null,
          "Media",
          "Information Technology",
          null,
          "Insurance",
          null,
          "Information Technology",
          null,
          "Oil, Gas, Energy & Utilities",
          "Consumer Services",
          "Information Technology",
          "Accounting & Legal",
          "Information Technology",
          "Finance",
          "Business Services",
          "Information Technology",
          "Business Services",
          "Business Services",
          null,
          "Real Estate",
          "Transportation & Logistics",
          "Information Technology",
          "Business Services",
          "Biotech & Pharmaceuticals",
          "Information Technology",
          "Information Technology",
          "Business Services",
          "Information Technology",
          null,
          "Business Services",
          "Information Technology",
          "Information Technology",
          "Non-Profit",
          "Education",
          "Business Services",
          "Business Services",
          "Finance",
          null,
          "Information Technology",
          "Health Care",
          null,
          "Information Technology",
          "Information Technology",
          "Business Services",
          "Information Technology",
          "Information Technology",
          "Information Technology",
          "Business Services",
          "Information Technology",
          "Information Technology",
          "Insurance",
          "Information Technology",
          "Information Technology",
          "Information Technology",
          "Information Technology",
          "Information Technology",
          "Business Services",
          "Business Services",
          "Finance",
          "Health Care",
          "Finance",
          "Non-Profit",
          "Information Technology",
          "Information Technology",
          "Business Services",
          "Business Services",
          "Business Services",
          "Finance",
          "Government",
          "Biotech & Pharmaceuticals",
          "Business Services",
          null,
          "Business Services",
          "Business Services",
          "Government",
          "Business Services",
          "Manufacturing",
          null,
          "Business Services",
          "Business Services",
          "Information Technology",
          null,
          "Business Services",
          "Insurance",
          "Finance",
          "Business Services",
          "Information Technology",
          "Restaurants, Bars & Food Services",
          "Information Technology",
          "Information Technology",
          "Information Technology",
          "Business Services",
          "Business Services",
          null,
          "Business Services",
          "Information Technology",
          "Information Technology",
          "Transportation & Logistics",
          "Information Technology",
          "Health Care",
          "Finance",
          "Information Technology",
          "Health Care",
          "Restaurants, Bars & Food Services",
          "Retail",
          "Insurance",
          "Information Technology",
          "Finance",
          "Insurance",
          "Information Technology",
          "Business Services",
          "Finance",
          "Business Services",
          "Retail",
          "Information Technology",
          "Information Technology",
          null,
          "Retail",
          "Finance",
          "Aerospace & Defense",
          "Information Technology",
          "Transportation & Logistics",
          "Information Technology",
          null,
          "Information Technology",
          "Non-Profit",
          "Accounting & Legal",
          "Information Technology",
          "Business Services",
          "Business Services",
          null,
          "Finance",
          "Information Technology",
          "Business Services",
          "Non-Profit",
          "Business Services",
          "Media",
          null,
          "Business Services",
          "Retail",
          "Information Technology",
          null,
          "Information Technology",
          "Business Services",
          "Information Technology",
          "Information Technology",
          "Information Technology",
          "Business Services",
          null,
          "Information Technology",
          null,
          "Business Services",
          null,
          "Information Technology",
          "Business Services",
          "Education",
          "Business Services",
          null,
          null,
          "Education",
          "Information Technology",
          "Information Technology",
          "Information Technology",
          "Information Technology",
          "Information Technology",
          null,
          "Information Technology",
          "Information Technology",
          "Information Technology",
          "Information Technology",
          "Information Technology",
          "Business Services",
          "Information Technology",
          "Information Technology",
          "Business Services",
          "Business Services",
          "Health Care",
          "Information Technology",
          "Information Technology",
          "Information Technology",
          "Travel & Tourism",
          "Information Technology",
          "Information Technology",
          "Oil, Gas, Energy & Utilities",
          "Aerospace & Defense",
          "Business Services",
          "Information Technology",
          "Business Services",
          "Information Technology",
          "Business Services",
          "Information Technology",
          "Information Technology",
          "Information Technology",
          "Information Technology",
          "Government",
          "Information Technology",
          "Finance",
          "Manufacturing",
          "Aerospace & Defense",
          "Finance",
          "Information Technology",
          null,
          "Business Services",
          "Government",
          "Construction, Repair & Maintenance",
          "Oil, Gas, Energy & Utilities",
          "Business Services",
          "Health Care",
          "Information Technology",
          null,
          "Business Services",
          null,
          "Information Technology",
          "Government",
          "Business Services",
          "Business Services",
          "Information Technology",
          "Business Services",
          null,
          "Government",
          "Telecommunications",
          "Information Technology",
          null,
          "Business Services",
          "Health Care",
          "Business Services",
          "Information Technology",
          "Health Care",
          "Information Technology",
          null,
          "Information Technology",
          "Business Services",
          "Retail",
          "Information Technology",
          "Information Technology",
          "Information Technology",
          "Business Services",
          "Business Services",
          "Business Services",
          "Telecommunications",
          "Business Services",
          "Business Services",
          "Aerospace & Defense",
          null,
          "Business Services",
          "Health Care",
          "Information Technology",
          "Information Technology",
          null,
          "Business Services",
          "Business Services",
          "Business Services",
          "Telecommunications",
          "Business Services",
          "Business Services",
          null,
          "Information Technology",
          "Business Services",
          "Business Services",
          null,
          "Information Technology",
          "Health Care"
         ],
         "xaxis": "x",
         "yaxis": "y"
        }
       ],
       "layout": {
        "barmode": "relative",
        "legend": {
         "tracegroupgap": 0
        },
        "margin": {
         "t": 60
        },
        "template": {
         "data": {
          "bar": [
           {
            "error_x": {
             "color": "#2a3f5f"
            },
            "error_y": {
             "color": "#2a3f5f"
            },
            "marker": {
             "line": {
              "color": "#E5ECF6",
              "width": 0.5
             },
             "pattern": {
              "fillmode": "overlay",
              "size": 10,
              "solidity": 0.2
             }
            },
            "type": "bar"
           }
          ],
          "barpolar": [
           {
            "marker": {
             "line": {
              "color": "#E5ECF6",
              "width": 0.5
             },
             "pattern": {
              "fillmode": "overlay",
              "size": 10,
              "solidity": 0.2
             }
            },
            "type": "barpolar"
           }
          ],
          "carpet": [
           {
            "aaxis": {
             "endlinecolor": "#2a3f5f",
             "gridcolor": "white",
             "linecolor": "white",
             "minorgridcolor": "white",
             "startlinecolor": "#2a3f5f"
            },
            "baxis": {
             "endlinecolor": "#2a3f5f",
             "gridcolor": "white",
             "linecolor": "white",
             "minorgridcolor": "white",
             "startlinecolor": "#2a3f5f"
            },
            "type": "carpet"
           }
          ],
          "choropleth": [
           {
            "colorbar": {
             "outlinewidth": 0,
             "ticks": ""
            },
            "type": "choropleth"
           }
          ],
          "contour": [
           {
            "colorbar": {
             "outlinewidth": 0,
             "ticks": ""
            },
            "colorscale": [
             [
              0,
              "#0d0887"
             ],
             [
              0.1111111111111111,
              "#46039f"
             ],
             [
              0.2222222222222222,
              "#7201a8"
             ],
             [
              0.3333333333333333,
              "#9c179e"
             ],
             [
              0.4444444444444444,
              "#bd3786"
             ],
             [
              0.5555555555555556,
              "#d8576b"
             ],
             [
              0.6666666666666666,
              "#ed7953"
             ],
             [
              0.7777777777777778,
              "#fb9f3a"
             ],
             [
              0.8888888888888888,
              "#fdca26"
             ],
             [
              1,
              "#f0f921"
             ]
            ],
            "type": "contour"
           }
          ],
          "contourcarpet": [
           {
            "colorbar": {
             "outlinewidth": 0,
             "ticks": ""
            },
            "type": "contourcarpet"
           }
          ],
          "heatmap": [
           {
            "colorbar": {
             "outlinewidth": 0,
             "ticks": ""
            },
            "colorscale": [
             [
              0,
              "#0d0887"
             ],
             [
              0.1111111111111111,
              "#46039f"
             ],
             [
              0.2222222222222222,
              "#7201a8"
             ],
             [
              0.3333333333333333,
              "#9c179e"
             ],
             [
              0.4444444444444444,
              "#bd3786"
             ],
             [
              0.5555555555555556,
              "#d8576b"
             ],
             [
              0.6666666666666666,
              "#ed7953"
             ],
             [
              0.7777777777777778,
              "#fb9f3a"
             ],
             [
              0.8888888888888888,
              "#fdca26"
             ],
             [
              1,
              "#f0f921"
             ]
            ],
            "type": "heatmap"
           }
          ],
          "heatmapgl": [
           {
            "colorbar": {
             "outlinewidth": 0,
             "ticks": ""
            },
            "colorscale": [
             [
              0,
              "#0d0887"
             ],
             [
              0.1111111111111111,
              "#46039f"
             ],
             [
              0.2222222222222222,
              "#7201a8"
             ],
             [
              0.3333333333333333,
              "#9c179e"
             ],
             [
              0.4444444444444444,
              "#bd3786"
             ],
             [
              0.5555555555555556,
              "#d8576b"
             ],
             [
              0.6666666666666666,
              "#ed7953"
             ],
             [
              0.7777777777777778,
              "#fb9f3a"
             ],
             [
              0.8888888888888888,
              "#fdca26"
             ],
             [
              1,
              "#f0f921"
             ]
            ],
            "type": "heatmapgl"
           }
          ],
          "histogram": [
           {
            "marker": {
             "pattern": {
              "fillmode": "overlay",
              "size": 10,
              "solidity": 0.2
             }
            },
            "type": "histogram"
           }
          ],
          "histogram2d": [
           {
            "colorbar": {
             "outlinewidth": 0,
             "ticks": ""
            },
            "colorscale": [
             [
              0,
              "#0d0887"
             ],
             [
              0.1111111111111111,
              "#46039f"
             ],
             [
              0.2222222222222222,
              "#7201a8"
             ],
             [
              0.3333333333333333,
              "#9c179e"
             ],
             [
              0.4444444444444444,
              "#bd3786"
             ],
             [
              0.5555555555555556,
              "#d8576b"
             ],
             [
              0.6666666666666666,
              "#ed7953"
             ],
             [
              0.7777777777777778,
              "#fb9f3a"
             ],
             [
              0.8888888888888888,
              "#fdca26"
             ],
             [
              1,
              "#f0f921"
             ]
            ],
            "type": "histogram2d"
           }
          ],
          "histogram2dcontour": [
           {
            "colorbar": {
             "outlinewidth": 0,
             "ticks": ""
            },
            "colorscale": [
             [
              0,
              "#0d0887"
             ],
             [
              0.1111111111111111,
              "#46039f"
             ],
             [
              0.2222222222222222,
              "#7201a8"
             ],
             [
              0.3333333333333333,
              "#9c179e"
             ],
             [
              0.4444444444444444,
              "#bd3786"
             ],
             [
              0.5555555555555556,
              "#d8576b"
             ],
             [
              0.6666666666666666,
              "#ed7953"
             ],
             [
              0.7777777777777778,
              "#fb9f3a"
             ],
             [
              0.8888888888888888,
              "#fdca26"
             ],
             [
              1,
              "#f0f921"
             ]
            ],
            "type": "histogram2dcontour"
           }
          ],
          "mesh3d": [
           {
            "colorbar": {
             "outlinewidth": 0,
             "ticks": ""
            },
            "type": "mesh3d"
           }
          ],
          "parcoords": [
           {
            "line": {
             "colorbar": {
              "outlinewidth": 0,
              "ticks": ""
             }
            },
            "type": "parcoords"
           }
          ],
          "pie": [
           {
            "automargin": true,
            "type": "pie"
           }
          ],
          "scatter": [
           {
            "fillpattern": {
             "fillmode": "overlay",
             "size": 10,
             "solidity": 0.2
            },
            "type": "scatter"
           }
          ],
          "scatter3d": [
           {
            "line": {
             "colorbar": {
              "outlinewidth": 0,
              "ticks": ""
             }
            },
            "marker": {
             "colorbar": {
              "outlinewidth": 0,
              "ticks": ""
             }
            },
            "type": "scatter3d"
           }
          ],
          "scattercarpet": [
           {
            "marker": {
             "colorbar": {
              "outlinewidth": 0,
              "ticks": ""
             }
            },
            "type": "scattercarpet"
           }
          ],
          "scattergeo": [
           {
            "marker": {
             "colorbar": {
              "outlinewidth": 0,
              "ticks": ""
             }
            },
            "type": "scattergeo"
           }
          ],
          "scattergl": [
           {
            "marker": {
             "colorbar": {
              "outlinewidth": 0,
              "ticks": ""
             }
            },
            "type": "scattergl"
           }
          ],
          "scattermapbox": [
           {
            "marker": {
             "colorbar": {
              "outlinewidth": 0,
              "ticks": ""
             }
            },
            "type": "scattermapbox"
           }
          ],
          "scatterpolar": [
           {
            "marker": {
             "colorbar": {
              "outlinewidth": 0,
              "ticks": ""
             }
            },
            "type": "scatterpolar"
           }
          ],
          "scatterpolargl": [
           {
            "marker": {
             "colorbar": {
              "outlinewidth": 0,
              "ticks": ""
             }
            },
            "type": "scatterpolargl"
           }
          ],
          "scatterternary": [
           {
            "marker": {
             "colorbar": {
              "outlinewidth": 0,
              "ticks": ""
             }
            },
            "type": "scatterternary"
           }
          ],
          "surface": [
           {
            "colorbar": {
             "outlinewidth": 0,
             "ticks": ""
            },
            "colorscale": [
             [
              0,
              "#0d0887"
             ],
             [
              0.1111111111111111,
              "#46039f"
             ],
             [
              0.2222222222222222,
              "#7201a8"
             ],
             [
              0.3333333333333333,
              "#9c179e"
             ],
             [
              0.4444444444444444,
              "#bd3786"
             ],
             [
              0.5555555555555556,
              "#d8576b"
             ],
             [
              0.6666666666666666,
              "#ed7953"
             ],
             [
              0.7777777777777778,
              "#fb9f3a"
             ],
             [
              0.8888888888888888,
              "#fdca26"
             ],
             [
              1,
              "#f0f921"
             ]
            ],
            "type": "surface"
           }
          ],
          "table": [
           {
            "cells": {
             "fill": {
              "color": "#EBF0F8"
             },
             "line": {
              "color": "white"
             }
            },
            "header": {
             "fill": {
              "color": "#C8D4E3"
             },
             "line": {
              "color": "white"
             }
            },
            "type": "table"
           }
          ]
         },
         "layout": {
          "annotationdefaults": {
           "arrowcolor": "#2a3f5f",
           "arrowhead": 0,
           "arrowwidth": 1
          },
          "autotypenumbers": "strict",
          "coloraxis": {
           "colorbar": {
            "outlinewidth": 0,
            "ticks": ""
           }
          },
          "colorscale": {
           "diverging": [
            [
             0,
             "#8e0152"
            ],
            [
             0.1,
             "#c51b7d"
            ],
            [
             0.2,
             "#de77ae"
            ],
            [
             0.3,
             "#f1b6da"
            ],
            [
             0.4,
             "#fde0ef"
            ],
            [
             0.5,
             "#f7f7f7"
            ],
            [
             0.6,
             "#e6f5d0"
            ],
            [
             0.7,
             "#b8e186"
            ],
            [
             0.8,
             "#7fbc41"
            ],
            [
             0.9,
             "#4d9221"
            ],
            [
             1,
             "#276419"
            ]
           ],
           "sequential": [
            [
             0,
             "#0d0887"
            ],
            [
             0.1111111111111111,
             "#46039f"
            ],
            [
             0.2222222222222222,
             "#7201a8"
            ],
            [
             0.3333333333333333,
             "#9c179e"
            ],
            [
             0.4444444444444444,
             "#bd3786"
            ],
            [
             0.5555555555555556,
             "#d8576b"
            ],
            [
             0.6666666666666666,
             "#ed7953"
            ],
            [
             0.7777777777777778,
             "#fb9f3a"
            ],
            [
             0.8888888888888888,
             "#fdca26"
            ],
            [
             1,
             "#f0f921"
            ]
           ],
           "sequentialminus": [
            [
             0,
             "#0d0887"
            ],
            [
             0.1111111111111111,
             "#46039f"
            ],
            [
             0.2222222222222222,
             "#7201a8"
            ],
            [
             0.3333333333333333,
             "#9c179e"
            ],
            [
             0.4444444444444444,
             "#bd3786"
            ],
            [
             0.5555555555555556,
             "#d8576b"
            ],
            [
             0.6666666666666666,
             "#ed7953"
            ],
            [
             0.7777777777777778,
             "#fb9f3a"
            ],
            [
             0.8888888888888888,
             "#fdca26"
            ],
            [
             1,
             "#f0f921"
            ]
           ]
          },
          "colorway": [
           "#636efa",
           "#EF553B",
           "#00cc96",
           "#ab63fa",
           "#FFA15A",
           "#19d3f3",
           "#FF6692",
           "#B6E880",
           "#FF97FF",
           "#FECB52"
          ],
          "font": {
           "color": "#2a3f5f"
          },
          "geo": {
           "bgcolor": "white",
           "lakecolor": "white",
           "landcolor": "#E5ECF6",
           "showlakes": true,
           "showland": true,
           "subunitcolor": "white"
          },
          "hoverlabel": {
           "align": "left"
          },
          "hovermode": "closest",
          "mapbox": {
           "style": "light"
          },
          "paper_bgcolor": "white",
          "plot_bgcolor": "#E5ECF6",
          "polar": {
           "angularaxis": {
            "gridcolor": "white",
            "linecolor": "white",
            "ticks": ""
           },
           "bgcolor": "#E5ECF6",
           "radialaxis": {
            "gridcolor": "white",
            "linecolor": "white",
            "ticks": ""
           }
          },
          "scene": {
           "xaxis": {
            "backgroundcolor": "#E5ECF6",
            "gridcolor": "white",
            "gridwidth": 2,
            "linecolor": "white",
            "showbackground": true,
            "ticks": "",
            "zerolinecolor": "white"
           },
           "yaxis": {
            "backgroundcolor": "#E5ECF6",
            "gridcolor": "white",
            "gridwidth": 2,
            "linecolor": "white",
            "showbackground": true,
            "ticks": "",
            "zerolinecolor": "white"
           },
           "zaxis": {
            "backgroundcolor": "#E5ECF6",
            "gridcolor": "white",
            "gridwidth": 2,
            "linecolor": "white",
            "showbackground": true,
            "ticks": "",
            "zerolinecolor": "white"
           }
          },
          "shapedefaults": {
           "line": {
            "color": "#2a3f5f"
           }
          },
          "ternary": {
           "aaxis": {
            "gridcolor": "white",
            "linecolor": "white",
            "ticks": ""
           },
           "baxis": {
            "gridcolor": "white",
            "linecolor": "white",
            "ticks": ""
           },
           "bgcolor": "#E5ECF6",
           "caxis": {
            "gridcolor": "white",
            "linecolor": "white",
            "ticks": ""
           }
          },
          "title": {
           "x": 0.05
          },
          "xaxis": {
           "automargin": true,
           "gridcolor": "white",
           "linecolor": "white",
           "ticks": "",
           "title": {
            "standoff": 15
           },
           "zerolinecolor": "white",
           "zerolinewidth": 2
          },
          "yaxis": {
           "automargin": true,
           "gridcolor": "white",
           "linecolor": "white",
           "ticks": "",
           "title": {
            "standoff": 15
           },
           "zerolinecolor": "white",
           "zerolinewidth": 2
          }
         }
        },
        "xaxis": {
         "anchor": "y",
         "domain": [
          0,
          1
         ],
         "title": {
          "text": "sector"
         }
        },
        "yaxis": {
         "anchor": "x",
         "domain": [
          0,
          1
         ],
         "title": {
          "text": "count"
         }
        }
       }
      }
     },
     "metadata": {},
     "output_type": "display_data"
    }
   ],
   "source": [
    "q5=px.histogram(df, x= 'sector')\n",
    "q5"
   ]
  },
  {
   "cell_type": "markdown",
   "metadata": {},
   "source": [
    "####  What is the percentage of each company revenue category ?"
   ]
  },
  {
   "cell_type": "code",
   "execution_count": 76,
   "metadata": {},
   "outputs": [
    {
     "data": {
      "application/vnd.plotly.v1+json": {
       "config": {
        "plotlyServerURL": "https://plot.ly"
       },
       "data": [
        {
         "domain": {
          "x": [
           0,
           1
          ],
          "y": [
           0,
           1
          ]
         },
         "hovertemplate": "revenue_categories=%{label}<extra></extra>",
         "labels": [
          "High Revenue Company",
          "Very High Revenue Company",
          "Unknown / Non-Applicable",
          "Medium Revenue Company",
          "High Revenue Company",
          "Unknown / Non-Applicable",
          "Unknown / Non-Applicable",
          "High Revenue Company",
          "Very High Revenue Company",
          "Unknown / Non-Applicable",
          "Very High Revenue Company",
          "Unknown / Non-Applicable",
          "Very High Revenue Company",
          "High Revenue Company",
          "Medium Revenue Company",
          "Unknown / Non-Applicable",
          "Unknown / Non-Applicable",
          "Medium Revenue Company",
          "High Revenue Company",
          "Unknown / Non-Applicable",
          "Very High Revenue Company",
          "Unknown / Non-Applicable",
          "Very High Revenue Company",
          "Medium Revenue Company",
          "Unknown / Non-Applicable",
          "Low Revenue Company",
          "Medium Revenue Company",
          "Unknown / Non-Applicable",
          "Medium Revenue Company",
          "Unknown / Non-Applicable",
          "Medium Revenue Company",
          "Medium Revenue Company",
          "Low Revenue Company",
          "Unknown / Non-Applicable",
          null,
          "Very High Revenue Company",
          "Medium Revenue Company",
          "Low Revenue Company",
          "Very High Revenue Company",
          "Medium Revenue Company",
          "Unknown / Non-Applicable",
          "Unknown / Non-Applicable",
          "Unknown / Non-Applicable",
          "Medium Revenue Company",
          "Unknown / Non-Applicable",
          "High Revenue Company",
          "Low Revenue Company",
          "High Revenue Company",
          "Unknown / Non-Applicable",
          "High Revenue Company",
          "Very High Revenue Company",
          "Medium Revenue Company",
          "High Revenue Company",
          "Unknown / Non-Applicable",
          "Medium Revenue Company",
          null,
          "Very High Revenue Company",
          "High Revenue Company",
          "Unknown / Non-Applicable",
          "Medium Revenue Company",
          "Unknown / Non-Applicable",
          "High Revenue Company",
          "High Revenue Company",
          "High Revenue Company",
          "Very High Revenue Company",
          "Very High Revenue Company",
          "Medium Revenue Company",
          "High Revenue Company",
          null,
          "High Revenue Company",
          "Medium Revenue Company",
          "Unknown / Non-Applicable",
          "Unknown / Non-Applicable",
          "Very High Revenue Company",
          "High Revenue Company",
          "Unknown / Non-Applicable",
          "Very High Revenue Company",
          "Unknown / Non-Applicable",
          "Unknown / Non-Applicable",
          "Medium Revenue Company",
          "Unknown / Non-Applicable",
          "Unknown / Non-Applicable",
          "Unknown / Non-Applicable",
          "High Revenue Company",
          "Low Revenue Company",
          "Unknown / Non-Applicable",
          "Low Revenue Company",
          "Medium Revenue Company",
          "Unknown / Non-Applicable",
          "High Revenue Company",
          null,
          "Very High Revenue Company",
          "High Revenue Company",
          "Medium Revenue Company",
          "Very High Revenue Company",
          "Medium Revenue Company",
          "Unknown / Non-Applicable",
          "Unknown / Non-Applicable",
          "Unknown / Non-Applicable",
          "Medium Revenue Company",
          "Unknown / Non-Applicable",
          "Medium Revenue Company",
          "Very High Revenue Company",
          "Very High Revenue Company",
          "Medium Revenue Company",
          "Unknown / Non-Applicable",
          "Medium Revenue Company",
          "Medium Revenue Company",
          "Unknown / Non-Applicable",
          null,
          "Unknown / Non-Applicable",
          "High Revenue Company",
          "Very High Revenue Company",
          "Medium Revenue Company",
          "Unknown / Non-Applicable",
          "Very High Revenue Company",
          "High Revenue Company",
          "Medium Revenue Company",
          "Unknown / Non-Applicable",
          "High Revenue Company",
          "Unknown / Non-Applicable",
          "Very High Revenue Company",
          "Medium Revenue Company",
          "Unknown / Non-Applicable",
          "Medium Revenue Company",
          "Very High Revenue Company",
          "Very High Revenue Company",
          "Medium Revenue Company",
          "Unknown / Non-Applicable",
          "Very High Revenue Company",
          "Medium Revenue Company",
          "Medium Revenue Company",
          "Unknown / Non-Applicable",
          "Medium Revenue Company",
          "Medium Revenue Company",
          "Very High Revenue Company",
          "Medium Revenue Company",
          "Medium Revenue Company",
          "High Revenue Company",
          "Unknown / Non-Applicable",
          "Unknown / Non-Applicable",
          "Very High Revenue Company",
          "Medium Revenue Company",
          "Unknown / Non-Applicable",
          "High Revenue Company",
          "Medium Revenue Company",
          "Medium Revenue Company",
          "Very High Revenue Company",
          "Unknown / Non-Applicable",
          "Unknown / Non-Applicable",
          "Very High Revenue Company",
          "Unknown / Non-Applicable",
          "Very High Revenue Company",
          null,
          "Medium Revenue Company",
          "Medium Revenue Company",
          "Medium Revenue Company",
          null,
          "Very High Revenue Company",
          "Medium Revenue Company",
          "Medium Revenue Company",
          "Unknown / Non-Applicable",
          null,
          "Unknown / Non-Applicable",
          "Medium Revenue Company",
          "Medium Revenue Company",
          "Unknown / Non-Applicable",
          "Unknown / Non-Applicable",
          "High Revenue Company",
          "Medium Revenue Company",
          "Medium Revenue Company",
          "High Revenue Company",
          "Medium Revenue Company",
          "Very High Revenue Company",
          "Unknown / Non-Applicable",
          "Medium Revenue Company",
          "Medium Revenue Company",
          "Very High Revenue Company",
          "Unknown / Non-Applicable",
          "Unknown / Non-Applicable",
          "High Revenue Company",
          "Low Revenue Company",
          "Unknown / Non-Applicable",
          "Unknown / Non-Applicable",
          "Medium Revenue Company",
          "Medium Revenue Company",
          null,
          "Medium Revenue Company",
          "Very High Revenue Company",
          "Medium Revenue Company",
          "Medium Revenue Company",
          "Very High Revenue Company",
          "Very High Revenue Company",
          "Medium Revenue Company",
          null,
          "Very High Revenue Company",
          "Unknown / Non-Applicable",
          "High Revenue Company",
          "High Revenue Company",
          "Unknown / Non-Applicable",
          "Very High Revenue Company",
          "Low Revenue Company",
          "Medium Revenue Company",
          "Unknown / Non-Applicable",
          "Medium Revenue Company",
          null,
          "Medium Revenue Company",
          "Unknown / Non-Applicable",
          "Medium Revenue Company",
          "Medium Revenue Company",
          "Low Revenue Company",
          "Medium Revenue Company",
          "Unknown / Non-Applicable",
          "Unknown / Non-Applicable",
          "Medium Revenue Company",
          "High Revenue Company",
          null,
          "Medium Revenue Company",
          "Very High Revenue Company",
          "Very High Revenue Company",
          "Very High Revenue Company",
          "Medium Revenue Company",
          "Unknown / Non-Applicable",
          "Medium Revenue Company",
          "Medium Revenue Company",
          "Unknown / Non-Applicable",
          "Medium Revenue Company",
          null,
          "Very High Revenue Company",
          "Medium Revenue Company",
          "Unknown / Non-Applicable",
          "Unknown / Non-Applicable",
          "High Revenue Company",
          "Medium Revenue Company",
          "Unknown / Non-Applicable",
          "High Revenue Company",
          "Unknown / Non-Applicable",
          "High Revenue Company",
          "Low Revenue Company",
          "Very High Revenue Company",
          "Very High Revenue Company",
          "Medium Revenue Company",
          "Unknown / Non-Applicable",
          "Very High Revenue Company",
          "Unknown / Non-Applicable",
          "High Revenue Company",
          "Very High Revenue Company",
          null,
          "Very High Revenue Company",
          "Very High Revenue Company",
          "High Revenue Company",
          "Very High Revenue Company",
          "Unknown / Non-Applicable",
          null,
          "High Revenue Company",
          null,
          "Very High Revenue Company",
          "High Revenue Company",
          "Unknown / Non-Applicable",
          "Unknown / Non-Applicable",
          "Medium Revenue Company",
          "Medium Revenue Company",
          "Medium Revenue Company",
          "Unknown / Non-Applicable",
          "Medium Revenue Company",
          "Low Revenue Company",
          "Low Revenue Company",
          "Unknown / Non-Applicable",
          "High Revenue Company",
          "Medium Revenue Company",
          "Very High Revenue Company",
          "Unknown / Non-Applicable",
          null,
          "High Revenue Company",
          "High Revenue Company",
          "Unknown / Non-Applicable",
          null,
          "Very High Revenue Company",
          "Unknown / Non-Applicable",
          null,
          "Very High Revenue Company",
          "Unknown / Non-Applicable",
          "Medium Revenue Company",
          "Unknown / Non-Applicable",
          "Unknown / Non-Applicable",
          "Medium Revenue Company",
          "High Revenue Company",
          "Very High Revenue Company",
          "Very High Revenue Company",
          "Medium Revenue Company",
          "Very High Revenue Company",
          "Unknown / Non-Applicable",
          "High Revenue Company",
          "Medium Revenue Company",
          "Medium Revenue Company",
          "High Revenue Company",
          "Very High Revenue Company",
          "Very High Revenue Company",
          "Very High Revenue Company",
          "High Revenue Company",
          "Very High Revenue Company",
          null,
          "Very High Revenue Company",
          "High Revenue Company",
          "Medium Revenue Company",
          "Medium Revenue Company",
          "Medium Revenue Company",
          "Medium Revenue Company",
          "Unknown / Non-Applicable",
          "Very High Revenue Company",
          "High Revenue Company",
          "Unknown / Non-Applicable",
          "Medium Revenue Company",
          "Unknown / Non-Applicable",
          "Medium Revenue Company",
          null,
          "Unknown / Non-Applicable",
          "Very High Revenue Company",
          "Medium Revenue Company",
          "High Revenue Company",
          "High Revenue Company",
          "High Revenue Company",
          "Unknown / Non-Applicable",
          "Medium Revenue Company",
          "High Revenue Company",
          "Unknown / Non-Applicable",
          "Very High Revenue Company",
          null,
          "Unknown / Non-Applicable",
          "Very High Revenue Company",
          "Low Revenue Company",
          "Very High Revenue Company",
          "Medium Revenue Company",
          "Medium Revenue Company",
          "Unknown / Non-Applicable",
          "Medium Revenue Company",
          "Medium Revenue Company",
          "Unknown / Non-Applicable",
          "Very High Revenue Company",
          "Medium Revenue Company",
          "Very High Revenue Company",
          "Very High Revenue Company",
          "Unknown / Non-Applicable",
          "Unknown / Non-Applicable",
          "Unknown / Non-Applicable",
          "Very High Revenue Company",
          "Medium Revenue Company",
          "Medium Revenue Company",
          "Medium Revenue Company",
          "Medium Revenue Company",
          null,
          "Very High Revenue Company",
          "High Revenue Company",
          "Very High Revenue Company",
          "Medium Revenue Company",
          null,
          "Unknown / Non-Applicable",
          "Unknown / Non-Applicable",
          "Very High Revenue Company",
          "Medium Revenue Company",
          "Very High Revenue Company",
          "Medium Revenue Company",
          "Very High Revenue Company",
          "Medium Revenue Company",
          null,
          "Very High Revenue Company",
          "Low Revenue Company",
          "Unknown / Non-Applicable",
          "Very High Revenue Company",
          "Unknown / Non-Applicable",
          "Medium Revenue Company",
          "Very High Revenue Company",
          "Very High Revenue Company",
          "Medium Revenue Company",
          "Very High Revenue Company",
          "Medium Revenue Company",
          "Unknown / Non-Applicable",
          "Medium Revenue Company",
          "Very High Revenue Company",
          "Very High Revenue Company",
          "Medium Revenue Company",
          "Low Revenue Company",
          "Unknown / Non-Applicable",
          null,
          "Unknown / Non-Applicable",
          "Unknown / Non-Applicable",
          "Medium Revenue Company",
          "Very High Revenue Company",
          "Unknown / Non-Applicable",
          "Medium Revenue Company",
          "Unknown / Non-Applicable",
          "Unknown / Non-Applicable",
          "Unknown / Non-Applicable",
          "High Revenue Company",
          "Medium Revenue Company",
          "Medium Revenue Company",
          null,
          "Very High Revenue Company",
          "Medium Revenue Company",
          "Medium Revenue Company",
          "Very High Revenue Company",
          "Unknown / Non-Applicable",
          "Unknown / Non-Applicable",
          "Unknown / Non-Applicable",
          null,
          "Low Revenue Company",
          "Very High Revenue Company",
          "Medium Revenue Company",
          null,
          "Medium Revenue Company",
          "Very High Revenue Company",
          "Very High Revenue Company",
          "Very High Revenue Company",
          null,
          "Unknown / Non-Applicable",
          "Medium Revenue Company",
          "Medium Revenue Company",
          "Unknown / Non-Applicable",
          "Unknown / Non-Applicable",
          "Unknown / Non-Applicable",
          "Unknown / Non-Applicable",
          "Unknown / Non-Applicable",
          "Medium Revenue Company",
          "Very High Revenue Company",
          "High Revenue Company",
          "Medium Revenue Company",
          "Unknown / Non-Applicable",
          "Medium Revenue Company",
          "Unknown / Non-Applicable",
          "Unknown / Non-Applicable",
          "Medium Revenue Company",
          "Very High Revenue Company",
          "Unknown / Non-Applicable",
          "Medium Revenue Company",
          "Medium Revenue Company",
          "Low Revenue Company",
          "High Revenue Company",
          "Medium Revenue Company",
          "High Revenue Company",
          null,
          "Unknown / Non-Applicable",
          "Very High Revenue Company",
          "High Revenue Company",
          "Medium Revenue Company",
          null,
          null,
          "Unknown / Non-Applicable",
          "Medium Revenue Company",
          "Medium Revenue Company",
          "Unknown / Non-Applicable",
          "Medium Revenue Company",
          "Medium Revenue Company",
          "Medium Revenue Company",
          "Unknown / Non-Applicable",
          "Very High Revenue Company",
          "Medium Revenue Company",
          "Medium Revenue Company",
          "Medium Revenue Company",
          "High Revenue Company",
          "Medium Revenue Company",
          "Medium Revenue Company",
          "Medium Revenue Company",
          "Medium Revenue Company",
          "Low Revenue Company",
          "Medium Revenue Company",
          "Medium Revenue Company",
          "Medium Revenue Company",
          "Medium Revenue Company",
          "Unknown / Non-Applicable",
          "Very High Revenue Company",
          "Very High Revenue Company",
          "Unknown / Non-Applicable",
          "High Revenue Company",
          "High Revenue Company",
          "Unknown / Non-Applicable",
          "Medium Revenue Company",
          "Medium Revenue Company",
          "High Revenue Company",
          "Medium Revenue Company",
          null,
          "Medium Revenue Company",
          "High Revenue Company",
          "Medium Revenue Company",
          "Medium Revenue Company",
          "Medium Revenue Company",
          "Medium Revenue Company",
          "Medium Revenue Company",
          "High Revenue Company",
          "Unknown / Non-Applicable",
          "Medium Revenue Company",
          "Medium Revenue Company",
          "Unknown / Non-Applicable",
          "Medium Revenue Company",
          "Unknown / Non-Applicable",
          "Medium Revenue Company",
          null,
          "Unknown / Non-Applicable",
          "High Revenue Company",
          "Very High Revenue Company",
          null,
          "Unknown / Non-Applicable",
          "High Revenue Company",
          null,
          "Medium Revenue Company",
          "Medium Revenue Company",
          "Medium Revenue Company",
          "Medium Revenue Company",
          "Very High Revenue Company",
          "High Revenue Company",
          "High Revenue Company",
          "Medium Revenue Company",
          "Medium Revenue Company",
          "High Revenue Company",
          "High Revenue Company",
          "Unknown / Non-Applicable",
          "High Revenue Company",
          "Medium Revenue Company",
          "Unknown / Non-Applicable",
          "Medium Revenue Company",
          "Unknown / Non-Applicable",
          "Medium Revenue Company",
          "Unknown / Non-Applicable",
          "Medium Revenue Company",
          "Unknown / Non-Applicable",
          "Medium Revenue Company",
          "Medium Revenue Company",
          "Unknown / Non-Applicable",
          "Unknown / Non-Applicable",
          "Low Revenue Company",
          "Unknown / Non-Applicable",
          "High Revenue Company",
          "Low Revenue Company",
          "Unknown / Non-Applicable",
          "Medium Revenue Company",
          "Very High Revenue Company",
          null,
          "Very High Revenue Company",
          "Unknown / Non-Applicable",
          "Unknown / Non-Applicable",
          "Unknown / Non-Applicable",
          "Unknown / Non-Applicable",
          "Unknown / Non-Applicable",
          "Unknown / Non-Applicable",
          "Unknown / Non-Applicable",
          "Very High Revenue Company",
          "Medium Revenue Company",
          "Medium Revenue Company",
          "Medium Revenue Company",
          "Very High Revenue Company",
          "Unknown / Non-Applicable",
          "Unknown / Non-Applicable",
          "Unknown / Non-Applicable",
          "Very High Revenue Company",
          "Medium Revenue Company",
          "Very High Revenue Company",
          "Medium Revenue Company",
          "Unknown / Non-Applicable",
          "Very High Revenue Company",
          null,
          "Medium Revenue Company",
          "Very High Revenue Company",
          "Very High Revenue Company",
          "Very High Revenue Company",
          "Very High Revenue Company",
          "Very High Revenue Company",
          "Unknown / Non-Applicable",
          "Very High Revenue Company",
          "Medium Revenue Company",
          "Unknown / Non-Applicable",
          "Very High Revenue Company",
          "Medium Revenue Company",
          "Medium Revenue Company",
          "Unknown / Non-Applicable",
          "Medium Revenue Company",
          "Very High Revenue Company",
          null,
          "Unknown / Non-Applicable",
          "Unknown / Non-Applicable",
          "Unknown / Non-Applicable",
          null,
          "Unknown / Non-Applicable",
          "Unknown / Non-Applicable",
          "Medium Revenue Company",
          "Unknown / Non-Applicable",
          "Unknown / Non-Applicable",
          "Unknown / Non-Applicable",
          "Very High Revenue Company",
          "Very High Revenue Company",
          "Medium Revenue Company",
          "Medium Revenue Company",
          "Very High Revenue Company",
          "Very High Revenue Company",
          "Unknown / Non-Applicable",
          "Unknown / Non-Applicable",
          "Unknown / Non-Applicable",
          "Unknown / Non-Applicable",
          "Very High Revenue Company",
          "Very High Revenue Company",
          "Unknown / Non-Applicable",
          "Unknown / Non-Applicable",
          "Medium Revenue Company",
          "Unknown / Non-Applicable",
          "Very High Revenue Company",
          "Unknown / Non-Applicable",
          "Medium Revenue Company",
          "Unknown / Non-Applicable",
          "Unknown / Non-Applicable",
          "Unknown / Non-Applicable",
          null,
          "Unknown / Non-Applicable",
          null,
          "Very High Revenue Company",
          null,
          "Very High Revenue Company",
          "Low Revenue Company",
          "Very High Revenue Company",
          "Very High Revenue Company",
          "Unknown / Non-Applicable",
          "High Revenue Company",
          "Very High Revenue Company",
          "Very High Revenue Company",
          "Medium Revenue Company",
          null,
          "Unknown / Non-Applicable",
          "Unknown / Non-Applicable",
          "Very High Revenue Company",
          "Very High Revenue Company",
          "Unknown / Non-Applicable",
          "Unknown / Non-Applicable",
          "Unknown / Non-Applicable",
          "High Revenue Company",
          "Unknown / Non-Applicable",
          "Medium Revenue Company",
          "Unknown / Non-Applicable",
          "Medium Revenue Company",
          "Unknown / Non-Applicable",
          "Medium Revenue Company",
          "Medium Revenue Company",
          "High Revenue Company",
          "Unknown / Non-Applicable",
          "Low Revenue Company",
          "Very High Revenue Company",
          "Medium Revenue Company",
          "Medium Revenue Company",
          "Unknown / Non-Applicable",
          "Very High Revenue Company",
          "Medium Revenue Company",
          "Unknown / Non-Applicable",
          "Unknown / Non-Applicable",
          "Unknown / Non-Applicable",
          "Unknown / Non-Applicable",
          null,
          "Unknown / Non-Applicable",
          "Unknown / Non-Applicable",
          "High Revenue Company",
          "Medium Revenue Company",
          "Unknown / Non-Applicable",
          "Very High Revenue Company",
          "Unknown / Non-Applicable",
          null,
          null,
          null,
          "High Revenue Company",
          "Unknown / Non-Applicable",
          "Medium Revenue Company",
          "Medium Revenue Company",
          "Medium Revenue Company",
          "Very High Revenue Company",
          "Very High Revenue Company",
          null,
          "Very High Revenue Company",
          "Very High Revenue Company",
          "Unknown / Non-Applicable",
          "Low Revenue Company",
          null,
          "High Revenue Company",
          "Medium Revenue Company",
          "High Revenue Company",
          "Very High Revenue Company",
          "Unknown / Non-Applicable",
          "Very High Revenue Company",
          "Unknown / Non-Applicable",
          "Very High Revenue Company",
          "Medium Revenue Company",
          "Unknown / Non-Applicable",
          null,
          "Unknown / Non-Applicable",
          "Medium Revenue Company",
          "Unknown / Non-Applicable",
          "Low Revenue Company",
          "Unknown / Non-Applicable",
          "Unknown / Non-Applicable",
          "Unknown / Non-Applicable",
          "Unknown / Non-Applicable",
          "Unknown / Non-Applicable",
          "Very High Revenue Company",
          "Very High Revenue Company",
          "Medium Revenue Company",
          null,
          "Low Revenue Company",
          "Very High Revenue Company",
          null,
          "Medium Revenue Company",
          "Very High Revenue Company",
          "High Revenue Company",
          "Very High Revenue Company",
          "Very High Revenue Company",
          "Unknown / Non-Applicable",
          "Very High Revenue Company",
          "Very High Revenue Company",
          "Unknown / Non-Applicable",
          "Unknown / Non-Applicable",
          "Very High Revenue Company",
          null,
          "Unknown / Non-Applicable",
          "Very High Revenue Company",
          null,
          null,
          null,
          null,
          "High Revenue Company",
          "Unknown / Non-Applicable",
          "High Revenue Company",
          "High Revenue Company",
          "Unknown / Non-Applicable",
          "Very High Revenue Company",
          "Very High Revenue Company",
          "Unknown / Non-Applicable",
          "Unknown / Non-Applicable",
          "Very High Revenue Company",
          "High Revenue Company",
          "Very High Revenue Company",
          "High Revenue Company",
          "Unknown / Non-Applicable",
          "Medium Revenue Company",
          "Medium Revenue Company",
          "Very High Revenue Company",
          "Very High Revenue Company",
          "Very High Revenue Company",
          "Medium Revenue Company",
          "Medium Revenue Company",
          "Very High Revenue Company",
          "Very High Revenue Company",
          "High Revenue Company",
          "Unknown / Non-Applicable",
          "Unknown / Non-Applicable",
          "Unknown / Non-Applicable",
          "Very High Revenue Company",
          "Very High Revenue Company",
          "Very High Revenue Company",
          "Very High Revenue Company",
          "Unknown / Non-Applicable",
          "Very High Revenue Company",
          "Unknown / Non-Applicable",
          "High Revenue Company",
          "Very High Revenue Company",
          "Unknown / Non-Applicable",
          "Very High Revenue Company",
          "Medium Revenue Company",
          "Medium Revenue Company",
          "High Revenue Company",
          "Unknown / Non-Applicable",
          "Unknown / Non-Applicable",
          "Low Revenue Company",
          "Unknown / Non-Applicable",
          "Unknown / Non-Applicable",
          null,
          "Unknown / Non-Applicable",
          "High Revenue Company",
          "Medium Revenue Company",
          "Medium Revenue Company",
          "Unknown / Non-Applicable",
          "Unknown / Non-Applicable",
          "Unknown / Non-Applicable",
          "Medium Revenue Company",
          "Medium Revenue Company",
          "Very High Revenue Company",
          "Unknown / Non-Applicable",
          "Medium Revenue Company",
          "Unknown / Non-Applicable",
          "Low Revenue Company",
          "Very High Revenue Company",
          "High Revenue Company",
          "High Revenue Company",
          "Unknown / Non-Applicable",
          "Very High Revenue Company",
          "Medium Revenue Company",
          "Unknown / Non-Applicable",
          "Unknown / Non-Applicable",
          "Unknown / Non-Applicable",
          "Unknown / Non-Applicable",
          "Medium Revenue Company",
          "Very High Revenue Company",
          "Low Revenue Company",
          "Unknown / Non-Applicable",
          "Unknown / Non-Applicable",
          "Very High Revenue Company",
          "High Revenue Company",
          "High Revenue Company",
          "High Revenue Company",
          null,
          "High Revenue Company",
          "Low Revenue Company",
          "Very High Revenue Company",
          "Very High Revenue Company",
          "Unknown / Non-Applicable",
          "High Revenue Company",
          "Medium Revenue Company",
          "Very High Revenue Company",
          "Very High Revenue Company",
          "Medium Revenue Company",
          "Unknown / Non-Applicable",
          "Unknown / Non-Applicable",
          "High Revenue Company",
          "Very High Revenue Company",
          "Medium Revenue Company",
          null,
          "Very High Revenue Company",
          "Medium Revenue Company",
          "Unknown / Non-Applicable",
          "Low Revenue Company",
          "High Revenue Company",
          "Low Revenue Company",
          "Medium Revenue Company",
          "Medium Revenue Company",
          "Unknown / Non-Applicable",
          "Very High Revenue Company",
          "Low Revenue Company",
          "Medium Revenue Company",
          "Unknown / Non-Applicable",
          "Medium Revenue Company",
          "Medium Revenue Company",
          "Unknown / Non-Applicable",
          "Medium Revenue Company",
          null,
          "Low Revenue Company",
          null,
          "Very High Revenue Company",
          "Medium Revenue Company",
          "Unknown / Non-Applicable",
          "Medium Revenue Company",
          null,
          "Medium Revenue Company",
          "Medium Revenue Company",
          "Very High Revenue Company",
          "Very High Revenue Company",
          "Very High Revenue Company",
          "Unknown / Non-Applicable",
          "Very High Revenue Company",
          "Low Revenue Company",
          "Unknown / Non-Applicable",
          "Very High Revenue Company",
          "Medium Revenue Company",
          "Medium Revenue Company",
          "Medium Revenue Company",
          "Unknown / Non-Applicable",
          "Very High Revenue Company",
          "Very High Revenue Company",
          "Medium Revenue Company",
          null,
          "Unknown / Non-Applicable",
          "Unknown / Non-Applicable",
          "Unknown / Non-Applicable",
          "Unknown / Non-Applicable",
          "High Revenue Company",
          "Medium Revenue Company",
          "High Revenue Company",
          null,
          "High Revenue Company",
          null,
          "Unknown / Non-Applicable",
          "Very High Revenue Company",
          "Unknown / Non-Applicable",
          "Unknown / Non-Applicable",
          null,
          "Unknown / Non-Applicable",
          "Unknown / Non-Applicable",
          "Medium Revenue Company",
          "Medium Revenue Company",
          "Low Revenue Company",
          "Very High Revenue Company",
          null,
          "Very High Revenue Company",
          "Low Revenue Company",
          "Very High Revenue Company",
          "Medium Revenue Company",
          "Medium Revenue Company",
          "Medium Revenue Company",
          "Very High Revenue Company",
          "Unknown / Non-Applicable",
          "High Revenue Company",
          "Unknown / Non-Applicable",
          "High Revenue Company",
          "Unknown / Non-Applicable",
          "Unknown / Non-Applicable",
          "Medium Revenue Company",
          "Very High Revenue Company",
          "High Revenue Company",
          null,
          "High Revenue Company",
          "Medium Revenue Company",
          "Low Revenue Company",
          null,
          "High Revenue Company",
          "High Revenue Company",
          "Unknown / Non-Applicable",
          "Unknown / Non-Applicable",
          "Unknown / Non-Applicable",
          "Very High Revenue Company",
          "High Revenue Company",
          "High Revenue Company",
          "Low Revenue Company",
          "Medium Revenue Company",
          "Low Revenue Company",
          "Medium Revenue Company",
          "Unknown / Non-Applicable",
          "Medium Revenue Company",
          "Medium Revenue Company",
          "Medium Revenue Company",
          "Medium Revenue Company",
          "Unknown / Non-Applicable",
          "Very High Revenue Company",
          "Very High Revenue Company",
          "Medium Revenue Company",
          "High Revenue Company",
          "Unknown / Non-Applicable",
          "Unknown / Non-Applicable",
          "Very High Revenue Company",
          "Low Revenue Company",
          "Medium Revenue Company",
          "Low Revenue Company",
          "High Revenue Company",
          "Low Revenue Company",
          "Unknown / Non-Applicable",
          "Very High Revenue Company",
          "Medium Revenue Company",
          "Unknown / Non-Applicable",
          "High Revenue Company",
          "Very High Revenue Company",
          "Medium Revenue Company",
          "High Revenue Company",
          "High Revenue Company",
          "Low Revenue Company",
          "Low Revenue Company",
          "Unknown / Non-Applicable",
          null,
          "Unknown / Non-Applicable",
          "Very High Revenue Company",
          "High Revenue Company",
          "Medium Revenue Company",
          "High Revenue Company",
          "Unknown / Non-Applicable",
          "High Revenue Company",
          "Very High Revenue Company",
          "Very High Revenue Company",
          "High Revenue Company",
          "Unknown / Non-Applicable",
          "Low Revenue Company",
          "High Revenue Company",
          "Medium Revenue Company",
          "Medium Revenue Company",
          "Medium Revenue Company",
          "Medium Revenue Company",
          "High Revenue Company",
          "Medium Revenue Company",
          "Medium Revenue Company",
          "High Revenue Company",
          "Medium Revenue Company",
          "Medium Revenue Company",
          "Very High Revenue Company",
          "Medium Revenue Company",
          "Medium Revenue Company",
          "High Revenue Company",
          "High Revenue Company",
          "Very High Revenue Company",
          "Medium Revenue Company",
          "Very High Revenue Company",
          "Medium Revenue Company",
          "Very High Revenue Company",
          "High Revenue Company",
          "Unknown / Non-Applicable",
          "Unknown / Non-Applicable",
          "High Revenue Company",
          "Unknown / Non-Applicable",
          "High Revenue Company",
          "Medium Revenue Company",
          "Low Revenue Company",
          "Very High Revenue Company",
          "Very High Revenue Company",
          "Medium Revenue Company",
          null,
          "High Revenue Company",
          "Very High Revenue Company",
          "Very High Revenue Company",
          "High Revenue Company",
          "High Revenue Company",
          "Very High Revenue Company",
          null,
          "Unknown / Non-Applicable",
          "Unknown / Non-Applicable",
          "Very High Revenue Company",
          "High Revenue Company",
          "High Revenue Company",
          "Medium Revenue Company",
          "Very High Revenue Company",
          "Very High Revenue Company",
          "Unknown / Non-Applicable",
          "Medium Revenue Company",
          "Very High Revenue Company",
          "Unknown / Non-Applicable",
          "Very High Revenue Company",
          "Very High Revenue Company",
          "Unknown / Non-Applicable",
          "Unknown / Non-Applicable",
          "Medium Revenue Company",
          "Medium Revenue Company",
          null,
          "Medium Revenue Company",
          "Low Revenue Company",
          "Unknown / Non-Applicable",
          "Medium Revenue Company",
          "Unknown / Non-Applicable",
          "Unknown / Non-Applicable",
          "Unknown / Non-Applicable",
          "Unknown / Non-Applicable",
          "Very High Revenue Company",
          "Unknown / Non-Applicable",
          "Medium Revenue Company",
          "High Revenue Company",
          "Unknown / Non-Applicable",
          null,
          "High Revenue Company",
          "Unknown / Non-Applicable",
          null,
          "Medium Revenue Company",
          "Unknown / Non-Applicable",
          null,
          "Medium Revenue Company",
          "Unknown / Non-Applicable",
          "Very High Revenue Company",
          "High Revenue Company",
          null,
          "Very High Revenue Company",
          "Medium Revenue Company",
          "High Revenue Company",
          "Very High Revenue Company",
          "Unknown / Non-Applicable",
          "Medium Revenue Company",
          null,
          "Very High Revenue Company",
          "Unknown / Non-Applicable",
          "Medium Revenue Company",
          "Low Revenue Company",
          "Very High Revenue Company",
          "Medium Revenue Company",
          "Unknown / Non-Applicable",
          "Medium Revenue Company",
          "Medium Revenue Company",
          "Very High Revenue Company",
          "Unknown / Non-Applicable",
          "Unknown / Non-Applicable",
          "Medium Revenue Company",
          "Very High Revenue Company",
          "Unknown / Non-Applicable",
          "High Revenue Company",
          "Very High Revenue Company",
          "Medium Revenue Company",
          "Unknown / Non-Applicable",
          "High Revenue Company",
          "Unknown / Non-Applicable",
          "High Revenue Company",
          "Unknown / Non-Applicable",
          "Medium Revenue Company",
          "High Revenue Company",
          null,
          "High Revenue Company",
          "Unknown / Non-Applicable",
          "Medium Revenue Company",
          null,
          "Very High Revenue Company",
          "Unknown / Non-Applicable",
          "High Revenue Company",
          "Very High Revenue Company",
          "Medium Revenue Company",
          "Low Revenue Company",
          "Unknown / Non-Applicable",
          "High Revenue Company",
          "High Revenue Company",
          "Unknown / Non-Applicable",
          "Medium Revenue Company",
          "Very High Revenue Company",
          "Very High Revenue Company",
          "Medium Revenue Company",
          "Very High Revenue Company",
          "Medium Revenue Company",
          "Unknown / Non-Applicable",
          "Unknown / Non-Applicable",
          "Very High Revenue Company",
          "High Revenue Company",
          "Unknown / Non-Applicable",
          "Very High Revenue Company",
          "Medium Revenue Company",
          "Very High Revenue Company",
          null,
          "Unknown / Non-Applicable",
          "Unknown / Non-Applicable",
          "Low Revenue Company",
          null,
          "Unknown / Non-Applicable",
          "Medium Revenue Company",
          "High Revenue Company",
          "Medium Revenue Company",
          "Unknown / Non-Applicable",
          "High Revenue Company",
          "High Revenue Company",
          "Unknown / Non-Applicable",
          "Unknown / Non-Applicable",
          "Medium Revenue Company",
          "Unknown / Non-Applicable",
          "High Revenue Company",
          null,
          null,
          "High Revenue Company",
          "Unknown / Non-Applicable",
          "Medium Revenue Company",
          "Medium Revenue Company",
          "Unknown / Non-Applicable",
          "Medium Revenue Company",
          "Medium Revenue Company",
          "Very High Revenue Company",
          "Medium Revenue Company",
          "High Revenue Company",
          "Unknown / Non-Applicable",
          "Unknown / Non-Applicable",
          "Medium Revenue Company",
          "Unknown / Non-Applicable",
          "Unknown / Non-Applicable",
          "Very High Revenue Company",
          "Very High Revenue Company",
          "Medium Revenue Company",
          "Very High Revenue Company",
          "Medium Revenue Company",
          "High Revenue Company",
          "Medium Revenue Company",
          null,
          "Medium Revenue Company",
          "High Revenue Company",
          "Unknown / Non-Applicable",
          "Very High Revenue Company",
          "Unknown / Non-Applicable",
          "Medium Revenue Company",
          "Unknown / Non-Applicable",
          "High Revenue Company",
          "Medium Revenue Company",
          "High Revenue Company",
          "High Revenue Company",
          "Unknown / Non-Applicable",
          "Medium Revenue Company",
          "Very High Revenue Company",
          "Very High Revenue Company",
          "Very High Revenue Company",
          "Medium Revenue Company",
          "High Revenue Company",
          "Unknown / Non-Applicable",
          "High Revenue Company",
          "Medium Revenue Company",
          "Very High Revenue Company",
          "Unknown / Non-Applicable",
          null,
          "Unknown / Non-Applicable",
          "Very High Revenue Company",
          "Very High Revenue Company",
          "Very High Revenue Company",
          "Medium Revenue Company",
          null,
          "Unknown / Non-Applicable",
          "High Revenue Company",
          "Medium Revenue Company",
          null,
          "Medium Revenue Company",
          "Medium Revenue Company",
          "High Revenue Company",
          "Medium Revenue Company",
          "Medium Revenue Company",
          "Unknown / Non-Applicable",
          "Medium Revenue Company",
          null,
          "High Revenue Company",
          null,
          "Medium Revenue Company",
          "Very High Revenue Company",
          "Very High Revenue Company",
          "Very High Revenue Company",
          "Medium Revenue Company",
          "Unknown / Non-Applicable",
          "Medium Revenue Company",
          "Very High Revenue Company",
          "Medium Revenue Company",
          "High Revenue Company",
          "Very High Revenue Company",
          null,
          "Medium Revenue Company",
          "Unknown / Non-Applicable",
          "Medium Revenue Company",
          "Medium Revenue Company",
          "Medium Revenue Company",
          "Medium Revenue Company",
          "High Revenue Company",
          "Very High Revenue Company",
          "Unknown / Non-Applicable",
          "Unknown / Non-Applicable",
          "Very High Revenue Company",
          "Very High Revenue Company",
          "Unknown / Non-Applicable",
          "Unknown / Non-Applicable",
          null,
          "High Revenue Company",
          "Unknown / Non-Applicable",
          "Medium Revenue Company",
          "Medium Revenue Company",
          "Medium Revenue Company",
          "Unknown / Non-Applicable",
          "Very High Revenue Company",
          "Medium Revenue Company",
          "Unknown / Non-Applicable",
          "Very High Revenue Company",
          "Very High Revenue Company",
          "Medium Revenue Company",
          "High Revenue Company",
          "Medium Revenue Company",
          "Very High Revenue Company",
          "Unknown / Non-Applicable",
          "Unknown / Non-Applicable",
          "Very High Revenue Company",
          "Very High Revenue Company",
          "High Revenue Company",
          null,
          "Unknown / Non-Applicable",
          "Very High Revenue Company",
          "High Revenue Company",
          "Medium Revenue Company",
          "Medium Revenue Company",
          "Unknown / Non-Applicable",
          "Medium Revenue Company",
          "Medium Revenue Company",
          "Medium Revenue Company",
          "Unknown / Non-Applicable",
          "High Revenue Company",
          "High Revenue Company",
          "Very High Revenue Company",
          "Very High Revenue Company",
          "Unknown / Non-Applicable",
          "High Revenue Company",
          "Low Revenue Company",
          "Medium Revenue Company",
          "Very High Revenue Company",
          "Unknown / Non-Applicable",
          "Unknown / Non-Applicable",
          "Medium Revenue Company",
          "Unknown / Non-Applicable",
          "Medium Revenue Company",
          "Very High Revenue Company",
          "High Revenue Company",
          "Unknown / Non-Applicable",
          "High Revenue Company",
          "Unknown / Non-Applicable",
          "Unknown / Non-Applicable",
          "Medium Revenue Company",
          "Medium Revenue Company",
          "Very High Revenue Company",
          "Medium Revenue Company",
          "Very High Revenue Company",
          "Medium Revenue Company",
          "Unknown / Non-Applicable",
          null,
          "Very High Revenue Company",
          "Very High Revenue Company",
          "Very High Revenue Company",
          "Very High Revenue Company",
          "Very High Revenue Company",
          "Very High Revenue Company",
          "Unknown / Non-Applicable",
          "Medium Revenue Company",
          "Unknown / Non-Applicable",
          "Very High Revenue Company",
          "Unknown / Non-Applicable",
          "Unknown / Non-Applicable",
          "Medium Revenue Company",
          "Very High Revenue Company",
          "Very High Revenue Company",
          "Unknown / Non-Applicable",
          "Medium Revenue Company",
          "Unknown / Non-Applicable",
          "Unknown / Non-Applicable",
          "Medium Revenue Company",
          "Unknown / Non-Applicable",
          "Medium Revenue Company",
          "Unknown / Non-Applicable",
          "Unknown / Non-Applicable",
          "Medium Revenue Company",
          "Unknown / Non-Applicable",
          "High Revenue Company",
          "Very High Revenue Company",
          "Medium Revenue Company",
          "Unknown / Non-Applicable",
          "Very High Revenue Company",
          "Medium Revenue Company",
          "Very High Revenue Company",
          "Unknown / Non-Applicable",
          "Unknown / Non-Applicable",
          "Unknown / Non-Applicable",
          "Unknown / Non-Applicable",
          "Medium Revenue Company",
          "Very High Revenue Company",
          "Very High Revenue Company",
          "High Revenue Company",
          "Very High Revenue Company",
          "Medium Revenue Company",
          "Unknown / Non-Applicable",
          "Unknown / Non-Applicable",
          "High Revenue Company",
          "Very High Revenue Company",
          "Unknown / Non-Applicable",
          "High Revenue Company",
          "Very High Revenue Company",
          "Unknown / Non-Applicable",
          "High Revenue Company",
          "Medium Revenue Company",
          "Very High Revenue Company",
          "Very High Revenue Company",
          "Low Revenue Company",
          "Very High Revenue Company",
          "Very High Revenue Company",
          "High Revenue Company",
          "Low Revenue Company",
          "Unknown / Non-Applicable",
          "High Revenue Company",
          "Very High Revenue Company",
          "Unknown / Non-Applicable",
          "Medium Revenue Company",
          "Unknown / Non-Applicable",
          "Very High Revenue Company",
          "High Revenue Company",
          "Very High Revenue Company",
          null,
          "Unknown / Non-Applicable",
          "Very High Revenue Company",
          "Medium Revenue Company",
          "Very High Revenue Company",
          "Very High Revenue Company",
          "Unknown / Non-Applicable",
          "Unknown / Non-Applicable",
          null,
          "Medium Revenue Company",
          null,
          "Very High Revenue Company",
          "Very High Revenue Company",
          "Unknown / Non-Applicable",
          "Unknown / Non-Applicable",
          "Very High Revenue Company",
          "Low Revenue Company",
          "Unknown / Non-Applicable",
          "Very High Revenue Company",
          "Very High Revenue Company",
          "Medium Revenue Company",
          "Medium Revenue Company",
          "Unknown / Non-Applicable",
          "Very High Revenue Company",
          "Very High Revenue Company",
          "Medium Revenue Company",
          "Very High Revenue Company",
          "High Revenue Company",
          "Very High Revenue Company",
          "Unknown / Non-Applicable",
          "Unknown / Non-Applicable",
          "Medium Revenue Company",
          "High Revenue Company",
          "Unknown / Non-Applicable",
          "Unknown / Non-Applicable",
          "Unknown / Non-Applicable",
          "Very High Revenue Company",
          "High Revenue Company",
          "Medium Revenue Company",
          "Very High Revenue Company",
          null,
          "High Revenue Company",
          "Unknown / Non-Applicable",
          "Medium Revenue Company",
          "Medium Revenue Company",
          "Medium Revenue Company",
          "Unknown / Non-Applicable",
          "Medium Revenue Company",
          "Very High Revenue Company",
          "High Revenue Company",
          "Unknown / Non-Applicable",
          "Medium Revenue Company",
          null,
          "Very High Revenue Company",
          "High Revenue Company",
          "Medium Revenue Company",
          "Medium Revenue Company",
          "Low Revenue Company",
          "High Revenue Company",
          "Low Revenue Company",
          null,
          "High Revenue Company",
          "Medium Revenue Company",
          "Very High Revenue Company",
          "Unknown / Non-Applicable",
          "Very High Revenue Company",
          "Very High Revenue Company",
          "High Revenue Company",
          "High Revenue Company",
          "Medium Revenue Company",
          "Unknown / Non-Applicable",
          "Unknown / Non-Applicable",
          null,
          "Very High Revenue Company",
          "Medium Revenue Company",
          "Unknown / Non-Applicable",
          "Medium Revenue Company",
          "Low Revenue Company",
          "Medium Revenue Company",
          "Unknown / Non-Applicable",
          null,
          "Unknown / Non-Applicable",
          "Low Revenue Company",
          "Unknown / Non-Applicable",
          "Medium Revenue Company",
          "Very High Revenue Company",
          "Very High Revenue Company",
          "Unknown / Non-Applicable",
          "Very High Revenue Company",
          "Unknown / Non-Applicable",
          "Very High Revenue Company",
          "Medium Revenue Company",
          "Unknown / Non-Applicable",
          "High Revenue Company",
          "Low Revenue Company",
          "Low Revenue Company",
          "Medium Revenue Company",
          "Medium Revenue Company",
          "Low Revenue Company",
          "Very High Revenue Company",
          "High Revenue Company",
          "Medium Revenue Company",
          "High Revenue Company",
          "Low Revenue Company",
          "High Revenue Company",
          "High Revenue Company",
          "High Revenue Company",
          "Medium Revenue Company",
          "Medium Revenue Company",
          "Low Revenue Company",
          "Unknown / Non-Applicable",
          "Very High Revenue Company",
          "Very High Revenue Company",
          "Very High Revenue Company",
          "Low Revenue Company",
          null,
          "Medium Revenue Company",
          null,
          "Very High Revenue Company",
          "Very High Revenue Company",
          "Medium Revenue Company",
          null,
          "Unknown / Non-Applicable",
          "Medium Revenue Company",
          "Medium Revenue Company",
          "Very High Revenue Company",
          "High Revenue Company",
          "Medium Revenue Company",
          "High Revenue Company",
          "High Revenue Company",
          "Very High Revenue Company",
          "Very High Revenue Company",
          "Unknown / Non-Applicable",
          "Medium Revenue Company",
          "Medium Revenue Company",
          null,
          "Unknown / Non-Applicable",
          "Unknown / Non-Applicable",
          "High Revenue Company",
          "Unknown / Non-Applicable",
          "Unknown / Non-Applicable",
          "Unknown / Non-Applicable",
          "Unknown / Non-Applicable",
          "Medium Revenue Company",
          "Unknown / Non-Applicable",
          "Medium Revenue Company",
          "Medium Revenue Company",
          "Medium Revenue Company",
          "Very High Revenue Company",
          null,
          "Medium Revenue Company",
          "High Revenue Company",
          "High Revenue Company",
          "Unknown / Non-Applicable",
          "Very High Revenue Company",
          "Medium Revenue Company",
          "Very High Revenue Company",
          "High Revenue Company",
          "High Revenue Company",
          "Medium Revenue Company",
          "Medium Revenue Company",
          "High Revenue Company",
          "Low Revenue Company",
          "Medium Revenue Company",
          "Medium Revenue Company",
          "Unknown / Non-Applicable",
          "High Revenue Company",
          "High Revenue Company",
          "Medium Revenue Company",
          "Medium Revenue Company",
          "Medium Revenue Company",
          null,
          null,
          "Very High Revenue Company",
          "Very High Revenue Company",
          "Unknown / Non-Applicable",
          "Very High Revenue Company",
          "Unknown / Non-Applicable",
          "Medium Revenue Company",
          "Medium Revenue Company",
          "High Revenue Company",
          "Very High Revenue Company",
          "Medium Revenue Company",
          "Very High Revenue Company",
          "Very High Revenue Company",
          "Unknown / Non-Applicable",
          "Very High Revenue Company",
          null,
          "Unknown / Non-Applicable",
          "Unknown / Non-Applicable",
          "Unknown / Non-Applicable",
          "Unknown / Non-Applicable",
          "Very High Revenue Company",
          "High Revenue Company",
          "Unknown / Non-Applicable",
          "Medium Revenue Company",
          "Medium Revenue Company",
          null,
          "High Revenue Company",
          "Medium Revenue Company",
          "Medium Revenue Company",
          "High Revenue Company",
          "Unknown / Non-Applicable",
          "Very High Revenue Company",
          "High Revenue Company",
          "Very High Revenue Company",
          "Unknown / Non-Applicable",
          "Medium Revenue Company",
          "Unknown / Non-Applicable",
          "Very High Revenue Company",
          "Unknown / Non-Applicable",
          "Unknown / Non-Applicable",
          "Unknown / Non-Applicable",
          "Very High Revenue Company",
          "Very High Revenue Company",
          "Very High Revenue Company",
          "Unknown / Non-Applicable",
          "Unknown / Non-Applicable",
          "Very High Revenue Company",
          "Medium Revenue Company",
          "Very High Revenue Company",
          null,
          "Unknown / Non-Applicable",
          "Medium Revenue Company",
          "Low Revenue Company",
          "Medium Revenue Company",
          "Medium Revenue Company",
          "Medium Revenue Company",
          "Unknown / Non-Applicable",
          "Very High Revenue Company",
          "Medium Revenue Company",
          "Unknown / Non-Applicable",
          "Unknown / Non-Applicable",
          "High Revenue Company",
          "Very High Revenue Company",
          "Very High Revenue Company",
          "High Revenue Company",
          "Medium Revenue Company",
          "High Revenue Company",
          "Unknown / Non-Applicable",
          "Very High Revenue Company",
          "Very High Revenue Company",
          "Unknown / Non-Applicable",
          "Medium Revenue Company",
          "Unknown / Non-Applicable",
          "Medium Revenue Company",
          null,
          "High Revenue Company",
          "Medium Revenue Company",
          "Medium Revenue Company",
          "Unknown / Non-Applicable",
          "Unknown / Non-Applicable",
          "Unknown / Non-Applicable",
          "Medium Revenue Company",
          "Medium Revenue Company",
          null,
          "Unknown / Non-Applicable",
          "Medium Revenue Company",
          "Very High Revenue Company",
          "Medium Revenue Company",
          "Very High Revenue Company",
          "High Revenue Company",
          "Medium Revenue Company",
          "Medium Revenue Company",
          "Very High Revenue Company",
          null,
          "High Revenue Company",
          "Low Revenue Company",
          "Unknown / Non-Applicable",
          "Very High Revenue Company",
          "Low Revenue Company",
          "Low Revenue Company",
          "High Revenue Company",
          "Medium Revenue Company",
          "Unknown / Non-Applicable",
          "Very High Revenue Company",
          "Medium Revenue Company",
          "Medium Revenue Company",
          "Medium Revenue Company",
          "High Revenue Company",
          "Medium Revenue Company",
          "Medium Revenue Company",
          null,
          "Unknown / Non-Applicable",
          null,
          "Medium Revenue Company",
          "High Revenue Company",
          "Low Revenue Company",
          "Very High Revenue Company",
          "Medium Revenue Company",
          "Medium Revenue Company",
          "Very High Revenue Company",
          "Unknown / Non-Applicable",
          "Medium Revenue Company",
          "Medium Revenue Company",
          "Unknown / Non-Applicable",
          "Unknown / Non-Applicable",
          "Unknown / Non-Applicable",
          "Unknown / Non-Applicable",
          "Unknown / Non-Applicable",
          "Unknown / Non-Applicable",
          "High Revenue Company",
          "Unknown / Non-Applicable",
          "Medium Revenue Company",
          "Medium Revenue Company",
          "Unknown / Non-Applicable",
          "Unknown / Non-Applicable",
          "Medium Revenue Company",
          "Very High Revenue Company",
          "Medium Revenue Company",
          "Medium Revenue Company",
          "Unknown / Non-Applicable",
          "Medium Revenue Company",
          "Medium Revenue Company",
          "Unknown / Non-Applicable",
          "Medium Revenue Company",
          "Low Revenue Company",
          "Very High Revenue Company",
          "Very High Revenue Company",
          "Unknown / Non-Applicable",
          "Unknown / Non-Applicable",
          "Unknown / Non-Applicable",
          "Unknown / Non-Applicable",
          "Medium Revenue Company",
          "High Revenue Company",
          "Medium Revenue Company",
          "Unknown / Non-Applicable",
          "Unknown / Non-Applicable",
          "High Revenue Company",
          null,
          "Unknown / Non-Applicable",
          "Very High Revenue Company",
          "Unknown / Non-Applicable",
          "Unknown / Non-Applicable",
          "Very High Revenue Company",
          "Unknown / Non-Applicable",
          "Unknown / Non-Applicable",
          "Unknown / Non-Applicable",
          "High Revenue Company",
          "Medium Revenue Company",
          "Very High Revenue Company",
          "Low Revenue Company",
          null,
          "Unknown / Non-Applicable",
          "Very High Revenue Company",
          "High Revenue Company",
          "Unknown / Non-Applicable",
          "Medium Revenue Company",
          "Medium Revenue Company",
          "Medium Revenue Company",
          "Very High Revenue Company",
          "Medium Revenue Company",
          "Unknown / Non-Applicable",
          "Medium Revenue Company",
          "Medium Revenue Company",
          "Very High Revenue Company",
          "Medium Revenue Company",
          null,
          "Unknown / Non-Applicable",
          "High Revenue Company",
          "Medium Revenue Company",
          "Unknown / Non-Applicable",
          "Medium Revenue Company",
          "Unknown / Non-Applicable",
          null,
          "Medium Revenue Company",
          "Low Revenue Company",
          "Medium Revenue Company",
          "Unknown / Non-Applicable",
          "Unknown / Non-Applicable",
          null,
          "Very High Revenue Company",
          "Low Revenue Company",
          "High Revenue Company",
          "Unknown / Non-Applicable",
          "High Revenue Company",
          "Unknown / Non-Applicable",
          "High Revenue Company",
          "Very High Revenue Company",
          "Very High Revenue Company",
          "Medium Revenue Company",
          "Medium Revenue Company",
          "Medium Revenue Company",
          "Unknown / Non-Applicable",
          "Very High Revenue Company",
          "Low Revenue Company",
          "Medium Revenue Company",
          "Very High Revenue Company",
          "Medium Revenue Company",
          null,
          null,
          "Very High Revenue Company",
          "Unknown / Non-Applicable",
          "Unknown / Non-Applicable",
          "High Revenue Company",
          null,
          "Very High Revenue Company",
          "Medium Revenue Company",
          "Medium Revenue Company",
          "Unknown / Non-Applicable",
          "Very High Revenue Company",
          "Medium Revenue Company",
          "High Revenue Company",
          "Unknown / Non-Applicable",
          "Very High Revenue Company",
          "Very High Revenue Company",
          "Unknown / Non-Applicable",
          "Medium Revenue Company",
          "Medium Revenue Company",
          "Medium Revenue Company",
          "Unknown / Non-Applicable",
          "Unknown / Non-Applicable",
          null,
          "Medium Revenue Company",
          "Low Revenue Company",
          "Medium Revenue Company",
          "High Revenue Company",
          "Unknown / Non-Applicable",
          "Very High Revenue Company",
          "High Revenue Company",
          "Very High Revenue Company",
          "Very High Revenue Company",
          null,
          "Unknown / Non-Applicable",
          "Very High Revenue Company",
          "Medium Revenue Company",
          "Medium Revenue Company",
          "Unknown / Non-Applicable",
          "Very High Revenue Company",
          "Low Revenue Company",
          "Medium Revenue Company",
          "Unknown / Non-Applicable",
          "High Revenue Company",
          "Medium Revenue Company",
          null,
          "Medium Revenue Company",
          "Medium Revenue Company",
          "Medium Revenue Company",
          "Very High Revenue Company",
          "Medium Revenue Company",
          "Unknown / Non-Applicable",
          "Medium Revenue Company",
          "Medium Revenue Company",
          "Very High Revenue Company",
          "Unknown / Non-Applicable",
          null,
          "Medium Revenue Company",
          "Unknown / Non-Applicable",
          "Very High Revenue Company",
          "Very High Revenue Company",
          "Medium Revenue Company",
          "Very High Revenue Company",
          "Unknown / Non-Applicable",
          "Unknown / Non-Applicable",
          "Very High Revenue Company",
          "Very High Revenue Company",
          "Unknown / Non-Applicable",
          "Medium Revenue Company",
          "Very High Revenue Company",
          "High Revenue Company",
          "Very High Revenue Company",
          "High Revenue Company",
          "Unknown / Non-Applicable",
          "Medium Revenue Company",
          "Unknown / Non-Applicable",
          "High Revenue Company",
          "High Revenue Company",
          "Medium Revenue Company",
          "Very High Revenue Company",
          "Very High Revenue Company",
          "Very High Revenue Company",
          "Very High Revenue Company",
          "Medium Revenue Company",
          "Medium Revenue Company",
          "Medium Revenue Company",
          "Very High Revenue Company",
          null,
          "Medium Revenue Company",
          "High Revenue Company",
          "Unknown / Non-Applicable",
          "High Revenue Company",
          null,
          "High Revenue Company",
          "Very High Revenue Company",
          "Very High Revenue Company",
          "Very High Revenue Company",
          "High Revenue Company",
          "Medium Revenue Company",
          "Low Revenue Company",
          "High Revenue Company",
          "High Revenue Company",
          "Unknown / Non-Applicable",
          "Medium Revenue Company",
          "Medium Revenue Company",
          "Unknown / Non-Applicable",
          "Medium Revenue Company",
          "Medium Revenue Company",
          "Medium Revenue Company",
          "Medium Revenue Company",
          "Medium Revenue Company",
          "Unknown / Non-Applicable",
          "Medium Revenue Company",
          "Very High Revenue Company",
          "Very High Revenue Company",
          "Unknown / Non-Applicable",
          "Very High Revenue Company",
          "Medium Revenue Company",
          "Medium Revenue Company",
          "Unknown / Non-Applicable",
          "High Revenue Company",
          "Medium Revenue Company",
          "Unknown / Non-Applicable",
          "Very High Revenue Company",
          "High Revenue Company",
          "Medium Revenue Company",
          "Medium Revenue Company",
          "Unknown / Non-Applicable",
          "Very High Revenue Company",
          "Medium Revenue Company",
          "Very High Revenue Company",
          null,
          "Medium Revenue Company",
          "Very High Revenue Company",
          "Medium Revenue Company",
          null,
          null,
          "Very High Revenue Company",
          "Medium Revenue Company",
          "Unknown / Non-Applicable",
          null,
          "Medium Revenue Company",
          "Medium Revenue Company",
          "Very High Revenue Company",
          "High Revenue Company",
          "Very High Revenue Company",
          "Medium Revenue Company",
          "Unknown / Non-Applicable",
          "High Revenue Company",
          "Unknown / Non-Applicable",
          "High Revenue Company",
          "Very High Revenue Company",
          "Medium Revenue Company",
          "Very High Revenue Company",
          "Very High Revenue Company",
          "High Revenue Company",
          "Unknown / Non-Applicable",
          "Very High Revenue Company",
          "Very High Revenue Company",
          "Unknown / Non-Applicable",
          "Medium Revenue Company",
          "Unknown / Non-Applicable",
          "High Revenue Company",
          "Very High Revenue Company",
          "Medium Revenue Company",
          "Unknown / Non-Applicable",
          "Medium Revenue Company",
          "Unknown / Non-Applicable",
          "High Revenue Company",
          "Unknown / Non-Applicable",
          "Unknown / Non-Applicable",
          "High Revenue Company",
          "Unknown / Non-Applicable",
          "Unknown / Non-Applicable",
          "Unknown / Non-Applicable",
          "Unknown / Non-Applicable",
          "High Revenue Company",
          "Unknown / Non-Applicable",
          "Unknown / Non-Applicable",
          "Medium Revenue Company",
          "Unknown / Non-Applicable",
          "Medium Revenue Company",
          "Medium Revenue Company",
          "Unknown / Non-Applicable",
          "Unknown / Non-Applicable",
          "Unknown / Non-Applicable",
          "Medium Revenue Company",
          "Unknown / Non-Applicable",
          null,
          "Medium Revenue Company",
          "Low Revenue Company",
          "Medium Revenue Company",
          "Medium Revenue Company",
          "Unknown / Non-Applicable",
          "Unknown / Non-Applicable",
          "Low Revenue Company",
          "Unknown / Non-Applicable",
          "Unknown / Non-Applicable",
          "Unknown / Non-Applicable",
          "Unknown / Non-Applicable",
          "Unknown / Non-Applicable",
          "High Revenue Company",
          "High Revenue Company",
          "Medium Revenue Company",
          "Unknown / Non-Applicable",
          "Unknown / Non-Applicable",
          null,
          "Very High Revenue Company",
          "Medium Revenue Company",
          "Medium Revenue Company",
          "Unknown / Non-Applicable",
          "High Revenue Company",
          "Very High Revenue Company",
          "High Revenue Company",
          "Unknown / Non-Applicable",
          "Medium Revenue Company",
          "Unknown / Non-Applicable",
          "Very High Revenue Company",
          "Medium Revenue Company",
          "Medium Revenue Company",
          "Unknown / Non-Applicable",
          "Unknown / Non-Applicable",
          "High Revenue Company",
          "Medium Revenue Company",
          "Unknown / Non-Applicable",
          "Unknown / Non-Applicable",
          "Medium Revenue Company",
          "Unknown / Non-Applicable",
          "Medium Revenue Company",
          "High Revenue Company",
          "Very High Revenue Company",
          "High Revenue Company",
          "Very High Revenue Company",
          "High Revenue Company",
          "Unknown / Non-Applicable",
          "Medium Revenue Company",
          "Unknown / Non-Applicable",
          null,
          "Medium Revenue Company",
          "High Revenue Company",
          null,
          "Medium Revenue Company",
          "Medium Revenue Company",
          null,
          "Unknown / Non-Applicable",
          "Unknown / Non-Applicable",
          "Unknown / Non-Applicable",
          "Unknown / Non-Applicable",
          "Medium Revenue Company",
          "Medium Revenue Company",
          "Very High Revenue Company",
          "Medium Revenue Company",
          "Medium Revenue Company",
          "Unknown / Non-Applicable",
          "Unknown / Non-Applicable",
          "High Revenue Company",
          null,
          "Very High Revenue Company",
          "Medium Revenue Company",
          "Unknown / Non-Applicable",
          "Unknown / Non-Applicable",
          "Unknown / Non-Applicable",
          "Unknown / Non-Applicable",
          "Unknown / Non-Applicable",
          "Medium Revenue Company",
          "Low Revenue Company",
          "Medium Revenue Company",
          "Low Revenue Company",
          "Medium Revenue Company",
          "Very High Revenue Company",
          "Medium Revenue Company",
          "Medium Revenue Company",
          "Medium Revenue Company",
          "Medium Revenue Company",
          "Unknown / Non-Applicable",
          "Unknown / Non-Applicable",
          "High Revenue Company",
          "Very High Revenue Company",
          "Very High Revenue Company",
          "Very High Revenue Company",
          "Unknown / Non-Applicable",
          "Unknown / Non-Applicable",
          "Unknown / Non-Applicable",
          "High Revenue Company",
          null,
          "Very High Revenue Company",
          "Medium Revenue Company",
          "Unknown / Non-Applicable",
          "Unknown / Non-Applicable",
          "High Revenue Company",
          "Unknown / Non-Applicable",
          "Medium Revenue Company",
          "Unknown / Non-Applicable",
          null,
          "Medium Revenue Company",
          "Unknown / Non-Applicable",
          "Unknown / Non-Applicable",
          "Medium Revenue Company",
          "High Revenue Company",
          "Unknown / Non-Applicable",
          "Unknown / Non-Applicable",
          "High Revenue Company",
          "High Revenue Company",
          "High Revenue Company",
          "Medium Revenue Company",
          "Unknown / Non-Applicable",
          "Very High Revenue Company",
          "Unknown / Non-Applicable",
          "Medium Revenue Company",
          "High Revenue Company",
          "Unknown / Non-Applicable",
          "Medium Revenue Company",
          "Unknown / Non-Applicable",
          "Unknown / Non-Applicable",
          "Very High Revenue Company",
          "Very High Revenue Company",
          "Unknown / Non-Applicable",
          "Unknown / Non-Applicable",
          "High Revenue Company",
          "Unknown / Non-Applicable",
          "High Revenue Company",
          "Medium Revenue Company",
          "Medium Revenue Company",
          "Very High Revenue Company",
          "Medium Revenue Company",
          "Unknown / Non-Applicable",
          "Unknown / Non-Applicable",
          "Unknown / Non-Applicable",
          "High Revenue Company",
          "Unknown / Non-Applicable",
          "Unknown / Non-Applicable",
          "Unknown / Non-Applicable",
          "Very High Revenue Company",
          null,
          "High Revenue Company",
          "High Revenue Company",
          "Medium Revenue Company",
          "Unknown / Non-Applicable",
          "Medium Revenue Company",
          "High Revenue Company",
          "Very High Revenue Company",
          "Medium Revenue Company",
          "Medium Revenue Company",
          "Low Revenue Company",
          "Unknown / Non-Applicable",
          "Low Revenue Company",
          "Medium Revenue Company",
          "Medium Revenue Company",
          "Medium Revenue Company",
          "Low Revenue Company",
          "Medium Revenue Company",
          "Medium Revenue Company",
          "Medium Revenue Company",
          "Very High Revenue Company",
          "Medium Revenue Company",
          "High Revenue Company",
          "Very High Revenue Company",
          "Medium Revenue Company",
          "Very High Revenue Company",
          "Low Revenue Company",
          "Unknown / Non-Applicable",
          "Very High Revenue Company",
          "High Revenue Company",
          "Unknown / Non-Applicable",
          "Unknown / Non-Applicable",
          "Very High Revenue Company",
          "Medium Revenue Company",
          "High Revenue Company",
          "Low Revenue Company",
          "Very High Revenue Company",
          "Medium Revenue Company",
          "Very High Revenue Company",
          null,
          "Very High Revenue Company",
          "High Revenue Company",
          "Medium Revenue Company",
          "Medium Revenue Company",
          "Medium Revenue Company",
          "Medium Revenue Company",
          "Unknown / Non-Applicable",
          "Medium Revenue Company",
          "High Revenue Company",
          "Low Revenue Company",
          "Very High Revenue Company",
          "Medium Revenue Company",
          "Unknown / Non-Applicable",
          "Unknown / Non-Applicable",
          "High Revenue Company",
          "Very High Revenue Company",
          "Medium Revenue Company",
          "High Revenue Company",
          "Medium Revenue Company",
          "Very High Revenue Company",
          null,
          "Medium Revenue Company",
          "Very High Revenue Company",
          "High Revenue Company",
          null,
          "Very High Revenue Company",
          "Medium Revenue Company",
          "Very High Revenue Company",
          "Medium Revenue Company",
          "Medium Revenue Company",
          "Medium Revenue Company",
          null,
          "Medium Revenue Company",
          null,
          "Medium Revenue Company",
          null,
          "High Revenue Company",
          "Unknown / Non-Applicable",
          "Very High Revenue Company",
          "Medium Revenue Company",
          null,
          null,
          "Very High Revenue Company",
          "Medium Revenue Company",
          "Medium Revenue Company",
          "Medium Revenue Company",
          "Medium Revenue Company",
          "High Revenue Company",
          null,
          "High Revenue Company",
          "Very High Revenue Company",
          "Unknown / Non-Applicable",
          "Very High Revenue Company",
          "Medium Revenue Company",
          "Medium Revenue Company",
          "Medium Revenue Company",
          "Very High Revenue Company",
          "Medium Revenue Company",
          "High Revenue Company",
          "Unknown / Non-Applicable",
          "High Revenue Company",
          "Medium Revenue Company",
          "High Revenue Company",
          "Unknown / Non-Applicable",
          "Medium Revenue Company",
          "Medium Revenue Company",
          "Very High Revenue Company",
          "Very High Revenue Company",
          "Medium Revenue Company",
          "High Revenue Company",
          "Very High Revenue Company",
          "Medium Revenue Company",
          "Medium Revenue Company",
          "Medium Revenue Company",
          "Unknown / Non-Applicable",
          "Unknown / Non-Applicable",
          "Medium Revenue Company",
          "Unknown / Non-Applicable",
          "High Revenue Company",
          "Very High Revenue Company",
          "Medium Revenue Company",
          "Very High Revenue Company",
          "Very High Revenue Company",
          "Medium Revenue Company",
          null,
          "Very High Revenue Company",
          "Unknown / Non-Applicable",
          "High Revenue Company",
          "High Revenue Company",
          "Unknown / Non-Applicable",
          "Unknown / Non-Applicable",
          "Medium Revenue Company",
          null,
          "Low Revenue Company",
          null,
          "Medium Revenue Company",
          "Unknown / Non-Applicable",
          "Unknown / Non-Applicable",
          "Low Revenue Company",
          "Medium Revenue Company",
          "Medium Revenue Company",
          "Medium Revenue Company",
          "Unknown / Non-Applicable",
          "Very High Revenue Company",
          "Medium Revenue Company",
          "Very High Revenue Company",
          "Unknown / Non-Applicable",
          "Unknown / Non-Applicable",
          "Medium Revenue Company",
          "Medium Revenue Company",
          "Very High Revenue Company",
          "Low Revenue Company",
          "Low Revenue Company",
          "Medium Revenue Company",
          "Medium Revenue Company",
          "Unknown / Non-Applicable",
          "Low Revenue Company",
          "Medium Revenue Company",
          "Medium Revenue Company",
          "Medium Revenue Company",
          "High Revenue Company",
          "Very High Revenue Company",
          "Very High Revenue Company",
          "High Revenue Company",
          "Unknown / Non-Applicable",
          "Very High Revenue Company",
          "Very High Revenue Company",
          "Medium Revenue Company",
          "Medium Revenue Company",
          "Medium Revenue Company",
          "Medium Revenue Company",
          null,
          "Unknown / Non-Applicable",
          "Unknown / Non-Applicable",
          "High Revenue Company",
          "Very High Revenue Company",
          "Unknown / Non-Applicable",
          "Medium Revenue Company",
          null,
          "Medium Revenue Company",
          "Unknown / Non-Applicable",
          "Very High Revenue Company",
          null,
          "Medium Revenue Company",
          "Very High Revenue Company"
         ],
         "legendgroup": "",
         "name": "",
         "showlegend": true,
         "type": "pie"
        }
       ],
       "layout": {
        "legend": {
         "tracegroupgap": 0
        },
        "margin": {
         "t": 60
        },
        "template": {
         "data": {
          "bar": [
           {
            "error_x": {
             "color": "#2a3f5f"
            },
            "error_y": {
             "color": "#2a3f5f"
            },
            "marker": {
             "line": {
              "color": "#E5ECF6",
              "width": 0.5
             },
             "pattern": {
              "fillmode": "overlay",
              "size": 10,
              "solidity": 0.2
             }
            },
            "type": "bar"
           }
          ],
          "barpolar": [
           {
            "marker": {
             "line": {
              "color": "#E5ECF6",
              "width": 0.5
             },
             "pattern": {
              "fillmode": "overlay",
              "size": 10,
              "solidity": 0.2
             }
            },
            "type": "barpolar"
           }
          ],
          "carpet": [
           {
            "aaxis": {
             "endlinecolor": "#2a3f5f",
             "gridcolor": "white",
             "linecolor": "white",
             "minorgridcolor": "white",
             "startlinecolor": "#2a3f5f"
            },
            "baxis": {
             "endlinecolor": "#2a3f5f",
             "gridcolor": "white",
             "linecolor": "white",
             "minorgridcolor": "white",
             "startlinecolor": "#2a3f5f"
            },
            "type": "carpet"
           }
          ],
          "choropleth": [
           {
            "colorbar": {
             "outlinewidth": 0,
             "ticks": ""
            },
            "type": "choropleth"
           }
          ],
          "contour": [
           {
            "colorbar": {
             "outlinewidth": 0,
             "ticks": ""
            },
            "colorscale": [
             [
              0,
              "#0d0887"
             ],
             [
              0.1111111111111111,
              "#46039f"
             ],
             [
              0.2222222222222222,
              "#7201a8"
             ],
             [
              0.3333333333333333,
              "#9c179e"
             ],
             [
              0.4444444444444444,
              "#bd3786"
             ],
             [
              0.5555555555555556,
              "#d8576b"
             ],
             [
              0.6666666666666666,
              "#ed7953"
             ],
             [
              0.7777777777777778,
              "#fb9f3a"
             ],
             [
              0.8888888888888888,
              "#fdca26"
             ],
             [
              1,
              "#f0f921"
             ]
            ],
            "type": "contour"
           }
          ],
          "contourcarpet": [
           {
            "colorbar": {
             "outlinewidth": 0,
             "ticks": ""
            },
            "type": "contourcarpet"
           }
          ],
          "heatmap": [
           {
            "colorbar": {
             "outlinewidth": 0,
             "ticks": ""
            },
            "colorscale": [
             [
              0,
              "#0d0887"
             ],
             [
              0.1111111111111111,
              "#46039f"
             ],
             [
              0.2222222222222222,
              "#7201a8"
             ],
             [
              0.3333333333333333,
              "#9c179e"
             ],
             [
              0.4444444444444444,
              "#bd3786"
             ],
             [
              0.5555555555555556,
              "#d8576b"
             ],
             [
              0.6666666666666666,
              "#ed7953"
             ],
             [
              0.7777777777777778,
              "#fb9f3a"
             ],
             [
              0.8888888888888888,
              "#fdca26"
             ],
             [
              1,
              "#f0f921"
             ]
            ],
            "type": "heatmap"
           }
          ],
          "heatmapgl": [
           {
            "colorbar": {
             "outlinewidth": 0,
             "ticks": ""
            },
            "colorscale": [
             [
              0,
              "#0d0887"
             ],
             [
              0.1111111111111111,
              "#46039f"
             ],
             [
              0.2222222222222222,
              "#7201a8"
             ],
             [
              0.3333333333333333,
              "#9c179e"
             ],
             [
              0.4444444444444444,
              "#bd3786"
             ],
             [
              0.5555555555555556,
              "#d8576b"
             ],
             [
              0.6666666666666666,
              "#ed7953"
             ],
             [
              0.7777777777777778,
              "#fb9f3a"
             ],
             [
              0.8888888888888888,
              "#fdca26"
             ],
             [
              1,
              "#f0f921"
             ]
            ],
            "type": "heatmapgl"
           }
          ],
          "histogram": [
           {
            "marker": {
             "pattern": {
              "fillmode": "overlay",
              "size": 10,
              "solidity": 0.2
             }
            },
            "type": "histogram"
           }
          ],
          "histogram2d": [
           {
            "colorbar": {
             "outlinewidth": 0,
             "ticks": ""
            },
            "colorscale": [
             [
              0,
              "#0d0887"
             ],
             [
              0.1111111111111111,
              "#46039f"
             ],
             [
              0.2222222222222222,
              "#7201a8"
             ],
             [
              0.3333333333333333,
              "#9c179e"
             ],
             [
              0.4444444444444444,
              "#bd3786"
             ],
             [
              0.5555555555555556,
              "#d8576b"
             ],
             [
              0.6666666666666666,
              "#ed7953"
             ],
             [
              0.7777777777777778,
              "#fb9f3a"
             ],
             [
              0.8888888888888888,
              "#fdca26"
             ],
             [
              1,
              "#f0f921"
             ]
            ],
            "type": "histogram2d"
           }
          ],
          "histogram2dcontour": [
           {
            "colorbar": {
             "outlinewidth": 0,
             "ticks": ""
            },
            "colorscale": [
             [
              0,
              "#0d0887"
             ],
             [
              0.1111111111111111,
              "#46039f"
             ],
             [
              0.2222222222222222,
              "#7201a8"
             ],
             [
              0.3333333333333333,
              "#9c179e"
             ],
             [
              0.4444444444444444,
              "#bd3786"
             ],
             [
              0.5555555555555556,
              "#d8576b"
             ],
             [
              0.6666666666666666,
              "#ed7953"
             ],
             [
              0.7777777777777778,
              "#fb9f3a"
             ],
             [
              0.8888888888888888,
              "#fdca26"
             ],
             [
              1,
              "#f0f921"
             ]
            ],
            "type": "histogram2dcontour"
           }
          ],
          "mesh3d": [
           {
            "colorbar": {
             "outlinewidth": 0,
             "ticks": ""
            },
            "type": "mesh3d"
           }
          ],
          "parcoords": [
           {
            "line": {
             "colorbar": {
              "outlinewidth": 0,
              "ticks": ""
             }
            },
            "type": "parcoords"
           }
          ],
          "pie": [
           {
            "automargin": true,
            "type": "pie"
           }
          ],
          "scatter": [
           {
            "fillpattern": {
             "fillmode": "overlay",
             "size": 10,
             "solidity": 0.2
            },
            "type": "scatter"
           }
          ],
          "scatter3d": [
           {
            "line": {
             "colorbar": {
              "outlinewidth": 0,
              "ticks": ""
             }
            },
            "marker": {
             "colorbar": {
              "outlinewidth": 0,
              "ticks": ""
             }
            },
            "type": "scatter3d"
           }
          ],
          "scattercarpet": [
           {
            "marker": {
             "colorbar": {
              "outlinewidth": 0,
              "ticks": ""
             }
            },
            "type": "scattercarpet"
           }
          ],
          "scattergeo": [
           {
            "marker": {
             "colorbar": {
              "outlinewidth": 0,
              "ticks": ""
             }
            },
            "type": "scattergeo"
           }
          ],
          "scattergl": [
           {
            "marker": {
             "colorbar": {
              "outlinewidth": 0,
              "ticks": ""
             }
            },
            "type": "scattergl"
           }
          ],
          "scattermapbox": [
           {
            "marker": {
             "colorbar": {
              "outlinewidth": 0,
              "ticks": ""
             }
            },
            "type": "scattermapbox"
           }
          ],
          "scatterpolar": [
           {
            "marker": {
             "colorbar": {
              "outlinewidth": 0,
              "ticks": ""
             }
            },
            "type": "scatterpolar"
           }
          ],
          "scatterpolargl": [
           {
            "marker": {
             "colorbar": {
              "outlinewidth": 0,
              "ticks": ""
             }
            },
            "type": "scatterpolargl"
           }
          ],
          "scatterternary": [
           {
            "marker": {
             "colorbar": {
              "outlinewidth": 0,
              "ticks": ""
             }
            },
            "type": "scatterternary"
           }
          ],
          "surface": [
           {
            "colorbar": {
             "outlinewidth": 0,
             "ticks": ""
            },
            "colorscale": [
             [
              0,
              "#0d0887"
             ],
             [
              0.1111111111111111,
              "#46039f"
             ],
             [
              0.2222222222222222,
              "#7201a8"
             ],
             [
              0.3333333333333333,
              "#9c179e"
             ],
             [
              0.4444444444444444,
              "#bd3786"
             ],
             [
              0.5555555555555556,
              "#d8576b"
             ],
             [
              0.6666666666666666,
              "#ed7953"
             ],
             [
              0.7777777777777778,
              "#fb9f3a"
             ],
             [
              0.8888888888888888,
              "#fdca26"
             ],
             [
              1,
              "#f0f921"
             ]
            ],
            "type": "surface"
           }
          ],
          "table": [
           {
            "cells": {
             "fill": {
              "color": "#EBF0F8"
             },
             "line": {
              "color": "white"
             }
            },
            "header": {
             "fill": {
              "color": "#C8D4E3"
             },
             "line": {
              "color": "white"
             }
            },
            "type": "table"
           }
          ]
         },
         "layout": {
          "annotationdefaults": {
           "arrowcolor": "#2a3f5f",
           "arrowhead": 0,
           "arrowwidth": 1
          },
          "autotypenumbers": "strict",
          "coloraxis": {
           "colorbar": {
            "outlinewidth": 0,
            "ticks": ""
           }
          },
          "colorscale": {
           "diverging": [
            [
             0,
             "#8e0152"
            ],
            [
             0.1,
             "#c51b7d"
            ],
            [
             0.2,
             "#de77ae"
            ],
            [
             0.3,
             "#f1b6da"
            ],
            [
             0.4,
             "#fde0ef"
            ],
            [
             0.5,
             "#f7f7f7"
            ],
            [
             0.6,
             "#e6f5d0"
            ],
            [
             0.7,
             "#b8e186"
            ],
            [
             0.8,
             "#7fbc41"
            ],
            [
             0.9,
             "#4d9221"
            ],
            [
             1,
             "#276419"
            ]
           ],
           "sequential": [
            [
             0,
             "#0d0887"
            ],
            [
             0.1111111111111111,
             "#46039f"
            ],
            [
             0.2222222222222222,
             "#7201a8"
            ],
            [
             0.3333333333333333,
             "#9c179e"
            ],
            [
             0.4444444444444444,
             "#bd3786"
            ],
            [
             0.5555555555555556,
             "#d8576b"
            ],
            [
             0.6666666666666666,
             "#ed7953"
            ],
            [
             0.7777777777777778,
             "#fb9f3a"
            ],
            [
             0.8888888888888888,
             "#fdca26"
            ],
            [
             1,
             "#f0f921"
            ]
           ],
           "sequentialminus": [
            [
             0,
             "#0d0887"
            ],
            [
             0.1111111111111111,
             "#46039f"
            ],
            [
             0.2222222222222222,
             "#7201a8"
            ],
            [
             0.3333333333333333,
             "#9c179e"
            ],
            [
             0.4444444444444444,
             "#bd3786"
            ],
            [
             0.5555555555555556,
             "#d8576b"
            ],
            [
             0.6666666666666666,
             "#ed7953"
            ],
            [
             0.7777777777777778,
             "#fb9f3a"
            ],
            [
             0.8888888888888888,
             "#fdca26"
            ],
            [
             1,
             "#f0f921"
            ]
           ]
          },
          "colorway": [
           "#636efa",
           "#EF553B",
           "#00cc96",
           "#ab63fa",
           "#FFA15A",
           "#19d3f3",
           "#FF6692",
           "#B6E880",
           "#FF97FF",
           "#FECB52"
          ],
          "font": {
           "color": "#2a3f5f"
          },
          "geo": {
           "bgcolor": "white",
           "lakecolor": "white",
           "landcolor": "#E5ECF6",
           "showlakes": true,
           "showland": true,
           "subunitcolor": "white"
          },
          "hoverlabel": {
           "align": "left"
          },
          "hovermode": "closest",
          "mapbox": {
           "style": "light"
          },
          "paper_bgcolor": "white",
          "plot_bgcolor": "#E5ECF6",
          "polar": {
           "angularaxis": {
            "gridcolor": "white",
            "linecolor": "white",
            "ticks": ""
           },
           "bgcolor": "#E5ECF6",
           "radialaxis": {
            "gridcolor": "white",
            "linecolor": "white",
            "ticks": ""
           }
          },
          "scene": {
           "xaxis": {
            "backgroundcolor": "#E5ECF6",
            "gridcolor": "white",
            "gridwidth": 2,
            "linecolor": "white",
            "showbackground": true,
            "ticks": "",
            "zerolinecolor": "white"
           },
           "yaxis": {
            "backgroundcolor": "#E5ECF6",
            "gridcolor": "white",
            "gridwidth": 2,
            "linecolor": "white",
            "showbackground": true,
            "ticks": "",
            "zerolinecolor": "white"
           },
           "zaxis": {
            "backgroundcolor": "#E5ECF6",
            "gridcolor": "white",
            "gridwidth": 2,
            "linecolor": "white",
            "showbackground": true,
            "ticks": "",
            "zerolinecolor": "white"
           }
          },
          "shapedefaults": {
           "line": {
            "color": "#2a3f5f"
           }
          },
          "ternary": {
           "aaxis": {
            "gridcolor": "white",
            "linecolor": "white",
            "ticks": ""
           },
           "baxis": {
            "gridcolor": "white",
            "linecolor": "white",
            "ticks": ""
           },
           "bgcolor": "#E5ECF6",
           "caxis": {
            "gridcolor": "white",
            "linecolor": "white",
            "ticks": ""
           }
          },
          "title": {
           "x": 0.05
          },
          "xaxis": {
           "automargin": true,
           "gridcolor": "white",
           "linecolor": "white",
           "ticks": "",
           "title": {
            "standoff": 15
           },
           "zerolinecolor": "white",
           "zerolinewidth": 2
          },
          "yaxis": {
           "automargin": true,
           "gridcolor": "white",
           "linecolor": "white",
           "ticks": "",
           "title": {
            "standoff": 15
           },
           "zerolinecolor": "white",
           "zerolinewidth": 2
          }
         }
        }
       }
      }
     },
     "metadata": {},
     "output_type": "display_data"
    }
   ],
   "source": [
    "px.pie(df, names= 'revenue_categories')"
   ]
  },
  {
   "cell_type": "markdown",
   "metadata": {},
   "source": [
    "#### What correlation between data"
   ]
  },
  {
   "cell_type": "code",
   "execution_count": 73,
   "metadata": {},
   "outputs": [
    {
     "data": {
      "application/vnd.plotly.v1+json": {
       "config": {
        "plotlyServerURL": "https://plot.ly"
       },
       "data": [
        {
         "coloraxis": "coloraxis",
         "hovertemplate": "x: %{x}<br>y: %{y}<br>color: %{z}<extra></extra>",
         "name": "0",
         "type": "heatmap",
         "x": [
          "rating",
          "founded",
          "minmum_salary",
          "max_salary",
          "avg_salary"
         ],
         "xaxis": "x",
         "y": [
          "rating",
          "founded",
          "minmum_salary",
          "max_salary",
          "avg_salary"
         ],
         "yaxis": "y",
         "z": [
          [
           1,
           0.17585371309099404,
           0.02566411273848362,
           0.05138721856893823,
           0.0425604556012042
          ],
          [
           0.17585371309099404,
           1,
           0.08243596494491726,
           0.09920792450595974,
           0.09573347202025209
          ],
          [
           0.02566411273848362,
           0.08243596494491726,
           1,
           0.8585748686966357,
           0.9479522445687512
          ],
          [
           0.05138721856893823,
           0.09920792450595974,
           0.8585748686966357,
           1,
           0.9771343243668488
          ],
          [
           0.0425604556012042,
           0.09573347202025209,
           0.9479522445687512,
           0.9771343243668488,
           1
          ]
         ]
        }
       ],
       "layout": {
        "coloraxis": {
         "colorscale": [
          [
           0,
           "#0d0887"
          ],
          [
           0.1111111111111111,
           "#46039f"
          ],
          [
           0.2222222222222222,
           "#7201a8"
          ],
          [
           0.3333333333333333,
           "#9c179e"
          ],
          [
           0.4444444444444444,
           "#bd3786"
          ],
          [
           0.5555555555555556,
           "#d8576b"
          ],
          [
           0.6666666666666666,
           "#ed7953"
          ],
          [
           0.7777777777777778,
           "#fb9f3a"
          ],
          [
           0.8888888888888888,
           "#fdca26"
          ],
          [
           1,
           "#f0f921"
          ]
         ]
        },
        "margin": {
         "t": 60
        },
        "template": {
         "data": {
          "bar": [
           {
            "error_x": {
             "color": "#2a3f5f"
            },
            "error_y": {
             "color": "#2a3f5f"
            },
            "marker": {
             "line": {
              "color": "#E5ECF6",
              "width": 0.5
             },
             "pattern": {
              "fillmode": "overlay",
              "size": 10,
              "solidity": 0.2
             }
            },
            "type": "bar"
           }
          ],
          "barpolar": [
           {
            "marker": {
             "line": {
              "color": "#E5ECF6",
              "width": 0.5
             },
             "pattern": {
              "fillmode": "overlay",
              "size": 10,
              "solidity": 0.2
             }
            },
            "type": "barpolar"
           }
          ],
          "carpet": [
           {
            "aaxis": {
             "endlinecolor": "#2a3f5f",
             "gridcolor": "white",
             "linecolor": "white",
             "minorgridcolor": "white",
             "startlinecolor": "#2a3f5f"
            },
            "baxis": {
             "endlinecolor": "#2a3f5f",
             "gridcolor": "white",
             "linecolor": "white",
             "minorgridcolor": "white",
             "startlinecolor": "#2a3f5f"
            },
            "type": "carpet"
           }
          ],
          "choropleth": [
           {
            "colorbar": {
             "outlinewidth": 0,
             "ticks": ""
            },
            "type": "choropleth"
           }
          ],
          "contour": [
           {
            "colorbar": {
             "outlinewidth": 0,
             "ticks": ""
            },
            "colorscale": [
             [
              0,
              "#0d0887"
             ],
             [
              0.1111111111111111,
              "#46039f"
             ],
             [
              0.2222222222222222,
              "#7201a8"
             ],
             [
              0.3333333333333333,
              "#9c179e"
             ],
             [
              0.4444444444444444,
              "#bd3786"
             ],
             [
              0.5555555555555556,
              "#d8576b"
             ],
             [
              0.6666666666666666,
              "#ed7953"
             ],
             [
              0.7777777777777778,
              "#fb9f3a"
             ],
             [
              0.8888888888888888,
              "#fdca26"
             ],
             [
              1,
              "#f0f921"
             ]
            ],
            "type": "contour"
           }
          ],
          "contourcarpet": [
           {
            "colorbar": {
             "outlinewidth": 0,
             "ticks": ""
            },
            "type": "contourcarpet"
           }
          ],
          "heatmap": [
           {
            "colorbar": {
             "outlinewidth": 0,
             "ticks": ""
            },
            "colorscale": [
             [
              0,
              "#0d0887"
             ],
             [
              0.1111111111111111,
              "#46039f"
             ],
             [
              0.2222222222222222,
              "#7201a8"
             ],
             [
              0.3333333333333333,
              "#9c179e"
             ],
             [
              0.4444444444444444,
              "#bd3786"
             ],
             [
              0.5555555555555556,
              "#d8576b"
             ],
             [
              0.6666666666666666,
              "#ed7953"
             ],
             [
              0.7777777777777778,
              "#fb9f3a"
             ],
             [
              0.8888888888888888,
              "#fdca26"
             ],
             [
              1,
              "#f0f921"
             ]
            ],
            "type": "heatmap"
           }
          ],
          "heatmapgl": [
           {
            "colorbar": {
             "outlinewidth": 0,
             "ticks": ""
            },
            "colorscale": [
             [
              0,
              "#0d0887"
             ],
             [
              0.1111111111111111,
              "#46039f"
             ],
             [
              0.2222222222222222,
              "#7201a8"
             ],
             [
              0.3333333333333333,
              "#9c179e"
             ],
             [
              0.4444444444444444,
              "#bd3786"
             ],
             [
              0.5555555555555556,
              "#d8576b"
             ],
             [
              0.6666666666666666,
              "#ed7953"
             ],
             [
              0.7777777777777778,
              "#fb9f3a"
             ],
             [
              0.8888888888888888,
              "#fdca26"
             ],
             [
              1,
              "#f0f921"
             ]
            ],
            "type": "heatmapgl"
           }
          ],
          "histogram": [
           {
            "marker": {
             "pattern": {
              "fillmode": "overlay",
              "size": 10,
              "solidity": 0.2
             }
            },
            "type": "histogram"
           }
          ],
          "histogram2d": [
           {
            "colorbar": {
             "outlinewidth": 0,
             "ticks": ""
            },
            "colorscale": [
             [
              0,
              "#0d0887"
             ],
             [
              0.1111111111111111,
              "#46039f"
             ],
             [
              0.2222222222222222,
              "#7201a8"
             ],
             [
              0.3333333333333333,
              "#9c179e"
             ],
             [
              0.4444444444444444,
              "#bd3786"
             ],
             [
              0.5555555555555556,
              "#d8576b"
             ],
             [
              0.6666666666666666,
              "#ed7953"
             ],
             [
              0.7777777777777778,
              "#fb9f3a"
             ],
             [
              0.8888888888888888,
              "#fdca26"
             ],
             [
              1,
              "#f0f921"
             ]
            ],
            "type": "histogram2d"
           }
          ],
          "histogram2dcontour": [
           {
            "colorbar": {
             "outlinewidth": 0,
             "ticks": ""
            },
            "colorscale": [
             [
              0,
              "#0d0887"
             ],
             [
              0.1111111111111111,
              "#46039f"
             ],
             [
              0.2222222222222222,
              "#7201a8"
             ],
             [
              0.3333333333333333,
              "#9c179e"
             ],
             [
              0.4444444444444444,
              "#bd3786"
             ],
             [
              0.5555555555555556,
              "#d8576b"
             ],
             [
              0.6666666666666666,
              "#ed7953"
             ],
             [
              0.7777777777777778,
              "#fb9f3a"
             ],
             [
              0.8888888888888888,
              "#fdca26"
             ],
             [
              1,
              "#f0f921"
             ]
            ],
            "type": "histogram2dcontour"
           }
          ],
          "mesh3d": [
           {
            "colorbar": {
             "outlinewidth": 0,
             "ticks": ""
            },
            "type": "mesh3d"
           }
          ],
          "parcoords": [
           {
            "line": {
             "colorbar": {
              "outlinewidth": 0,
              "ticks": ""
             }
            },
            "type": "parcoords"
           }
          ],
          "pie": [
           {
            "automargin": true,
            "type": "pie"
           }
          ],
          "scatter": [
           {
            "fillpattern": {
             "fillmode": "overlay",
             "size": 10,
             "solidity": 0.2
            },
            "type": "scatter"
           }
          ],
          "scatter3d": [
           {
            "line": {
             "colorbar": {
              "outlinewidth": 0,
              "ticks": ""
             }
            },
            "marker": {
             "colorbar": {
              "outlinewidth": 0,
              "ticks": ""
             }
            },
            "type": "scatter3d"
           }
          ],
          "scattercarpet": [
           {
            "marker": {
             "colorbar": {
              "outlinewidth": 0,
              "ticks": ""
             }
            },
            "type": "scattercarpet"
           }
          ],
          "scattergeo": [
           {
            "marker": {
             "colorbar": {
              "outlinewidth": 0,
              "ticks": ""
             }
            },
            "type": "scattergeo"
           }
          ],
          "scattergl": [
           {
            "marker": {
             "colorbar": {
              "outlinewidth": 0,
              "ticks": ""
             }
            },
            "type": "scattergl"
           }
          ],
          "scattermapbox": [
           {
            "marker": {
             "colorbar": {
              "outlinewidth": 0,
              "ticks": ""
             }
            },
            "type": "scattermapbox"
           }
          ],
          "scatterpolar": [
           {
            "marker": {
             "colorbar": {
              "outlinewidth": 0,
              "ticks": ""
             }
            },
            "type": "scatterpolar"
           }
          ],
          "scatterpolargl": [
           {
            "marker": {
             "colorbar": {
              "outlinewidth": 0,
              "ticks": ""
             }
            },
            "type": "scatterpolargl"
           }
          ],
          "scatterternary": [
           {
            "marker": {
             "colorbar": {
              "outlinewidth": 0,
              "ticks": ""
             }
            },
            "type": "scatterternary"
           }
          ],
          "surface": [
           {
            "colorbar": {
             "outlinewidth": 0,
             "ticks": ""
            },
            "colorscale": [
             [
              0,
              "#0d0887"
             ],
             [
              0.1111111111111111,
              "#46039f"
             ],
             [
              0.2222222222222222,
              "#7201a8"
             ],
             [
              0.3333333333333333,
              "#9c179e"
             ],
             [
              0.4444444444444444,
              "#bd3786"
             ],
             [
              0.5555555555555556,
              "#d8576b"
             ],
             [
              0.6666666666666666,
              "#ed7953"
             ],
             [
              0.7777777777777778,
              "#fb9f3a"
             ],
             [
              0.8888888888888888,
              "#fdca26"
             ],
             [
              1,
              "#f0f921"
             ]
            ],
            "type": "surface"
           }
          ],
          "table": [
           {
            "cells": {
             "fill": {
              "color": "#EBF0F8"
             },
             "line": {
              "color": "white"
             }
            },
            "header": {
             "fill": {
              "color": "#C8D4E3"
             },
             "line": {
              "color": "white"
             }
            },
            "type": "table"
           }
          ]
         },
         "layout": {
          "annotationdefaults": {
           "arrowcolor": "#2a3f5f",
           "arrowhead": 0,
           "arrowwidth": 1
          },
          "autotypenumbers": "strict",
          "coloraxis": {
           "colorbar": {
            "outlinewidth": 0,
            "ticks": ""
           }
          },
          "colorscale": {
           "diverging": [
            [
             0,
             "#8e0152"
            ],
            [
             0.1,
             "#c51b7d"
            ],
            [
             0.2,
             "#de77ae"
            ],
            [
             0.3,
             "#f1b6da"
            ],
            [
             0.4,
             "#fde0ef"
            ],
            [
             0.5,
             "#f7f7f7"
            ],
            [
             0.6,
             "#e6f5d0"
            ],
            [
             0.7,
             "#b8e186"
            ],
            [
             0.8,
             "#7fbc41"
            ],
            [
             0.9,
             "#4d9221"
            ],
            [
             1,
             "#276419"
            ]
           ],
           "sequential": [
            [
             0,
             "#0d0887"
            ],
            [
             0.1111111111111111,
             "#46039f"
            ],
            [
             0.2222222222222222,
             "#7201a8"
            ],
            [
             0.3333333333333333,
             "#9c179e"
            ],
            [
             0.4444444444444444,
             "#bd3786"
            ],
            [
             0.5555555555555556,
             "#d8576b"
            ],
            [
             0.6666666666666666,
             "#ed7953"
            ],
            [
             0.7777777777777778,
             "#fb9f3a"
            ],
            [
             0.8888888888888888,
             "#fdca26"
            ],
            [
             1,
             "#f0f921"
            ]
           ],
           "sequentialminus": [
            [
             0,
             "#0d0887"
            ],
            [
             0.1111111111111111,
             "#46039f"
            ],
            [
             0.2222222222222222,
             "#7201a8"
            ],
            [
             0.3333333333333333,
             "#9c179e"
            ],
            [
             0.4444444444444444,
             "#bd3786"
            ],
            [
             0.5555555555555556,
             "#d8576b"
            ],
            [
             0.6666666666666666,
             "#ed7953"
            ],
            [
             0.7777777777777778,
             "#fb9f3a"
            ],
            [
             0.8888888888888888,
             "#fdca26"
            ],
            [
             1,
             "#f0f921"
            ]
           ]
          },
          "colorway": [
           "#636efa",
           "#EF553B",
           "#00cc96",
           "#ab63fa",
           "#FFA15A",
           "#19d3f3",
           "#FF6692",
           "#B6E880",
           "#FF97FF",
           "#FECB52"
          ],
          "font": {
           "color": "#2a3f5f"
          },
          "geo": {
           "bgcolor": "white",
           "lakecolor": "white",
           "landcolor": "#E5ECF6",
           "showlakes": true,
           "showland": true,
           "subunitcolor": "white"
          },
          "hoverlabel": {
           "align": "left"
          },
          "hovermode": "closest",
          "mapbox": {
           "style": "light"
          },
          "paper_bgcolor": "white",
          "plot_bgcolor": "#E5ECF6",
          "polar": {
           "angularaxis": {
            "gridcolor": "white",
            "linecolor": "white",
            "ticks": ""
           },
           "bgcolor": "#E5ECF6",
           "radialaxis": {
            "gridcolor": "white",
            "linecolor": "white",
            "ticks": ""
           }
          },
          "scene": {
           "xaxis": {
            "backgroundcolor": "#E5ECF6",
            "gridcolor": "white",
            "gridwidth": 2,
            "linecolor": "white",
            "showbackground": true,
            "ticks": "",
            "zerolinecolor": "white"
           },
           "yaxis": {
            "backgroundcolor": "#E5ECF6",
            "gridcolor": "white",
            "gridwidth": 2,
            "linecolor": "white",
            "showbackground": true,
            "ticks": "",
            "zerolinecolor": "white"
           },
           "zaxis": {
            "backgroundcolor": "#E5ECF6",
            "gridcolor": "white",
            "gridwidth": 2,
            "linecolor": "white",
            "showbackground": true,
            "ticks": "",
            "zerolinecolor": "white"
           }
          },
          "shapedefaults": {
           "line": {
            "color": "#2a3f5f"
           }
          },
          "ternary": {
           "aaxis": {
            "gridcolor": "white",
            "linecolor": "white",
            "ticks": ""
           },
           "baxis": {
            "gridcolor": "white",
            "linecolor": "white",
            "ticks": ""
           },
           "bgcolor": "#E5ECF6",
           "caxis": {
            "gridcolor": "white",
            "linecolor": "white",
            "ticks": ""
           }
          },
          "title": {
           "x": 0.05
          },
          "xaxis": {
           "automargin": true,
           "gridcolor": "white",
           "linecolor": "white",
           "ticks": "",
           "title": {
            "standoff": 15
           },
           "zerolinecolor": "white",
           "zerolinewidth": 2
          },
          "yaxis": {
           "automargin": true,
           "gridcolor": "white",
           "linecolor": "white",
           "ticks": "",
           "title": {
            "standoff": 15
           },
           "zerolinecolor": "white",
           "zerolinewidth": 2
          }
         }
        },
        "xaxis": {
         "anchor": "y",
         "constrain": "domain",
         "domain": [
          0,
          1
         ],
         "scaleanchor": "y"
        },
        "yaxis": {
         "anchor": "x",
         "autorange": "reversed",
         "constrain": "domain",
         "domain": [
          0,
          1
         ]
        }
       }
      }
     },
     "metadata": {},
     "output_type": "display_data"
    }
   ],
   "source": [
    "numerical=df.select_dtypes(exclude=\"O\")\n",
    "px.imshow(numerical.corr())"
   ]
  },
  {
   "cell_type": "code",
   "execution_count": null,
   "metadata": {},
   "outputs": [],
   "source": []
  }
 ],
 "metadata": {
  "kernelspec": {
   "display_name": "base",
   "language": "python",
   "name": "python3"
  },
  "language_info": {
   "codemirror_mode": {
    "name": "ipython",
    "version": 3
   },
   "file_extension": ".py",
   "mimetype": "text/x-python",
   "name": "python",
   "nbconvert_exporter": "python",
   "pygments_lexer": "ipython3",
   "version": "3.11.7"
  }
 },
 "nbformat": 4,
 "nbformat_minor": 2
}
